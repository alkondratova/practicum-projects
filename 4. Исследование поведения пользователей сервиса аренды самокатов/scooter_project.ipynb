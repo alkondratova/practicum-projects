{
 "cells": [
  {
   "cell_type": "markdown",
   "id": "266136cf",
   "metadata": {},
   "source": [
    "# Исследование поведения пользователей сервиса аренды самокатов"
   ]
  },
  {
   "cell_type": "markdown",
   "id": "82a950a9",
   "metadata": {},
   "source": [
    "**Описание проекта**. GoFast — сервис аренды электросамокатов, в мобильном приложении которого есть два тарифных плана: без подписки и по подписке *Ultra*. Предполагается, что подписка *Ultra* принесет выгоду компании. Прежде чем начать работать в сторону увеличения количества пользователей с подпиской, необходимо было выяснить, действительно ли такие пользователи выгодны для компании. \n",
    "\n",
    "Для исследования были доступны данные о некоторых пользователях из нескольких городов, а также об их поездках и подписках. Рассматриваются ключевые показатели: длительность и расстояние поездок пользователей с разными типами подписки, а также выручка, которую они приносят компании ежемесячно. "
   ]
  },
  {
   "cell_type": "markdown",
   "id": "7575c39e",
   "metadata": {},
   "source": [
    "## 1. Загрузка данных"
   ]
  },
  {
   "cell_type": "code",
   "execution_count": 1,
   "id": "54e308b4",
   "metadata": {},
   "outputs": [],
   "source": [
    "# импортируем нужные библиотеки\n",
    "import pandas as pd\n",
    "import matplotlib.pyplot as plt\n",
    "import math\n",
    "\n",
    "from datetime import datetime\n",
    "from scipy import stats as st"
   ]
  },
  {
   "cell_type": "code",
   "execution_count": 2,
   "id": "007cfa39",
   "metadata": {},
   "outputs": [],
   "source": [
    "# загружаем нужные данные \n",
    "users = pd.read_csv('C:/Users/alkon/practicum_projects/scooter_project/users_go.csv')\n",
    "rides = pd.read_csv('C:/Users/alkon/practicum_projects/scooter_project/rides_go.csv')\n",
    "subscriptions = pd.read_csv('C:/Users/alkon/practicum_projects/scooter_project/subscriptions_go.csv')"
   ]
  },
  {
   "cell_type": "markdown",
   "id": "735b7fb4",
   "metadata": {},
   "source": [
    "Посмотрим, как выглядит датафрейм с данными о **пользователях**:"
   ]
  },
  {
   "cell_type": "code",
   "execution_count": 3,
   "id": "59a84284",
   "metadata": {},
   "outputs": [
    {
     "name": "stdout",
     "output_type": "stream",
     "text": [
      "<class 'pandas.core.frame.DataFrame'>\n",
      "RangeIndex: 1565 entries, 0 to 1564\n",
      "Data columns (total 5 columns):\n",
      " #   Column             Non-Null Count  Dtype \n",
      "---  ------             --------------  ----- \n",
      " 0   user_id            1565 non-null   int64 \n",
      " 1   name               1565 non-null   object\n",
      " 2   age                1565 non-null   int64 \n",
      " 3   city               1565 non-null   object\n",
      " 4   subscription_type  1565 non-null   object\n",
      "dtypes: int64(2), object(3)\n",
      "memory usage: 61.3+ KB\n"
     ]
    }
   ],
   "source": [
    "# посмотрим информацию о датафрейме\n",
    "users.info()"
   ]
  },
  {
   "cell_type": "code",
   "execution_count": 4,
   "id": "2b90e217",
   "metadata": {
    "scrolled": false
   },
   "outputs": [
    {
     "data": {
      "text/html": [
       "<div>\n",
       "<style scoped>\n",
       "    .dataframe tbody tr th:only-of-type {\n",
       "        vertical-align: middle;\n",
       "    }\n",
       "\n",
       "    .dataframe tbody tr th {\n",
       "        vertical-align: top;\n",
       "    }\n",
       "\n",
       "    .dataframe thead th {\n",
       "        text-align: right;\n",
       "    }\n",
       "</style>\n",
       "<table border=\"1\" class=\"dataframe\">\n",
       "  <thead>\n",
       "    <tr style=\"text-align: right;\">\n",
       "      <th></th>\n",
       "      <th>user_id</th>\n",
       "      <th>name</th>\n",
       "      <th>age</th>\n",
       "      <th>city</th>\n",
       "      <th>subscription_type</th>\n",
       "    </tr>\n",
       "  </thead>\n",
       "  <tbody>\n",
       "    <tr>\n",
       "      <th>0</th>\n",
       "      <td>1</td>\n",
       "      <td>Кира</td>\n",
       "      <td>22</td>\n",
       "      <td>Тюмень</td>\n",
       "      <td>ultra</td>\n",
       "    </tr>\n",
       "    <tr>\n",
       "      <th>1</th>\n",
       "      <td>2</td>\n",
       "      <td>Станислав</td>\n",
       "      <td>31</td>\n",
       "      <td>Омск</td>\n",
       "      <td>ultra</td>\n",
       "    </tr>\n",
       "    <tr>\n",
       "      <th>2</th>\n",
       "      <td>3</td>\n",
       "      <td>Алексей</td>\n",
       "      <td>20</td>\n",
       "      <td>Москва</td>\n",
       "      <td>ultra</td>\n",
       "    </tr>\n",
       "    <tr>\n",
       "      <th>3</th>\n",
       "      <td>4</td>\n",
       "      <td>Константин</td>\n",
       "      <td>26</td>\n",
       "      <td>Ростов-на-Дону</td>\n",
       "      <td>ultra</td>\n",
       "    </tr>\n",
       "    <tr>\n",
       "      <th>4</th>\n",
       "      <td>5</td>\n",
       "      <td>Адель</td>\n",
       "      <td>28</td>\n",
       "      <td>Омск</td>\n",
       "      <td>ultra</td>\n",
       "    </tr>\n",
       "  </tbody>\n",
       "</table>\n",
       "</div>"
      ],
      "text/plain": [
       "   user_id        name  age            city subscription_type\n",
       "0        1        Кира   22          Тюмень             ultra\n",
       "1        2   Станислав   31            Омск             ultra\n",
       "2        3     Алексей   20          Москва             ultra\n",
       "3        4  Константин   26  Ростов-на-Дону             ultra\n",
       "4        5       Адель   28            Омск             ultra"
      ]
     },
     "execution_count": 4,
     "metadata": {},
     "output_type": "execute_result"
    }
   ],
   "source": [
    "# выведем первые строки\n",
    "users.head()"
   ]
  },
  {
   "cell_type": "markdown",
   "id": "5168ab19",
   "metadata": {},
   "source": [
    "В датафрейме есть столбец с `user_id`— уникальными идентификаторами пользователя, каждому из которых соответствует имя, возраст, город и тип подписки. Всего 1536 записей, пропуски отсутствуют. Типы данных корректные, однако информацию о типе подписки можно было бы записывать не как строки (ultra или free), а как булево значение: нет подписки — 0, есть подписка — 1. Поскольку записей не так много, в рамках данного исследования оставим это как есть. "
   ]
  },
  {
   "cell_type": "markdown",
   "id": "9eb3f679",
   "metadata": {},
   "source": [
    "Теперь с данными о **поездках**: "
   ]
  },
  {
   "cell_type": "code",
   "execution_count": 5,
   "id": "8d643c3a",
   "metadata": {},
   "outputs": [
    {
     "name": "stdout",
     "output_type": "stream",
     "text": [
      "<class 'pandas.core.frame.DataFrame'>\n",
      "RangeIndex: 18068 entries, 0 to 18067\n",
      "Data columns (total 4 columns):\n",
      " #   Column    Non-Null Count  Dtype  \n",
      "---  ------    --------------  -----  \n",
      " 0   user_id   18068 non-null  int64  \n",
      " 1   distance  18068 non-null  float64\n",
      " 2   duration  18068 non-null  float64\n",
      " 3   date      18068 non-null  object \n",
      "dtypes: float64(2), int64(1), object(1)\n",
      "memory usage: 564.8+ KB\n"
     ]
    }
   ],
   "source": [
    "# посмотрим информацию о датафрейме\n",
    "rides.info()"
   ]
  },
  {
   "cell_type": "code",
   "execution_count": 6,
   "id": "bf210645",
   "metadata": {},
   "outputs": [
    {
     "data": {
      "text/html": [
       "<div>\n",
       "<style scoped>\n",
       "    .dataframe tbody tr th:only-of-type {\n",
       "        vertical-align: middle;\n",
       "    }\n",
       "\n",
       "    .dataframe tbody tr th {\n",
       "        vertical-align: top;\n",
       "    }\n",
       "\n",
       "    .dataframe thead th {\n",
       "        text-align: right;\n",
       "    }\n",
       "</style>\n",
       "<table border=\"1\" class=\"dataframe\">\n",
       "  <thead>\n",
       "    <tr style=\"text-align: right;\">\n",
       "      <th></th>\n",
       "      <th>user_id</th>\n",
       "      <th>distance</th>\n",
       "      <th>duration</th>\n",
       "      <th>date</th>\n",
       "    </tr>\n",
       "  </thead>\n",
       "  <tbody>\n",
       "    <tr>\n",
       "      <th>0</th>\n",
       "      <td>1</td>\n",
       "      <td>4409.919140</td>\n",
       "      <td>25.599769</td>\n",
       "      <td>2021-01-01</td>\n",
       "    </tr>\n",
       "    <tr>\n",
       "      <th>1</th>\n",
       "      <td>1</td>\n",
       "      <td>2617.592153</td>\n",
       "      <td>15.816871</td>\n",
       "      <td>2021-01-18</td>\n",
       "    </tr>\n",
       "    <tr>\n",
       "      <th>2</th>\n",
       "      <td>1</td>\n",
       "      <td>754.159807</td>\n",
       "      <td>6.232113</td>\n",
       "      <td>2021-04-20</td>\n",
       "    </tr>\n",
       "    <tr>\n",
       "      <th>3</th>\n",
       "      <td>1</td>\n",
       "      <td>2694.783254</td>\n",
       "      <td>18.511000</td>\n",
       "      <td>2021-08-11</td>\n",
       "    </tr>\n",
       "    <tr>\n",
       "      <th>4</th>\n",
       "      <td>1</td>\n",
       "      <td>4028.687306</td>\n",
       "      <td>26.265803</td>\n",
       "      <td>2021-08-28</td>\n",
       "    </tr>\n",
       "  </tbody>\n",
       "</table>\n",
       "</div>"
      ],
      "text/plain": [
       "   user_id     distance   duration        date\n",
       "0        1  4409.919140  25.599769  2021-01-01\n",
       "1        1  2617.592153  15.816871  2021-01-18\n",
       "2        1   754.159807   6.232113  2021-04-20\n",
       "3        1  2694.783254  18.511000  2021-08-11\n",
       "4        1  4028.687306  26.265803  2021-08-28"
      ]
     },
     "execution_count": 6,
     "metadata": {},
     "output_type": "execute_result"
    }
   ],
   "source": [
    "# выведем первые строки\n",
    "rides.head()"
   ]
  },
  {
   "cell_type": "markdown",
   "id": "9bafae95",
   "metadata": {},
   "source": [
    "Здесь находятся данные о поездках пользователей. Для каждой поездки есть информация о `user_id`, расстоянии в метрах, длительности в минутах и дате поездки. Всего 18068 записей, пропуски отсутствуют. Тип данных в столбце с датой необходимо будет заменить на формат даты Pandas для возможности обработки и фильтрации по месяцам. Остальные типы данных в датафрейме корректны. "
   ]
  },
  {
   "cell_type": "markdown",
   "id": "35e7d89b",
   "metadata": {},
   "source": [
    "Теперь посмотрим на датафрейм с данными о **подписках**:"
   ]
  },
  {
   "cell_type": "code",
   "execution_count": 7,
   "id": "67e9c466",
   "metadata": {},
   "outputs": [
    {
     "name": "stdout",
     "output_type": "stream",
     "text": [
      "<class 'pandas.core.frame.DataFrame'>\n",
      "RangeIndex: 2 entries, 0 to 1\n",
      "Data columns (total 4 columns):\n",
      " #   Column             Non-Null Count  Dtype \n",
      "---  ------             --------------  ----- \n",
      " 0   subscription_type  2 non-null      object\n",
      " 1   minute_price       2 non-null      int64 \n",
      " 2   start_ride_price   2 non-null      int64 \n",
      " 3   subscription_fee   2 non-null      int64 \n",
      "dtypes: int64(3), object(1)\n",
      "memory usage: 192.0+ bytes\n"
     ]
    }
   ],
   "source": [
    "# посмотрим информацию о датафрейме\n",
    "subscriptions.info()"
   ]
  },
  {
   "cell_type": "code",
   "execution_count": 8,
   "id": "f1e624d5",
   "metadata": {},
   "outputs": [
    {
     "data": {
      "text/html": [
       "<div>\n",
       "<style scoped>\n",
       "    .dataframe tbody tr th:only-of-type {\n",
       "        vertical-align: middle;\n",
       "    }\n",
       "\n",
       "    .dataframe tbody tr th {\n",
       "        vertical-align: top;\n",
       "    }\n",
       "\n",
       "    .dataframe thead th {\n",
       "        text-align: right;\n",
       "    }\n",
       "</style>\n",
       "<table border=\"1\" class=\"dataframe\">\n",
       "  <thead>\n",
       "    <tr style=\"text-align: right;\">\n",
       "      <th></th>\n",
       "      <th>subscription_type</th>\n",
       "      <th>minute_price</th>\n",
       "      <th>start_ride_price</th>\n",
       "      <th>subscription_fee</th>\n",
       "    </tr>\n",
       "  </thead>\n",
       "  <tbody>\n",
       "    <tr>\n",
       "      <th>0</th>\n",
       "      <td>free</td>\n",
       "      <td>8</td>\n",
       "      <td>50</td>\n",
       "      <td>0</td>\n",
       "    </tr>\n",
       "    <tr>\n",
       "      <th>1</th>\n",
       "      <td>ultra</td>\n",
       "      <td>6</td>\n",
       "      <td>0</td>\n",
       "      <td>199</td>\n",
       "    </tr>\n",
       "  </tbody>\n",
       "</table>\n",
       "</div>"
      ],
      "text/plain": [
       "  subscription_type  minute_price  start_ride_price  subscription_fee\n",
       "0              free             8                50                 0\n",
       "1             ultra             6                 0               199"
      ]
     },
     "execution_count": 8,
     "metadata": {},
     "output_type": "execute_result"
    }
   ],
   "source": [
    "# выведем первые строки\n",
    "subscriptions.head()"
   ]
  },
  {
   "cell_type": "markdown",
   "id": "c0f077e4",
   "metadata": {},
   "source": [
    "Всего 2 строки для двух типов подписки (`free` и `ultra`) и столбцы с информацией по тарифному плану. Для бесплатной подписки стартовая цена поездки 50 рублей, стоимость минуты 8 рублей. Для подписки Ultra стоимость минуты 6 рублей, старт — бесплатно. Стоимость подписки на месяц — 199 рублей. Эти данные понадобятся нам для расчёта ежемесячной выручки. Типы данных корректные."
   ]
  },
  {
   "cell_type": "markdown",
   "id": "9e80f8a9",
   "metadata": {},
   "source": [
    "## 2. Предобработка данных"
   ]
  },
  {
   "cell_type": "markdown",
   "id": "24a8c7b9",
   "metadata": {},
   "source": [
    "Приведем столбец `date` к типу даты Pandas."
   ]
  },
  {
   "cell_type": "code",
   "execution_count": 9,
   "id": "4c59b30d",
   "metadata": {
    "scrolled": true
   },
   "outputs": [],
   "source": [
    "# приведем столбец к нужному формату с помощью функции Pandas to_datetime()\n",
    "rides['date'] = pd.to_datetime(rides['date'], format='%Y-%m-%d')"
   ]
  },
  {
   "cell_type": "markdown",
   "id": "7ae2c26e",
   "metadata": {},
   "source": [
    "Создадим новый столбец с номером месяца на основе столбца `date`."
   ]
  },
  {
   "cell_type": "code",
   "execution_count": 10,
   "id": "1220379c",
   "metadata": {},
   "outputs": [],
   "source": [
    "# создадим новый столбец\n",
    "rides['month'] = rides['date'].dt.month"
   ]
  },
  {
   "cell_type": "code",
   "execution_count": 11,
   "id": "7386b043",
   "metadata": {},
   "outputs": [
    {
     "data": {
      "text/html": [
       "<div>\n",
       "<style scoped>\n",
       "    .dataframe tbody tr th:only-of-type {\n",
       "        vertical-align: middle;\n",
       "    }\n",
       "\n",
       "    .dataframe tbody tr th {\n",
       "        vertical-align: top;\n",
       "    }\n",
       "\n",
       "    .dataframe thead th {\n",
       "        text-align: right;\n",
       "    }\n",
       "</style>\n",
       "<table border=\"1\" class=\"dataframe\">\n",
       "  <thead>\n",
       "    <tr style=\"text-align: right;\">\n",
       "      <th></th>\n",
       "      <th>Дата первой поездки</th>\n",
       "      <th>Дата последней поездки</th>\n",
       "    </tr>\n",
       "  </thead>\n",
       "  <tbody>\n",
       "    <tr>\n",
       "      <th>0</th>\n",
       "      <td>01-01-2021</td>\n",
       "      <td>30-12-2021</td>\n",
       "    </tr>\n",
       "  </tbody>\n",
       "</table>\n",
       "</div>"
      ],
      "text/plain": [
       "  Дата первой поездки Дата последней поездки\n",
       "0          01-01-2021             30-12-2021"
      ]
     },
     "metadata": {},
     "output_type": "display_data"
    }
   ],
   "source": [
    "display(pd.DataFrame({'Дата первой поездки' : [rides['date'].min().strftime('%d-%m-%Y')],\n",
    "                      'Дата последней поездки' : [rides['date'].max().strftime('%d-%m-%Y')]}))"
   ]
  },
  {
   "cell_type": "markdown",
   "id": "f20cbfca",
   "metadata": {},
   "source": [
    "У нас имеются данные о поездках пользователей с января по декабрь 2021 года. "
   ]
  },
  {
   "cell_type": "markdown",
   "id": "157d3b90",
   "metadata": {},
   "source": [
    "##### Обработка дубликатов и пропусков"
   ]
  },
  {
   "cell_type": "code",
   "execution_count": 12,
   "id": "1f7963b0",
   "metadata": {},
   "outputs": [
    {
     "data": {
      "text/plain": [
       "31"
      ]
     },
     "execution_count": 12,
     "metadata": {},
     "output_type": "execute_result"
    }
   ],
   "source": [
    "# проверим, есть ли дубликаты в датафрейме 'users'\n",
    "users.duplicated().sum()"
   ]
  },
  {
   "cell_type": "code",
   "execution_count": 13,
   "id": "463f2c74",
   "metadata": {
    "scrolled": true
   },
   "outputs": [
    {
     "data": {
      "text/plain": [
       "0"
      ]
     },
     "execution_count": 13,
     "metadata": {},
     "output_type": "execute_result"
    }
   ],
   "source": [
    "# удалим явные дубликаты\n",
    "users = users.drop_duplicates()\n",
    "# и проверим результат\n",
    "users.duplicated().sum()"
   ]
  },
  {
   "cell_type": "code",
   "execution_count": 14,
   "id": "09f05e97",
   "metadata": {},
   "outputs": [
    {
     "data": {
      "text/plain": [
       "0"
      ]
     },
     "execution_count": 14,
     "metadata": {},
     "output_type": "execute_result"
    }
   ],
   "source": [
    "# проверим, есть ли дубликаты в датафрейме 'rides'\n",
    "rides.duplicated().sum()"
   ]
  },
  {
   "cell_type": "code",
   "execution_count": 15,
   "id": "d470a76b",
   "metadata": {},
   "outputs": [
    {
     "data": {
      "text/plain": [
       "0"
      ]
     },
     "execution_count": 15,
     "metadata": {},
     "output_type": "execute_result"
    }
   ],
   "source": [
    "# проверим, есть ли дубликаты в датафрейме 'subscriptions'\n",
    "subscriptions.duplicated().sum()"
   ]
  },
  {
   "cell_type": "markdown",
   "id": "183f5309",
   "metadata": {},
   "source": [
    "Перейдем к обработке пропусков. "
   ]
  },
  {
   "cell_type": "code",
   "execution_count": 16,
   "id": "605ecc95",
   "metadata": {
    "scrolled": true
   },
   "outputs": [
    {
     "data": {
      "text/plain": [
       "user_id              0\n",
       "name                 0\n",
       "age                  0\n",
       "city                 0\n",
       "subscription_type    0\n",
       "dtype: int64"
      ]
     },
     "execution_count": 16,
     "metadata": {},
     "output_type": "execute_result"
    }
   ],
   "source": [
    "# посчитаем количество пропусков в датафрейме 'users'\n",
    "users.isna().sum()"
   ]
  },
  {
   "cell_type": "code",
   "execution_count": 17,
   "id": "e37795a3",
   "metadata": {},
   "outputs": [
    {
     "data": {
      "text/plain": [
       "user_id     0\n",
       "distance    0\n",
       "duration    0\n",
       "date        0\n",
       "month       0\n",
       "dtype: int64"
      ]
     },
     "execution_count": 17,
     "metadata": {},
     "output_type": "execute_result"
    }
   ],
   "source": [
    "# посчитаем количество пропусков в датафрейме 'rides'\n",
    "rides.isna().sum()"
   ]
  },
  {
   "cell_type": "code",
   "execution_count": 18,
   "id": "c2900979",
   "metadata": {},
   "outputs": [
    {
     "data": {
      "text/plain": [
       "subscription_type    0\n",
       "minute_price         0\n",
       "start_ride_price     0\n",
       "subscription_fee     0\n",
       "dtype: int64"
      ]
     },
     "execution_count": 18,
     "metadata": {},
     "output_type": "execute_result"
    }
   ],
   "source": [
    "# посчитаем количество пропусков в датафрейме 'subscriptions'\n",
    "subscriptions.isna().sum()"
   ]
  },
  {
   "cell_type": "markdown",
   "id": "af0befe4",
   "metadata": {},
   "source": [
    "##### Поиск аномальных значений"
   ]
  },
  {
   "cell_type": "code",
   "execution_count": 19,
   "id": "7183f9d5",
   "metadata": {},
   "outputs": [
    {
     "data": {
      "image/png": "[encoded data removed]",
      "text/plain": [
       "<Figure size 360x720 with 1 Axes>"
      ]
     },
     "metadata": {
      "needs_background": "light"
     },
     "output_type": "display_data"
    }
   ],
   "source": [
    "# посмотрим на распределение данных\n",
    "rides['duration'].plot(kind='box',figsize=(5,10))\n",
    "plt.title('Длительность поездок (мин)')\n",
    "plt.show()"
   ]
  },
  {
   "cell_type": "markdown",
   "id": "a102b401",
   "metadata": {},
   "source": [
    "Данные выглядят нормально. Длинные поездки сгруппированы как выбросы в диапазоне от ~34 до ~ 42 минут. Есть выбросы в виде очень коротких поездок — возможно, это отмененные поездки."
   ]
  },
  {
   "cell_type": "code",
   "execution_count": 20,
   "id": "b4ab779a",
   "metadata": {},
   "outputs": [
    {
     "data": {
      "text/plain": [
       "15132    4030.308008\n",
       "17909    4103.998874\n",
       "10692    4106.278268\n",
       "9698     4169.066800\n",
       "14342    4177.139336\n",
       "            ...     \n",
       "14574    6316.574814\n",
       "13701    6414.516026\n",
       "11385    6601.197575\n",
       "17242    6724.932981\n",
       "16309    7211.007745\n",
       "Name: distance, Length: 95, dtype: float64"
      ]
     },
     "execution_count": 20,
     "metadata": {},
     "output_type": "execute_result"
    }
   ],
   "source": [
    "# посмотрим, какое расстояние соответствует поездкам до 1 минуты\n",
    "rides.loc[rides['duration'] < 2,'distance'].sort_values()"
   ]
  },
  {
   "cell_type": "markdown",
   "id": "c5588dc5",
   "metadata": {},
   "source": [
    "Есть поездки, в которых менее чем за 1 минуту проехали 4-7 км, это очень большая скорость. Т.е. в датасете есть строки с аномально большой скоростью поездки. Обработаем эти строки. Будем ориентироваться на законодательное ограничение в максимальную скорость 25 км/ч для электросамокатов."
   ]
  },
  {
   "cell_type": "code",
   "execution_count": 21,
   "id": "c40a9299",
   "metadata": {},
   "outputs": [
    {
     "data": {
      "text/html": [
       "<div>\n",
       "<style scoped>\n",
       "    .dataframe tbody tr th:only-of-type {\n",
       "        vertical-align: middle;\n",
       "    }\n",
       "\n",
       "    .dataframe tbody tr th {\n",
       "        vertical-align: top;\n",
       "    }\n",
       "\n",
       "    .dataframe thead th {\n",
       "        text-align: right;\n",
       "    }\n",
       "</style>\n",
       "<table border=\"1\" class=\"dataframe\">\n",
       "  <thead>\n",
       "    <tr style=\"text-align: right;\">\n",
       "      <th></th>\n",
       "      <th>user_id</th>\n",
       "      <th>distance</th>\n",
       "      <th>duration</th>\n",
       "      <th>date</th>\n",
       "      <th>month</th>\n",
       "      <th>speed</th>\n",
       "    </tr>\n",
       "  </thead>\n",
       "  <tbody>\n",
       "    <tr>\n",
       "      <th>6531</th>\n",
       "      <td>701</td>\n",
       "      <td>4196.445201</td>\n",
       "      <td>0.5</td>\n",
       "      <td>2021-08-31</td>\n",
       "      <td>8</td>\n",
       "      <td>503.573424</td>\n",
       "    </tr>\n",
       "    <tr>\n",
       "      <th>14615</th>\n",
       "      <td>1287</td>\n",
       "      <td>5944.789947</td>\n",
       "      <td>0.5</td>\n",
       "      <td>2021-12-09</td>\n",
       "      <td>12</td>\n",
       "      <td>713.374794</td>\n",
       "    </tr>\n",
       "    <tr>\n",
       "      <th>14574</th>\n",
       "      <td>1285</td>\n",
       "      <td>6316.574814</td>\n",
       "      <td>0.5</td>\n",
       "      <td>2021-09-25</td>\n",
       "      <td>9</td>\n",
       "      <td>757.988978</td>\n",
       "    </tr>\n",
       "    <tr>\n",
       "      <th>14417</th>\n",
       "      <td>1273</td>\n",
       "      <td>4178.876258</td>\n",
       "      <td>0.5</td>\n",
       "      <td>2021-04-30</td>\n",
       "      <td>4</td>\n",
       "      <td>501.465151</td>\n",
       "    </tr>\n",
       "    <tr>\n",
       "      <th>14342</th>\n",
       "      <td>1268</td>\n",
       "      <td>4177.139336</td>\n",
       "      <td>0.5</td>\n",
       "      <td>2021-06-09</td>\n",
       "      <td>6</td>\n",
       "      <td>501.256720</td>\n",
       "    </tr>\n",
       "    <tr>\n",
       "      <th>...</th>\n",
       "      <td>...</td>\n",
       "      <td>...</td>\n",
       "      <td>...</td>\n",
       "      <td>...</td>\n",
       "      <td>...</td>\n",
       "      <td>...</td>\n",
       "    </tr>\n",
       "    <tr>\n",
       "      <th>9581</th>\n",
       "      <td>928</td>\n",
       "      <td>4857.412920</td>\n",
       "      <td>0.5</td>\n",
       "      <td>2021-06-06</td>\n",
       "      <td>6</td>\n",
       "      <td>582.889550</td>\n",
       "    </tr>\n",
       "    <tr>\n",
       "      <th>9497</th>\n",
       "      <td>922</td>\n",
       "      <td>4620.899239</td>\n",
       "      <td>0.5</td>\n",
       "      <td>2021-01-05</td>\n",
       "      <td>1</td>\n",
       "      <td>554.507909</td>\n",
       "    </tr>\n",
       "    <tr>\n",
       "      <th>9282</th>\n",
       "      <td>907</td>\n",
       "      <td>4520.123807</td>\n",
       "      <td>0.5</td>\n",
       "      <td>2021-04-24</td>\n",
       "      <td>4</td>\n",
       "      <td>542.414857</td>\n",
       "    </tr>\n",
       "    <tr>\n",
       "      <th>10426</th>\n",
       "      <td>987</td>\n",
       "      <td>5375.139265</td>\n",
       "      <td>0.5</td>\n",
       "      <td>2021-03-16</td>\n",
       "      <td>3</td>\n",
       "      <td>645.016712</td>\n",
       "    </tr>\n",
       "    <tr>\n",
       "      <th>17909</th>\n",
       "      <td>1524</td>\n",
       "      <td>4103.998874</td>\n",
       "      <td>0.5</td>\n",
       "      <td>2021-06-18</td>\n",
       "      <td>6</td>\n",
       "      <td>492.479865</td>\n",
       "    </tr>\n",
       "  </tbody>\n",
       "</table>\n",
       "<p>95 rows × 6 columns</p>\n",
       "</div>"
      ],
      "text/plain": [
       "       user_id     distance  duration       date  month       speed\n",
       "6531       701  4196.445201       0.5 2021-08-31      8  503.573424\n",
       "14615     1287  5944.789947       0.5 2021-12-09     12  713.374794\n",
       "14574     1285  6316.574814       0.5 2021-09-25      9  757.988978\n",
       "14417     1273  4178.876258       0.5 2021-04-30      4  501.465151\n",
       "14342     1268  4177.139336       0.5 2021-06-09      6  501.256720\n",
       "...        ...          ...       ...        ...    ...         ...\n",
       "9581       928  4857.412920       0.5 2021-06-06      6  582.889550\n",
       "9497       922  4620.899239       0.5 2021-01-05      1  554.507909\n",
       "9282       907  4520.123807       0.5 2021-04-24      4  542.414857\n",
       "10426      987  5375.139265       0.5 2021-03-16      3  645.016712\n",
       "17909     1524  4103.998874       0.5 2021-06-18      6  492.479865\n",
       "\n",
       "[95 rows x 6 columns]"
      ]
     },
     "execution_count": 21,
     "metadata": {},
     "output_type": "execute_result"
    }
   ],
   "source": [
    "# добавим столбец с расчетом скорости\n",
    "rides['speed'] = rides['distance'] / rides['duration']\n",
    "\n",
    "# для удобства из м/мин переведём в км/ч\n",
    "rides['speed'] = rides['speed'] * 0.06\n",
    "\n",
    "# посчитаем, сколько поездок превышают ограничение, добавив погрешность в 0.5 км/ч\n",
    "# можно изменять границу фильтрации до большего числа и дальше и убедиться, что это чёткий выброс по скорости\n",
    "rides[rides['speed'] > 25.5].sort_values('duration')"
   ]
  },
  {
   "cell_type": "markdown",
   "id": "69d5f339",
   "metadata": {},
   "source": [
    "Видим, что есть 95 поездок с аномально высокой скоростью. В том, что это ошибочные строки, нас убеждает и одинаковая длительность поездки в 30 секунд. Это меньше 1% строк для данного датасета, поэтому просто удалим их."
   ]
  },
  {
   "cell_type": "code",
   "execution_count": 22,
   "id": "e73d7a21",
   "metadata": {},
   "outputs": [],
   "source": [
    "# отфильтруем датасет\n",
    "rides = rides.loc[rides['speed'] <= 25.5]"
   ]
  },
  {
   "cell_type": "code",
   "execution_count": 23,
   "id": "0f7fd4e1",
   "metadata": {},
   "outputs": [
    {
     "data": {
      "image/png": "[encoded data removed]",
      "text/plain": [
       "<Figure size 360x720 with 1 Axes>"
      ]
     },
     "metadata": {
      "needs_background": "light"
     },
     "output_type": "display_data"
    }
   ],
   "source": [
    "# посмотрим на распределение данных\n",
    "rides['distance'].plot(kind='box',figsize=(5,10))\n",
    "plt.title('Расстояние поездок (м)')\n",
    "plt.show()"
   ]
  },
  {
   "cell_type": "markdown",
   "id": "859cda4a",
   "metadata": {},
   "source": [
    "Здесь также длинные поездки ~6-7 км и короткие поездки до ~1 км — сгруппированные выбросы. При этом данные выглядят правдоподобно и нормально: такие расстояния вполне можно проехать на электросамокате."
   ]
  },
  {
   "cell_type": "code",
   "execution_count": 24,
   "id": "2c2d2c31",
   "metadata": {},
   "outputs": [],
   "source": [
    "# для удобства округлим данные до двух знаков после запятой\n",
    "rides['duration'] = rides['duration'].round(2)\n",
    "rides['distance'] = rides['distance'].round(2)"
   ]
  },
  {
   "cell_type": "code",
   "execution_count": 25,
   "id": "05f0b6fa",
   "metadata": {},
   "outputs": [
    {
     "data": {
      "text/html": [
       "<div>\n",
       "<style scoped>\n",
       "    .dataframe tbody tr th:only-of-type {\n",
       "        vertical-align: middle;\n",
       "    }\n",
       "\n",
       "    .dataframe tbody tr th {\n",
       "        vertical-align: top;\n",
       "    }\n",
       "\n",
       "    .dataframe thead th {\n",
       "        text-align: right;\n",
       "    }\n",
       "</style>\n",
       "<table border=\"1\" class=\"dataframe\">\n",
       "  <thead>\n",
       "    <tr style=\"text-align: right;\">\n",
       "      <th></th>\n",
       "      <th>user_id</th>\n",
       "      <th>distance</th>\n",
       "      <th>duration</th>\n",
       "      <th>date</th>\n",
       "      <th>month</th>\n",
       "      <th>speed</th>\n",
       "    </tr>\n",
       "  </thead>\n",
       "  <tbody>\n",
       "    <tr>\n",
       "      <th>0</th>\n",
       "      <td>1</td>\n",
       "      <td>4409.92</td>\n",
       "      <td>25.60</td>\n",
       "      <td>2021-01-01</td>\n",
       "      <td>1</td>\n",
       "      <td>10.335841</td>\n",
       "    </tr>\n",
       "    <tr>\n",
       "      <th>1</th>\n",
       "      <td>1</td>\n",
       "      <td>2617.59</td>\n",
       "      <td>15.82</td>\n",
       "      <td>2021-01-18</td>\n",
       "      <td>1</td>\n",
       "      <td>9.929620</td>\n",
       "    </tr>\n",
       "    <tr>\n",
       "      <th>2</th>\n",
       "      <td>1</td>\n",
       "      <td>754.16</td>\n",
       "      <td>6.23</td>\n",
       "      <td>2021-04-20</td>\n",
       "      <td>4</td>\n",
       "      <td>7.260713</td>\n",
       "    </tr>\n",
       "    <tr>\n",
       "      <th>3</th>\n",
       "      <td>1</td>\n",
       "      <td>2694.78</td>\n",
       "      <td>18.51</td>\n",
       "      <td>2021-08-11</td>\n",
       "      <td>8</td>\n",
       "      <td>8.734644</td>\n",
       "    </tr>\n",
       "    <tr>\n",
       "      <th>4</th>\n",
       "      <td>1</td>\n",
       "      <td>4028.69</td>\n",
       "      <td>26.27</td>\n",
       "      <td>2021-08-28</td>\n",
       "      <td>8</td>\n",
       "      <td>9.202888</td>\n",
       "    </tr>\n",
       "  </tbody>\n",
       "</table>\n",
       "</div>"
      ],
      "text/plain": [
       "   user_id  distance  duration       date  month      speed\n",
       "0        1   4409.92     25.60 2021-01-01      1  10.335841\n",
       "1        1   2617.59     15.82 2021-01-18      1   9.929620\n",
       "2        1    754.16      6.23 2021-04-20      4   7.260713\n",
       "3        1   2694.78     18.51 2021-08-11      8   8.734644\n",
       "4        1   4028.69     26.27 2021-08-28      8   9.202888"
      ]
     },
     "execution_count": 25,
     "metadata": {},
     "output_type": "execute_result"
    }
   ],
   "source": [
    "rides.head()"
   ]
  },
  {
   "cell_type": "markdown",
   "id": "38aa8955",
   "metadata": {},
   "source": [
    "**Вывод**. В ходе предобработки данных были выявлены и удалены строки явные дубликаты (31) в датафрейме `users`. Обнаружены и удалены строки (менее 1% от всех строк в `rides`) с аномально высокой скоростью больше 25.5 км/ч. "
   ]
  },
  {
   "cell_type": "markdown",
   "id": "8bb489d3",
   "metadata": {},
   "source": [
    "## 3. Исследовательский анализ данных"
   ]
  },
  {
   "cell_type": "markdown",
   "id": "94421ccb",
   "metadata": {},
   "source": [
    "##### Частота встречаемости городов"
   ]
  },
  {
   "cell_type": "code",
   "execution_count": 26,
   "id": "cd79e0e2",
   "metadata": {},
   "outputs": [
    {
     "data": {
      "image/png": "[encoded data removed]",
      "text/plain": [
       "<Figure size 792x288 with 1 Axes>"
      ]
     },
     "metadata": {
      "needs_background": "light"
     },
     "output_type": "display_data"
    }
   ],
   "source": [
    "# визуализируем частоту встречаемости городов с помощью столбчатой диаграммы\n",
    "city_counts = users['city'].value_counts().sort_values()\n",
    "city_counts.plot.barh(figsize=(11,4))\n",
    "\n",
    "for i, v in enumerate(city_counts):\n",
    "    plt.text(v + 2, i, str(v), color='black', fontweight='bold')\n",
    "\n",
    "plt.title('Частота встречаемости городов')\n",
    "plt.show()"
   ]
  },
  {
   "cell_type": "code",
   "execution_count": 27,
   "id": "ea3adb85",
   "metadata": {},
   "outputs": [
    {
     "data": {
      "image/png": "[encoded data removed]",
      "text/plain": [
       "<Figure size 432x288 with 1 Axes>"
      ]
     },
     "metadata": {},
     "output_type": "display_data"
    }
   ],
   "source": [
    "# визуализируем круговой диаграммой\n",
    "city_counts.plot(kind='pie', autopct='%1.1f%%')\n",
    "plt.title('Соотношение типов подписок')\n",
    "plt.show()"
   ]
  },
  {
   "cell_type": "markdown",
   "id": "d06b0ac3",
   "metadata": {},
   "source": [
    "В наборе данных представлены Пятигорск, Екатеринбург, Ростов-на-Дону, Краснодар, Сочи, Омск, Тюмень и Москва. Чаще всего в данных встречается Пятигорск (14.3%), реже всего — Москва (11.0%). "
   ]
  },
  {
   "cell_type": "markdown",
   "id": "a466528b",
   "metadata": {},
   "source": [
    "##### Соотношение пользователей с подпиской и без подписки"
   ]
  },
  {
   "cell_type": "code",
   "execution_count": 28,
   "id": "ec6e861f",
   "metadata": {},
   "outputs": [
    {
     "data": {
      "text/plain": [
       "free     835\n",
       "ultra    699\n",
       "Name: subscription_type, dtype: int64"
      ]
     },
     "execution_count": 28,
     "metadata": {},
     "output_type": "execute_result"
    }
   ],
   "source": [
    "# посмотрим, сколько пользователей с подпиской и без\n",
    "users['subscription_type'].value_counts()"
   ]
  },
  {
   "cell_type": "code",
   "execution_count": 29,
   "id": "a6b50106",
   "metadata": {},
   "outputs": [
    {
     "data": {
      "image/png": "[encoded data removed]",
      "text/plain": [
       "<Figure size 432x288 with 1 Axes>"
      ]
     },
     "metadata": {
      "needs_background": "light"
     },
     "output_type": "display_data"
    },
    {
     "name": "stdout",
     "output_type": "stream",
     "text": [
      "free     54.4\n",
      "ultra    45.6\n",
      "Name: subscription_type, dtype: float64\n"
     ]
    }
   ],
   "source": [
    "# визуализируем соотношение пользователей с подпиской и без с помощью столбчатой диаграммы\n",
    "users['subscription_type'].value_counts().plot.bar()\n",
    "plt.title('Соотношение типов подписок')\n",
    "plt.show()\n",
    "\n",
    "# и посчитаем процентное соотношение\n",
    "print((users['subscription_type'].value_counts() / len(users) * 100).round(1))\n",
    "\n",
    "# еще можно было визуализировать круговой диаграммой\n",
    "# users['subscription_type'].value_counts().plot(kind='pie')"
   ]
  },
  {
   "cell_type": "code",
   "execution_count": 30,
   "id": "78b4f951",
   "metadata": {},
   "outputs": [
    {
     "data": {
      "image/png": "[encoded data removed]",
      "text/plain": [
       "<Figure size 432x288 with 1 Axes>"
      ]
     },
     "metadata": {},
     "output_type": "display_data"
    }
   ],
   "source": [
    "# визуализируем круговой диаграммой\n",
    "users['subscription_type'].value_counts().plot(kind='pie', autopct='%1.1f%%').set_ylabel('')\n",
    "plt.title('Соотношение типов подписок')\n",
    "plt.show()"
   ]
  },
  {
   "cell_type": "markdown",
   "id": "3ffa33d0",
   "metadata": {},
   "source": [
    "Доля пользователей без подписки (835 пользователей, 54.4%) чуть больше, чем с подпиской *Ultra* (699, 45.6%)."
   ]
  },
  {
   "cell_type": "markdown",
   "id": "ead3ce7d",
   "metadata": {},
   "source": [
    "##### Возраст пользователей"
   ]
  },
  {
   "cell_type": "code",
   "execution_count": 31,
   "id": "ecc42324",
   "metadata": {},
   "outputs": [
    {
     "data": {
      "text/plain": [
       "count    1534.000000\n",
       "mean       24.903520\n",
       "std         4.572367\n",
       "min        12.000000\n",
       "25%        22.000000\n",
       "50%        25.000000\n",
       "75%        28.000000\n",
       "max        43.000000\n",
       "Name: age, dtype: float64"
      ]
     },
     "execution_count": 31,
     "metadata": {},
     "output_type": "execute_result"
    }
   ],
   "source": [
    "# получим числовое описание данных по возрасту \n",
    "users['age'].describe()"
   ]
  },
  {
   "cell_type": "code",
   "execution_count": 32,
   "id": "f98e8fb1",
   "metadata": {},
   "outputs": [
    {
     "data": {
      "image/png": "[encoded data removed]",
      "text/plain": [
       "<Figure size 432x288 with 1 Axes>"
      ]
     },
     "metadata": {
      "needs_background": "light"
     },
     "output_type": "display_data"
    }
   ],
   "source": [
    "# визуализируем распределение возраста пользователей с помощью гистограммы\n",
    "plt.hist(users['age'])\n",
    "plt.title('Возраст пользователей')\n",
    "plt.show()"
   ]
  },
  {
   "cell_type": "markdown",
   "id": "1f6476b7",
   "metadata": {},
   "source": [
    "Средний возраст пользователя — 25 лет. Больше всего пользователей в диапазоне от приблизительно 22 до 28 лет. Минимальный возраст — 12 лет, максимальный — 43. "
   ]
  },
  {
   "cell_type": "markdown",
   "id": "b0d19050",
   "metadata": {},
   "source": [
    "##### Расстояние, которое пользователь преодолел за одну поездку"
   ]
  },
  {
   "cell_type": "code",
   "execution_count": 33,
   "id": "7293aa26",
   "metadata": {},
   "outputs": [
    {
     "data": {
      "text/plain": [
       "count    17973.000000\n",
       "mean      3059.863849\n",
       "std       1108.814623\n",
       "min          0.860000\n",
       "25%       2538.840000\n",
       "50%       3129.030000\n",
       "75%       3762.640000\n",
       "max       7066.000000\n",
       "Name: distance, dtype: float64"
      ]
     },
     "execution_count": 33,
     "metadata": {},
     "output_type": "execute_result"
    }
   ],
   "source": [
    "# получим числовое описание данных по расстоянию \n",
    "rides['distance'].describe()"
   ]
  },
  {
   "cell_type": "code",
   "execution_count": 34,
   "id": "bb21c54b",
   "metadata": {},
   "outputs": [
    {
     "data": {
      "image/png": "[encoded data removed]",
      "text/plain": [
       "<Figure size 432x288 with 1 Axes>"
      ]
     },
     "metadata": {
      "needs_background": "light"
     },
     "output_type": "display_data"
    }
   ],
   "source": [
    "# визуализируем распределение расстояния за поездку с помощью гистограммы\n",
    "plt.hist(rides['distance'],bins=20)\n",
    "plt.title('Расстояние за одну поездку (м)')\n",
    "plt.show()"
   ]
  },
  {
   "cell_type": "markdown",
   "id": "9c2e0940",
   "metadata": {},
   "source": [
    "Среднее расстояние поездки приблизительно 3 км. Чаще всего пользователи проезжали 2-4 км. Минимальное расстояние составило менее 1 метра, при этом на графике видна ощутимая доля поездок на короткие расстояния приблизительно до 700 метров. Возможно, небольшой пик в этой области связан с тем, что пользователи доезжают на самокате до остановки транспорта или до станции метро. "
   ]
  },
  {
   "cell_type": "markdown",
   "id": "51692b50",
   "metadata": {},
   "source": [
    "##### Продолжительность поездок"
   ]
  },
  {
   "cell_type": "code",
   "execution_count": 35,
   "id": "cc635c02",
   "metadata": {},
   "outputs": [
    {
     "data": {
      "text/plain": [
       "count    17973.000000\n",
       "mean        17.896486\n",
       "std          5.975444\n",
       "min          2.040000\n",
       "25%         13.670000\n",
       "50%         17.710000\n",
       "75%         21.750000\n",
       "max         40.820000\n",
       "Name: duration, dtype: float64"
      ]
     },
     "execution_count": 35,
     "metadata": {},
     "output_type": "execute_result"
    }
   ],
   "source": [
    "# получим числовое описание данных по продолжительности \n",
    "rides['duration'].describe()"
   ]
  },
  {
   "cell_type": "code",
   "execution_count": 36,
   "id": "dc6f9fd8",
   "metadata": {},
   "outputs": [
    {
     "data": {
      "image/png": "[encoded data removed]",
      "text/plain": [
       "<Figure size 432x288 with 1 Axes>"
      ]
     },
     "metadata": {
      "needs_background": "light"
     },
     "output_type": "display_data"
    }
   ],
   "source": [
    "# визуализируем распределение продолжительности поездок с помощью гистограммы\n",
    "plt.hist(rides['duration'])\n",
    "plt.title('Продолжительность поездки в минутах')\n",
    "plt.show()"
   ]
  },
  {
   "cell_type": "markdown",
   "id": "e870b1be",
   "metadata": {},
   "source": [
    "Средняя продолжительность поездки — около 17 минут. Незначительна доля коротких поездок до 5 минут, минимальная длительность — менее минуты, следовательно, содержатся данные по отменённым поездкам (когда нажали кнопку случайно или передумали ехать почти сразу). Чаще всего пользователи совершали поездки в диапазоне от 13 до 21 минуты. Количество поездок больше 25 минут резко снижается до максимального значения в 40 минут. "
   ]
  },
  {
   "cell_type": "markdown",
   "id": "a627e6ba",
   "metadata": {},
   "source": [
    "## 4. Объединение данных"
   ]
  },
  {
   "cell_type": "markdown",
   "id": "a1b90448",
   "metadata": {},
   "source": [
    "##### Объединение данных о пользователях, поездках и подписках в один датафрейм"
   ]
  },
  {
   "cell_type": "code",
   "execution_count": 37,
   "id": "f1cc628b",
   "metadata": {},
   "outputs": [
    {
     "data": {
      "text/plain": [
       "True"
      ]
     },
     "execution_count": 37,
     "metadata": {},
     "output_type": "execute_result"
    }
   ],
   "source": [
    "# объединим с помощью метода merge\n",
    "data = users.merge(rides,on='user_id',how='right')\n",
    "data = data.merge(subscriptions,on='subscription_type',how='left')\n",
    "data.shape[0] == rides.shape[0]"
   ]
  },
  {
   "cell_type": "markdown",
   "id": "9ae52508",
   "metadata": {},
   "source": [
    "##### Создание датафреймов по типам подписки"
   ]
  },
  {
   "cell_type": "code",
   "execution_count": 38,
   "id": "3ef208d9",
   "metadata": {
    "scrolled": true
   },
   "outputs": [],
   "source": [
    "# используем метод loc для фильтрации\n",
    "free_users = data.loc[data['subscription_type'] == 'free']\n",
    "ultra_users = data.loc[data['subscription_type'] == 'ultra']"
   ]
  },
  {
   "cell_type": "markdown",
   "id": "5a41e999",
   "metadata": {},
   "source": [
    "##### Визуализация информации о расстоянии и времени поездок для пользователей обеих категорий\n"
   ]
  },
  {
   "cell_type": "code",
   "execution_count": 39,
   "id": "0c3abc1a",
   "metadata": {},
   "outputs": [
    {
     "data": {
      "text/html": [
       "<div>\n",
       "<style scoped>\n",
       "    .dataframe tbody tr th:only-of-type {\n",
       "        vertical-align: middle;\n",
       "    }\n",
       "\n",
       "    .dataframe tbody tr th {\n",
       "        vertical-align: top;\n",
       "    }\n",
       "\n",
       "    .dataframe thead th {\n",
       "        text-align: right;\n",
       "    }\n",
       "</style>\n",
       "<table border=\"1\" class=\"dataframe\">\n",
       "  <thead>\n",
       "    <tr style=\"text-align: right;\">\n",
       "      <th></th>\n",
       "      <th>Расстояние без подписки</th>\n",
       "      <th>и с подпиской Ultra</th>\n",
       "    </tr>\n",
       "  </thead>\n",
       "  <tbody>\n",
       "    <tr>\n",
       "      <th>count</th>\n",
       "      <td>11473.00</td>\n",
       "      <td>6500.00</td>\n",
       "    </tr>\n",
       "    <tr>\n",
       "      <th>mean</th>\n",
       "      <td>3028.37</td>\n",
       "      <td>3115.45</td>\n",
       "    </tr>\n",
       "    <tr>\n",
       "      <th>std</th>\n",
       "      <td>1235.54</td>\n",
       "      <td>836.90</td>\n",
       "    </tr>\n",
       "    <tr>\n",
       "      <th>min</th>\n",
       "      <td>0.86</td>\n",
       "      <td>244.21</td>\n",
       "    </tr>\n",
       "    <tr>\n",
       "      <th>25%</th>\n",
       "      <td>2360.88</td>\n",
       "      <td>2785.45</td>\n",
       "    </tr>\n",
       "    <tr>\n",
       "      <th>50%</th>\n",
       "      <td>3102.08</td>\n",
       "      <td>3148.64</td>\n",
       "    </tr>\n",
       "    <tr>\n",
       "      <th>75%</th>\n",
       "      <td>3883.98</td>\n",
       "      <td>3560.58</td>\n",
       "    </tr>\n",
       "    <tr>\n",
       "      <th>max</th>\n",
       "      <td>7066.00</td>\n",
       "      <td>5699.77</td>\n",
       "    </tr>\n",
       "  </tbody>\n",
       "</table>\n",
       "</div>"
      ],
      "text/plain": [
       "       Расстояние без подписки  и с подпиской Ultra\n",
       "count                 11473.00              6500.00\n",
       "mean                   3028.37              3115.45\n",
       "std                    1235.54               836.90\n",
       "min                       0.86               244.21\n",
       "25%                    2360.88              2785.45\n",
       "50%                    3102.08              3148.64\n",
       "75%                    3883.98              3560.58\n",
       "max                    7066.00              5699.77"
      ]
     },
     "execution_count": 39,
     "metadata": {},
     "output_type": "execute_result"
    }
   ],
   "source": [
    "# выведем числовое описание данных по расстоянию\n",
    "stats = pd.concat([free_users['distance'].describe(),ultra_users['distance'].describe()],axis=1).round(2)\n",
    "stats.columns = ['Расстояние без подписки', 'и с подпиской Ultra']\n",
    "stats"
   ]
  },
  {
   "cell_type": "code",
   "execution_count": 40,
   "id": "9674cec7",
   "metadata": {
    "scrolled": true
   },
   "outputs": [
    {
     "data": {
      "image/png": "[encoded data removed]",
      "text/plain": [
       "<Figure size 504x288 with 1 Axes>"
      ]
     },
     "metadata": {
      "needs_background": "light"
     },
     "output_type": "display_data"
    }
   ],
   "source": [
    "# создаем гистограммы для данных по двум категориям\n",
    "plt.figure(figsize=(7, 4))\n",
    "plt.hist(free_users['distance'], alpha=0.5, label='Пользователи без подписки')\n",
    "plt.hist(ultra_users['distance'], alpha=0.5, label='Пользователи с подпиской')\n",
    "\n",
    "# добавляем название осей и заголовок графика\n",
    "plt.ylabel('Количество наблюдений')\n",
    "\n",
    "# добавляем легенду\n",
    "plt.legend()\n",
    "\n",
    "# выводим график\n",
    "plt.show()"
   ]
  },
  {
   "cell_type": "markdown",
   "id": "cafb746a",
   "metadata": {},
   "source": [
    "Пользователи с подпиской в среднем проезжают большее расстояние, чем пользователи без подписки. При этом на графике видно, что большая часть значений по длительности поездки с подпиской лежит в диапазоне больше 2 км, пик на коротких поездках — маленький, а без подписки — существенный пик на коротких поездках до 1 км. Возможно, это связано с тем, что пользователи с подпиской чаще ездят на более далёкие расстояния и на постоянной основе, в то время как пользователи без подписки чаще ездят спонтанно, когда нужно ускориться на маленьких расстояниях. "
   ]
  },
  {
   "cell_type": "code",
   "execution_count": 41,
   "id": "d14b3982",
   "metadata": {},
   "outputs": [
    {
     "data": {
      "text/html": [
       "<div>\n",
       "<style scoped>\n",
       "    .dataframe tbody tr th:only-of-type {\n",
       "        vertical-align: middle;\n",
       "    }\n",
       "\n",
       "    .dataframe tbody tr th {\n",
       "        vertical-align: top;\n",
       "    }\n",
       "\n",
       "    .dataframe thead th {\n",
       "        text-align: right;\n",
       "    }\n",
       "</style>\n",
       "<table border=\"1\" class=\"dataframe\">\n",
       "  <thead>\n",
       "    <tr style=\"text-align: right;\">\n",
       "      <th></th>\n",
       "      <th>Длительность без подписки</th>\n",
       "      <th>и с подпиской Ultra</th>\n",
       "    </tr>\n",
       "  </thead>\n",
       "  <tbody>\n",
       "    <tr>\n",
       "      <th>count</th>\n",
       "      <td>11473.00</td>\n",
       "      <td>6500.00</td>\n",
       "    </tr>\n",
       "    <tr>\n",
       "      <th>mean</th>\n",
       "      <td>17.53</td>\n",
       "      <td>18.54</td>\n",
       "    </tr>\n",
       "    <tr>\n",
       "      <th>std</th>\n",
       "      <td>6.16</td>\n",
       "      <td>5.57</td>\n",
       "    </tr>\n",
       "    <tr>\n",
       "      <th>min</th>\n",
       "      <td>2.04</td>\n",
       "      <td>3.76</td>\n",
       "    </tr>\n",
       "    <tr>\n",
       "      <th>25%</th>\n",
       "      <td>13.09</td>\n",
       "      <td>14.53</td>\n",
       "    </tr>\n",
       "    <tr>\n",
       "      <th>50%</th>\n",
       "      <td>17.38</td>\n",
       "      <td>18.18</td>\n",
       "    </tr>\n",
       "    <tr>\n",
       "      <th>75%</th>\n",
       "      <td>21.64</td>\n",
       "      <td>21.88</td>\n",
       "    </tr>\n",
       "    <tr>\n",
       "      <th>max</th>\n",
       "      <td>34.95</td>\n",
       "      <td>40.82</td>\n",
       "    </tr>\n",
       "  </tbody>\n",
       "</table>\n",
       "</div>"
      ],
      "text/plain": [
       "       Длительность без подписки  и с подпиской Ultra\n",
       "count                   11473.00              6500.00\n",
       "mean                       17.53                18.54\n",
       "std                         6.16                 5.57\n",
       "min                         2.04                 3.76\n",
       "25%                        13.09                14.53\n",
       "50%                        17.38                18.18\n",
       "75%                        21.64                21.88\n",
       "max                        34.95                40.82"
      ]
     },
     "execution_count": 41,
     "metadata": {},
     "output_type": "execute_result"
    }
   ],
   "source": [
    "# выведем числовое описание данных по расстоянию\n",
    "stats1 = pd.concat([free_users['duration'].describe(),ultra_users['duration'].describe()],axis=1).round(2)\n",
    "stats1.columns = ['Длительность без подписки', 'и с подпиской Ultra']\n",
    "stats1"
   ]
  },
  {
   "cell_type": "code",
   "execution_count": 42,
   "id": "cda1ac38",
   "metadata": {},
   "outputs": [
    {
     "data": {
      "image/png": "[encoded data removed]",
      "text/plain": [
       "<Figure size 504x288 with 1 Axes>"
      ]
     },
     "metadata": {
      "needs_background": "light"
     },
     "output_type": "display_data"
    }
   ],
   "source": [
    "# создаем гистограммы для данных по двум категориям\n",
    "plt.figure(figsize=(7, 4))\n",
    "plt.hist(free_users['duration'], alpha=0.5, label='Пользователи без подписки')\n",
    "plt.hist(ultra_users['duration'], alpha=0.5, label='Пользователи с подпиской')\n",
    "\n",
    "# добавляем название осей и заголовок графика\n",
    "plt.ylabel('Количество наблюдений')\n",
    "plt.title('Длительность поездок (мин)')\n",
    "\n",
    "# добавляем легенду\n",
    "plt.legend()\n",
    "\n",
    "# выводим график\n",
    "plt.show()"
   ]
  },
  {
   "cell_type": "markdown",
   "id": "afa93e47",
   "metadata": {},
   "source": [
    "В среднем пользователи с подпиской ездят на ~1 минуту дольше, чем пользователи без подписки. На графике также видно, что данные о пользователях с подпиской смещены вправо относительно данных о пользователях без подписки. То есть в целом пользователи с подпиской не ездят меньше ~4 минут и ездят вплоть до ~40 минут в отличие от пользователей без подписки, у которых диапазон от 0.5 до 35 минут."
   ]
  },
  {
   "cell_type": "markdown",
   "id": "e7813041",
   "metadata": {},
   "source": [
    "## 5. Подсчёт выручки"
   ]
  },
  {
   "cell_type": "markdown",
   "id": "68a1c841",
   "metadata": {},
   "source": [
    "Cоздадим датафрейм с информацией по поездкам каждого пользователя за каждый месяц, включая количество поездок (считаем по любому столбцу количество строк), суммарные расстояния и длительности."
   ]
  },
  {
   "cell_type": "code",
   "execution_count": 43,
   "id": "0b554d3c",
   "metadata": {},
   "outputs": [],
   "source": [
    "# округлим длительность поездок до целой минуты\n",
    "data['duration'] = data['duration'].apply(lambda x : math.ceil(x))"
   ]
  },
  {
   "cell_type": "code",
   "execution_count": 44,
   "id": "2b71a873",
   "metadata": {},
   "outputs": [
    {
     "name": "stdout",
     "output_type": "stream",
     "text": [
      "<class 'pandas.core.frame.DataFrame'>\n",
      "RangeIndex: 11300 entries, 0 to 11299\n",
      "Data columns (total 9 columns):\n",
      " #   Column             Non-Null Count  Dtype  \n",
      "---  ------             --------------  -----  \n",
      " 0   user_id            11300 non-null  int64  \n",
      " 1   month              11300 non-null  int64  \n",
      " 2   count              11300 non-null  int64  \n",
      " 3   distance           11300 non-null  float64\n",
      " 4   duration           11300 non-null  int64  \n",
      " 5   subscription_type  11300 non-null  object \n",
      " 6   minute_price       11300 non-null  int64  \n",
      " 7   start_ride_price   11300 non-null  int64  \n",
      " 8   subscription_fee   11300 non-null  int64  \n",
      "dtypes: float64(1), int64(7), object(1)\n",
      "memory usage: 794.7+ KB\n"
     ]
    }
   ],
   "source": [
    "# создадим датафрейм с агрегированными данными о поездках\n",
    "users_agg = data.groupby(['user_id', 'month']).agg(\n",
    "    {'date':'count', 'distance':'sum', 'duration':'sum', \n",
    "     'subscription_type': 'first' , 'minute_price' : 'first', 'start_ride_price' : 'first', 'subscription_fee' : 'first'}\n",
    ").reset_index()\n",
    "\n",
    "# переименуем столбец для удобства\n",
    "users_agg.rename(columns = {'date':'count'}, inplace = True)\n",
    "\n",
    "# посмотрим, что получилось (в тч количество строк)\n",
    "users_agg.info()"
   ]
  },
  {
   "cell_type": "markdown",
   "id": "5823922f",
   "metadata": {},
   "source": [
    "Теперь нам нужно посчитать выручку для каждого месяца по каждому пользователю. "
   ]
  },
  {
   "cell_type": "code",
   "execution_count": 45,
   "id": "0fac503d",
   "metadata": {},
   "outputs": [
    {
     "data": {
      "text/plain": [
       "user_id              0\n",
       "month                0\n",
       "count                0\n",
       "distance             0\n",
       "duration             0\n",
       "subscription_type    0\n",
       "minute_price         0\n",
       "start_ride_price     0\n",
       "subscription_fee     0\n",
       "dtype: int64"
      ]
     },
     "execution_count": 45,
     "metadata": {},
     "output_type": "execute_result"
    }
   ],
   "source": [
    "# убедимся, что нет пропусков\n",
    "users_agg.isna().sum()"
   ]
  },
  {
   "cell_type": "code",
   "execution_count": 46,
   "id": "f8d7d929",
   "metadata": {},
   "outputs": [],
   "source": [
    "# посчитаем выручку\n",
    "users_agg['revenue'] = (users_agg['count'] * users_agg['start_ride_price']) + (users_agg['duration'] * users_agg['minute_price']) + users_agg['subscription_fee']\n",
    "\n",
    "# удалим лишние столбцы\n",
    "users_agg.drop(['minute_price', 'start_ride_price', 'subscription_fee'], axis=1, inplace=True)"
   ]
  },
  {
   "cell_type": "code",
   "execution_count": 47,
   "id": "5fa47016",
   "metadata": {},
   "outputs": [
    {
     "data": {
      "text/html": [
       "<div>\n",
       "<style scoped>\n",
       "    .dataframe tbody tr th:only-of-type {\n",
       "        vertical-align: middle;\n",
       "    }\n",
       "\n",
       "    .dataframe tbody tr th {\n",
       "        vertical-align: top;\n",
       "    }\n",
       "\n",
       "    .dataframe thead th {\n",
       "        text-align: right;\n",
       "    }\n",
       "</style>\n",
       "<table border=\"1\" class=\"dataframe\">\n",
       "  <thead>\n",
       "    <tr style=\"text-align: right;\">\n",
       "      <th></th>\n",
       "      <th>user_id</th>\n",
       "      <th>month</th>\n",
       "      <th>count</th>\n",
       "      <th>distance</th>\n",
       "      <th>duration</th>\n",
       "      <th>subscription_type</th>\n",
       "      <th>revenue</th>\n",
       "    </tr>\n",
       "  </thead>\n",
       "  <tbody>\n",
       "    <tr>\n",
       "      <th>0</th>\n",
       "      <td>1</td>\n",
       "      <td>1</td>\n",
       "      <td>2</td>\n",
       "      <td>7027.51</td>\n",
       "      <td>42</td>\n",
       "      <td>ultra</td>\n",
       "      <td>451</td>\n",
       "    </tr>\n",
       "    <tr>\n",
       "      <th>1</th>\n",
       "      <td>1</td>\n",
       "      <td>4</td>\n",
       "      <td>1</td>\n",
       "      <td>754.16</td>\n",
       "      <td>7</td>\n",
       "      <td>ultra</td>\n",
       "      <td>241</td>\n",
       "    </tr>\n",
       "    <tr>\n",
       "      <th>2</th>\n",
       "      <td>1</td>\n",
       "      <td>8</td>\n",
       "      <td>2</td>\n",
       "      <td>6723.47</td>\n",
       "      <td>46</td>\n",
       "      <td>ultra</td>\n",
       "      <td>475</td>\n",
       "    </tr>\n",
       "    <tr>\n",
       "      <th>3</th>\n",
       "      <td>1</td>\n",
       "      <td>10</td>\n",
       "      <td>2</td>\n",
       "      <td>5809.91</td>\n",
       "      <td>32</td>\n",
       "      <td>ultra</td>\n",
       "      <td>391</td>\n",
       "    </tr>\n",
       "    <tr>\n",
       "      <th>4</th>\n",
       "      <td>1</td>\n",
       "      <td>11</td>\n",
       "      <td>3</td>\n",
       "      <td>7003.50</td>\n",
       "      <td>56</td>\n",
       "      <td>ultra</td>\n",
       "      <td>535</td>\n",
       "    </tr>\n",
       "  </tbody>\n",
       "</table>\n",
       "</div>"
      ],
      "text/plain": [
       "   user_id  month  count  distance  duration subscription_type  revenue\n",
       "0        1      1      2   7027.51        42             ultra      451\n",
       "1        1      4      1    754.16         7             ultra      241\n",
       "2        1      8      2   6723.47        46             ultra      475\n",
       "3        1     10      2   5809.91        32             ultra      391\n",
       "4        1     11      3   7003.50        56             ultra      535"
      ]
     },
     "execution_count": 47,
     "metadata": {},
     "output_type": "execute_result"
    }
   ],
   "source": [
    "# выведем первые строчки, чтобы посмотреть результат\n",
    "users_agg.head()"
   ]
  },
  {
   "cell_type": "markdown",
   "id": "f1d89bde",
   "metadata": {},
   "source": [
    "## 6. Проверка гипотез"
   ]
  },
  {
   "cell_type": "markdown",
   "id": "cb592e38",
   "metadata": {},
   "source": [
    "Предположительно, пользователи, которые оформили подписку, приносят больше выгоды компании: они платят за подписку и в целом больше (дольше) ездят на самокатах. Однако нужно посмотреть внимательнее на показатели выручки (компенсирует ли платная подписка отсутствие стартовой цены поездки) и на показатели износа самоката (если пользователи ездят дольше по времени, значит предположительно и на большие расстояния, то есть сильнее изнашивают самокаты). Разобъем это рассуждение на серию гипотез."
   ]
  },
  {
   "cell_type": "markdown",
   "id": "fa702529",
   "metadata": {},
   "source": [
    "##### Тратят ли пользователи с подпиской больше времени на поездки?"
   ]
  },
  {
   "cell_type": "markdown",
   "id": "60cecf51",
   "metadata": {},
   "source": [
    "Проверим гипотезу, что обладатели подписки `ultra` тратят больше времени на поездки, чем пользователи без подписки (`free`)."
   ]
  },
  {
   "cell_type": "markdown",
   "id": "38bfca94",
   "metadata": {},
   "source": [
    "**Нулевая гипотеза**: средние значения длительности поездки пользователей из двух групп (с подпиской и без) равны. <br/>\n",
    "**Альтернативная гипотеза**: средние значения длительности поездки пользователей с подпиской *больше*, чем без нее."
   ]
  },
  {
   "cell_type": "code",
   "execution_count": 48,
   "id": "e44f1168",
   "metadata": {
    "scrolled": true
   },
   "outputs": [
    {
     "name": "stdout",
     "output_type": "stream",
     "text": [
      "Пользователи с подпиской ездят в среднем на 1.0112551345298222 минут дольше, чем пользователи без подписки\n"
     ]
    }
   ],
   "source": [
    "# посмотрим на разницу средних значений 'duration' для двух подписок\n",
    "print('Пользователи с подпиской ездят в среднем на',\n",
    "      ultra_users['duration'].mean() - free_users['duration'].mean(), 'минут дольше, чем пользователи без подписки')"
   ]
  },
  {
   "cell_type": "code",
   "execution_count": 49,
   "id": "7d80bc61",
   "metadata": {
    "scrolled": true
   },
   "outputs": [
    {
     "name": "stdout",
     "output_type": "stream",
     "text": [
      "p-значение: 4.68327274119323e-28\n",
      "Отвергаем нулевую гипотезу\n"
     ]
    }
   ],
   "source": [
    "# проведем ttest для двух выборок, берём одностороннюю гипотезу \"больше\"\n",
    "results = st.ttest_ind(ultra_users['duration'], free_users['duration'], alternative='greater')\n",
    "print('p-значение:', results.pvalue)\n",
    "\n",
    "# задачем уровень статистической значимости 5%\n",
    "alpha = 0.05\n",
    "# если p-value окажется меньше него, отвергнем гипотезу\n",
    "\n",
    "if results.pvalue < alpha:\n",
    "    print('Отвергаем нулевую гипотезу')\n",
    "else:\n",
    "    print('Не получилось отвергнуть нулевую гипотезу')"
   ]
  },
  {
   "cell_type": "markdown",
   "id": "bd3d1a3a",
   "metadata": {},
   "source": [
    "Есть основания говорить, что пользователи с подпиской тратят больше времени на поездки, чем пользователи без подписки. А ниже мы выясним, действительно ли пользователи с подпиской «выгоднее» для компании: необходимо учитывать износ самокатов и выручку."
   ]
  },
  {
   "cell_type": "markdown",
   "id": "ff933a01",
   "metadata": {},
   "source": [
    "##### Укладываются ли пользователи с подпиской в оптимальное значение расстояния поездки для износа самоката? "
   ]
  },
  {
   "cell_type": "markdown",
   "id": "9ede77f0",
   "metadata": {},
   "source": [
    "Расстояние одной поездки в 3130 метров — оптимальное с точки зрения износа самоката. Проверим, можно ли сказать, что расстояние, которое проезжают пользователи с подпиской за одну поездку, не превышает это значение."
   ]
  },
  {
   "cell_type": "markdown",
   "id": "1922eac0",
   "metadata": {},
   "source": [
    "**Нулевая гипотеза**: среднее значение расстояния поездок пользователей с подпиской Ultra больше 3130 метров. <br/>\n",
    "**Альтернативная гипотеза**: среднее значение расстояния поездок пользователей с подпиской Ultra меньше или равно 3130 метров."
   ]
  },
  {
   "cell_type": "code",
   "execution_count": 50,
   "id": "c9eb7d47",
   "metadata": {},
   "outputs": [
    {
     "data": {
      "text/plain": [
       "True"
      ]
     },
     "execution_count": 50,
     "metadata": {},
     "output_type": "execute_result"
    }
   ],
   "source": [
    "# введем переменную с оптимальным значением расстояния\n",
    "opt = 3130\n",
    "\n",
    "# сравним среднее значение с оптимальным \n",
    "ultra_users['distance'].mean() <= opt"
   ]
  },
  {
   "cell_type": "code",
   "execution_count": 51,
   "id": "01ad60a1",
   "metadata": {},
   "outputs": [
    {
     "data": {
      "text/plain": [
       "count    6500.000000\n",
       "mean     3115.445431\n",
       "std       836.895369\n",
       "min       244.210000\n",
       "25%      2785.447500\n",
       "50%      3148.640000\n",
       "75%      3560.577500\n",
       "max      5699.770000\n",
       "Name: distance, dtype: float64"
      ]
     },
     "execution_count": 51,
     "metadata": {},
     "output_type": "execute_result"
    }
   ],
   "source": [
    "# код ревьюера\n",
    "ultra_users['distance'].describe()"
   ]
  },
  {
   "cell_type": "code",
   "execution_count": 52,
   "id": "8a216d56",
   "metadata": {},
   "outputs": [
    {
     "data": {
      "text/plain": [
       "False"
      ]
     },
     "execution_count": 52,
     "metadata": {},
     "output_type": "execute_result"
    }
   ],
   "source": [
    "# сравним медиану с оптимальным значением\n",
    "ultra_users['distance'].median() <= opt"
   ]
  },
  {
   "cell_type": "markdown",
   "id": "84b040e8",
   "metadata": {},
   "source": [
    "Поскольку медиана более показательна, чем среднее значение, можно сделать вывод, что пользователи часто проезжают больше, чем 3130 м. Теперь произведём проверку гипотезы. "
   ]
  },
  {
   "cell_type": "code",
   "execution_count": 53,
   "id": "b69d2f24",
   "metadata": {},
   "outputs": [
    {
     "name": "stdout",
     "output_type": "stream",
     "text": [
      "p-значение: 0.08046373941575857\n",
      "Не получилось отвергнуть нулевую гипотезу\n"
     ]
    }
   ],
   "source": [
    "# проведем ttest для одной выборки, берём одностороннюю гипотезу \"больше\"\n",
    "results1 = st.ttest_1samp(ultra_users['distance'], opt, alternative='less')\n",
    "print('p-значение:', results1.pvalue)\n",
    "\n",
    "if results1.pvalue < alpha:\n",
    "    print('Отвергаем нулевую гипотезу')\n",
    "else:\n",
    "    print('Не получилось отвергнуть нулевую гипотезу')"
   ]
  },
  {
   "cell_type": "markdown",
   "id": "ce457a71",
   "metadata": {},
   "source": [
    "Нет оснований говорить, что среднее расстояние поездок пользователей с подпиской не превышает оптимальное значение для износа самоката. То есть по данной выборке можем говорить, что самокат они изнашивают. Однако p-value ~0.08 находится близко к уровню статистической значимости, следовательно, гипотезу лучше еще раз проверить на большей выборке."
   ]
  },
  {
   "cell_type": "markdown",
   "id": "756bed7b",
   "metadata": {},
   "source": [
    "##### Сравнение помесячной выручки от пользователей с разными типами подписки по месяцам"
   ]
  },
  {
   "cell_type": "code",
   "execution_count": 54,
   "id": "83b64938",
   "metadata": {},
   "outputs": [],
   "source": [
    "# отфильтруем датафрейм с месячной выручкой по типу подписки\n",
    "free = users_agg.query('subscription_type == \"free\"')\n",
    "ultra = users_agg.query('subscription_type == \"ultra\"')"
   ]
  },
  {
   "cell_type": "code",
   "execution_count": 55,
   "id": "f93edf7b",
   "metadata": {
    "scrolled": true
   },
   "outputs": [
    {
     "data": {
      "image/png": "[encoded data removed]",
      "text/plain": [
       "<Figure size 432x288 with 1 Axes>"
      ]
     },
     "metadata": {
      "needs_background": "light"
     },
     "output_type": "display_data"
    }
   ],
   "source": [
    "# создаем гистограммы для данных по двум категориям\n",
    "plt.hist(free['revenue'], alpha=0.5, label='Пользователи без подписки')\n",
    "plt.hist(ultra['revenue'], alpha=0.5, label='Пользователи с подпиской')\n",
    "\n",
    "# добавляем название осей и заголовок графика\n",
    "plt.title('Выручка за месяц (руб.)')\n",
    "\n",
    "# добавляем легенду\n",
    "plt.legend()\n",
    "\n",
    "# выводим график\n",
    "plt.show()"
   ]
  },
  {
   "cell_type": "markdown",
   "id": "c1c40631",
   "metadata": {},
   "source": [
    "Посчитаем разницу между средней ежемесячной выручкой от пользователя с подпиской и пользователя без подписки."
   ]
  },
  {
   "cell_type": "code",
   "execution_count": 56,
   "id": "a795b9ef",
   "metadata": {
    "scrolled": true
   },
   "outputs": [
    {
     "name": "stdout",
     "output_type": "stream",
     "text": [
      "Средняя выручка без подписки: 329.27 рублей\n",
      "Средняя выручка с подпиской: 362.73 рублей\n",
      "С подпиской больше на 33.46 рублей\n"
     ]
    }
   ],
   "source": [
    "# сравним средние значения 'revenue' для двух подписок\n",
    "revenue = ultra['revenue'].mean() - free['revenue'].mean()\n",
    "print('Средняя выручка без подписки:', round(free['revenue'].mean(), 2), 'рублей')\n",
    "print('Средняя выручка с подпиской:', round(ultra['revenue'].mean(), 2), 'рублей')\n",
    "print('С подпиской больше на', round(revenue, 2), 'рублей')"
   ]
  },
  {
   "cell_type": "markdown",
   "id": "48690c84",
   "metadata": {},
   "source": [
    "Средняя выручка от пользователей с подпиской оказалась больше. Теперь проверим гипотезу."
   ]
  },
  {
   "cell_type": "markdown",
   "id": "f7403a9f",
   "metadata": {},
   "source": [
    "**Нулевая гипотеза**: среднее значение месячной выручки от пользователей с двумя типами подписки равно. <br/>\n",
    "**Альтернативная гипотеза**: среднее значение месячной выручки от пользователей с подпиской больше, чем от пользователей без подписки."
   ]
  },
  {
   "cell_type": "code",
   "execution_count": 57,
   "id": "79d842c1",
   "metadata": {},
   "outputs": [
    {
     "name": "stdout",
     "output_type": "stream",
     "text": [
      "p-значение: 4.68327274119323e-28\n",
      "Отвергаем нулевую гипотезу\n"
     ]
    }
   ],
   "source": [
    "# проведем ttest для двух выборок, берём одностороннюю гипотезу \"больше\"\n",
    "results2 = st.ttest_ind(ultra['revenue'], free['revenue'], alternative='greater')\n",
    "print('p-значение:', results.pvalue)\n",
    "\n",
    "if results2.pvalue < alpha:\n",
    "    print('Отвергаем нулевую гипотезу')\n",
    "else:\n",
    "    print('Не получилось отвергнуть нулевую гипотезу')"
   ]
  },
  {
   "cell_type": "markdown",
   "id": "489e6197",
   "metadata": {},
   "source": [
    "Есть основания говорить, что в среднем ежемесячно пользователи с подпиской приносят больше выручки, чем пользователи без подписки."
   ]
  },
  {
   "cell_type": "markdown",
   "id": "23193185",
   "metadata": {},
   "source": [
    "Суммируем результаты проверки гипотез. Есть основания утверждать, что пользователи с подпиской в среднем ездят дольше, чем без подписки. При этом среднее расстояние поездок у таких пользователей больше оптимального, что может повлять на износ техники и, следовательно, на затраты по её обслуживанию. Тем не менее, пользователи с подпиской приносят больше выручки, чем, вероятно, компенсируют эти затраты, а также они могут принести большую выгоду компании в будущем. На данный момент можно сказать, что такие пользователи выгодны компании. \n",
    "\n",
    "Но важно учитывать, что в целом для оценки выгодности необходимо учитывать разные факторы: точную стоимость износа самоката, затраты на маркетинг и рекламу подписки, и так далее. Рекомендуется также провести повторную проверку гипотезы о превышении оптимального значения расстояния для износа самоката на большей выборке."
   ]
  },
  {
   "cell_type": "markdown",
   "id": "df79a59d",
   "metadata": {},
   "source": [
    "## 7. Выводы"
   ]
  },
  {
   "cell_type": "markdown",
   "id": "3ee56b77",
   "metadata": {},
   "source": [
    "Были проанализированы данные по поездкам пользователей с разным типом подписки. В результате предобработки данных были удалены явные дубликаты и поездки с аномально высокой скоростью, пропуски не были обнаружены.\n",
    "\n",
    "Дальше были исследованы и визуализированы основные параметры: частота встречаемости городов (чаще всего — Пятигорск 14.3%, реже всего — Москва 11.0%), соотношение пользователей с подпиской (45.6%) и без подписки (54.4%), возраст пользователей (больше всего 22-28 лет), расстояние, которое пользователь преодолел за одну поездку (чаще всего (2-4 км), продолжительность поездок (чаще всего 13-21 мин).\n",
    "\n",
    "А также отдельно исследовано соотношение по расстоянию и длительности для двух типов подписки: пользователи с подпиской в среднем ездят дольше по времени и на большие расстояния. Далее была рассчитана ежемесячная выручка по пользователям.\n",
    "\n",
    "В результате проверки гипотез было установлено, что пользователи с подпиской действительно более выгодные для компании. Однако рекомендовано провести расчеты с большим количеством параметров и на большей выборке."
   ]
  }
 ],
 "metadata": {
  "ExecuteTimeLog": [
   {
    "duration": 1421,
    "start_time": "2023-05-03T19:35:31.024Z"
   },
   {
    "duration": 320,
    "start_time": "2023-05-03T19:35:33.963Z"
   },
   {
    "duration": 4,
    "start_time": "2023-05-03T19:36:53.144Z"
   },
   {
    "duration": 19,
    "start_time": "2023-05-03T19:37:06.392Z"
   },
   {
    "duration": 10,
    "start_time": "2023-05-03T19:39:41.403Z"
   },
   {
    "duration": 9,
    "start_time": "2023-05-03T19:40:33.364Z"
   },
   {
    "duration": 10,
    "start_time": "2023-05-03T19:41:07.044Z"
   },
   {
    "duration": 9,
    "start_time": "2023-05-03T19:41:13.779Z"
   },
   {
    "duration": 111,
    "start_time": "2023-05-03T19:47:13.071Z"
   },
   {
    "duration": 11,
    "start_time": "2023-05-03T19:47:21.523Z"
   },
   {
    "duration": 12,
    "start_time": "2023-05-03T19:47:55.527Z"
   },
   {
    "duration": 12,
    "start_time": "2023-05-03T19:48:28.011Z"
   },
   {
    "duration": 9,
    "start_time": "2023-05-03T19:49:22.176Z"
   },
   {
    "duration": 12,
    "start_time": "2023-05-03T19:49:46.203Z"
   },
   {
    "duration": 10,
    "start_time": "2023-05-03T19:50:05.431Z"
   },
   {
    "duration": 10,
    "start_time": "2023-05-03T19:51:11.787Z"
   },
   {
    "duration": 17,
    "start_time": "2023-05-03T19:56:33.363Z"
   },
   {
    "duration": 8,
    "start_time": "2023-05-03T19:57:56.355Z"
   },
   {
    "duration": 6,
    "start_time": "2023-05-03T19:58:00.987Z"
   },
   {
    "duration": 16,
    "start_time": "2023-05-03T19:58:31.999Z"
   },
   {
    "duration": 13,
    "start_time": "2023-05-03T19:58:35.743Z"
   },
   {
    "duration": 5,
    "start_time": "2023-05-03T19:58:37.875Z"
   },
   {
    "duration": 5,
    "start_time": "2023-05-03T19:59:37.135Z"
   },
   {
    "duration": 6,
    "start_time": "2023-05-03T19:59:45.191Z"
   },
   {
    "duration": 9,
    "start_time": "2023-05-03T19:59:59.106Z"
   },
   {
    "duration": 6,
    "start_time": "2023-05-03T20:00:16.275Z"
   },
   {
    "duration": 7,
    "start_time": "2023-05-03T20:00:21.211Z"
   },
   {
    "duration": 4,
    "start_time": "2023-05-03T20:00:50.515Z"
   },
   {
    "duration": 4,
    "start_time": "2023-05-03T20:00:57.950Z"
   },
   {
    "duration": 8,
    "start_time": "2023-05-03T20:02:51.931Z"
   },
   {
    "duration": 7,
    "start_time": "2023-05-03T20:03:13.858Z"
   },
   {
    "duration": 6,
    "start_time": "2023-05-03T20:03:15.575Z"
   },
   {
    "duration": 14,
    "start_time": "2023-05-03T20:06:51.495Z"
   },
   {
    "duration": 9,
    "start_time": "2023-05-03T20:07:06.387Z"
   },
   {
    "duration": 7,
    "start_time": "2023-05-03T20:07:11.184Z"
   },
   {
    "duration": 9,
    "start_time": "2023-05-03T20:07:13.054Z"
   },
   {
    "duration": 8,
    "start_time": "2023-05-03T20:07:22.588Z"
   },
   {
    "duration": 6,
    "start_time": "2023-05-03T20:07:29.046Z"
   },
   {
    "duration": 6,
    "start_time": "2023-05-03T20:07:31.407Z"
   },
   {
    "duration": 16,
    "start_time": "2023-05-03T20:07:38.158Z"
   },
   {
    "duration": 10,
    "start_time": "2023-05-03T20:07:48.384Z"
   },
   {
    "duration": 9,
    "start_time": "2023-05-03T20:14:42.518Z"
   },
   {
    "duration": 10,
    "start_time": "2023-05-03T20:15:54.272Z"
   },
   {
    "duration": 6,
    "start_time": "2023-05-03T20:15:59.154Z"
   },
   {
    "duration": 8,
    "start_time": "2023-05-03T20:18:56.127Z"
   },
   {
    "duration": 8,
    "start_time": "2023-05-03T20:19:14.078Z"
   },
   {
    "duration": 7,
    "start_time": "2023-05-03T20:19:32.894Z"
   },
   {
    "duration": 177,
    "start_time": "2023-05-03T20:29:06.660Z"
   },
   {
    "duration": 144,
    "start_time": "2023-05-03T20:29:32.121Z"
   },
   {
    "duration": 19,
    "start_time": "2023-05-03T20:29:44.386Z"
   },
   {
    "duration": 144,
    "start_time": "2023-05-03T20:29:49.818Z"
   },
   {
    "duration": 143,
    "start_time": "2023-05-03T20:30:31.286Z"
   },
   {
    "duration": 119,
    "start_time": "2023-05-03T20:35:23.661Z"
   },
   {
    "duration": 241,
    "start_time": "2023-05-03T20:37:10.633Z"
   },
   {
    "duration": 73,
    "start_time": "2023-05-03T20:37:32.650Z"
   },
   {
    "duration": 97,
    "start_time": "2023-05-03T20:38:07.422Z"
   },
   {
    "duration": 204,
    "start_time": "2023-05-03T20:38:37.794Z"
   },
   {
    "duration": 127,
    "start_time": "2023-05-03T20:39:28.677Z"
   },
   {
    "duration": 130,
    "start_time": "2023-05-03T20:40:04.017Z"
   },
   {
    "duration": 139,
    "start_time": "2023-05-03T20:40:16.114Z"
   },
   {
    "duration": 119,
    "start_time": "2023-05-03T20:40:19.031Z"
   },
   {
    "duration": 140,
    "start_time": "2023-05-03T20:40:53.513Z"
   },
   {
    "duration": 10,
    "start_time": "2023-05-03T20:44:26.067Z"
   },
   {
    "duration": 17,
    "start_time": "2023-05-03T20:44:37.949Z"
   },
   {
    "duration": 5,
    "start_time": "2023-05-03T20:44:42.109Z"
   },
   {
    "duration": 125,
    "start_time": "2023-05-03T20:54:19.551Z"
   },
   {
    "duration": 129,
    "start_time": "2023-05-03T20:56:14.055Z"
   },
   {
    "duration": 54,
    "start_time": "2023-05-03T20:56:27.448Z"
   },
   {
    "duration": 124,
    "start_time": "2023-05-03T20:56:31.676Z"
   },
   {
    "duration": 128,
    "start_time": "2023-05-03T20:59:53.325Z"
   },
   {
    "duration": 125,
    "start_time": "2023-05-03T20:59:58.002Z"
   },
   {
    "duration": 60,
    "start_time": "2023-05-03T21:02:10.805Z"
   },
   {
    "duration": 129,
    "start_time": "2023-05-03T21:02:14.373Z"
   },
   {
    "duration": 222,
    "start_time": "2023-05-03T21:02:18.597Z"
   },
   {
    "duration": 147,
    "start_time": "2023-05-03T21:04:15.307Z"
   },
   {
    "duration": 168,
    "start_time": "2023-05-03T21:06:56.716Z"
   },
   {
    "duration": 9,
    "start_time": "2023-05-03T21:07:18.224Z"
   },
   {
    "duration": 8,
    "start_time": "2023-05-03T21:07:45.730Z"
   },
   {
    "duration": 8,
    "start_time": "2023-05-03T21:09:24.992Z"
   },
   {
    "duration": 7,
    "start_time": "2023-05-03T21:09:32.744Z"
   },
   {
    "duration": 9,
    "start_time": "2023-05-03T21:10:58.808Z"
   },
   {
    "duration": 9,
    "start_time": "2023-05-03T21:14:27.792Z"
   },
   {
    "duration": 137,
    "start_time": "2023-05-03T21:15:47.972Z"
   },
   {
    "duration": 147,
    "start_time": "2023-05-03T21:19:41.256Z"
   },
   {
    "duration": 150,
    "start_time": "2023-05-03T21:20:02.344Z"
   },
   {
    "duration": 150,
    "start_time": "2023-05-03T21:23:42.052Z"
   },
   {
    "duration": 148,
    "start_time": "2023-05-03T21:24:12.684Z"
   },
   {
    "duration": 9,
    "start_time": "2023-05-03T21:25:22.024Z"
   },
   {
    "duration": 144,
    "start_time": "2023-05-03T21:27:17.523Z"
   },
   {
    "duration": 1429,
    "start_time": "2023-05-04T18:59:31.897Z"
   },
   {
    "duration": 272,
    "start_time": "2023-05-04T18:59:33.332Z"
   },
   {
    "duration": 12,
    "start_time": "2023-05-04T18:59:33.606Z"
   },
   {
    "duration": 11,
    "start_time": "2023-05-04T18:59:33.620Z"
   },
   {
    "duration": 8,
    "start_time": "2023-05-04T18:59:33.633Z"
   },
   {
    "duration": 9,
    "start_time": "2023-05-04T18:59:33.642Z"
   },
   {
    "duration": 13,
    "start_time": "2023-05-04T18:59:33.652Z"
   },
   {
    "duration": 6,
    "start_time": "2023-05-04T18:59:33.667Z"
   },
   {
    "duration": 18,
    "start_time": "2023-05-04T18:59:33.679Z"
   },
   {
    "duration": 11,
    "start_time": "2023-05-04T18:59:33.699Z"
   },
   {
    "duration": 24,
    "start_time": "2023-05-04T18:59:33.711Z"
   },
   {
    "duration": 24,
    "start_time": "2023-05-04T18:59:33.737Z"
   },
   {
    "duration": 31,
    "start_time": "2023-05-04T18:59:33.766Z"
   },
   {
    "duration": 8,
    "start_time": "2023-05-04T18:59:33.800Z"
   },
   {
    "duration": 198,
    "start_time": "2023-05-04T18:59:33.809Z"
   },
   {
    "duration": 6,
    "start_time": "2023-05-04T18:59:34.009Z"
   },
   {
    "duration": 149,
    "start_time": "2023-05-04T18:59:34.016Z"
   },
   {
    "duration": 18,
    "start_time": "2023-05-04T18:59:34.167Z"
   },
   {
    "duration": 168,
    "start_time": "2023-05-04T18:59:34.187Z"
   },
   {
    "duration": 14,
    "start_time": "2023-05-04T18:59:34.357Z"
   },
   {
    "duration": 161,
    "start_time": "2023-05-04T18:59:34.375Z"
   },
   {
    "duration": 9,
    "start_time": "2023-05-04T18:59:34.538Z"
   },
   {
    "duration": 164,
    "start_time": "2023-05-04T18:59:34.558Z"
   },
   {
    "duration": 126,
    "start_time": "2023-05-04T18:59:34.724Z"
   },
   {
    "duration": 22,
    "start_time": "2023-05-04T18:59:49.729Z"
   },
   {
    "duration": 43,
    "start_time": "2023-05-04T18:59:55.749Z"
   },
   {
    "duration": 38,
    "start_time": "2023-05-04T19:01:21.489Z"
   },
   {
    "duration": 4,
    "start_time": "2023-05-04T19:08:53.147Z"
   },
   {
    "duration": 8,
    "start_time": "2023-05-04T19:08:56.522Z"
   },
   {
    "duration": 16,
    "start_time": "2023-05-04T19:09:06.398Z"
   },
   {
    "duration": 14,
    "start_time": "2023-05-04T19:14:24.085Z"
   },
   {
    "duration": 325,
    "start_time": "2023-05-04T19:22:25.854Z"
   },
   {
    "duration": 258,
    "start_time": "2023-05-04T19:26:40.746Z"
   },
   {
    "duration": 228,
    "start_time": "2023-05-04T19:28:45.966Z"
   },
   {
    "duration": 45,
    "start_time": "2023-05-05T11:32:38.340Z"
   },
   {
    "duration": 1159,
    "start_time": "2023-05-05T11:32:45.434Z"
   },
   {
    "duration": 316,
    "start_time": "2023-05-05T11:32:46.595Z"
   },
   {
    "duration": 12,
    "start_time": "2023-05-05T11:32:46.912Z"
   },
   {
    "duration": 20,
    "start_time": "2023-05-05T11:32:46.925Z"
   },
   {
    "duration": 12,
    "start_time": "2023-05-05T11:32:46.946Z"
   },
   {
    "duration": 7,
    "start_time": "2023-05-05T11:32:46.959Z"
   },
   {
    "duration": 8,
    "start_time": "2023-05-05T11:32:46.968Z"
   },
   {
    "duration": 11,
    "start_time": "2023-05-05T11:32:46.978Z"
   },
   {
    "duration": 12,
    "start_time": "2023-05-05T11:32:46.991Z"
   },
   {
    "duration": 20,
    "start_time": "2023-05-05T11:32:47.006Z"
   },
   {
    "duration": 9,
    "start_time": "2023-05-05T11:32:47.027Z"
   },
   {
    "duration": 6,
    "start_time": "2023-05-05T11:32:47.038Z"
   },
   {
    "duration": 8,
    "start_time": "2023-05-05T11:32:47.046Z"
   },
   {
    "duration": 7,
    "start_time": "2023-05-05T11:32:47.056Z"
   },
   {
    "duration": 140,
    "start_time": "2023-05-05T11:32:47.064Z"
   },
   {
    "duration": 5,
    "start_time": "2023-05-05T11:32:47.206Z"
   },
   {
    "duration": 117,
    "start_time": "2023-05-05T11:32:47.212Z"
   },
   {
    "duration": 6,
    "start_time": "2023-05-05T11:32:47.330Z"
   },
   {
    "duration": 119,
    "start_time": "2023-05-05T11:32:47.338Z"
   },
   {
    "duration": 13,
    "start_time": "2023-05-05T11:32:47.459Z"
   },
   {
    "duration": 133,
    "start_time": "2023-05-05T11:32:47.474Z"
   },
   {
    "duration": 8,
    "start_time": "2023-05-05T11:32:47.608Z"
   },
   {
    "duration": 120,
    "start_time": "2023-05-05T11:32:47.617Z"
   },
   {
    "duration": 22,
    "start_time": "2023-05-05T11:32:47.738Z"
   },
   {
    "duration": 18,
    "start_time": "2023-05-05T11:32:47.762Z"
   },
   {
    "duration": 163,
    "start_time": "2023-05-05T11:32:47.782Z"
   },
   {
    "duration": 158,
    "start_time": "2023-05-05T11:32:47.947Z"
   },
   {
    "duration": 7,
    "start_time": "2023-05-05T11:32:48.108Z"
   },
   {
    "duration": 12,
    "start_time": "2023-05-05T11:33:22.279Z"
   },
   {
    "duration": 18,
    "start_time": "2023-05-05T11:35:53.455Z"
   },
   {
    "duration": 19,
    "start_time": "2023-05-05T11:35:59.986Z"
   },
   {
    "duration": 54,
    "start_time": "2023-05-05T11:45:50.859Z"
   },
   {
    "duration": 48,
    "start_time": "2023-05-05T11:45:59.273Z"
   },
   {
    "duration": 55,
    "start_time": "2023-05-05T11:46:05.617Z"
   },
   {
    "duration": 66,
    "start_time": "2023-05-05T11:46:13.324Z"
   },
   {
    "duration": 49,
    "start_time": "2023-05-05T11:46:20.224Z"
   },
   {
    "duration": 104,
    "start_time": "2023-05-05T11:47:50.405Z"
   },
   {
    "duration": 8,
    "start_time": "2023-05-05T11:47:59.308Z"
   },
   {
    "duration": 12,
    "start_time": "2023-05-05T11:49:48.960Z"
   },
   {
    "duration": 13,
    "start_time": "2023-05-05T11:50:03.576Z"
   },
   {
    "duration": 14,
    "start_time": "2023-05-05T11:50:35.717Z"
   },
   {
    "duration": 14,
    "start_time": "2023-05-05T11:51:19.167Z"
   },
   {
    "duration": 13,
    "start_time": "2023-05-05T11:53:27.380Z"
   },
   {
    "duration": 13,
    "start_time": "2023-05-05T11:53:48.092Z"
   },
   {
    "duration": 14,
    "start_time": "2023-05-05T11:54:05.329Z"
   },
   {
    "duration": 14,
    "start_time": "2023-05-05T11:54:45.444Z"
   },
   {
    "duration": 14,
    "start_time": "2023-05-05T11:55:41.880Z"
   },
   {
    "duration": 13,
    "start_time": "2023-05-05T11:55:52.004Z"
   },
   {
    "duration": 13,
    "start_time": "2023-05-05T11:56:03.192Z"
   },
   {
    "duration": 266,
    "start_time": "2023-05-05T12:13:20.948Z"
   },
   {
    "duration": 329,
    "start_time": "2023-05-05T12:13:31.053Z"
   },
   {
    "duration": 14,
    "start_time": "2023-05-05T12:13:38.799Z"
   },
   {
    "duration": 14,
    "start_time": "2023-05-05T12:13:43.750Z"
   },
   {
    "duration": 225,
    "start_time": "2023-05-05T12:13:58.099Z"
   },
   {
    "duration": 16,
    "start_time": "2023-05-05T12:14:13.992Z"
   },
   {
    "duration": 14,
    "start_time": "2023-05-05T12:34:17.210Z"
   },
   {
    "duration": 14,
    "start_time": "2023-05-05T12:34:25.490Z"
   },
   {
    "duration": 13,
    "start_time": "2023-05-05T12:51:35.573Z"
   },
   {
    "duration": 41,
    "start_time": "2023-05-05T12:53:24.121Z"
   },
   {
    "duration": 46,
    "start_time": "2023-05-05T12:53:37.611Z"
   },
   {
    "duration": 2578,
    "start_time": "2023-05-05T12:59:59.763Z"
   },
   {
    "duration": 12,
    "start_time": "2023-05-05T13:02:56.832Z"
   },
   {
    "duration": 17,
    "start_time": "2023-05-05T13:03:41.296Z"
   },
   {
    "duration": 13,
    "start_time": "2023-05-05T13:03:49.160Z"
   },
   {
    "duration": 50,
    "start_time": "2023-05-05T13:04:12.420Z"
   },
   {
    "duration": 19,
    "start_time": "2023-05-05T13:04:49.911Z"
   },
   {
    "duration": 27,
    "start_time": "2023-05-05T13:07:01.073Z"
   },
   {
    "duration": 44,
    "start_time": "2023-05-05T13:09:36.479Z"
   },
   {
    "duration": 15,
    "start_time": "2023-05-05T13:11:16.929Z"
   },
   {
    "duration": 18,
    "start_time": "2023-05-05T13:11:27.071Z"
   },
   {
    "duration": 3,
    "start_time": "2023-05-05T13:11:38.614Z"
   },
   {
    "duration": 8,
    "start_time": "2023-05-05T13:11:45.502Z"
   },
   {
    "duration": 8,
    "start_time": "2023-05-05T13:11:52.907Z"
   },
   {
    "duration": 14,
    "start_time": "2023-05-05T13:12:05.811Z"
   },
   {
    "duration": 8,
    "start_time": "2023-05-05T13:12:15.079Z"
   },
   {
    "duration": 21,
    "start_time": "2023-05-05T13:14:27.595Z"
   },
   {
    "duration": 36,
    "start_time": "2023-05-05T13:14:34.807Z"
   },
   {
    "duration": 12,
    "start_time": "2023-05-05T13:14:51.335Z"
   },
   {
    "duration": 22,
    "start_time": "2023-05-05T13:14:55.475Z"
   },
   {
    "duration": 17,
    "start_time": "2023-05-05T13:15:05.187Z"
   },
   {
    "duration": 29,
    "start_time": "2023-05-05T13:16:27.494Z"
   },
   {
    "duration": 26,
    "start_time": "2023-05-05T13:16:29.566Z"
   },
   {
    "duration": 35,
    "start_time": "2023-05-05T13:16:38.484Z"
   },
   {
    "duration": 25,
    "start_time": "2023-05-05T13:16:40.707Z"
   },
   {
    "duration": 25,
    "start_time": "2023-05-05T13:16:46.499Z"
   },
   {
    "duration": 41,
    "start_time": "2023-05-05T13:18:44.261Z"
   },
   {
    "duration": 45,
    "start_time": "2023-05-05T13:19:02.899Z"
   },
   {
    "duration": 998,
    "start_time": "2023-05-05T13:19:33.683Z"
   },
   {
    "duration": 310,
    "start_time": "2023-05-05T13:19:34.682Z"
   },
   {
    "duration": 11,
    "start_time": "2023-05-05T13:19:34.994Z"
   },
   {
    "duration": 8,
    "start_time": "2023-05-05T13:19:35.006Z"
   },
   {
    "duration": 7,
    "start_time": "2023-05-05T13:19:35.016Z"
   },
   {
    "duration": 8,
    "start_time": "2023-05-05T13:19:35.024Z"
   },
   {
    "duration": 10,
    "start_time": "2023-05-05T13:19:35.033Z"
   },
   {
    "duration": 5,
    "start_time": "2023-05-05T13:19:35.045Z"
   },
   {
    "duration": 11,
    "start_time": "2023-05-05T13:19:35.052Z"
   },
   {
    "duration": 14,
    "start_time": "2023-05-05T13:19:35.065Z"
   },
   {
    "duration": 13,
    "start_time": "2023-05-05T13:19:35.081Z"
   },
   {
    "duration": 12,
    "start_time": "2023-05-05T13:19:35.097Z"
   },
   {
    "duration": 9,
    "start_time": "2023-05-05T13:19:35.110Z"
   },
   {
    "duration": 5,
    "start_time": "2023-05-05T13:19:35.122Z"
   },
   {
    "duration": 145,
    "start_time": "2023-05-05T13:19:35.129Z"
   },
   {
    "duration": 6,
    "start_time": "2023-05-05T13:19:35.275Z"
   },
   {
    "duration": 113,
    "start_time": "2023-05-05T13:19:35.283Z"
   },
   {
    "duration": 8,
    "start_time": "2023-05-05T13:19:35.398Z"
   },
   {
    "duration": 126,
    "start_time": "2023-05-05T13:19:35.408Z"
   },
   {
    "duration": 7,
    "start_time": "2023-05-05T13:19:35.536Z"
   },
   {
    "duration": 133,
    "start_time": "2023-05-05T13:19:35.544Z"
   },
   {
    "duration": 9,
    "start_time": "2023-05-05T13:19:35.679Z"
   },
   {
    "duration": 145,
    "start_time": "2023-05-05T13:19:35.690Z"
   },
   {
    "duration": 37,
    "start_time": "2023-05-05T13:19:35.836Z"
   },
   {
    "duration": 8,
    "start_time": "2023-05-05T13:19:35.874Z"
   },
   {
    "duration": 220,
    "start_time": "2023-05-05T13:19:35.883Z"
   },
   {
    "duration": 189,
    "start_time": "2023-05-05T13:19:36.104Z"
   },
   {
    "duration": 15,
    "start_time": "2023-05-05T13:19:36.295Z"
   },
   {
    "duration": 65,
    "start_time": "2023-05-05T13:19:36.312Z"
   },
   {
    "duration": 2585,
    "start_time": "2023-05-05T13:20:11.721Z"
   },
   {
    "duration": 47,
    "start_time": "2023-05-05T13:20:32.411Z"
   },
   {
    "duration": 1163,
    "start_time": "2023-05-05T13:20:47.945Z"
   },
   {
    "duration": 303,
    "start_time": "2023-05-05T13:20:49.110Z"
   },
   {
    "duration": 11,
    "start_time": "2023-05-05T13:20:49.414Z"
   },
   {
    "duration": 20,
    "start_time": "2023-05-05T13:20:49.427Z"
   },
   {
    "duration": 14,
    "start_time": "2023-05-05T13:20:49.448Z"
   },
   {
    "duration": 20,
    "start_time": "2023-05-05T13:20:49.463Z"
   },
   {
    "duration": 21,
    "start_time": "2023-05-05T13:20:49.485Z"
   },
   {
    "duration": 14,
    "start_time": "2023-05-05T13:20:49.508Z"
   },
   {
    "duration": 24,
    "start_time": "2023-05-05T13:20:49.524Z"
   },
   {
    "duration": 9,
    "start_time": "2023-05-05T13:20:49.552Z"
   },
   {
    "duration": 7,
    "start_time": "2023-05-05T13:20:49.563Z"
   },
   {
    "duration": 31,
    "start_time": "2023-05-05T13:20:49.571Z"
   },
   {
    "duration": 27,
    "start_time": "2023-05-05T13:20:49.604Z"
   },
   {
    "duration": 27,
    "start_time": "2023-05-05T13:20:49.632Z"
   },
   {
    "duration": 140,
    "start_time": "2023-05-05T13:20:49.661Z"
   },
   {
    "duration": 5,
    "start_time": "2023-05-05T13:20:49.803Z"
   },
   {
    "duration": 131,
    "start_time": "2023-05-05T13:20:49.810Z"
   },
   {
    "duration": 6,
    "start_time": "2023-05-05T13:20:49.942Z"
   },
   {
    "duration": 124,
    "start_time": "2023-05-05T13:20:49.950Z"
   },
   {
    "duration": 8,
    "start_time": "2023-05-05T13:20:50.075Z"
   },
   {
    "duration": 118,
    "start_time": "2023-05-05T13:20:50.084Z"
   },
   {
    "duration": 8,
    "start_time": "2023-05-05T13:20:50.203Z"
   },
   {
    "duration": 149,
    "start_time": "2023-05-05T13:20:50.214Z"
   },
   {
    "duration": 27,
    "start_time": "2023-05-05T13:20:50.364Z"
   },
   {
    "duration": 12,
    "start_time": "2023-05-05T13:20:50.392Z"
   },
   {
    "duration": 172,
    "start_time": "2023-05-05T13:20:50.406Z"
   },
   {
    "duration": 165,
    "start_time": "2023-05-05T13:20:50.580Z"
   },
   {
    "duration": 33,
    "start_time": "2023-05-05T13:20:50.748Z"
   },
   {
    "duration": 28,
    "start_time": "2023-05-05T13:20:50.783Z"
   },
   {
    "duration": 42,
    "start_time": "2023-05-05T13:20:50.813Z"
   },
   {
    "duration": 186,
    "start_time": "2023-05-05T13:21:07.613Z"
   },
   {
    "duration": 199,
    "start_time": "2023-05-05T13:21:21.934Z"
   },
   {
    "duration": 139,
    "start_time": "2023-05-05T13:21:33.765Z"
   },
   {
    "duration": 4,
    "start_time": "2023-05-05T13:40:18.402Z"
   },
   {
    "duration": 6,
    "start_time": "2023-05-05T13:40:22.642Z"
   },
   {
    "duration": 5,
    "start_time": "2023-05-05T13:40:55.730Z"
   },
   {
    "duration": 5,
    "start_time": "2023-05-05T13:53:38.764Z"
   },
   {
    "duration": 6,
    "start_time": "2023-05-05T13:54:32.960Z"
   },
   {
    "duration": 5,
    "start_time": "2023-05-05T13:54:35.300Z"
   },
   {
    "duration": 5,
    "start_time": "2023-05-05T13:58:00.350Z"
   },
   {
    "duration": 4,
    "start_time": "2023-05-05T13:58:19.611Z"
   },
   {
    "duration": 99,
    "start_time": "2023-05-05T14:05:04.858Z"
   },
   {
    "duration": 5,
    "start_time": "2023-05-05T14:05:41.030Z"
   },
   {
    "duration": 5,
    "start_time": "2023-05-05T14:07:07.018Z"
   },
   {
    "duration": 5,
    "start_time": "2023-05-05T14:16:10.465Z"
   },
   {
    "duration": 7,
    "start_time": "2023-05-05T14:19:53.833Z"
   },
   {
    "duration": 7,
    "start_time": "2023-05-05T14:20:09.909Z"
   },
   {
    "duration": 4,
    "start_time": "2023-05-05T14:20:13.232Z"
   },
   {
    "duration": 5,
    "start_time": "2023-05-05T14:21:49.712Z"
   },
   {
    "duration": 5,
    "start_time": "2023-05-05T14:24:23.030Z"
   },
   {
    "duration": 1128,
    "start_time": "2023-05-05T14:49:23.728Z"
   },
   {
    "duration": 1606,
    "start_time": "2023-05-05T14:50:04.897Z"
   },
   {
    "duration": 175,
    "start_time": "2023-05-05T14:50:20.336Z"
   },
   {
    "duration": 149,
    "start_time": "2023-05-05T14:50:33.640Z"
   },
   {
    "duration": 3846,
    "start_time": "2023-05-05T14:50:58.509Z"
   },
   {
    "duration": 997,
    "start_time": "2023-05-05T14:51:37.891Z"
   },
   {
    "duration": 319,
    "start_time": "2023-05-05T14:51:38.889Z"
   },
   {
    "duration": 12,
    "start_time": "2023-05-05T14:51:39.209Z"
   },
   {
    "duration": 7,
    "start_time": "2023-05-05T14:51:39.224Z"
   },
   {
    "duration": 11,
    "start_time": "2023-05-05T14:51:39.233Z"
   },
   {
    "duration": 10,
    "start_time": "2023-05-05T14:51:39.246Z"
   },
   {
    "duration": 5,
    "start_time": "2023-05-05T14:51:39.257Z"
   },
   {
    "duration": 5,
    "start_time": "2023-05-05T14:51:39.264Z"
   },
   {
    "duration": 8,
    "start_time": "2023-05-05T14:51:39.271Z"
   },
   {
    "duration": 7,
    "start_time": "2023-05-05T14:51:39.281Z"
   },
   {
    "duration": 5,
    "start_time": "2023-05-05T14:51:39.289Z"
   },
   {
    "duration": 7,
    "start_time": "2023-05-05T14:51:39.295Z"
   },
   {
    "duration": 6,
    "start_time": "2023-05-05T14:51:39.303Z"
   },
   {
    "duration": 8,
    "start_time": "2023-05-05T14:51:39.311Z"
   },
   {
    "duration": 153,
    "start_time": "2023-05-05T14:51:39.320Z"
   },
   {
    "duration": 5,
    "start_time": "2023-05-05T14:51:39.474Z"
   },
   {
    "duration": 114,
    "start_time": "2023-05-05T14:51:39.480Z"
   },
   {
    "duration": 6,
    "start_time": "2023-05-05T14:51:39.596Z"
   },
   {
    "duration": 140,
    "start_time": "2023-05-05T14:51:39.603Z"
   },
   {
    "duration": 8,
    "start_time": "2023-05-05T14:51:39.745Z"
   },
   {
    "duration": 119,
    "start_time": "2023-05-05T14:51:39.754Z"
   },
   {
    "duration": 8,
    "start_time": "2023-05-05T14:51:39.875Z"
   },
   {
    "duration": 120,
    "start_time": "2023-05-05T14:51:39.884Z"
   },
   {
    "duration": 21,
    "start_time": "2023-05-05T14:51:40.006Z"
   },
   {
    "duration": 8,
    "start_time": "2023-05-05T14:51:40.029Z"
   },
   {
    "duration": 173,
    "start_time": "2023-05-05T14:51:40.038Z"
   },
   {
    "duration": 155,
    "start_time": "2023-05-05T14:51:40.212Z"
   },
   {
    "duration": 15,
    "start_time": "2023-05-05T14:51:40.372Z"
   },
   {
    "duration": 20,
    "start_time": "2023-05-05T14:51:40.388Z"
   },
   {
    "duration": 34,
    "start_time": "2023-05-05T14:51:40.410Z"
   },
   {
    "duration": 28,
    "start_time": "2023-05-05T14:51:40.446Z"
   },
   {
    "duration": 10,
    "start_time": "2023-05-05T14:51:40.475Z"
   },
   {
    "duration": 175,
    "start_time": "2023-05-05T14:51:40.486Z"
   },
   {
    "duration": 3685,
    "start_time": "2023-05-05T14:52:00.282Z"
   },
   {
    "duration": 1039,
    "start_time": "2023-05-05T14:52:17.545Z"
   },
   {
    "duration": 68,
    "start_time": "2023-05-05T14:52:18.586Z"
   },
   {
    "duration": 12,
    "start_time": "2023-05-05T14:52:18.656Z"
   },
   {
    "duration": 14,
    "start_time": "2023-05-05T14:52:18.670Z"
   },
   {
    "duration": 16,
    "start_time": "2023-05-05T14:52:18.686Z"
   },
   {
    "duration": 20,
    "start_time": "2023-05-05T14:52:18.704Z"
   },
   {
    "duration": 8,
    "start_time": "2023-05-05T14:52:18.726Z"
   },
   {
    "duration": 10,
    "start_time": "2023-05-05T14:52:18.736Z"
   },
   {
    "duration": 10,
    "start_time": "2023-05-05T14:52:18.748Z"
   },
   {
    "duration": 14,
    "start_time": "2023-05-05T14:52:18.761Z"
   },
   {
    "duration": 5,
    "start_time": "2023-05-05T14:52:18.777Z"
   },
   {
    "duration": 11,
    "start_time": "2023-05-05T14:52:18.783Z"
   },
   {
    "duration": 11,
    "start_time": "2023-05-05T14:52:18.796Z"
   },
   {
    "duration": 7,
    "start_time": "2023-05-05T14:52:18.809Z"
   },
   {
    "duration": 143,
    "start_time": "2023-05-05T14:52:18.818Z"
   },
   {
    "duration": 12,
    "start_time": "2023-05-05T14:52:18.963Z"
   },
   {
    "duration": 110,
    "start_time": "2023-05-05T14:52:18.976Z"
   },
   {
    "duration": 8,
    "start_time": "2023-05-05T14:52:19.088Z"
   },
   {
    "duration": 137,
    "start_time": "2023-05-05T14:52:19.097Z"
   },
   {
    "duration": 6,
    "start_time": "2023-05-05T14:52:19.236Z"
   },
   {
    "duration": 122,
    "start_time": "2023-05-05T14:52:19.244Z"
   },
   {
    "duration": 9,
    "start_time": "2023-05-05T14:52:19.368Z"
   },
   {
    "duration": 131,
    "start_time": "2023-05-05T14:52:19.378Z"
   },
   {
    "duration": 27,
    "start_time": "2023-05-05T14:52:19.510Z"
   },
   {
    "duration": 10,
    "start_time": "2023-05-05T14:52:19.539Z"
   },
   {
    "duration": 189,
    "start_time": "2023-05-05T14:52:19.551Z"
   },
   {
    "duration": 164,
    "start_time": "2023-05-05T14:52:19.742Z"
   },
   {
    "duration": 16,
    "start_time": "2023-05-05T14:52:19.909Z"
   },
   {
    "duration": 45,
    "start_time": "2023-05-05T14:52:19.927Z"
   },
   {
    "duration": 47,
    "start_time": "2023-05-05T14:52:19.974Z"
   },
   {
    "duration": 5,
    "start_time": "2023-05-05T14:52:20.024Z"
   },
   {
    "duration": 23,
    "start_time": "2023-05-05T14:52:20.031Z"
   },
   {
    "duration": 210,
    "start_time": "2023-05-05T14:52:20.056Z"
   },
   {
    "duration": 18,
    "start_time": "2023-05-05T14:57:11.828Z"
   },
   {
    "duration": 3,
    "start_time": "2023-05-05T14:57:49.852Z"
   },
   {
    "duration": 996,
    "start_time": "2023-05-05T14:58:23.395Z"
   },
   {
    "duration": 65,
    "start_time": "2023-05-05T14:58:24.393Z"
   },
   {
    "duration": 10,
    "start_time": "2023-05-05T14:58:24.459Z"
   },
   {
    "duration": 8,
    "start_time": "2023-05-05T14:58:24.471Z"
   },
   {
    "duration": 8,
    "start_time": "2023-05-05T14:58:24.480Z"
   },
   {
    "duration": 8,
    "start_time": "2023-05-05T14:58:24.489Z"
   },
   {
    "duration": 4,
    "start_time": "2023-05-05T14:58:24.499Z"
   },
   {
    "duration": 6,
    "start_time": "2023-05-05T14:58:24.504Z"
   },
   {
    "duration": 9,
    "start_time": "2023-05-05T14:58:24.511Z"
   },
   {
    "duration": 7,
    "start_time": "2023-05-05T14:58:24.522Z"
   },
   {
    "duration": 4,
    "start_time": "2023-05-05T14:58:24.530Z"
   },
   {
    "duration": 6,
    "start_time": "2023-05-05T14:58:24.535Z"
   },
   {
    "duration": 6,
    "start_time": "2023-05-05T14:58:24.571Z"
   },
   {
    "duration": 4,
    "start_time": "2023-05-05T14:58:24.579Z"
   },
   {
    "duration": 131,
    "start_time": "2023-05-05T14:58:24.584Z"
   },
   {
    "duration": 5,
    "start_time": "2023-05-05T14:58:24.717Z"
   },
   {
    "duration": 109,
    "start_time": "2023-05-05T14:58:24.723Z"
   },
   {
    "duration": 7,
    "start_time": "2023-05-05T14:58:24.834Z"
   },
   {
    "duration": 117,
    "start_time": "2023-05-05T14:58:24.842Z"
   },
   {
    "duration": 13,
    "start_time": "2023-05-05T14:58:24.961Z"
   },
   {
    "duration": 118,
    "start_time": "2023-05-05T14:58:24.975Z"
   },
   {
    "duration": 8,
    "start_time": "2023-05-05T14:58:25.094Z"
   },
   {
    "duration": 121,
    "start_time": "2023-05-05T14:58:25.103Z"
   },
   {
    "duration": 22,
    "start_time": "2023-05-05T14:58:25.225Z"
   },
   {
    "duration": 8,
    "start_time": "2023-05-05T14:58:25.248Z"
   },
   {
    "duration": 167,
    "start_time": "2023-05-05T14:58:25.258Z"
   },
   {
    "duration": 162,
    "start_time": "2023-05-05T14:58:25.427Z"
   },
   {
    "duration": 15,
    "start_time": "2023-05-05T14:58:25.593Z"
   },
   {
    "duration": 2,
    "start_time": "2023-05-05T14:58:25.609Z"
   },
   {
    "duration": 5,
    "start_time": "2023-05-05T14:58:38.130Z"
   },
   {
    "duration": 1182,
    "start_time": "2023-05-05T15:01:19.615Z"
   },
   {
    "duration": 65,
    "start_time": "2023-05-05T15:01:20.799Z"
   },
   {
    "duration": 12,
    "start_time": "2023-05-05T15:01:20.866Z"
   },
   {
    "duration": 6,
    "start_time": "2023-05-05T15:01:20.880Z"
   },
   {
    "duration": 7,
    "start_time": "2023-05-05T15:01:20.888Z"
   },
   {
    "duration": 8,
    "start_time": "2023-05-05T15:01:20.896Z"
   },
   {
    "duration": 6,
    "start_time": "2023-05-05T15:01:20.905Z"
   },
   {
    "duration": 22,
    "start_time": "2023-05-05T15:01:20.912Z"
   },
   {
    "duration": 8,
    "start_time": "2023-05-05T15:01:20.936Z"
   },
   {
    "duration": 7,
    "start_time": "2023-05-05T15:01:20.946Z"
   },
   {
    "duration": 17,
    "start_time": "2023-05-05T15:01:20.955Z"
   },
   {
    "duration": 8,
    "start_time": "2023-05-05T15:01:20.974Z"
   },
   {
    "duration": 12,
    "start_time": "2023-05-05T15:01:20.983Z"
   },
   {
    "duration": 11,
    "start_time": "2023-05-05T15:01:20.997Z"
   },
   {
    "duration": 138,
    "start_time": "2023-05-05T15:01:21.010Z"
   },
   {
    "duration": 4,
    "start_time": "2023-05-05T15:01:21.150Z"
   },
   {
    "duration": 103,
    "start_time": "2023-05-05T15:01:21.155Z"
   },
   {
    "duration": 14,
    "start_time": "2023-05-05T15:01:21.260Z"
   },
   {
    "duration": 125,
    "start_time": "2023-05-05T15:01:21.276Z"
   },
   {
    "duration": 7,
    "start_time": "2023-05-05T15:01:21.402Z"
   },
   {
    "duration": 118,
    "start_time": "2023-05-05T15:01:21.410Z"
   },
   {
    "duration": 8,
    "start_time": "2023-05-05T15:01:21.530Z"
   },
   {
    "duration": 133,
    "start_time": "2023-05-05T15:01:21.539Z"
   },
   {
    "duration": 29,
    "start_time": "2023-05-05T15:01:21.674Z"
   },
   {
    "duration": 10,
    "start_time": "2023-05-05T15:01:21.705Z"
   },
   {
    "duration": 200,
    "start_time": "2023-05-05T15:01:21.716Z"
   },
   {
    "duration": 176,
    "start_time": "2023-05-05T15:01:21.918Z"
   },
   {
    "duration": 3,
    "start_time": "2023-05-05T15:01:22.096Z"
   },
   {
    "duration": 20,
    "start_time": "2023-05-05T15:01:22.100Z"
   },
   {
    "duration": 23,
    "start_time": "2023-05-05T15:01:22.121Z"
   },
   {
    "duration": 18,
    "start_time": "2023-05-05T15:01:22.145Z"
   },
   {
    "duration": 6,
    "start_time": "2023-05-05T15:01:22.165Z"
   },
   {
    "duration": 23,
    "start_time": "2023-05-05T15:01:22.172Z"
   },
   {
    "duration": 5,
    "start_time": "2023-05-05T15:01:22.196Z"
   },
   {
    "duration": 25,
    "start_time": "2023-05-05T15:01:22.203Z"
   },
   {
    "duration": 172,
    "start_time": "2023-05-05T15:01:22.229Z"
   },
   {
    "duration": 8,
    "start_time": "2023-05-05T15:01:43.495Z"
   },
   {
    "duration": 47,
    "start_time": "2023-05-05T15:03:02.011Z"
   },
   {
    "duration": 1007,
    "start_time": "2023-05-05T15:03:08.842Z"
   },
   {
    "duration": 217,
    "start_time": "2023-05-05T15:03:22.015Z"
   },
   {
    "duration": 16,
    "start_time": "2023-05-05T15:04:41.694Z"
   },
   {
    "duration": 5,
    "start_time": "2023-05-05T15:04:48.946Z"
   },
   {
    "duration": 17,
    "start_time": "2023-05-05T15:04:54.622Z"
   },
   {
    "duration": 8,
    "start_time": "2023-05-05T15:04:55.926Z"
   },
   {
    "duration": 15,
    "start_time": "2023-05-05T15:08:25.626Z"
   },
   {
    "duration": 4,
    "start_time": "2023-05-05T15:08:53.357Z"
   },
   {
    "duration": 17,
    "start_time": "2023-05-05T15:08:55.389Z"
   },
   {
    "duration": 15,
    "start_time": "2023-05-05T15:10:46.658Z"
   },
   {
    "duration": 5,
    "start_time": "2023-05-05T15:16:49.340Z"
   },
   {
    "duration": 1216,
    "start_time": "2023-05-05T15:20:53.278Z"
   },
   {
    "duration": 65,
    "start_time": "2023-05-05T15:20:54.496Z"
   },
   {
    "duration": 12,
    "start_time": "2023-05-05T15:20:54.562Z"
   },
   {
    "duration": 8,
    "start_time": "2023-05-05T15:20:54.576Z"
   },
   {
    "duration": 14,
    "start_time": "2023-05-05T15:20:54.585Z"
   },
   {
    "duration": 26,
    "start_time": "2023-05-05T15:20:54.600Z"
   },
   {
    "duration": 10,
    "start_time": "2023-05-05T15:20:54.627Z"
   },
   {
    "duration": 25,
    "start_time": "2023-05-05T15:20:54.639Z"
   },
   {
    "duration": 6,
    "start_time": "2023-05-05T15:20:54.666Z"
   },
   {
    "duration": 16,
    "start_time": "2023-05-05T15:20:54.674Z"
   },
   {
    "duration": 4,
    "start_time": "2023-05-05T15:20:54.692Z"
   },
   {
    "duration": 8,
    "start_time": "2023-05-05T15:20:54.697Z"
   },
   {
    "duration": 18,
    "start_time": "2023-05-05T15:20:54.706Z"
   },
   {
    "duration": 22,
    "start_time": "2023-05-05T15:20:54.726Z"
   },
   {
    "duration": 125,
    "start_time": "2023-05-05T15:20:54.750Z"
   },
   {
    "duration": 6,
    "start_time": "2023-05-05T15:20:54.876Z"
   },
   {
    "duration": 120,
    "start_time": "2023-05-05T15:20:54.883Z"
   },
   {
    "duration": 14,
    "start_time": "2023-05-05T15:20:55.004Z"
   },
   {
    "duration": 124,
    "start_time": "2023-05-05T15:20:55.020Z"
   },
   {
    "duration": 8,
    "start_time": "2023-05-05T15:20:55.145Z"
   },
   {
    "duration": 119,
    "start_time": "2023-05-05T15:20:55.154Z"
   },
   {
    "duration": 7,
    "start_time": "2023-05-05T15:20:55.275Z"
   },
   {
    "duration": 119,
    "start_time": "2023-05-05T15:20:55.284Z"
   },
   {
    "duration": 24,
    "start_time": "2023-05-05T15:20:55.404Z"
   },
   {
    "duration": 4,
    "start_time": "2023-05-05T15:20:55.429Z"
   },
   {
    "duration": 12,
    "start_time": "2023-05-05T15:20:55.434Z"
   },
   {
    "duration": 171,
    "start_time": "2023-05-05T15:20:55.447Z"
   },
   {
    "duration": 172,
    "start_time": "2023-05-05T15:20:55.621Z"
   },
   {
    "duration": 17,
    "start_time": "2023-05-05T15:20:55.795Z"
   },
   {
    "duration": 8,
    "start_time": "2023-05-05T15:20:55.814Z"
   },
   {
    "duration": 20,
    "start_time": "2023-05-05T15:20:55.824Z"
   },
   {
    "duration": 4,
    "start_time": "2023-05-05T15:47:54.467Z"
   },
   {
    "duration": 4,
    "start_time": "2023-05-05T15:56:25.022Z"
   },
   {
    "duration": 5,
    "start_time": "2023-05-05T15:57:45.128Z"
   },
   {
    "duration": 4,
    "start_time": "2023-05-05T15:58:09.128Z"
   },
   {
    "duration": 6,
    "start_time": "2023-05-05T16:06:46.467Z"
   },
   {
    "duration": 49,
    "start_time": "2023-05-05T16:08:48.067Z"
   },
   {
    "duration": 12,
    "start_time": "2023-05-05T16:08:52.034Z"
   },
   {
    "duration": 23,
    "start_time": "2023-05-05T16:38:39.988Z"
   },
   {
    "duration": 33,
    "start_time": "2023-05-05T16:45:18.971Z"
   },
   {
    "duration": 33,
    "start_time": "2023-05-05T16:45:41.851Z"
   },
   {
    "duration": 40,
    "start_time": "2023-05-05T16:46:26.523Z"
   },
   {
    "duration": 4,
    "start_time": "2023-05-05T16:57:44.623Z"
   },
   {
    "duration": 1147,
    "start_time": "2023-05-05T17:01:05.246Z"
   },
   {
    "duration": 719,
    "start_time": "2023-05-05T17:03:45.146Z"
   },
   {
    "duration": 1551,
    "start_time": "2023-05-05T17:04:02.359Z"
   },
   {
    "duration": 26,
    "start_time": "2023-05-05T17:05:28.102Z"
   },
   {
    "duration": 36,
    "start_time": "2023-05-05T17:05:34.211Z"
   },
   {
    "duration": 39,
    "start_time": "2023-05-05T17:06:32.751Z"
   },
   {
    "duration": 27,
    "start_time": "2023-05-05T17:07:05.108Z"
   },
   {
    "duration": 35,
    "start_time": "2023-05-05T17:07:42.102Z"
   },
   {
    "duration": 1043,
    "start_time": "2023-05-05T17:08:21.818Z"
   },
   {
    "duration": 988,
    "start_time": "2023-05-05T17:08:32.654Z"
   },
   {
    "duration": 7,
    "start_time": "2023-05-05T17:09:02.051Z"
   },
   {
    "duration": 5,
    "start_time": "2023-05-05T17:09:20.189Z"
   },
   {
    "duration": 5,
    "start_time": "2023-05-05T17:09:48.250Z"
   },
   {
    "duration": 7,
    "start_time": "2023-05-05T17:10:30.391Z"
   },
   {
    "duration": 84,
    "start_time": "2023-05-05T17:11:28.714Z"
   },
   {
    "duration": 75,
    "start_time": "2023-05-05T17:17:39.718Z"
   },
   {
    "duration": 20,
    "start_time": "2023-05-05T17:19:35.837Z"
   },
   {
    "duration": 35,
    "start_time": "2023-05-05T17:26:06.453Z"
   },
   {
    "duration": 47,
    "start_time": "2023-05-05T17:26:12.349Z"
   },
   {
    "duration": 14,
    "start_time": "2023-05-05T17:27:02.401Z"
   },
   {
    "duration": 22,
    "start_time": "2023-05-05T17:27:11.701Z"
   },
   {
    "duration": 45,
    "start_time": "2023-05-05T17:27:20.974Z"
   },
   {
    "duration": 28,
    "start_time": "2023-05-05T17:31:14.696Z"
   },
   {
    "duration": 22,
    "start_time": "2023-05-05T17:31:23.792Z"
   },
   {
    "duration": 46,
    "start_time": "2023-05-05T17:32:48.870Z"
   },
   {
    "duration": 24,
    "start_time": "2023-05-05T17:33:00.769Z"
   },
   {
    "duration": 42,
    "start_time": "2023-05-05T17:35:56.861Z"
   },
   {
    "duration": 1323,
    "start_time": "2023-05-05T17:36:05.292Z"
   },
   {
    "duration": 1218,
    "start_time": "2023-05-05T17:36:24.744Z"
   },
   {
    "duration": 468,
    "start_time": "2023-05-05T17:36:25.968Z"
   },
   {
    "duration": 12,
    "start_time": "2023-05-05T17:36:26.438Z"
   },
   {
    "duration": 12,
    "start_time": "2023-05-05T17:36:26.452Z"
   },
   {
    "duration": 64,
    "start_time": "2023-05-05T17:36:26.466Z"
   },
   {
    "duration": 21,
    "start_time": "2023-05-05T17:36:26.532Z"
   },
   {
    "duration": 9,
    "start_time": "2023-05-05T17:36:26.554Z"
   },
   {
    "duration": 12,
    "start_time": "2023-05-05T17:36:26.565Z"
   },
   {
    "duration": 40,
    "start_time": "2023-05-05T17:36:26.585Z"
   },
   {
    "duration": 8,
    "start_time": "2023-05-05T17:36:26.627Z"
   },
   {
    "duration": 5,
    "start_time": "2023-05-05T17:36:26.637Z"
   },
   {
    "duration": 10,
    "start_time": "2023-05-05T17:36:26.644Z"
   },
   {
    "duration": 11,
    "start_time": "2023-05-05T17:36:26.655Z"
   },
   {
    "duration": 51,
    "start_time": "2023-05-05T17:36:26.668Z"
   },
   {
    "duration": 139,
    "start_time": "2023-05-05T17:36:26.721Z"
   },
   {
    "duration": 6,
    "start_time": "2023-05-05T17:36:26.861Z"
   },
   {
    "duration": 120,
    "start_time": "2023-05-05T17:36:26.868Z"
   },
   {
    "duration": 7,
    "start_time": "2023-05-05T17:36:26.990Z"
   },
   {
    "duration": 151,
    "start_time": "2023-05-05T17:36:26.998Z"
   },
   {
    "duration": 7,
    "start_time": "2023-05-05T17:36:27.151Z"
   },
   {
    "duration": 153,
    "start_time": "2023-05-05T17:36:27.159Z"
   },
   {
    "duration": 10,
    "start_time": "2023-05-05T17:36:27.314Z"
   },
   {
    "duration": 128,
    "start_time": "2023-05-05T17:36:27.326Z"
   },
   {
    "duration": 36,
    "start_time": "2023-05-05T17:36:27.455Z"
   },
   {
    "duration": 10,
    "start_time": "2023-05-05T17:36:27.492Z"
   },
   {
    "duration": 201,
    "start_time": "2023-05-05T17:36:27.504Z"
   },
   {
    "duration": 192,
    "start_time": "2023-05-05T17:36:27.708Z"
   },
   {
    "duration": 19,
    "start_time": "2023-05-05T17:36:27.902Z"
   },
   {
    "duration": 108,
    "start_time": "2023-05-05T17:36:27.922Z"
   },
   {
    "duration": 181,
    "start_time": "2023-05-05T17:36:28.031Z"
   },
   {
    "duration": 1,
    "start_time": "2023-05-05T17:36:28.213Z"
   },
   {
    "duration": 0,
    "start_time": "2023-05-05T17:36:28.215Z"
   },
   {
    "duration": 0,
    "start_time": "2023-05-05T17:36:28.216Z"
   },
   {
    "duration": 0,
    "start_time": "2023-05-05T17:36:28.218Z"
   },
   {
    "duration": 23,
    "start_time": "2023-05-05T17:36:56.971Z"
   },
   {
    "duration": 1094,
    "start_time": "2023-05-05T17:37:22.168Z"
   },
   {
    "duration": 81,
    "start_time": "2023-05-05T17:37:23.265Z"
   },
   {
    "duration": 11,
    "start_time": "2023-05-05T17:37:23.348Z"
   },
   {
    "duration": 7,
    "start_time": "2023-05-05T17:37:23.361Z"
   },
   {
    "duration": 35,
    "start_time": "2023-05-05T17:37:23.370Z"
   },
   {
    "duration": 7,
    "start_time": "2023-05-05T17:37:23.407Z"
   },
   {
    "duration": 4,
    "start_time": "2023-05-05T17:37:23.415Z"
   },
   {
    "duration": 5,
    "start_time": "2023-05-05T17:37:23.421Z"
   },
   {
    "duration": 8,
    "start_time": "2023-05-05T17:37:23.427Z"
   },
   {
    "duration": 7,
    "start_time": "2023-05-05T17:37:23.437Z"
   },
   {
    "duration": 4,
    "start_time": "2023-05-05T17:37:23.446Z"
   },
   {
    "duration": 7,
    "start_time": "2023-05-05T17:37:23.452Z"
   },
   {
    "duration": 16,
    "start_time": "2023-05-05T17:37:23.460Z"
   },
   {
    "duration": 8,
    "start_time": "2023-05-05T17:37:23.477Z"
   },
   {
    "duration": 150,
    "start_time": "2023-05-05T17:37:23.486Z"
   },
   {
    "duration": 5,
    "start_time": "2023-05-05T17:37:23.638Z"
   },
   {
    "duration": 125,
    "start_time": "2023-05-05T17:37:23.644Z"
   },
   {
    "duration": 32,
    "start_time": "2023-05-05T17:37:23.771Z"
   },
   {
    "duration": 131,
    "start_time": "2023-05-05T17:37:23.804Z"
   },
   {
    "duration": 7,
    "start_time": "2023-05-05T17:37:23.937Z"
   },
   {
    "duration": 135,
    "start_time": "2023-05-05T17:37:23.946Z"
   },
   {
    "duration": 10,
    "start_time": "2023-05-05T17:37:24.083Z"
   },
   {
    "duration": 129,
    "start_time": "2023-05-05T17:37:24.095Z"
   },
   {
    "duration": 25,
    "start_time": "2023-05-05T17:37:24.226Z"
   },
   {
    "duration": 9,
    "start_time": "2023-05-05T17:37:24.252Z"
   },
   {
    "duration": 174,
    "start_time": "2023-05-05T17:37:24.262Z"
   },
   {
    "duration": 179,
    "start_time": "2023-05-05T17:37:24.438Z"
   },
   {
    "duration": 16,
    "start_time": "2023-05-05T17:37:24.620Z"
   },
   {
    "duration": 90,
    "start_time": "2023-05-05T17:37:24.637Z"
   },
   {
    "duration": 19,
    "start_time": "2023-05-05T17:37:24.729Z"
   },
   {
    "duration": 47,
    "start_time": "2023-05-05T17:37:24.750Z"
   },
   {
    "duration": 6,
    "start_time": "2023-05-05T17:37:24.802Z"
   },
   {
    "duration": 8,
    "start_time": "2023-05-05T17:37:24.809Z"
   },
   {
    "duration": 5,
    "start_time": "2023-05-05T17:37:24.818Z"
   },
   {
    "duration": 8,
    "start_time": "2023-05-05T17:37:24.825Z"
   },
   {
    "duration": 1141,
    "start_time": "2023-05-05T17:37:43.352Z"
   },
   {
    "duration": 1042,
    "start_time": "2023-05-05T17:38:03.808Z"
   },
   {
    "duration": 1055,
    "start_time": "2023-05-05T17:38:41.251Z"
   },
   {
    "duration": 96,
    "start_time": "2023-05-05T17:38:42.308Z"
   },
   {
    "duration": 12,
    "start_time": "2023-05-05T17:38:42.405Z"
   },
   {
    "duration": 16,
    "start_time": "2023-05-05T17:38:42.418Z"
   },
   {
    "duration": 23,
    "start_time": "2023-05-05T17:38:42.435Z"
   },
   {
    "duration": 30,
    "start_time": "2023-05-05T17:38:42.460Z"
   },
   {
    "duration": 10,
    "start_time": "2023-05-05T17:38:42.504Z"
   },
   {
    "duration": 19,
    "start_time": "2023-05-05T17:38:42.516Z"
   },
   {
    "duration": 11,
    "start_time": "2023-05-05T17:38:42.537Z"
   },
   {
    "duration": 10,
    "start_time": "2023-05-05T17:38:42.551Z"
   },
   {
    "duration": 53,
    "start_time": "2023-05-05T17:38:42.563Z"
   },
   {
    "duration": 8,
    "start_time": "2023-05-05T17:38:42.617Z"
   },
   {
    "duration": 8,
    "start_time": "2023-05-05T17:38:42.627Z"
   },
   {
    "duration": 6,
    "start_time": "2023-05-05T17:38:42.636Z"
   },
   {
    "duration": 159,
    "start_time": "2023-05-05T17:38:42.643Z"
   },
   {
    "duration": 5,
    "start_time": "2023-05-05T17:38:42.804Z"
   },
   {
    "duration": 108,
    "start_time": "2023-05-05T17:38:42.811Z"
   },
   {
    "duration": 9,
    "start_time": "2023-05-05T17:38:42.921Z"
   },
   {
    "duration": 135,
    "start_time": "2023-05-05T17:38:42.932Z"
   },
   {
    "duration": 25,
    "start_time": "2023-05-05T17:38:43.071Z"
   },
   {
    "duration": 125,
    "start_time": "2023-05-05T17:38:43.104Z"
   },
   {
    "duration": 7,
    "start_time": "2023-05-05T17:38:43.231Z"
   },
   {
    "duration": 125,
    "start_time": "2023-05-05T17:38:43.239Z"
   },
   {
    "duration": 42,
    "start_time": "2023-05-05T17:38:43.365Z"
   },
   {
    "duration": 13,
    "start_time": "2023-05-05T17:38:43.410Z"
   },
   {
    "duration": 179,
    "start_time": "2023-05-05T17:38:43.425Z"
   },
   {
    "duration": 184,
    "start_time": "2023-05-05T17:38:43.605Z"
   },
   {
    "duration": 17,
    "start_time": "2023-05-05T17:38:43.802Z"
   },
   {
    "duration": 84,
    "start_time": "2023-05-05T17:38:43.821Z"
   },
   {
    "duration": 19,
    "start_time": "2023-05-05T17:38:43.907Z"
   },
   {
    "duration": 20,
    "start_time": "2023-05-05T17:38:52.377Z"
   },
   {
    "duration": 13,
    "start_time": "2023-05-05T17:39:14.603Z"
   },
   {
    "duration": 58,
    "start_time": "2023-05-05T17:39:32.144Z"
   },
   {
    "duration": 7,
    "start_time": "2023-05-05T17:40:42.290Z"
   },
   {
    "duration": 6,
    "start_time": "2023-05-05T17:40:43.704Z"
   },
   {
    "duration": 4,
    "start_time": "2023-05-05T17:40:46.003Z"
   },
   {
    "duration": 4,
    "start_time": "2023-05-05T17:40:47.639Z"
   },
   {
    "duration": 196,
    "start_time": "2023-05-05T17:43:58.906Z"
   },
   {
    "duration": 175,
    "start_time": "2023-05-05T17:44:02.063Z"
   },
   {
    "duration": 95,
    "start_time": "2023-05-05T17:45:12.506Z"
   },
   {
    "duration": 122,
    "start_time": "2023-05-05T17:45:17.411Z"
   },
   {
    "duration": 212,
    "start_time": "2023-05-05T17:45:31.507Z"
   },
   {
    "duration": 12,
    "start_time": "2023-05-05T17:46:57.005Z"
   },
   {
    "duration": 5,
    "start_time": "2023-05-05T17:47:42.643Z"
   },
   {
    "duration": 6,
    "start_time": "2023-05-05T17:47:56.059Z"
   },
   {
    "duration": 5,
    "start_time": "2023-05-05T17:49:19.803Z"
   },
   {
    "duration": 4,
    "start_time": "2023-05-05T17:50:02.251Z"
   },
   {
    "duration": 5,
    "start_time": "2023-05-05T17:50:38.015Z"
   },
   {
    "duration": 5,
    "start_time": "2023-05-05T17:50:52.006Z"
   },
   {
    "duration": 15,
    "start_time": "2023-05-05T17:52:09.506Z"
   },
   {
    "duration": 23,
    "start_time": "2023-05-05T17:55:37.913Z"
   },
   {
    "duration": 208,
    "start_time": "2023-05-05T18:17:10.716Z"
   },
   {
    "duration": 174,
    "start_time": "2023-05-05T18:19:53.035Z"
   },
   {
    "duration": 11,
    "start_time": "2023-05-05T18:20:32.839Z"
   },
   {
    "duration": 240,
    "start_time": "2023-05-05T18:21:58.814Z"
   },
   {
    "duration": 35,
    "start_time": "2023-05-05T18:22:22.427Z"
   },
   {
    "duration": 172,
    "start_time": "2023-05-05T18:22:39.823Z"
   },
   {
    "duration": 13,
    "start_time": "2023-05-05T18:22:53.899Z"
   },
   {
    "duration": 19,
    "start_time": "2023-05-05T18:23:22.368Z"
   },
   {
    "duration": 128,
    "start_time": "2023-05-05T18:24:17.410Z"
   },
   {
    "duration": 25,
    "start_time": "2023-05-05T18:24:21.560Z"
   },
   {
    "duration": 19,
    "start_time": "2023-05-05T18:24:34.407Z"
   },
   {
    "duration": 12,
    "start_time": "2023-05-05T18:24:58.645Z"
   },
   {
    "duration": 8,
    "start_time": "2023-05-05T18:25:28.933Z"
   },
   {
    "duration": 32,
    "start_time": "2023-05-05T18:25:40.706Z"
   },
   {
    "duration": 40,
    "start_time": "2023-05-05T18:25:48.753Z"
   },
   {
    "duration": 17,
    "start_time": "2023-05-05T18:25:59.517Z"
   },
   {
    "duration": 1018,
    "start_time": "2023-05-05T18:28:37.136Z"
   },
   {
    "duration": 79,
    "start_time": "2023-05-05T18:28:38.156Z"
   },
   {
    "duration": 11,
    "start_time": "2023-05-05T18:28:38.236Z"
   },
   {
    "duration": 10,
    "start_time": "2023-05-05T18:28:38.250Z"
   },
   {
    "duration": 7,
    "start_time": "2023-05-05T18:28:38.262Z"
   },
   {
    "duration": 38,
    "start_time": "2023-05-05T18:28:38.270Z"
   },
   {
    "duration": 3,
    "start_time": "2023-05-05T18:28:38.310Z"
   },
   {
    "duration": 8,
    "start_time": "2023-05-05T18:28:38.315Z"
   },
   {
    "duration": 8,
    "start_time": "2023-05-05T18:28:38.324Z"
   },
   {
    "duration": 8,
    "start_time": "2023-05-05T18:28:38.335Z"
   },
   {
    "duration": 5,
    "start_time": "2023-05-05T18:28:38.344Z"
   },
   {
    "duration": 6,
    "start_time": "2023-05-05T18:28:38.351Z"
   },
   {
    "duration": 14,
    "start_time": "2023-05-05T18:28:38.358Z"
   },
   {
    "duration": 13,
    "start_time": "2023-05-05T18:28:38.386Z"
   },
   {
    "duration": 147,
    "start_time": "2023-05-05T18:28:38.402Z"
   },
   {
    "duration": 5,
    "start_time": "2023-05-05T18:28:38.551Z"
   },
   {
    "duration": 131,
    "start_time": "2023-05-05T18:28:38.557Z"
   },
   {
    "duration": 9,
    "start_time": "2023-05-05T18:28:38.698Z"
   },
   {
    "duration": 121,
    "start_time": "2023-05-05T18:28:38.709Z"
   },
   {
    "duration": 6,
    "start_time": "2023-05-05T18:28:38.831Z"
   },
   {
    "duration": 129,
    "start_time": "2023-05-05T18:28:38.839Z"
   },
   {
    "duration": 18,
    "start_time": "2023-05-05T18:28:38.971Z"
   },
   {
    "duration": 132,
    "start_time": "2023-05-05T18:28:38.995Z"
   },
   {
    "duration": 24,
    "start_time": "2023-05-05T18:28:39.128Z"
   },
   {
    "duration": 9,
    "start_time": "2023-05-05T18:28:39.153Z"
   },
   {
    "duration": 186,
    "start_time": "2023-05-05T18:28:39.178Z"
   },
   {
    "duration": 163,
    "start_time": "2023-05-05T18:28:39.366Z"
   },
   {
    "duration": 16,
    "start_time": "2023-05-05T18:28:39.532Z"
   },
   {
    "duration": 95,
    "start_time": "2023-05-05T18:28:39.549Z"
   },
   {
    "duration": 24,
    "start_time": "2023-05-05T18:28:43.432Z"
   },
   {
    "duration": 15,
    "start_time": "2023-05-05T18:28:51.698Z"
   },
   {
    "duration": 63,
    "start_time": "2023-05-05T18:30:03.464Z"
   },
   {
    "duration": 7,
    "start_time": "2023-05-05T18:30:20.083Z"
   },
   {
    "duration": 15,
    "start_time": "2023-05-05T18:30:33.765Z"
   },
   {
    "duration": 21,
    "start_time": "2023-05-05T18:30:50.961Z"
   },
   {
    "duration": 13,
    "start_time": "2023-05-05T18:30:53.241Z"
   },
   {
    "duration": 1076,
    "start_time": "2023-05-05T18:30:59.065Z"
   },
   {
    "duration": 752,
    "start_time": "2023-05-05T18:31:09.686Z"
   },
   {
    "duration": 245,
    "start_time": "2023-05-05T18:31:15.193Z"
   },
   {
    "duration": 1095,
    "start_time": "2023-05-05T18:31:25.774Z"
   },
   {
    "duration": 65,
    "start_time": "2023-05-05T18:31:26.871Z"
   },
   {
    "duration": 15,
    "start_time": "2023-05-05T18:31:26.939Z"
   },
   {
    "duration": 7,
    "start_time": "2023-05-05T18:31:26.956Z"
   },
   {
    "duration": 10,
    "start_time": "2023-05-05T18:31:26.965Z"
   },
   {
    "duration": 8,
    "start_time": "2023-05-05T18:31:26.976Z"
   },
   {
    "duration": 8,
    "start_time": "2023-05-05T18:31:26.986Z"
   },
   {
    "duration": 14,
    "start_time": "2023-05-05T18:31:26.995Z"
   },
   {
    "duration": 7,
    "start_time": "2023-05-05T18:31:27.010Z"
   },
   {
    "duration": 7,
    "start_time": "2023-05-05T18:31:27.019Z"
   },
   {
    "duration": 5,
    "start_time": "2023-05-05T18:31:27.028Z"
   },
   {
    "duration": 9,
    "start_time": "2023-05-05T18:31:27.034Z"
   },
   {
    "duration": 6,
    "start_time": "2023-05-05T18:31:27.045Z"
   },
   {
    "duration": 23,
    "start_time": "2023-05-05T18:31:27.052Z"
   },
   {
    "duration": 138,
    "start_time": "2023-05-05T18:31:27.076Z"
   },
   {
    "duration": 5,
    "start_time": "2023-05-05T18:31:27.215Z"
   },
   {
    "duration": 116,
    "start_time": "2023-05-05T18:31:27.222Z"
   },
   {
    "duration": 7,
    "start_time": "2023-05-05T18:31:27.339Z"
   },
   {
    "duration": 125,
    "start_time": "2023-05-05T18:31:27.347Z"
   },
   {
    "duration": 7,
    "start_time": "2023-05-05T18:31:27.473Z"
   },
   {
    "duration": 115,
    "start_time": "2023-05-05T18:31:27.481Z"
   },
   {
    "duration": 7,
    "start_time": "2023-05-05T18:31:27.597Z"
   },
   {
    "duration": 120,
    "start_time": "2023-05-05T18:31:27.605Z"
   },
   {
    "duration": 46,
    "start_time": "2023-05-05T18:31:27.727Z"
   },
   {
    "duration": 9,
    "start_time": "2023-05-05T18:31:27.775Z"
   },
   {
    "duration": 183,
    "start_time": "2023-05-05T18:31:27.786Z"
   },
   {
    "duration": 172,
    "start_time": "2023-05-05T18:31:27.970Z"
   },
   {
    "duration": 27,
    "start_time": "2023-05-05T18:31:28.145Z"
   },
   {
    "duration": 121,
    "start_time": "2023-05-05T18:31:28.174Z"
   },
   {
    "duration": 26,
    "start_time": "2023-05-05T18:31:28.296Z"
   },
   {
    "duration": 23,
    "start_time": "2023-05-05T18:31:28.323Z"
   },
   {
    "duration": 34,
    "start_time": "2023-05-05T18:31:28.348Z"
   },
   {
    "duration": 8,
    "start_time": "2023-05-05T18:31:28.383Z"
   },
   {
    "duration": 16,
    "start_time": "2023-05-05T18:31:28.392Z"
   },
   {
    "duration": 4,
    "start_time": "2023-05-05T18:31:28.410Z"
   },
   {
    "duration": 5,
    "start_time": "2023-05-05T18:31:28.416Z"
   },
   {
    "duration": 6,
    "start_time": "2023-05-05T18:31:28.422Z"
   },
   {
    "duration": 4,
    "start_time": "2023-05-05T18:31:28.429Z"
   },
   {
    "duration": 4,
    "start_time": "2023-05-05T18:31:28.435Z"
   },
   {
    "duration": 4,
    "start_time": "2023-05-05T18:31:28.441Z"
   },
   {
    "duration": 29,
    "start_time": "2023-05-05T18:31:28.446Z"
   },
   {
    "duration": 998,
    "start_time": "2023-05-05T18:32:10.829Z"
   },
   {
    "duration": 10,
    "start_time": "2023-05-05T18:32:29.884Z"
   },
   {
    "duration": 704,
    "start_time": "2023-05-05T18:32:36.484Z"
   },
   {
    "duration": 1011,
    "start_time": "2023-05-05T18:32:50.403Z"
   },
   {
    "duration": 68,
    "start_time": "2023-05-05T18:32:51.416Z"
   },
   {
    "duration": 14,
    "start_time": "2023-05-05T18:32:51.486Z"
   },
   {
    "duration": 15,
    "start_time": "2023-05-05T18:32:51.502Z"
   },
   {
    "duration": 7,
    "start_time": "2023-05-05T18:32:51.519Z"
   },
   {
    "duration": 9,
    "start_time": "2023-05-05T18:32:51.527Z"
   },
   {
    "duration": 5,
    "start_time": "2023-05-05T18:32:51.538Z"
   },
   {
    "duration": 15,
    "start_time": "2023-05-05T18:32:51.544Z"
   },
   {
    "duration": 9,
    "start_time": "2023-05-05T18:32:51.560Z"
   },
   {
    "duration": 46,
    "start_time": "2023-05-05T18:32:51.575Z"
   },
   {
    "duration": 15,
    "start_time": "2023-05-05T18:32:51.622Z"
   },
   {
    "duration": 25,
    "start_time": "2023-05-05T18:32:51.638Z"
   },
   {
    "duration": 35,
    "start_time": "2023-05-05T18:32:51.664Z"
   },
   {
    "duration": 7,
    "start_time": "2023-05-05T18:32:51.703Z"
   },
   {
    "duration": 148,
    "start_time": "2023-05-05T18:32:51.711Z"
   },
   {
    "duration": 5,
    "start_time": "2023-05-05T18:32:51.861Z"
   },
   {
    "duration": 172,
    "start_time": "2023-05-05T18:32:51.867Z"
   },
   {
    "duration": 10,
    "start_time": "2023-05-05T18:32:52.041Z"
   },
   {
    "duration": 152,
    "start_time": "2023-05-05T18:32:52.053Z"
   },
   {
    "duration": 12,
    "start_time": "2023-05-05T18:32:52.210Z"
   },
   {
    "duration": 127,
    "start_time": "2023-05-05T18:32:52.223Z"
   },
   {
    "duration": 7,
    "start_time": "2023-05-05T18:32:52.352Z"
   },
   {
    "duration": 254,
    "start_time": "2023-05-05T18:32:52.360Z"
   },
   {
    "duration": 28,
    "start_time": "2023-05-05T18:32:52.616Z"
   },
   {
    "duration": 9,
    "start_time": "2023-05-05T18:32:52.647Z"
   },
   {
    "duration": 208,
    "start_time": "2023-05-05T18:32:52.658Z"
   },
   {
    "duration": 210,
    "start_time": "2023-05-05T18:32:52.867Z"
   },
   {
    "duration": 21,
    "start_time": "2023-05-05T18:32:53.079Z"
   },
   {
    "duration": 138,
    "start_time": "2023-05-05T18:32:53.102Z"
   },
   {
    "duration": 22,
    "start_time": "2023-05-05T18:32:53.242Z"
   },
   {
    "duration": 24,
    "start_time": "2023-05-05T18:32:53.266Z"
   },
   {
    "duration": 33,
    "start_time": "2023-05-05T18:32:53.292Z"
   },
   {
    "duration": 6,
    "start_time": "2023-05-05T18:32:53.327Z"
   },
   {
    "duration": 5,
    "start_time": "2023-05-05T18:32:53.335Z"
   },
   {
    "duration": 9,
    "start_time": "2023-05-05T18:32:53.342Z"
   },
   {
    "duration": 5,
    "start_time": "2023-05-05T18:32:53.352Z"
   },
   {
    "duration": 12,
    "start_time": "2023-05-05T18:32:53.359Z"
   },
   {
    "duration": 27,
    "start_time": "2023-05-05T18:32:53.375Z"
   },
   {
    "duration": 14,
    "start_time": "2023-05-05T18:32:53.404Z"
   },
   {
    "duration": 7,
    "start_time": "2023-05-05T18:32:53.420Z"
   },
   {
    "duration": 9,
    "start_time": "2023-05-05T18:32:53.431Z"
   },
   {
    "duration": 24,
    "start_time": "2023-05-05T18:33:23.158Z"
   },
   {
    "duration": 6,
    "start_time": "2023-05-05T18:33:28.290Z"
   },
   {
    "duration": 138,
    "start_time": "2023-05-05T18:33:40.323Z"
   },
   {
    "duration": 159,
    "start_time": "2023-05-05T18:33:47.430Z"
   },
   {
    "duration": 244,
    "start_time": "2023-05-05T18:34:04.286Z"
   },
   {
    "duration": 5,
    "start_time": "2023-05-05T18:34:11.726Z"
   },
   {
    "duration": 7,
    "start_time": "2023-05-05T18:35:15.027Z"
   },
   {
    "duration": 1000,
    "start_time": "2023-05-05T18:48:33.399Z"
   },
   {
    "duration": 85,
    "start_time": "2023-05-05T18:48:34.402Z"
   },
   {
    "duration": 13,
    "start_time": "2023-05-05T18:48:34.488Z"
   },
   {
    "duration": 8,
    "start_time": "2023-05-05T18:48:34.503Z"
   },
   {
    "duration": 12,
    "start_time": "2023-05-05T18:48:34.513Z"
   },
   {
    "duration": 12,
    "start_time": "2023-05-05T18:48:34.527Z"
   },
   {
    "duration": 8,
    "start_time": "2023-05-05T18:48:34.540Z"
   },
   {
    "duration": 12,
    "start_time": "2023-05-05T18:48:34.549Z"
   },
   {
    "duration": 12,
    "start_time": "2023-05-05T18:48:34.563Z"
   },
   {
    "duration": 8,
    "start_time": "2023-05-05T18:48:34.577Z"
   },
   {
    "duration": 21,
    "start_time": "2023-05-05T18:48:34.586Z"
   },
   {
    "duration": 23,
    "start_time": "2023-05-05T18:48:34.608Z"
   },
   {
    "duration": 13,
    "start_time": "2023-05-05T18:48:34.633Z"
   },
   {
    "duration": 9,
    "start_time": "2023-05-05T18:48:34.650Z"
   },
   {
    "duration": 132,
    "start_time": "2023-05-05T18:48:34.660Z"
   },
   {
    "duration": 7,
    "start_time": "2023-05-05T18:48:34.794Z"
   },
   {
    "duration": 110,
    "start_time": "2023-05-05T18:48:34.803Z"
   },
   {
    "duration": 7,
    "start_time": "2023-05-05T18:48:34.914Z"
   },
   {
    "duration": 127,
    "start_time": "2023-05-05T18:48:34.922Z"
   },
   {
    "duration": 9,
    "start_time": "2023-05-05T18:48:35.050Z"
   },
   {
    "duration": 142,
    "start_time": "2023-05-05T18:48:35.071Z"
   },
   {
    "duration": 8,
    "start_time": "2023-05-05T18:48:35.214Z"
   },
   {
    "duration": 136,
    "start_time": "2023-05-05T18:48:35.223Z"
   },
   {
    "duration": 45,
    "start_time": "2023-05-05T18:48:35.360Z"
   },
   {
    "duration": 12,
    "start_time": "2023-05-05T18:48:35.407Z"
   },
   {
    "duration": 177,
    "start_time": "2023-05-05T18:48:35.420Z"
   },
   {
    "duration": 178,
    "start_time": "2023-05-05T18:48:35.598Z"
   },
   {
    "duration": 21,
    "start_time": "2023-05-05T18:48:35.778Z"
   },
   {
    "duration": 101,
    "start_time": "2023-05-05T18:48:35.800Z"
   },
   {
    "duration": 23,
    "start_time": "2023-05-05T18:48:35.902Z"
   },
   {
    "duration": 23,
    "start_time": "2023-05-05T18:48:35.926Z"
   },
   {
    "duration": 28,
    "start_time": "2023-05-05T18:48:35.950Z"
   },
   {
    "duration": 21,
    "start_time": "2023-05-05T18:48:35.980Z"
   },
   {
    "duration": 39,
    "start_time": "2023-05-05T18:48:36.003Z"
   },
   {
    "duration": 40,
    "start_time": "2023-05-05T18:48:36.043Z"
   },
   {
    "duration": 20,
    "start_time": "2023-05-05T18:48:36.085Z"
   },
   {
    "duration": 52,
    "start_time": "2023-05-05T18:48:36.106Z"
   },
   {
    "duration": 211,
    "start_time": "2023-05-05T18:48:36.161Z"
   },
   {
    "duration": 7,
    "start_time": "2023-05-05T18:48:36.374Z"
   },
   {
    "duration": 26,
    "start_time": "2023-05-05T18:48:36.383Z"
   },
   {
    "duration": 1300,
    "start_time": "2023-05-06T10:39:50.769Z"
   },
   {
    "duration": 423,
    "start_time": "2023-05-06T10:39:52.080Z"
   },
   {
    "duration": 12,
    "start_time": "2023-05-06T10:39:52.504Z"
   },
   {
    "duration": 25,
    "start_time": "2023-05-06T10:39:52.518Z"
   },
   {
    "duration": 43,
    "start_time": "2023-05-06T10:39:52.545Z"
   },
   {
    "duration": 12,
    "start_time": "2023-05-06T10:39:52.589Z"
   },
   {
    "duration": 22,
    "start_time": "2023-05-06T10:39:52.602Z"
   },
   {
    "duration": 58,
    "start_time": "2023-05-06T10:39:52.626Z"
   },
   {
    "duration": 24,
    "start_time": "2023-05-06T10:39:52.685Z"
   },
   {
    "duration": 12,
    "start_time": "2023-05-06T10:39:52.711Z"
   },
   {
    "duration": 24,
    "start_time": "2023-05-06T10:39:52.725Z"
   },
   {
    "duration": 33,
    "start_time": "2023-05-06T10:39:52.752Z"
   },
   {
    "duration": 11,
    "start_time": "2023-05-06T10:39:52.787Z"
   },
   {
    "duration": 6,
    "start_time": "2023-05-06T10:39:52.801Z"
   },
   {
    "duration": 175,
    "start_time": "2023-05-06T10:39:52.808Z"
   },
   {
    "duration": 5,
    "start_time": "2023-05-06T10:39:52.985Z"
   },
   {
    "duration": 181,
    "start_time": "2023-05-06T10:39:52.992Z"
   },
   {
    "duration": 15,
    "start_time": "2023-05-06T10:39:53.175Z"
   },
   {
    "duration": 198,
    "start_time": "2023-05-06T10:39:53.192Z"
   },
   {
    "duration": 10,
    "start_time": "2023-05-06T10:39:53.392Z"
   },
   {
    "duration": 187,
    "start_time": "2023-05-06T10:39:53.404Z"
   },
   {
    "duration": 8,
    "start_time": "2023-05-06T10:39:53.593Z"
   },
   {
    "duration": 175,
    "start_time": "2023-05-06T10:39:53.602Z"
   },
   {
    "duration": 32,
    "start_time": "2023-05-06T10:39:53.778Z"
   },
   {
    "duration": 8,
    "start_time": "2023-05-06T10:39:53.812Z"
   },
   {
    "duration": 214,
    "start_time": "2023-05-06T10:39:53.822Z"
   },
   {
    "duration": 238,
    "start_time": "2023-05-06T10:39:54.046Z"
   },
   {
    "duration": 18,
    "start_time": "2023-05-06T10:39:54.287Z"
   },
   {
    "duration": 107,
    "start_time": "2023-05-06T10:39:54.306Z"
   },
   {
    "duration": 49,
    "start_time": "2023-05-06T10:39:54.415Z"
   },
   {
    "duration": 50,
    "start_time": "2023-05-06T10:39:54.476Z"
   },
   {
    "duration": 17,
    "start_time": "2023-05-06T10:39:54.528Z"
   },
   {
    "duration": 32,
    "start_time": "2023-05-06T10:39:54.547Z"
   },
   {
    "duration": 12,
    "start_time": "2023-05-06T10:39:54.581Z"
   },
   {
    "duration": 30,
    "start_time": "2023-05-06T10:39:54.594Z"
   },
   {
    "duration": 11,
    "start_time": "2023-05-06T10:39:54.626Z"
   },
   {
    "duration": 61,
    "start_time": "2023-05-06T10:39:54.641Z"
   },
   {
    "duration": 205,
    "start_time": "2023-05-06T10:39:54.704Z"
   },
   {
    "duration": 5,
    "start_time": "2023-05-06T10:39:54.910Z"
   },
   {
    "duration": 25,
    "start_time": "2023-05-06T10:39:54.917Z"
   },
   {
    "duration": 9,
    "start_time": "2023-05-06T11:03:51.728Z"
   },
   {
    "duration": 34,
    "start_time": "2023-05-06T11:09:27.037Z"
   },
   {
    "duration": 53,
    "start_time": "2023-05-06T11:09:39.432Z"
   },
   {
    "duration": 10,
    "start_time": "2023-05-06T11:29:21.357Z"
   },
   {
    "duration": 13,
    "start_time": "2023-05-06T11:33:28.502Z"
   },
   {
    "duration": 11,
    "start_time": "2023-05-06T11:33:46.487Z"
   },
   {
    "duration": 6,
    "start_time": "2023-05-06T11:36:59.595Z"
   },
   {
    "duration": 5,
    "start_time": "2023-05-06T11:37:31.708Z"
   },
   {
    "duration": 7,
    "start_time": "2023-05-06T11:37:42.812Z"
   },
   {
    "duration": 4,
    "start_time": "2023-05-06T11:38:24.962Z"
   },
   {
    "duration": 12,
    "start_time": "2023-05-06T11:41:41.357Z"
   },
   {
    "duration": 7,
    "start_time": "2023-05-06T11:46:13.513Z"
   },
   {
    "duration": 6,
    "start_time": "2023-05-06T11:46:19.557Z"
   },
   {
    "duration": 8,
    "start_time": "2023-05-06T11:56:45.216Z"
   },
   {
    "duration": 8,
    "start_time": "2023-05-06T11:57:31.276Z"
   },
   {
    "duration": 1242,
    "start_time": "2023-05-06T12:10:22.703Z"
   },
   {
    "duration": 263,
    "start_time": "2023-05-06T12:10:23.956Z"
   },
   {
    "duration": 33,
    "start_time": "2023-05-06T12:10:24.221Z"
   },
   {
    "duration": 17,
    "start_time": "2023-05-06T12:10:24.259Z"
   },
   {
    "duration": 13,
    "start_time": "2023-05-06T12:10:24.278Z"
   },
   {
    "duration": 19,
    "start_time": "2023-05-06T12:10:24.293Z"
   },
   {
    "duration": 7,
    "start_time": "2023-05-06T12:10:24.314Z"
   },
   {
    "duration": 7,
    "start_time": "2023-05-06T12:10:24.323Z"
   },
   {
    "duration": 36,
    "start_time": "2023-05-06T12:10:24.332Z"
   },
   {
    "duration": 9,
    "start_time": "2023-05-06T12:10:24.371Z"
   },
   {
    "duration": 6,
    "start_time": "2023-05-06T12:10:24.382Z"
   },
   {
    "duration": 14,
    "start_time": "2023-05-06T12:10:24.390Z"
   },
   {
    "duration": 14,
    "start_time": "2023-05-06T12:10:24.406Z"
   },
   {
    "duration": 24,
    "start_time": "2023-05-06T12:10:24.422Z"
   },
   {
    "duration": 186,
    "start_time": "2023-05-06T12:10:24.453Z"
   },
   {
    "duration": 11,
    "start_time": "2023-05-06T12:10:24.645Z"
   },
   {
    "duration": 152,
    "start_time": "2023-05-06T12:10:24.657Z"
   },
   {
    "duration": 8,
    "start_time": "2023-05-06T12:10:24.811Z"
   },
   {
    "duration": 169,
    "start_time": "2023-05-06T12:10:24.821Z"
   },
   {
    "duration": 10,
    "start_time": "2023-05-06T12:10:24.992Z"
   },
   {
    "duration": 173,
    "start_time": "2023-05-06T12:10:25.004Z"
   },
   {
    "duration": 11,
    "start_time": "2023-05-06T12:10:25.179Z"
   },
   {
    "duration": 179,
    "start_time": "2023-05-06T12:10:25.192Z"
   },
   {
    "duration": 32,
    "start_time": "2023-05-06T12:10:25.373Z"
   },
   {
    "duration": 37,
    "start_time": "2023-05-06T12:10:25.407Z"
   },
   {
    "duration": 34,
    "start_time": "2023-05-06T12:10:25.445Z"
   },
   {
    "duration": 218,
    "start_time": "2023-05-06T12:10:25.481Z"
   },
   {
    "duration": 225,
    "start_time": "2023-05-06T12:10:25.702Z"
   },
   {
    "duration": 26,
    "start_time": "2023-05-06T12:10:25.936Z"
   },
   {
    "duration": 113,
    "start_time": "2023-05-06T12:10:25.964Z"
   },
   {
    "duration": 5,
    "start_time": "2023-05-06T12:10:26.079Z"
   },
   {
    "duration": 33,
    "start_time": "2023-05-06T12:10:26.086Z"
   },
   {
    "duration": 43,
    "start_time": "2023-05-06T12:10:26.121Z"
   },
   {
    "duration": 18,
    "start_time": "2023-05-06T12:10:26.166Z"
   },
   {
    "duration": 9,
    "start_time": "2023-05-06T12:10:26.186Z"
   },
   {
    "duration": 7,
    "start_time": "2023-05-06T12:10:26.196Z"
   },
   {
    "duration": 7,
    "start_time": "2023-05-06T12:10:26.204Z"
   },
   {
    "duration": 15,
    "start_time": "2023-05-06T12:10:26.243Z"
   },
   {
    "duration": 9,
    "start_time": "2023-05-06T12:10:26.260Z"
   },
   {
    "duration": 34,
    "start_time": "2023-05-06T12:10:26.271Z"
   },
   {
    "duration": 220,
    "start_time": "2023-05-06T12:10:26.307Z"
   },
   {
    "duration": 15,
    "start_time": "2023-05-06T12:10:26.529Z"
   },
   {
    "duration": 34,
    "start_time": "2023-05-06T12:10:26.551Z"
   },
   {
    "duration": 1109,
    "start_time": "2023-05-06T12:11:34.372Z"
   },
   {
    "duration": 86,
    "start_time": "2023-05-06T12:11:35.482Z"
   },
   {
    "duration": 11,
    "start_time": "2023-05-06T12:11:35.569Z"
   },
   {
    "duration": 22,
    "start_time": "2023-05-06T12:11:35.582Z"
   },
   {
    "duration": 19,
    "start_time": "2023-05-06T12:11:35.606Z"
   },
   {
    "duration": 46,
    "start_time": "2023-05-06T12:11:35.626Z"
   },
   {
    "duration": 6,
    "start_time": "2023-05-06T12:11:35.674Z"
   },
   {
    "duration": 12,
    "start_time": "2023-05-06T12:11:35.681Z"
   },
   {
    "duration": 15,
    "start_time": "2023-05-06T12:11:35.694Z"
   },
   {
    "duration": 7,
    "start_time": "2023-05-06T12:11:35.711Z"
   },
   {
    "duration": 5,
    "start_time": "2023-05-06T12:11:35.720Z"
   },
   {
    "duration": 10,
    "start_time": "2023-05-06T12:11:35.726Z"
   },
   {
    "duration": 36,
    "start_time": "2023-05-06T12:11:35.737Z"
   },
   {
    "duration": 8,
    "start_time": "2023-05-06T12:11:35.774Z"
   },
   {
    "duration": 148,
    "start_time": "2023-05-06T12:11:35.784Z"
   },
   {
    "duration": 16,
    "start_time": "2023-05-06T12:11:35.941Z"
   },
   {
    "duration": 132,
    "start_time": "2023-05-06T12:11:35.961Z"
   },
   {
    "duration": 7,
    "start_time": "2023-05-06T12:11:36.095Z"
   },
   {
    "duration": 155,
    "start_time": "2023-05-06T12:11:36.103Z"
   },
   {
    "duration": 9,
    "start_time": "2023-05-06T12:11:36.259Z"
   },
   {
    "duration": 131,
    "start_time": "2023-05-06T12:11:36.269Z"
   },
   {
    "duration": 8,
    "start_time": "2023-05-06T12:11:36.401Z"
   },
   {
    "duration": 151,
    "start_time": "2023-05-06T12:11:36.410Z"
   },
   {
    "duration": 26,
    "start_time": "2023-05-06T12:11:36.563Z"
   },
   {
    "duration": 8,
    "start_time": "2023-05-06T12:11:36.591Z"
   },
   {
    "duration": 29,
    "start_time": "2023-05-06T12:11:36.600Z"
   },
   {
    "duration": 211,
    "start_time": "2023-05-06T12:11:36.637Z"
   },
   {
    "duration": 237,
    "start_time": "2023-05-06T12:11:36.851Z"
   },
   {
    "duration": 19,
    "start_time": "2023-05-06T12:11:37.090Z"
   },
   {
    "duration": 112,
    "start_time": "2023-05-06T12:11:37.111Z"
   },
   {
    "duration": 23,
    "start_time": "2023-05-06T12:11:37.225Z"
   },
   {
    "duration": 38,
    "start_time": "2023-05-06T12:11:37.249Z"
   },
   {
    "duration": 23,
    "start_time": "2023-05-06T12:11:37.288Z"
   },
   {
    "duration": 8,
    "start_time": "2023-05-06T12:11:37.312Z"
   },
   {
    "duration": 7,
    "start_time": "2023-05-06T12:11:37.322Z"
   },
   {
    "duration": 33,
    "start_time": "2023-05-06T12:11:37.330Z"
   },
   {
    "duration": 13,
    "start_time": "2023-05-06T12:11:37.365Z"
   },
   {
    "duration": 8,
    "start_time": "2023-05-06T12:11:37.380Z"
   },
   {
    "duration": 5,
    "start_time": "2023-05-06T12:11:37.389Z"
   },
   {
    "duration": 21,
    "start_time": "2023-05-06T12:11:37.395Z"
   },
   {
    "duration": 190,
    "start_time": "2023-05-06T12:11:37.417Z"
   },
   {
    "duration": 4,
    "start_time": "2023-05-06T12:11:37.609Z"
   },
   {
    "duration": 9,
    "start_time": "2023-05-06T12:11:37.615Z"
   },
   {
    "duration": 20,
    "start_time": "2023-05-06T14:57:50.561Z"
   },
   {
    "duration": 17,
    "start_time": "2023-05-06T14:58:33.001Z"
   },
   {
    "duration": 50,
    "start_time": "2023-05-06T17:06:55.121Z"
   },
   {
    "duration": 1388,
    "start_time": "2023-05-06T17:07:00.957Z"
   },
   {
    "duration": 210,
    "start_time": "2023-05-06T17:07:03.677Z"
   },
   {
    "duration": 14,
    "start_time": "2023-05-06T17:07:05.828Z"
   },
   {
    "duration": 13,
    "start_time": "2023-05-06T17:07:07.369Z"
   },
   {
    "duration": 44,
    "start_time": "2023-05-07T02:42:01.050Z"
   },
   {
    "duration": 6,
    "start_time": "2023-05-07T02:42:26.285Z"
   },
   {
    "duration": 1179,
    "start_time": "2023-05-07T02:44:12.205Z"
   },
   {
    "duration": 311,
    "start_time": "2023-05-07T02:44:13.385Z"
   },
   {
    "duration": 11,
    "start_time": "2023-05-07T02:44:13.697Z"
   },
   {
    "duration": 13,
    "start_time": "2023-05-07T02:44:13.709Z"
   },
   {
    "duration": 22,
    "start_time": "2023-05-07T02:44:13.724Z"
   },
   {
    "duration": 8,
    "start_time": "2023-05-07T02:44:13.748Z"
   },
   {
    "duration": 7,
    "start_time": "2023-05-07T02:50:46.271Z"
   },
   {
    "duration": 10,
    "start_time": "2023-05-07T02:50:58.746Z"
   },
   {
    "duration": 1016,
    "start_time": "2023-05-07T02:58:27.902Z"
   },
   {
    "duration": 7,
    "start_time": "2023-05-07T02:58:34.189Z"
   },
   {
    "duration": 4,
    "start_time": "2023-05-07T02:58:35.478Z"
   },
   {
    "duration": 6,
    "start_time": "2023-05-07T02:58:37.097Z"
   },
   {
    "duration": 4,
    "start_time": "2023-05-07T03:02:47.141Z"
   },
   {
    "duration": 4,
    "start_time": "2023-05-07T03:02:53.718Z"
   },
   {
    "duration": 8,
    "start_time": "2023-05-07T03:07:20.445Z"
   },
   {
    "duration": 9,
    "start_time": "2023-05-07T03:07:36.577Z"
   },
   {
    "duration": 7,
    "start_time": "2023-05-07T03:07:44.689Z"
   },
   {
    "duration": 5,
    "start_time": "2023-05-07T03:10:35.628Z"
   },
   {
    "duration": 7,
    "start_time": "2023-05-07T03:10:36.717Z"
   },
   {
    "duration": 7,
    "start_time": "2023-05-07T03:10:38.541Z"
   },
   {
    "duration": 5,
    "start_time": "2023-05-07T03:10:40.523Z"
   },
   {
    "duration": 6,
    "start_time": "2023-05-07T03:10:42.040Z"
   },
   {
    "duration": 8,
    "start_time": "2023-05-07T03:10:44.749Z"
   },
   {
    "duration": 7,
    "start_time": "2023-05-07T03:10:47.197Z"
   },
   {
    "duration": 9,
    "start_time": "2023-05-07T03:15:57.216Z"
   },
   {
    "duration": 7,
    "start_time": "2023-05-07T03:17:40.809Z"
   },
   {
    "duration": 10,
    "start_time": "2023-05-07T03:20:15.256Z"
   },
   {
    "duration": 111,
    "start_time": "2023-05-07T03:20:28.780Z"
   },
   {
    "duration": 130,
    "start_time": "2023-05-07T03:22:11.420Z"
   },
   {
    "duration": 102,
    "start_time": "2023-05-07T03:22:18.772Z"
   },
   {
    "duration": 113,
    "start_time": "2023-05-07T03:27:02.516Z"
   },
   {
    "duration": 113,
    "start_time": "2023-05-07T03:27:09.602Z"
   },
   {
    "duration": 115,
    "start_time": "2023-05-07T03:27:46.283Z"
   },
   {
    "duration": 9,
    "start_time": "2023-05-07T03:32:16.596Z"
   },
   {
    "duration": 6,
    "start_time": "2023-05-07T03:33:04.509Z"
   },
   {
    "duration": 5,
    "start_time": "2023-05-07T03:33:18.780Z"
   },
   {
    "duration": 5,
    "start_time": "2023-05-07T03:33:42.899Z"
   },
   {
    "duration": 11,
    "start_time": "2023-05-07T03:33:52.195Z"
   },
   {
    "duration": 5,
    "start_time": "2023-05-07T03:33:56.538Z"
   },
   {
    "duration": 129,
    "start_time": "2023-05-07T03:40:05.079Z"
   },
   {
    "duration": 120,
    "start_time": "2023-05-07T03:41:12.026Z"
   },
   {
    "duration": 124,
    "start_time": "2023-05-07T03:42:06.390Z"
   },
   {
    "duration": 190,
    "start_time": "2023-05-07T03:42:10.995Z"
   },
   {
    "duration": 116,
    "start_time": "2023-05-07T03:42:16.999Z"
   },
   {
    "duration": 118,
    "start_time": "2023-05-07T03:43:13.791Z"
   },
   {
    "duration": 9,
    "start_time": "2023-05-07T03:46:06.219Z"
   },
   {
    "duration": 116,
    "start_time": "2023-05-07T03:46:09.039Z"
   },
   {
    "duration": 127,
    "start_time": "2023-05-07T03:47:19.975Z"
   },
   {
    "duration": 124,
    "start_time": "2023-05-07T03:47:30.411Z"
   },
   {
    "duration": 139,
    "start_time": "2023-05-07T03:47:41.511Z"
   },
   {
    "duration": 9,
    "start_time": "2023-05-07T03:48:37.399Z"
   },
   {
    "duration": 125,
    "start_time": "2023-05-07T03:49:17.077Z"
   },
   {
    "duration": 123,
    "start_time": "2023-05-07T03:54:18.569Z"
   },
   {
    "duration": 148,
    "start_time": "2023-05-07T03:55:01.824Z"
   },
   {
    "duration": 187,
    "start_time": "2023-05-07T03:57:04.559Z"
   },
   {
    "duration": 217,
    "start_time": "2023-05-07T03:57:11.964Z"
   },
   {
    "duration": 138,
    "start_time": "2023-05-07T03:57:18.393Z"
   },
   {
    "duration": 185,
    "start_time": "2023-05-07T03:57:22.049Z"
   },
   {
    "duration": 230,
    "start_time": "2023-05-07T03:57:25.156Z"
   },
   {
    "duration": 152,
    "start_time": "2023-05-07T04:01:30.148Z"
   },
   {
    "duration": 158,
    "start_time": "2023-05-07T04:01:39.224Z"
   },
   {
    "duration": 144,
    "start_time": "2023-05-07T04:01:44.948Z"
   },
   {
    "duration": 168,
    "start_time": "2023-05-07T04:01:53.068Z"
   },
   {
    "duration": 194,
    "start_time": "2023-05-07T04:03:04.596Z"
   },
   {
    "duration": 171,
    "start_time": "2023-05-07T04:03:16.596Z"
   },
   {
    "duration": 144,
    "start_time": "2023-05-07T04:03:22.924Z"
   },
   {
    "duration": 275,
    "start_time": "2023-05-07T04:03:36.542Z"
   },
   {
    "duration": 220,
    "start_time": "2023-05-07T04:03:41.704Z"
   },
   {
    "duration": 181,
    "start_time": "2023-05-07T04:03:47.149Z"
   },
   {
    "duration": 172,
    "start_time": "2023-05-07T04:03:51.372Z"
   },
   {
    "duration": 199,
    "start_time": "2023-05-07T04:03:55.554Z"
   },
   {
    "duration": 166,
    "start_time": "2023-05-07T04:04:05.192Z"
   },
   {
    "duration": 144,
    "start_time": "2023-05-07T04:04:13.080Z"
   },
   {
    "duration": 160,
    "start_time": "2023-05-07T04:04:16.324Z"
   },
   {
    "duration": 146,
    "start_time": "2023-05-07T04:04:18.261Z"
   },
   {
    "duration": 164,
    "start_time": "2023-05-07T04:04:21.124Z"
   },
   {
    "duration": 147,
    "start_time": "2023-05-07T04:04:28.184Z"
   },
   {
    "duration": 249,
    "start_time": "2023-05-07T04:04:35.145Z"
   },
   {
    "duration": 168,
    "start_time": "2023-05-07T04:07:36.012Z"
   },
   {
    "duration": 162,
    "start_time": "2023-05-07T04:07:42.992Z"
   },
   {
    "duration": 153,
    "start_time": "2023-05-07T04:07:46.560Z"
   },
   {
    "duration": 162,
    "start_time": "2023-05-07T04:08:47.116Z"
   },
   {
    "duration": 67,
    "start_time": "2023-05-07T04:09:55.864Z"
   },
   {
    "duration": 82,
    "start_time": "2023-05-07T04:10:10.690Z"
   },
   {
    "duration": 112,
    "start_time": "2023-05-07T04:11:47.640Z"
   },
   {
    "duration": 104,
    "start_time": "2023-05-07T04:12:08.759Z"
   },
   {
    "duration": 5,
    "start_time": "2023-05-07T04:12:30.120Z"
   },
   {
    "duration": 7,
    "start_time": "2023-05-07T04:13:47.749Z"
   },
   {
    "duration": 129,
    "start_time": "2023-05-07T04:13:49.191Z"
   },
   {
    "duration": 15,
    "start_time": "2023-05-07T04:13:54.331Z"
   },
   {
    "duration": 116,
    "start_time": "2023-05-07T04:13:55.672Z"
   },
   {
    "duration": 160,
    "start_time": "2023-05-07T04:14:04.683Z"
   },
   {
    "duration": 227,
    "start_time": "2023-05-07T04:14:07.811Z"
   },
   {
    "duration": 135,
    "start_time": "2023-05-07T04:14:15.772Z"
   },
   {
    "duration": 133,
    "start_time": "2023-05-07T04:14:18.695Z"
   },
   {
    "duration": 156,
    "start_time": "2023-05-07T04:14:31.531Z"
   },
   {
    "duration": 141,
    "start_time": "2023-05-07T04:14:43.199Z"
   },
   {
    "duration": 136,
    "start_time": "2023-05-07T04:14:47.589Z"
   },
   {
    "duration": 9,
    "start_time": "2023-05-07T04:20:30.073Z"
   },
   {
    "duration": 126,
    "start_time": "2023-05-07T04:20:32.293Z"
   },
   {
    "duration": 40,
    "start_time": "2023-05-07T04:27:27.823Z"
   },
   {
    "duration": 22,
    "start_time": "2023-05-07T04:28:04.452Z"
   },
   {
    "duration": 47,
    "start_time": "2023-05-07T04:28:28.996Z"
   },
   {
    "duration": 22,
    "start_time": "2023-05-07T04:29:16.859Z"
   },
   {
    "duration": 25,
    "start_time": "2023-05-07T04:29:37.764Z"
   },
   {
    "duration": 20,
    "start_time": "2023-05-07T04:30:17.939Z"
   },
   {
    "duration": 20,
    "start_time": "2023-05-07T04:31:36.156Z"
   },
   {
    "duration": 19,
    "start_time": "2023-05-07T04:31:37.555Z"
   },
   {
    "duration": 10,
    "start_time": "2023-05-07T04:32:42.658Z"
   },
   {
    "duration": 310,
    "start_time": "2023-05-07T04:33:24.467Z"
   },
   {
    "duration": 288,
    "start_time": "2023-05-07T04:34:19.316Z"
   },
   {
    "duration": 286,
    "start_time": "2023-05-07T04:34:34.450Z"
   },
   {
    "duration": 347,
    "start_time": "2023-05-07T04:36:15.964Z"
   },
   {
    "duration": 250,
    "start_time": "2023-05-07T04:36:28.124Z"
   },
   {
    "duration": 208,
    "start_time": "2023-05-07T04:36:32.972Z"
   },
   {
    "duration": 174,
    "start_time": "2023-05-07T04:37:51.852Z"
   },
   {
    "duration": 14,
    "start_time": "2023-05-07T04:38:50.805Z"
   },
   {
    "duration": 18,
    "start_time": "2023-05-07T04:40:22.213Z"
   },
   {
    "duration": 21,
    "start_time": "2023-05-07T04:40:27.600Z"
   },
   {
    "duration": 22,
    "start_time": "2023-05-07T04:41:32.333Z"
   },
   {
    "duration": 6,
    "start_time": "2023-05-07T04:42:00.057Z"
   },
   {
    "duration": 9,
    "start_time": "2023-05-07T04:42:11.724Z"
   },
   {
    "duration": 18,
    "start_time": "2023-05-07T04:42:52.076Z"
   },
   {
    "duration": 20,
    "start_time": "2023-05-07T04:43:02.845Z"
   },
   {
    "duration": 36,
    "start_time": "2023-05-07T04:43:18.732Z"
   },
   {
    "duration": 19,
    "start_time": "2023-05-07T04:44:31.310Z"
   },
   {
    "duration": 35,
    "start_time": "2023-05-07T04:44:54.563Z"
   },
   {
    "duration": 19,
    "start_time": "2023-05-07T04:45:06.893Z"
   },
   {
    "duration": 22,
    "start_time": "2023-05-07T04:45:15.173Z"
   },
   {
    "duration": 22,
    "start_time": "2023-05-07T04:46:07.461Z"
   },
   {
    "duration": 33,
    "start_time": "2023-05-07T04:46:12.125Z"
   },
   {
    "duration": 25,
    "start_time": "2023-05-07T05:07:28.578Z"
   },
   {
    "duration": 26,
    "start_time": "2023-05-07T05:07:34.233Z"
   },
   {
    "duration": 19,
    "start_time": "2023-05-07T05:07:38.667Z"
   },
   {
    "duration": 36,
    "start_time": "2023-05-07T05:07:58.491Z"
   },
   {
    "duration": 94,
    "start_time": "2023-05-07T05:08:39.533Z"
   },
   {
    "duration": 8,
    "start_time": "2023-05-07T05:11:54.740Z"
   },
   {
    "duration": 5,
    "start_time": "2023-05-07T05:11:56.505Z"
   },
   {
    "duration": 12,
    "start_time": "2023-05-07T05:12:43.988Z"
   },
   {
    "duration": 8,
    "start_time": "2023-05-07T05:14:22.864Z"
   },
   {
    "duration": 12,
    "start_time": "2023-05-07T05:14:36.758Z"
   },
   {
    "duration": 13,
    "start_time": "2023-05-07T05:14:45.262Z"
   },
   {
    "duration": 32,
    "start_time": "2023-05-07T05:15:04.599Z"
   },
   {
    "duration": 15,
    "start_time": "2023-05-07T05:15:28.149Z"
   },
   {
    "duration": 1472,
    "start_time": "2023-05-07T05:15:32.962Z"
   },
   {
    "duration": 49,
    "start_time": "2023-05-07T05:16:04.228Z"
   },
   {
    "duration": 9,
    "start_time": "2023-05-07T05:16:08.596Z"
   },
   {
    "duration": 15,
    "start_time": "2023-05-07T05:16:19.158Z"
   },
   {
    "duration": 7,
    "start_time": "2023-05-07T05:18:14.725Z"
   },
   {
    "duration": 6,
    "start_time": "2023-05-07T05:18:17.428Z"
   },
   {
    "duration": 1195,
    "start_time": "2023-05-07T05:18:39.986Z"
   },
   {
    "duration": 86,
    "start_time": "2023-05-07T05:18:41.186Z"
   },
   {
    "duration": 21,
    "start_time": "2023-05-07T05:18:41.282Z"
   },
   {
    "duration": 13,
    "start_time": "2023-05-07T05:18:41.307Z"
   },
   {
    "duration": 13,
    "start_time": "2023-05-07T05:18:41.323Z"
   },
   {
    "duration": 25,
    "start_time": "2023-05-07T05:18:41.338Z"
   },
   {
    "duration": 42,
    "start_time": "2023-05-07T05:18:41.365Z"
   },
   {
    "duration": 10,
    "start_time": "2023-05-07T05:18:41.409Z"
   },
   {
    "duration": 10,
    "start_time": "2023-05-07T05:18:41.421Z"
   },
   {
    "duration": 53,
    "start_time": "2023-05-07T05:18:41.433Z"
   },
   {
    "duration": 11,
    "start_time": "2023-05-07T05:18:41.488Z"
   },
   {
    "duration": 6,
    "start_time": "2023-05-07T05:18:41.500Z"
   },
   {
    "duration": 7,
    "start_time": "2023-05-07T05:18:41.507Z"
   },
   {
    "duration": 7,
    "start_time": "2023-05-07T05:18:41.517Z"
   },
   {
    "duration": 4,
    "start_time": "2023-05-07T05:18:41.525Z"
   },
   {
    "duration": 45,
    "start_time": "2023-05-07T05:18:41.531Z"
   },
   {
    "duration": 17,
    "start_time": "2023-05-07T05:18:41.578Z"
   },
   {
    "duration": 6,
    "start_time": "2023-05-07T05:18:41.597Z"
   },
   {
    "duration": 148,
    "start_time": "2023-05-07T05:18:41.605Z"
   },
   {
    "duration": 143,
    "start_time": "2023-05-07T05:18:41.764Z"
   },
   {
    "duration": 4,
    "start_time": "2023-05-07T05:18:41.909Z"
   },
   {
    "duration": 38,
    "start_time": "2023-05-07T05:18:41.915Z"
   },
   {
    "duration": 216,
    "start_time": "2023-05-07T05:18:41.963Z"
   },
   {
    "duration": 12,
    "start_time": "2023-05-07T05:18:42.181Z"
   },
   {
    "duration": 132,
    "start_time": "2023-05-07T05:18:42.195Z"
   },
   {
    "duration": 90,
    "start_time": "2023-05-07T05:18:42.328Z"
   },
   {
    "duration": 25,
    "start_time": "2023-05-07T05:18:42.419Z"
   },
   {
    "duration": 202,
    "start_time": "2023-05-07T05:18:42.446Z"
   },
   {
    "duration": 14,
    "start_time": "2023-05-07T05:18:42.649Z"
   },
   {
    "duration": 212,
    "start_time": "2023-05-07T05:18:42.665Z"
   },
   {
    "duration": 10,
    "start_time": "2023-05-07T05:18:42.879Z"
   },
   {
    "duration": 150,
    "start_time": "2023-05-07T05:18:42.892Z"
   },
   {
    "duration": 34,
    "start_time": "2023-05-07T05:18:43.046Z"
   },
   {
    "duration": 23,
    "start_time": "2023-05-07T05:18:43.081Z"
   },
   {
    "duration": 19,
    "start_time": "2023-05-07T05:18:43.106Z"
   },
   {
    "duration": 30,
    "start_time": "2023-05-07T05:18:43.127Z"
   },
   {
    "duration": 49,
    "start_time": "2023-05-07T05:18:43.159Z"
   },
   {
    "duration": 208,
    "start_time": "2023-05-07T05:18:43.210Z"
   },
   {
    "duration": 33,
    "start_time": "2023-05-07T05:18:43.420Z"
   },
   {
    "duration": 435,
    "start_time": "2023-05-07T05:18:43.455Z"
   },
   {
    "duration": 12,
    "start_time": "2023-05-07T05:18:52.166Z"
   },
   {
    "duration": 11,
    "start_time": "2023-05-07T05:18:58.081Z"
   },
   {
    "duration": 29,
    "start_time": "2023-05-07T05:19:00.300Z"
   },
   {
    "duration": 172,
    "start_time": "2023-05-07T05:19:03.120Z"
   },
   {
    "duration": 5,
    "start_time": "2023-05-07T05:19:07.092Z"
   },
   {
    "duration": 10,
    "start_time": "2023-05-07T05:19:16.388Z"
   },
   {
    "duration": 9,
    "start_time": "2023-05-07T05:19:19.085Z"
   },
   {
    "duration": 11,
    "start_time": "2023-05-07T05:19:23.290Z"
   },
   {
    "duration": 192,
    "start_time": "2023-05-07T05:22:45.232Z"
   },
   {
    "duration": 9,
    "start_time": "2023-05-07T05:22:47.867Z"
   },
   {
    "duration": 19,
    "start_time": "2023-05-07T05:22:49.854Z"
   },
   {
    "duration": 11,
    "start_time": "2023-05-07T05:26:26.597Z"
   },
   {
    "duration": 16,
    "start_time": "2023-05-07T05:27:21.999Z"
   },
   {
    "duration": 8,
    "start_time": "2023-05-07T05:27:29.587Z"
   },
   {
    "duration": 11,
    "start_time": "2023-05-07T05:27:34.678Z"
   },
   {
    "duration": 19,
    "start_time": "2023-05-07T05:28:09.027Z"
   },
   {
    "duration": 18,
    "start_time": "2023-05-07T05:28:43.762Z"
   },
   {
    "duration": 11,
    "start_time": "2023-05-07T05:32:15.501Z"
   },
   {
    "duration": 4,
    "start_time": "2023-05-07T05:32:31.208Z"
   },
   {
    "duration": 14,
    "start_time": "2023-05-07T05:32:36.467Z"
   },
   {
    "duration": 24,
    "start_time": "2023-05-07T05:33:27.968Z"
   },
   {
    "duration": 6,
    "start_time": "2023-05-07T05:33:33.325Z"
   },
   {
    "duration": 6,
    "start_time": "2023-05-07T05:33:44.667Z"
   },
   {
    "duration": 13,
    "start_time": "2023-05-07T05:33:51.560Z"
   },
   {
    "duration": 6,
    "start_time": "2023-05-07T05:35:25.503Z"
   },
   {
    "duration": 29,
    "start_time": "2023-05-07T05:35:45.249Z"
   },
   {
    "duration": 220,
    "start_time": "2023-05-07T05:35:47.603Z"
   },
   {
    "duration": 15,
    "start_time": "2023-05-07T05:36:06.550Z"
   },
   {
    "duration": 5,
    "start_time": "2023-05-07T05:36:30.610Z"
   },
   {
    "duration": 14,
    "start_time": "2023-05-07T05:38:06.500Z"
   },
   {
    "duration": 18,
    "start_time": "2023-05-07T05:38:28.302Z"
   },
   {
    "duration": 5,
    "start_time": "2023-05-07T05:38:40.588Z"
   },
   {
    "duration": 15,
    "start_time": "2023-05-07T05:41:34.299Z"
   },
   {
    "duration": 14,
    "start_time": "2023-05-07T05:41:52.866Z"
   },
   {
    "duration": 15,
    "start_time": "2023-05-07T05:41:54.682Z"
   },
   {
    "duration": 32,
    "start_time": "2023-05-07T05:42:09.748Z"
   },
   {
    "duration": 13,
    "start_time": "2023-05-07T05:42:34.750Z"
   },
   {
    "duration": 5,
    "start_time": "2023-05-07T05:44:36.319Z"
   },
   {
    "duration": 8,
    "start_time": "2023-05-07T05:44:49.854Z"
   },
   {
    "duration": 6,
    "start_time": "2023-05-07T05:45:15.831Z"
   },
   {
    "duration": 8,
    "start_time": "2023-05-07T05:45:35.067Z"
   },
   {
    "duration": 218,
    "start_time": "2023-05-07T06:07:46.275Z"
   },
   {
    "duration": 185,
    "start_time": "2023-05-07T06:07:52.300Z"
   },
   {
    "duration": 142,
    "start_time": "2023-05-07T06:08:59.577Z"
   },
   {
    "duration": 229,
    "start_time": "2023-05-07T06:11:11.715Z"
   },
   {
    "duration": 221,
    "start_time": "2023-05-07T06:11:21.407Z"
   },
   {
    "duration": 189,
    "start_time": "2023-05-07T06:11:43.667Z"
   },
   {
    "duration": 215,
    "start_time": "2023-05-07T06:12:36.075Z"
   },
   {
    "duration": 100,
    "start_time": "2023-05-07T06:13:36.431Z"
   },
   {
    "duration": 1365,
    "start_time": "2023-05-07T06:22:23.817Z"
   },
   {
    "duration": 83,
    "start_time": "2023-05-07T06:22:25.193Z"
   },
   {
    "duration": 20,
    "start_time": "2023-05-07T06:22:25.277Z"
   },
   {
    "duration": 26,
    "start_time": "2023-05-07T06:22:25.300Z"
   },
   {
    "duration": 17,
    "start_time": "2023-05-07T06:22:25.328Z"
   },
   {
    "duration": 72,
    "start_time": "2023-05-07T06:22:25.346Z"
   },
   {
    "duration": 19,
    "start_time": "2023-05-07T06:22:25.420Z"
   },
   {
    "duration": 64,
    "start_time": "2023-05-07T06:22:25.447Z"
   },
   {
    "duration": 76,
    "start_time": "2023-05-07T06:22:25.513Z"
   },
   {
    "duration": 15,
    "start_time": "2023-05-07T06:22:25.592Z"
   },
   {
    "duration": 12,
    "start_time": "2023-05-07T06:22:25.610Z"
   },
   {
    "duration": 31,
    "start_time": "2023-05-07T06:22:25.623Z"
   },
   {
    "duration": 25,
    "start_time": "2023-05-07T06:22:25.669Z"
   },
   {
    "duration": 12,
    "start_time": "2023-05-07T06:22:25.695Z"
   },
   {
    "duration": 5,
    "start_time": "2023-05-07T06:22:25.709Z"
   },
   {
    "duration": 23,
    "start_time": "2023-05-07T06:22:25.715Z"
   },
   {
    "duration": 8,
    "start_time": "2023-05-07T06:22:25.739Z"
   },
   {
    "duration": 58,
    "start_time": "2023-05-07T06:22:25.748Z"
   },
   {
    "duration": 175,
    "start_time": "2023-05-07T06:22:25.808Z"
   },
   {
    "duration": 139,
    "start_time": "2023-05-07T06:22:25.984Z"
   },
   {
    "duration": 11,
    "start_time": "2023-05-07T06:22:26.125Z"
   },
   {
    "duration": 56,
    "start_time": "2023-05-07T06:22:26.140Z"
   },
   {
    "duration": 226,
    "start_time": "2023-05-07T06:22:26.198Z"
   },
   {
    "duration": 168,
    "start_time": "2023-05-07T06:22:26.426Z"
   },
   {
    "duration": 5,
    "start_time": "2023-05-07T06:22:26.596Z"
   },
   {
    "duration": 160,
    "start_time": "2023-05-07T06:22:26.603Z"
   },
   {
    "duration": 108,
    "start_time": "2023-05-07T06:22:26.772Z"
   },
   {
    "duration": 8,
    "start_time": "2023-05-07T06:22:26.894Z"
   },
   {
    "duration": 178,
    "start_time": "2023-05-07T06:22:26.903Z"
   },
   {
    "duration": 10,
    "start_time": "2023-05-07T06:22:27.087Z"
   },
   {
    "duration": 171,
    "start_time": "2023-05-07T06:22:27.098Z"
   },
   {
    "duration": 9,
    "start_time": "2023-05-07T06:22:27.271Z"
   },
   {
    "duration": 205,
    "start_time": "2023-05-07T06:22:27.282Z"
   },
   {
    "duration": 19,
    "start_time": "2023-05-07T06:22:27.489Z"
   },
   {
    "duration": 9,
    "start_time": "2023-05-07T06:22:27.510Z"
   },
   {
    "duration": 22,
    "start_time": "2023-05-07T06:22:27.546Z"
   },
   {
    "duration": 36,
    "start_time": "2023-05-07T06:22:27.569Z"
   },
   {
    "duration": 97,
    "start_time": "2023-05-07T06:22:27.606Z"
   },
   {
    "duration": 213,
    "start_time": "2023-05-07T06:22:27.704Z"
   },
   {
    "duration": 33,
    "start_time": "2023-05-07T06:22:27.918Z"
   },
   {
    "duration": 230,
    "start_time": "2023-05-07T06:22:27.958Z"
   },
   {
    "duration": 4,
    "start_time": "2023-05-07T06:22:28.189Z"
   },
   {
    "duration": 11,
    "start_time": "2023-05-07T06:22:28.195Z"
   },
   {
    "duration": 37,
    "start_time": "2023-05-07T06:22:28.207Z"
   },
   {
    "duration": 98,
    "start_time": "2023-05-07T06:22:28.254Z"
   },
   {
    "duration": 5,
    "start_time": "2023-05-07T06:22:28.354Z"
   },
   {
    "duration": 39,
    "start_time": "2023-05-07T06:22:28.361Z"
   },
   {
    "duration": 12,
    "start_time": "2023-05-07T06:22:28.402Z"
   },
   {
    "duration": 7,
    "start_time": "2023-05-07T06:22:28.416Z"
   },
   {
    "duration": 30,
    "start_time": "2023-05-07T06:22:28.424Z"
   },
   {
    "duration": 43,
    "start_time": "2023-05-07T06:22:28.456Z"
   },
   {
    "duration": 7,
    "start_time": "2023-05-07T06:22:28.500Z"
   },
   {
    "duration": 6,
    "start_time": "2023-05-07T06:22:28.509Z"
   },
   {
    "duration": 12,
    "start_time": "2023-05-07T06:22:28.516Z"
   },
   {
    "duration": 27,
    "start_time": "2023-05-07T06:22:28.529Z"
   },
   {
    "duration": 34,
    "start_time": "2023-05-07T06:22:28.558Z"
   },
   {
    "duration": 20,
    "start_time": "2023-05-07T06:22:28.593Z"
   },
   {
    "duration": 208,
    "start_time": "2023-05-07T06:22:28.615Z"
   },
   {
    "duration": 7,
    "start_time": "2023-05-07T06:22:28.824Z"
   },
   {
    "duration": 50,
    "start_time": "2023-05-07T06:22:28.840Z"
   },
   {
    "duration": 1518,
    "start_time": "2023-05-07T09:10:06.985Z"
   },
   {
    "duration": 560,
    "start_time": "2023-05-07T09:10:08.506Z"
   },
   {
    "duration": 14,
    "start_time": "2023-05-07T09:10:09.068Z"
   },
   {
    "duration": 28,
    "start_time": "2023-05-07T09:10:09.084Z"
   },
   {
    "duration": 20,
    "start_time": "2023-05-07T09:10:09.115Z"
   },
   {
    "duration": 10,
    "start_time": "2023-05-07T09:10:09.137Z"
   },
   {
    "duration": 40,
    "start_time": "2023-05-07T09:10:09.148Z"
   },
   {
    "duration": 33,
    "start_time": "2023-05-07T09:10:09.190Z"
   },
   {
    "duration": 21,
    "start_time": "2023-05-07T09:10:09.224Z"
   },
   {
    "duration": 20,
    "start_time": "2023-05-07T09:10:09.247Z"
   },
   {
    "duration": 22,
    "start_time": "2023-05-07T09:10:09.269Z"
   },
   {
    "duration": 12,
    "start_time": "2023-05-07T09:10:09.293Z"
   },
   {
    "duration": 24,
    "start_time": "2023-05-07T09:10:09.306Z"
   },
   {
    "duration": 10,
    "start_time": "2023-05-07T09:10:09.332Z"
   },
   {
    "duration": 6,
    "start_time": "2023-05-07T09:10:09.344Z"
   },
   {
    "duration": 36,
    "start_time": "2023-05-07T09:10:09.352Z"
   },
   {
    "duration": 8,
    "start_time": "2023-05-07T09:10:09.390Z"
   },
   {
    "duration": 11,
    "start_time": "2023-05-07T09:10:09.399Z"
   },
   {
    "duration": 147,
    "start_time": "2023-05-07T09:10:09.411Z"
   },
   {
    "duration": 136,
    "start_time": "2023-05-07T09:10:09.559Z"
   },
   {
    "duration": 5,
    "start_time": "2023-05-07T09:10:09.697Z"
   },
   {
    "duration": 19,
    "start_time": "2023-05-07T09:10:09.703Z"
   },
   {
    "duration": 182,
    "start_time": "2023-05-07T09:10:09.723Z"
   },
   {
    "duration": 145,
    "start_time": "2023-05-07T09:10:09.907Z"
   },
   {
    "duration": 6,
    "start_time": "2023-05-07T09:10:10.053Z"
   },
   {
    "duration": 167,
    "start_time": "2023-05-07T09:10:10.062Z"
   },
   {
    "duration": 88,
    "start_time": "2023-05-07T09:10:10.231Z"
   },
   {
    "duration": 8,
    "start_time": "2023-05-07T09:10:10.323Z"
   },
   {
    "duration": 155,
    "start_time": "2023-05-07T09:10:10.333Z"
   },
   {
    "duration": 9,
    "start_time": "2023-05-07T09:10:10.490Z"
   },
   {
    "duration": 174,
    "start_time": "2023-05-07T09:10:10.501Z"
   },
   {
    "duration": 10,
    "start_time": "2023-05-07T09:10:10.677Z"
   },
   {
    "duration": 170,
    "start_time": "2023-05-07T09:10:10.689Z"
   },
   {
    "duration": 20,
    "start_time": "2023-05-07T09:10:10.860Z"
   },
   {
    "duration": 10,
    "start_time": "2023-05-07T09:10:10.882Z"
   },
   {
    "duration": 30,
    "start_time": "2023-05-07T09:10:10.894Z"
   },
   {
    "duration": 33,
    "start_time": "2023-05-07T09:10:10.925Z"
   },
   {
    "duration": 95,
    "start_time": "2023-05-07T09:10:10.960Z"
   },
   {
    "duration": 228,
    "start_time": "2023-05-07T09:10:11.057Z"
   },
   {
    "duration": 17,
    "start_time": "2023-05-07T09:10:11.287Z"
   },
   {
    "duration": 214,
    "start_time": "2023-05-07T09:10:11.306Z"
   },
   {
    "duration": 4,
    "start_time": "2023-05-07T09:10:11.522Z"
   },
   {
    "duration": 11,
    "start_time": "2023-05-07T09:10:11.528Z"
   },
   {
    "duration": 30,
    "start_time": "2023-05-07T09:10:11.541Z"
   },
   {
    "duration": 94,
    "start_time": "2023-05-07T09:10:11.573Z"
   },
   {
    "duration": 5,
    "start_time": "2023-05-07T09:10:11.668Z"
   },
   {
    "duration": 16,
    "start_time": "2023-05-07T09:10:11.675Z"
   },
   {
    "duration": 25,
    "start_time": "2023-05-07T09:10:11.692Z"
   },
   {
    "duration": 14,
    "start_time": "2023-05-07T09:10:11.719Z"
   },
   {
    "duration": 26,
    "start_time": "2023-05-07T09:10:11.735Z"
   },
   {
    "duration": 16,
    "start_time": "2023-05-07T09:10:11.762Z"
   },
   {
    "duration": 25,
    "start_time": "2023-05-07T09:10:11.780Z"
   },
   {
    "duration": 27,
    "start_time": "2023-05-07T09:10:11.807Z"
   },
   {
    "duration": 40,
    "start_time": "2023-05-07T09:10:11.837Z"
   },
   {
    "duration": 14,
    "start_time": "2023-05-07T09:10:11.879Z"
   },
   {
    "duration": 19,
    "start_time": "2023-05-07T09:10:11.895Z"
   },
   {
    "duration": 28,
    "start_time": "2023-05-07T09:10:11.916Z"
   },
   {
    "duration": 233,
    "start_time": "2023-05-07T09:10:11.946Z"
   },
   {
    "duration": 7,
    "start_time": "2023-05-07T09:10:12.181Z"
   },
   {
    "duration": 15,
    "start_time": "2023-05-07T09:10:12.190Z"
   },
   {
    "duration": 9,
    "start_time": "2023-05-07T09:20:14.859Z"
   },
   {
    "duration": 108,
    "start_time": "2023-05-07T09:21:25.504Z"
   },
   {
    "duration": 10,
    "start_time": "2023-05-07T09:21:36.608Z"
   },
   {
    "duration": 1274,
    "start_time": "2023-05-07T09:26:53.209Z"
   },
   {
    "duration": 70,
    "start_time": "2023-05-07T09:26:54.485Z"
   },
   {
    "duration": 14,
    "start_time": "2023-05-07T09:26:54.557Z"
   },
   {
    "duration": 29,
    "start_time": "2023-05-07T09:26:54.573Z"
   },
   {
    "duration": 18,
    "start_time": "2023-05-07T09:26:54.604Z"
   },
   {
    "duration": 14,
    "start_time": "2023-05-07T09:26:54.624Z"
   },
   {
    "duration": 25,
    "start_time": "2023-05-07T09:26:54.640Z"
   },
   {
    "duration": 19,
    "start_time": "2023-05-07T09:26:54.667Z"
   },
   {
    "duration": 19,
    "start_time": "2023-05-07T09:26:54.688Z"
   },
   {
    "duration": 14,
    "start_time": "2023-05-07T09:26:54.710Z"
   },
   {
    "duration": 12,
    "start_time": "2023-05-07T09:26:54.726Z"
   },
   {
    "duration": 12,
    "start_time": "2023-05-07T09:26:54.740Z"
   },
   {
    "duration": 10,
    "start_time": "2023-05-07T09:26:54.754Z"
   },
   {
    "duration": 19,
    "start_time": "2023-05-07T09:26:54.766Z"
   },
   {
    "duration": 8,
    "start_time": "2023-05-07T09:26:54.788Z"
   },
   {
    "duration": 13,
    "start_time": "2023-05-07T09:26:54.819Z"
   },
   {
    "duration": 11,
    "start_time": "2023-05-07T09:26:54.835Z"
   },
   {
    "duration": 8,
    "start_time": "2023-05-07T09:26:54.847Z"
   },
   {
    "duration": 176,
    "start_time": "2023-05-07T09:26:54.856Z"
   },
   {
    "duration": 147,
    "start_time": "2023-05-07T09:26:55.034Z"
   },
   {
    "duration": 6,
    "start_time": "2023-05-07T09:26:55.183Z"
   },
   {
    "duration": 30,
    "start_time": "2023-05-07T09:26:55.191Z"
   },
   {
    "duration": 200,
    "start_time": "2023-05-07T09:26:55.223Z"
   },
   {
    "duration": 195,
    "start_time": "2023-05-07T09:26:55.425Z"
   },
   {
    "duration": 8,
    "start_time": "2023-05-07T09:26:55.622Z"
   },
   {
    "duration": 157,
    "start_time": "2023-05-07T09:26:55.632Z"
   },
   {
    "duration": 101,
    "start_time": "2023-05-07T09:26:55.791Z"
   },
   {
    "duration": 25,
    "start_time": "2023-05-07T09:26:55.896Z"
   },
   {
    "duration": 161,
    "start_time": "2023-05-07T09:26:55.923Z"
   },
   {
    "duration": 9,
    "start_time": "2023-05-07T09:26:56.086Z"
   },
   {
    "duration": 177,
    "start_time": "2023-05-07T09:26:56.097Z"
   },
   {
    "duration": 12,
    "start_time": "2023-05-07T09:26:56.277Z"
   },
   {
    "duration": 172,
    "start_time": "2023-05-07T09:26:56.291Z"
   },
   {
    "duration": 21,
    "start_time": "2023-05-07T09:26:56.465Z"
   },
   {
    "duration": 29,
    "start_time": "2023-05-07T09:26:56.488Z"
   },
   {
    "duration": 17,
    "start_time": "2023-05-07T09:26:56.519Z"
   },
   {
    "duration": 18,
    "start_time": "2023-05-07T09:26:56.537Z"
   },
   {
    "duration": 116,
    "start_time": "2023-05-07T09:26:56.557Z"
   },
   {
    "duration": 216,
    "start_time": "2023-05-07T09:26:56.675Z"
   },
   {
    "duration": 33,
    "start_time": "2023-05-07T09:26:56.894Z"
   },
   {
    "duration": 229,
    "start_time": "2023-05-07T09:26:56.930Z"
   },
   {
    "duration": 5,
    "start_time": "2023-05-07T09:26:57.162Z"
   },
   {
    "duration": 41,
    "start_time": "2023-05-07T09:26:57.169Z"
   },
   {
    "duration": 55,
    "start_time": "2023-05-07T09:26:57.212Z"
   },
   {
    "duration": 90,
    "start_time": "2023-05-07T09:26:57.269Z"
   },
   {
    "duration": 6,
    "start_time": "2023-05-07T09:26:57.362Z"
   },
   {
    "duration": 19,
    "start_time": "2023-05-07T09:26:57.371Z"
   },
   {
    "duration": 20,
    "start_time": "2023-05-07T09:26:57.393Z"
   },
   {
    "duration": 19,
    "start_time": "2023-05-07T09:26:57.417Z"
   },
   {
    "duration": 26,
    "start_time": "2023-05-07T09:26:57.438Z"
   },
   {
    "duration": 25,
    "start_time": "2023-05-07T09:26:57.466Z"
   },
   {
    "duration": 19,
    "start_time": "2023-05-07T09:26:57.494Z"
   },
   {
    "duration": 29,
    "start_time": "2023-05-07T09:26:57.515Z"
   },
   {
    "duration": 24,
    "start_time": "2023-05-07T09:26:57.546Z"
   },
   {
    "duration": 9,
    "start_time": "2023-05-07T09:26:57.573Z"
   },
   {
    "duration": 12,
    "start_time": "2023-05-07T09:26:57.584Z"
   },
   {
    "duration": 22,
    "start_time": "2023-05-07T09:26:57.598Z"
   },
   {
    "duration": 193,
    "start_time": "2023-05-07T09:26:57.622Z"
   },
   {
    "duration": 8,
    "start_time": "2023-05-07T09:26:57.817Z"
   },
   {
    "duration": 27,
    "start_time": "2023-05-07T09:26:57.827Z"
   },
   {
    "duration": 53,
    "start_time": "2023-05-07T11:52:37.634Z"
   },
   {
    "duration": 1266,
    "start_time": "2023-05-07T11:52:50.408Z"
   },
   {
    "duration": 319,
    "start_time": "2023-05-07T11:52:51.676Z"
   },
   {
    "duration": 12,
    "start_time": "2023-05-07T11:52:51.996Z"
   },
   {
    "duration": 12,
    "start_time": "2023-05-07T11:52:52.010Z"
   },
   {
    "duration": 12,
    "start_time": "2023-05-07T11:52:52.024Z"
   },
   {
    "duration": 8,
    "start_time": "2023-05-07T11:52:52.038Z"
   },
   {
    "duration": 28,
    "start_time": "2023-05-07T11:52:52.047Z"
   },
   {
    "duration": 17,
    "start_time": "2023-05-07T11:52:52.077Z"
   },
   {
    "duration": 10,
    "start_time": "2023-05-07T11:52:52.096Z"
   },
   {
    "duration": 6,
    "start_time": "2023-05-07T11:52:52.108Z"
   },
   {
    "duration": 16,
    "start_time": "2023-05-07T11:52:52.115Z"
   },
   {
    "duration": 8,
    "start_time": "2023-05-07T11:52:52.132Z"
   },
   {
    "duration": 11,
    "start_time": "2023-05-07T11:52:52.142Z"
   },
   {
    "duration": 10,
    "start_time": "2023-05-07T11:52:52.156Z"
   },
   {
    "duration": 9,
    "start_time": "2023-05-07T11:52:52.167Z"
   },
   {
    "duration": 14,
    "start_time": "2023-05-07T11:52:52.177Z"
   },
   {
    "duration": 12,
    "start_time": "2023-05-07T11:52:52.192Z"
   },
   {
    "duration": 7,
    "start_time": "2023-05-07T11:52:52.206Z"
   },
   {
    "duration": 136,
    "start_time": "2023-05-07T11:52:52.214Z"
   },
   {
    "duration": 115,
    "start_time": "2023-05-07T11:52:52.352Z"
   },
   {
    "duration": 4,
    "start_time": "2023-05-07T11:52:52.469Z"
   },
   {
    "duration": 11,
    "start_time": "2023-05-07T11:52:52.474Z"
   },
   {
    "duration": 161,
    "start_time": "2023-05-07T11:52:52.486Z"
   },
   {
    "duration": 121,
    "start_time": "2023-05-07T11:52:52.648Z"
   },
   {
    "duration": 5,
    "start_time": "2023-05-07T11:52:52.771Z"
   },
   {
    "duration": 121,
    "start_time": "2023-05-07T11:52:52.778Z"
   },
   {
    "duration": 84,
    "start_time": "2023-05-07T11:52:52.901Z"
   },
   {
    "duration": 7,
    "start_time": "2023-05-07T11:52:52.988Z"
   },
   {
    "duration": 138,
    "start_time": "2023-05-07T11:52:52.997Z"
   },
   {
    "duration": 8,
    "start_time": "2023-05-07T11:52:53.137Z"
   },
   {
    "duration": 158,
    "start_time": "2023-05-07T11:52:53.146Z"
   },
   {
    "duration": 9,
    "start_time": "2023-05-07T11:52:53.306Z"
   },
   {
    "duration": 130,
    "start_time": "2023-05-07T11:52:53.317Z"
   },
   {
    "duration": 16,
    "start_time": "2023-05-07T11:52:53.449Z"
   },
   {
    "duration": 21,
    "start_time": "2023-05-07T11:52:53.466Z"
   },
   {
    "duration": 23,
    "start_time": "2023-05-07T11:52:53.488Z"
   },
   {
    "duration": 16,
    "start_time": "2023-05-07T11:52:53.513Z"
   },
   {
    "duration": 86,
    "start_time": "2023-05-07T11:52:53.531Z"
   },
   {
    "duration": 209,
    "start_time": "2023-05-07T11:52:53.619Z"
   },
   {
    "duration": 16,
    "start_time": "2023-05-07T11:52:53.833Z"
   },
   {
    "duration": 204,
    "start_time": "2023-05-07T11:52:53.851Z"
   },
   {
    "duration": 5,
    "start_time": "2023-05-07T11:52:54.057Z"
   },
   {
    "duration": 121,
    "start_time": "2023-05-07T11:52:54.063Z"
   },
   {
    "duration": 9,
    "start_time": "2023-05-07T11:53:28.292Z"
   },
   {
    "duration": 1118,
    "start_time": "2023-05-07T12:02:48.998Z"
   },
   {
    "duration": 74,
    "start_time": "2023-05-07T12:02:50.118Z"
   },
   {
    "duration": 12,
    "start_time": "2023-05-07T12:02:50.193Z"
   },
   {
    "duration": 22,
    "start_time": "2023-05-07T12:02:50.206Z"
   },
   {
    "duration": 16,
    "start_time": "2023-05-07T12:02:50.231Z"
   },
   {
    "duration": 20,
    "start_time": "2023-05-07T12:02:50.249Z"
   },
   {
    "duration": 19,
    "start_time": "2023-05-07T12:02:50.271Z"
   },
   {
    "duration": 23,
    "start_time": "2023-05-07T12:02:50.291Z"
   },
   {
    "duration": 12,
    "start_time": "2023-05-07T12:02:50.315Z"
   },
   {
    "duration": 5,
    "start_time": "2023-05-07T12:02:50.328Z"
   },
   {
    "duration": 26,
    "start_time": "2023-05-07T12:02:50.335Z"
   },
   {
    "duration": 20,
    "start_time": "2023-05-07T12:02:50.363Z"
   },
   {
    "duration": 10,
    "start_time": "2023-05-07T12:02:50.385Z"
   },
   {
    "duration": 8,
    "start_time": "2023-05-07T12:02:50.399Z"
   },
   {
    "duration": 13,
    "start_time": "2023-05-07T12:02:50.409Z"
   },
   {
    "duration": 55,
    "start_time": "2023-05-07T12:02:50.424Z"
   },
   {
    "duration": 21,
    "start_time": "2023-05-07T12:02:50.481Z"
   },
   {
    "duration": 18,
    "start_time": "2023-05-07T12:02:50.503Z"
   },
   {
    "duration": 149,
    "start_time": "2023-05-07T12:02:50.523Z"
   },
   {
    "duration": 130,
    "start_time": "2023-05-07T12:02:50.674Z"
   },
   {
    "duration": 4,
    "start_time": "2023-05-07T12:02:50.806Z"
   },
   {
    "duration": 21,
    "start_time": "2023-05-07T12:02:50.812Z"
   },
   {
    "duration": 194,
    "start_time": "2023-05-07T12:02:50.836Z"
   },
   {
    "duration": 150,
    "start_time": "2023-05-07T12:02:51.032Z"
   },
   {
    "duration": 6,
    "start_time": "2023-05-07T12:02:51.184Z"
   },
   {
    "duration": 133,
    "start_time": "2023-05-07T12:02:51.191Z"
   },
   {
    "duration": 99,
    "start_time": "2023-05-07T12:02:51.326Z"
   },
   {
    "duration": 16,
    "start_time": "2023-05-07T12:02:51.427Z"
   },
   {
    "duration": 169,
    "start_time": "2023-05-07T12:02:51.445Z"
   },
   {
    "duration": 18,
    "start_time": "2023-05-07T12:02:51.616Z"
   },
   {
    "duration": 176,
    "start_time": "2023-05-07T12:02:51.637Z"
   },
   {
    "duration": 20,
    "start_time": "2023-05-07T12:02:51.814Z"
   },
   {
    "duration": 155,
    "start_time": "2023-05-07T12:02:51.836Z"
   },
   {
    "duration": 19,
    "start_time": "2023-05-07T12:02:51.992Z"
   },
   {
    "duration": 37,
    "start_time": "2023-05-07T12:02:52.013Z"
   },
   {
    "duration": 23,
    "start_time": "2023-05-07T12:02:52.051Z"
   },
   {
    "duration": 14,
    "start_time": "2023-05-07T12:02:52.076Z"
   },
   {
    "duration": 104,
    "start_time": "2023-05-07T12:02:52.092Z"
   },
   {
    "duration": 211,
    "start_time": "2023-05-07T12:02:52.198Z"
   },
   {
    "duration": 24,
    "start_time": "2023-05-07T12:02:52.411Z"
   },
   {
    "duration": 219,
    "start_time": "2023-05-07T12:02:52.440Z"
   },
   {
    "duration": 2,
    "start_time": "2023-05-07T12:02:52.661Z"
   },
   {
    "duration": 10,
    "start_time": "2023-05-07T12:04:37.247Z"
   },
   {
    "duration": 11,
    "start_time": "2023-05-07T12:05:14.748Z"
   },
   {
    "duration": 12,
    "start_time": "2023-05-07T12:05:17.855Z"
   },
   {
    "duration": 2,
    "start_time": "2023-05-07T12:06:17.508Z"
   },
   {
    "duration": 13,
    "start_time": "2023-05-07T12:06:18.479Z"
   },
   {
    "duration": 11,
    "start_time": "2023-05-07T12:06:23.099Z"
   },
   {
    "duration": 13,
    "start_time": "2023-05-07T12:06:24.487Z"
   },
   {
    "duration": 1143,
    "start_time": "2023-05-07T12:07:00.665Z"
   },
   {
    "duration": 81,
    "start_time": "2023-05-07T12:07:01.811Z"
   },
   {
    "duration": 13,
    "start_time": "2023-05-07T12:07:01.894Z"
   },
   {
    "duration": 40,
    "start_time": "2023-05-07T12:07:01.909Z"
   },
   {
    "duration": 35,
    "start_time": "2023-05-07T12:07:01.951Z"
   },
   {
    "duration": 15,
    "start_time": "2023-05-07T12:07:01.987Z"
   },
   {
    "duration": 21,
    "start_time": "2023-05-07T12:07:02.003Z"
   },
   {
    "duration": 50,
    "start_time": "2023-05-07T12:07:02.026Z"
   },
   {
    "duration": 19,
    "start_time": "2023-05-07T12:07:02.078Z"
   },
   {
    "duration": 29,
    "start_time": "2023-05-07T12:07:02.101Z"
   },
   {
    "duration": 41,
    "start_time": "2023-05-07T12:07:02.132Z"
   },
   {
    "duration": 11,
    "start_time": "2023-05-07T12:07:02.174Z"
   },
   {
    "duration": 22,
    "start_time": "2023-05-07T12:07:02.187Z"
   },
   {
    "duration": 17,
    "start_time": "2023-05-07T12:07:02.211Z"
   },
   {
    "duration": 22,
    "start_time": "2023-05-07T12:07:02.230Z"
   },
   {
    "duration": 20,
    "start_time": "2023-05-07T12:07:02.253Z"
   },
   {
    "duration": 37,
    "start_time": "2023-05-07T12:07:02.275Z"
   },
   {
    "duration": 9,
    "start_time": "2023-05-07T12:07:02.313Z"
   },
   {
    "duration": 186,
    "start_time": "2023-05-07T12:07:02.323Z"
   },
   {
    "duration": 137,
    "start_time": "2023-05-07T12:07:02.510Z"
   },
   {
    "duration": 5,
    "start_time": "2023-05-07T12:07:02.650Z"
   },
   {
    "duration": 24,
    "start_time": "2023-05-07T12:07:02.656Z"
   },
   {
    "duration": 186,
    "start_time": "2023-05-07T12:07:02.681Z"
   },
   {
    "duration": 139,
    "start_time": "2023-05-07T12:07:02.868Z"
   },
   {
    "duration": 6,
    "start_time": "2023-05-07T12:07:03.009Z"
   },
   {
    "duration": 142,
    "start_time": "2023-05-07T12:07:03.033Z"
   },
   {
    "duration": 99,
    "start_time": "2023-05-07T12:07:03.177Z"
   },
   {
    "duration": 8,
    "start_time": "2023-05-07T12:07:03.279Z"
   },
   {
    "duration": 169,
    "start_time": "2023-05-07T12:07:03.288Z"
   },
   {
    "duration": 12,
    "start_time": "2023-05-07T12:07:03.459Z"
   },
   {
    "duration": 182,
    "start_time": "2023-05-07T12:07:03.474Z"
   },
   {
    "duration": 8,
    "start_time": "2023-05-07T12:07:03.658Z"
   },
   {
    "duration": 147,
    "start_time": "2023-05-07T12:07:03.668Z"
   },
   {
    "duration": 29,
    "start_time": "2023-05-07T12:07:03.816Z"
   },
   {
    "duration": 13,
    "start_time": "2023-05-07T12:07:03.847Z"
   },
   {
    "duration": 25,
    "start_time": "2023-05-07T12:07:03.861Z"
   },
   {
    "duration": 19,
    "start_time": "2023-05-07T12:07:03.888Z"
   },
   {
    "duration": 107,
    "start_time": "2023-05-07T12:07:03.909Z"
   },
   {
    "duration": 238,
    "start_time": "2023-05-07T12:07:04.018Z"
   },
   {
    "duration": 15,
    "start_time": "2023-05-07T12:07:04.258Z"
   },
   {
    "duration": 205,
    "start_time": "2023-05-07T12:07:04.274Z"
   },
   {
    "duration": 4,
    "start_time": "2023-05-07T12:07:04.480Z"
   },
   {
    "duration": 10,
    "start_time": "2023-05-07T12:07:04.485Z"
   },
   {
    "duration": 17,
    "start_time": "2023-05-07T12:07:06.688Z"
   },
   {
    "duration": 1081,
    "start_time": "2023-05-07T12:07:36.779Z"
   },
   {
    "duration": 67,
    "start_time": "2023-05-07T12:07:37.862Z"
   },
   {
    "duration": 17,
    "start_time": "2023-05-07T12:07:37.930Z"
   },
   {
    "duration": 41,
    "start_time": "2023-05-07T12:07:37.951Z"
   },
   {
    "duration": 32,
    "start_time": "2023-05-07T12:07:37.993Z"
   },
   {
    "duration": 58,
    "start_time": "2023-05-07T12:07:38.026Z"
   },
   {
    "duration": 31,
    "start_time": "2023-05-07T12:07:38.086Z"
   },
   {
    "duration": 14,
    "start_time": "2023-05-07T12:07:38.119Z"
   },
   {
    "duration": 32,
    "start_time": "2023-05-07T12:07:38.135Z"
   },
   {
    "duration": 18,
    "start_time": "2023-05-07T12:07:38.170Z"
   },
   {
    "duration": 29,
    "start_time": "2023-05-07T12:07:38.189Z"
   },
   {
    "duration": 44,
    "start_time": "2023-05-07T12:07:38.219Z"
   },
   {
    "duration": 29,
    "start_time": "2023-05-07T12:07:38.265Z"
   },
   {
    "duration": 23,
    "start_time": "2023-05-07T12:07:38.295Z"
   },
   {
    "duration": 30,
    "start_time": "2023-05-07T12:07:38.320Z"
   },
   {
    "duration": 40,
    "start_time": "2023-05-07T12:07:38.351Z"
   },
   {
    "duration": 21,
    "start_time": "2023-05-07T12:07:38.392Z"
   },
   {
    "duration": 11,
    "start_time": "2023-05-07T12:07:38.414Z"
   },
   {
    "duration": 154,
    "start_time": "2023-05-07T12:07:38.426Z"
   },
   {
    "duration": 127,
    "start_time": "2023-05-07T12:07:38.581Z"
   },
   {
    "duration": 5,
    "start_time": "2023-05-07T12:07:38.709Z"
   },
   {
    "duration": 22,
    "start_time": "2023-05-07T12:07:38.715Z"
   },
   {
    "duration": 171,
    "start_time": "2023-05-07T12:07:38.738Z"
   },
   {
    "duration": 142,
    "start_time": "2023-05-07T12:07:38.911Z"
   },
   {
    "duration": 7,
    "start_time": "2023-05-07T12:07:39.055Z"
   },
   {
    "duration": 135,
    "start_time": "2023-05-07T12:07:39.063Z"
   },
   {
    "duration": 91,
    "start_time": "2023-05-07T12:07:39.200Z"
   },
   {
    "duration": 8,
    "start_time": "2023-05-07T12:07:39.294Z"
   },
   {
    "duration": 149,
    "start_time": "2023-05-07T12:07:39.303Z"
   },
   {
    "duration": 8,
    "start_time": "2023-05-07T12:07:39.454Z"
   },
   {
    "duration": 163,
    "start_time": "2023-05-07T12:07:39.464Z"
   },
   {
    "duration": 18,
    "start_time": "2023-05-07T12:07:39.634Z"
   },
   {
    "duration": 138,
    "start_time": "2023-05-07T12:07:39.655Z"
   },
   {
    "duration": 19,
    "start_time": "2023-05-07T12:07:39.795Z"
   },
   {
    "duration": 28,
    "start_time": "2023-05-07T12:07:39.816Z"
   },
   {
    "duration": 19,
    "start_time": "2023-05-07T12:07:39.846Z"
   },
   {
    "duration": 14,
    "start_time": "2023-05-07T12:07:39.866Z"
   },
   {
    "duration": 16,
    "start_time": "2023-05-07T12:07:39.881Z"
   },
   {
    "duration": 305,
    "start_time": "2023-05-07T12:07:39.898Z"
   },
   {
    "duration": 30,
    "start_time": "2023-05-07T12:07:40.205Z"
   },
   {
    "duration": 222,
    "start_time": "2023-05-07T12:07:40.239Z"
   },
   {
    "duration": 3,
    "start_time": "2023-05-07T12:07:40.463Z"
   },
   {
    "duration": 20,
    "start_time": "2023-05-07T12:07:40.468Z"
   },
   {
    "duration": 13,
    "start_time": "2023-05-07T12:08:37.255Z"
   },
   {
    "duration": 18,
    "start_time": "2023-05-07T12:12:41.218Z"
   },
   {
    "duration": 19,
    "start_time": "2023-05-07T12:13:06.050Z"
   },
   {
    "duration": 568,
    "start_time": "2023-05-07T12:13:14.855Z"
   },
   {
    "duration": 142,
    "start_time": "2023-05-07T12:13:25.134Z"
   },
   {
    "duration": 435,
    "start_time": "2023-05-07T12:14:00.854Z"
   },
   {
    "duration": 154,
    "start_time": "2023-05-07T12:14:34.291Z"
   },
   {
    "duration": 214,
    "start_time": "2023-05-07T12:18:37.180Z"
   },
   {
    "duration": 4,
    "start_time": "2023-05-07T12:19:35.743Z"
   },
   {
    "duration": 14,
    "start_time": "2023-05-07T12:19:52.563Z"
   },
   {
    "duration": 1248,
    "start_time": "2023-05-07T12:21:13.954Z"
   },
   {
    "duration": 7,
    "start_time": "2023-05-07T12:21:29.484Z"
   },
   {
    "duration": 11,
    "start_time": "2023-05-07T12:21:49.831Z"
   },
   {
    "duration": 17,
    "start_time": "2023-05-07T12:21:55.103Z"
   },
   {
    "duration": 9,
    "start_time": "2023-05-07T12:22:05.184Z"
   },
   {
    "duration": 11,
    "start_time": "2023-05-07T12:23:19.927Z"
   },
   {
    "duration": 9,
    "start_time": "2023-05-07T12:47:49.121Z"
   },
   {
    "duration": 11,
    "start_time": "2023-05-07T12:48:06.796Z"
   },
   {
    "duration": 7,
    "start_time": "2023-05-07T12:49:41.849Z"
   },
   {
    "duration": 175,
    "start_time": "2023-05-07T12:50:21.151Z"
   },
   {
    "duration": 213,
    "start_time": "2023-05-07T12:51:06.156Z"
   },
   {
    "duration": 160,
    "start_time": "2023-05-07T12:51:17.228Z"
   },
   {
    "duration": 145,
    "start_time": "2023-05-07T12:51:30.477Z"
   },
   {
    "duration": 187,
    "start_time": "2023-05-07T12:52:01.625Z"
   },
   {
    "duration": 242,
    "start_time": "2023-05-07T12:52:22.793Z"
   },
   {
    "duration": 52,
    "start_time": "2023-05-07T12:52:50.081Z"
   },
   {
    "duration": 154,
    "start_time": "2023-05-07T12:52:52.730Z"
   },
   {
    "duration": 6,
    "start_time": "2023-05-07T12:54:20.258Z"
   },
   {
    "duration": 8,
    "start_time": "2023-05-07T12:55:23.913Z"
   },
   {
    "duration": 9,
    "start_time": "2023-05-07T12:55:36.898Z"
   },
   {
    "duration": 52,
    "start_time": "2023-05-07T12:57:20.669Z"
   },
   {
    "duration": 11,
    "start_time": "2023-05-07T12:57:24.357Z"
   },
   {
    "duration": 5,
    "start_time": "2023-05-07T12:58:07.718Z"
   },
   {
    "duration": 8,
    "start_time": "2023-05-07T12:58:28.394Z"
   },
   {
    "duration": 7,
    "start_time": "2023-05-07T12:58:38.609Z"
   },
   {
    "duration": 14,
    "start_time": "2023-05-07T12:58:46.736Z"
   },
   {
    "duration": 6,
    "start_time": "2023-05-07T13:01:08.749Z"
   },
   {
    "duration": 12,
    "start_time": "2023-05-07T13:08:14.234Z"
   },
   {
    "duration": 19,
    "start_time": "2023-05-07T13:08:22.209Z"
   },
   {
    "duration": 20,
    "start_time": "2023-05-07T13:08:59.687Z"
   },
   {
    "duration": 20,
    "start_time": "2023-05-07T13:09:08.818Z"
   },
   {
    "duration": 19,
    "start_time": "2023-05-07T13:09:47.819Z"
   },
   {
    "duration": 18,
    "start_time": "2023-05-07T13:10:03.499Z"
   },
   {
    "duration": 17,
    "start_time": "2023-05-07T13:11:11.647Z"
   },
   {
    "duration": 18,
    "start_time": "2023-05-07T13:11:55.755Z"
   },
   {
    "duration": 18,
    "start_time": "2023-05-07T13:12:02.463Z"
   },
   {
    "duration": 20,
    "start_time": "2023-05-07T13:12:17.346Z"
   },
   {
    "duration": 19,
    "start_time": "2023-05-07T13:13:00.699Z"
   },
   {
    "duration": 15,
    "start_time": "2023-05-07T13:16:50.215Z"
   },
   {
    "duration": 20,
    "start_time": "2023-05-07T13:17:04.195Z"
   },
   {
    "duration": 12,
    "start_time": "2023-05-07T13:17:20.155Z"
   },
   {
    "duration": 4,
    "start_time": "2023-05-07T13:18:52.239Z"
   },
   {
    "duration": 13,
    "start_time": "2023-05-07T13:19:08.095Z"
   },
   {
    "duration": 10,
    "start_time": "2023-05-07T13:19:25.031Z"
   },
   {
    "duration": 12,
    "start_time": "2023-05-07T13:19:33.304Z"
   },
   {
    "duration": 1026,
    "start_time": "2023-05-07T13:20:21.389Z"
   },
   {
    "duration": 67,
    "start_time": "2023-05-07T13:20:22.417Z"
   },
   {
    "duration": 10,
    "start_time": "2023-05-07T13:20:22.486Z"
   },
   {
    "duration": 12,
    "start_time": "2023-05-07T13:20:22.498Z"
   },
   {
    "duration": 14,
    "start_time": "2023-05-07T13:20:22.512Z"
   },
   {
    "duration": 7,
    "start_time": "2023-05-07T13:20:22.528Z"
   },
   {
    "duration": 10,
    "start_time": "2023-05-07T13:20:22.537Z"
   },
   {
    "duration": 10,
    "start_time": "2023-05-07T13:20:22.548Z"
   },
   {
    "duration": 17,
    "start_time": "2023-05-07T13:20:22.560Z"
   },
   {
    "duration": 11,
    "start_time": "2023-05-07T13:20:22.579Z"
   },
   {
    "duration": 8,
    "start_time": "2023-05-07T13:20:22.592Z"
   },
   {
    "duration": 21,
    "start_time": "2023-05-07T13:20:22.601Z"
   },
   {
    "duration": 16,
    "start_time": "2023-05-07T13:20:22.623Z"
   },
   {
    "duration": 14,
    "start_time": "2023-05-07T13:20:22.642Z"
   },
   {
    "duration": 11,
    "start_time": "2023-05-07T13:20:22.658Z"
   },
   {
    "duration": 12,
    "start_time": "2023-05-07T13:20:22.670Z"
   },
   {
    "duration": 11,
    "start_time": "2023-05-07T13:20:22.684Z"
   },
   {
    "duration": 6,
    "start_time": "2023-05-07T13:20:22.696Z"
   },
   {
    "duration": 142,
    "start_time": "2023-05-07T13:20:22.703Z"
   },
   {
    "duration": 8,
    "start_time": "2023-05-07T13:20:22.846Z"
   },
   {
    "duration": 18,
    "start_time": "2023-05-07T13:20:27.853Z"
   },
   {
    "duration": 23,
    "start_time": "2023-05-07T13:20:34.634Z"
   },
   {
    "duration": 14,
    "start_time": "2023-05-07T13:20:39.638Z"
   },
   {
    "duration": 5,
    "start_time": "2023-05-07T13:21:14.069Z"
   },
   {
    "duration": 134,
    "start_time": "2023-05-07T13:21:18.682Z"
   },
   {
    "duration": 24,
    "start_time": "2023-05-07T13:24:14.086Z"
   },
   {
    "duration": 17,
    "start_time": "2023-05-07T13:24:47.033Z"
   },
   {
    "duration": 17,
    "start_time": "2023-05-07T13:24:57.754Z"
   },
   {
    "duration": 1078,
    "start_time": "2023-05-07T13:28:34.297Z"
   },
   {
    "duration": 66,
    "start_time": "2023-05-07T13:28:35.377Z"
   },
   {
    "duration": 12,
    "start_time": "2023-05-07T13:28:35.444Z"
   },
   {
    "duration": 15,
    "start_time": "2023-05-07T13:28:35.458Z"
   },
   {
    "duration": 16,
    "start_time": "2023-05-07T13:28:35.474Z"
   },
   {
    "duration": 8,
    "start_time": "2023-05-07T13:28:35.492Z"
   },
   {
    "duration": 17,
    "start_time": "2023-05-07T13:28:35.501Z"
   },
   {
    "duration": 15,
    "start_time": "2023-05-07T13:28:35.520Z"
   },
   {
    "duration": 10,
    "start_time": "2023-05-07T13:28:35.537Z"
   },
   {
    "duration": 6,
    "start_time": "2023-05-07T13:28:35.551Z"
   },
   {
    "duration": 10,
    "start_time": "2023-05-07T13:28:35.558Z"
   },
   {
    "duration": 5,
    "start_time": "2023-05-07T13:28:35.570Z"
   },
   {
    "duration": 9,
    "start_time": "2023-05-07T13:28:35.576Z"
   },
   {
    "duration": 8,
    "start_time": "2023-05-07T13:28:35.587Z"
   },
   {
    "duration": 38,
    "start_time": "2023-05-07T13:28:35.596Z"
   },
   {
    "duration": 6,
    "start_time": "2023-05-07T13:28:35.636Z"
   },
   {
    "duration": 14,
    "start_time": "2023-05-07T13:28:35.643Z"
   },
   {
    "duration": 14,
    "start_time": "2023-05-07T13:28:35.658Z"
   },
   {
    "duration": 140,
    "start_time": "2023-05-07T13:28:35.674Z"
   },
   {
    "duration": 21,
    "start_time": "2023-05-07T13:28:35.815Z"
   },
   {
    "duration": 19,
    "start_time": "2023-05-07T13:28:35.837Z"
   },
   {
    "duration": 5,
    "start_time": "2023-05-07T13:28:35.857Z"
   },
   {
    "duration": 145,
    "start_time": "2023-05-07T13:28:35.863Z"
   },
   {
    "duration": 4,
    "start_time": "2023-05-07T13:28:36.010Z"
   },
   {
    "duration": 25,
    "start_time": "2023-05-07T13:28:36.016Z"
   },
   {
    "duration": 175,
    "start_time": "2023-05-07T13:28:36.043Z"
   },
   {
    "duration": 130,
    "start_time": "2023-05-07T13:28:36.220Z"
   },
   {
    "duration": 5,
    "start_time": "2023-05-07T13:28:36.354Z"
   },
   {
    "duration": 128,
    "start_time": "2023-05-07T13:28:36.361Z"
   },
   {
    "duration": 95,
    "start_time": "2023-05-07T13:28:36.490Z"
   },
   {
    "duration": 11,
    "start_time": "2023-05-07T13:28:36.587Z"
   },
   {
    "duration": 192,
    "start_time": "2023-05-07T13:28:36.600Z"
   },
   {
    "duration": 11,
    "start_time": "2023-05-07T13:28:36.794Z"
   },
   {
    "duration": 190,
    "start_time": "2023-05-07T13:28:36.806Z"
   },
   {
    "duration": 12,
    "start_time": "2023-05-07T13:28:36.998Z"
   },
   {
    "duration": 133,
    "start_time": "2023-05-07T13:28:37.013Z"
   },
   {
    "duration": 18,
    "start_time": "2023-05-07T13:28:37.148Z"
   },
   {
    "duration": 18,
    "start_time": "2023-05-07T13:28:37.168Z"
   },
   {
    "duration": 20,
    "start_time": "2023-05-07T13:28:37.188Z"
   },
   {
    "duration": 29,
    "start_time": "2023-05-07T13:28:37.210Z"
   },
   {
    "duration": 16,
    "start_time": "2023-05-07T13:28:37.241Z"
   },
   {
    "duration": 269,
    "start_time": "2023-05-07T13:28:37.258Z"
   },
   {
    "duration": 15,
    "start_time": "2023-05-07T13:28:37.533Z"
   },
   {
    "duration": 185,
    "start_time": "2023-05-07T13:28:37.550Z"
   },
   {
    "duration": 3,
    "start_time": "2023-05-07T13:28:37.737Z"
   },
   {
    "duration": 44,
    "start_time": "2023-05-07T13:28:37.742Z"
   },
   {
    "duration": 32,
    "start_time": "2023-05-07T13:28:37.789Z"
   },
   {
    "duration": 38,
    "start_time": "2023-05-07T13:28:37.823Z"
   },
   {
    "duration": 74,
    "start_time": "2023-05-07T13:28:37.862Z"
   },
   {
    "duration": 4,
    "start_time": "2023-05-07T13:28:37.937Z"
   },
   {
    "duration": 14,
    "start_time": "2023-05-07T13:28:37.943Z"
   },
   {
    "duration": 33,
    "start_time": "2023-05-07T13:28:37.958Z"
   },
   {
    "duration": 33,
    "start_time": "2023-05-07T13:28:37.993Z"
   },
   {
    "duration": 29,
    "start_time": "2023-05-07T13:28:38.028Z"
   },
   {
    "duration": 33,
    "start_time": "2023-05-07T13:28:38.058Z"
   },
   {
    "duration": 28,
    "start_time": "2023-05-07T13:28:38.094Z"
   },
   {
    "duration": 27,
    "start_time": "2023-05-07T13:28:38.124Z"
   },
   {
    "duration": 48,
    "start_time": "2023-05-07T13:28:38.153Z"
   },
   {
    "duration": 23,
    "start_time": "2023-05-07T13:28:38.202Z"
   },
   {
    "duration": 15,
    "start_time": "2023-05-07T13:28:38.226Z"
   },
   {
    "duration": 43,
    "start_time": "2023-05-07T13:28:38.242Z"
   },
   {
    "duration": 170,
    "start_time": "2023-05-07T13:28:38.287Z"
   },
   {
    "duration": 6,
    "start_time": "2023-05-07T13:28:38.459Z"
   },
   {
    "duration": 29,
    "start_time": "2023-05-07T13:28:38.467Z"
   },
   {
    "duration": 165,
    "start_time": "2023-05-07T13:31:30.729Z"
   },
   {
    "duration": 184,
    "start_time": "2023-05-07T13:31:40.282Z"
   },
   {
    "duration": 217,
    "start_time": "2023-05-07T13:31:43.298Z"
   },
   {
    "duration": 142,
    "start_time": "2023-05-07T13:33:00.481Z"
   },
   {
    "duration": 180,
    "start_time": "2023-05-07T13:33:05.333Z"
   },
   {
    "duration": 223,
    "start_time": "2023-05-07T13:33:11.990Z"
   },
   {
    "duration": 214,
    "start_time": "2023-05-07T13:33:28.506Z"
   },
   {
    "duration": 156,
    "start_time": "2023-05-07T13:34:01.393Z"
   },
   {
    "duration": 211,
    "start_time": "2023-05-07T13:34:06.065Z"
   },
   {
    "duration": 190,
    "start_time": "2023-05-07T13:35:28.269Z"
   },
   {
    "duration": 126,
    "start_time": "2023-05-07T13:35:33.014Z"
   },
   {
    "duration": 144,
    "start_time": "2023-05-07T13:35:42.710Z"
   },
   {
    "duration": 116,
    "start_time": "2023-05-07T13:36:07.210Z"
   },
   {
    "duration": 102,
    "start_time": "2023-05-07T13:36:15.202Z"
   },
   {
    "duration": 75,
    "start_time": "2023-05-07T13:36:25.013Z"
   },
   {
    "duration": 82,
    "start_time": "2023-05-07T13:37:01.849Z"
   },
   {
    "duration": 83,
    "start_time": "2023-05-07T13:37:13.073Z"
   },
   {
    "duration": 1269,
    "start_time": "2023-05-07T13:37:18.289Z"
   },
   {
    "duration": 70,
    "start_time": "2023-05-07T13:37:19.560Z"
   },
   {
    "duration": 14,
    "start_time": "2023-05-07T13:37:19.632Z"
   },
   {
    "duration": 112,
    "start_time": "2023-05-07T13:37:19.648Z"
   },
   {
    "duration": 20,
    "start_time": "2023-05-07T13:37:19.762Z"
   },
   {
    "duration": 14,
    "start_time": "2023-05-07T13:37:19.786Z"
   },
   {
    "duration": 16,
    "start_time": "2023-05-07T13:37:19.802Z"
   },
   {
    "duration": 20,
    "start_time": "2023-05-07T13:37:19.820Z"
   },
   {
    "duration": 12,
    "start_time": "2023-05-07T13:37:19.843Z"
   },
   {
    "duration": 8,
    "start_time": "2023-05-07T13:37:19.858Z"
   },
   {
    "duration": 12,
    "start_time": "2023-05-07T13:37:19.867Z"
   },
   {
    "duration": 10,
    "start_time": "2023-05-07T13:37:19.883Z"
   },
   {
    "duration": 47,
    "start_time": "2023-05-07T13:37:19.895Z"
   },
   {
    "duration": 12,
    "start_time": "2023-05-07T13:37:19.944Z"
   },
   {
    "duration": 6,
    "start_time": "2023-05-07T13:37:19.958Z"
   },
   {
    "duration": 9,
    "start_time": "2023-05-07T13:37:19.966Z"
   },
   {
    "duration": 14,
    "start_time": "2023-05-07T13:37:19.977Z"
   },
   {
    "duration": 21,
    "start_time": "2023-05-07T13:37:19.993Z"
   },
   {
    "duration": 178,
    "start_time": "2023-05-07T13:37:20.016Z"
   },
   {
    "duration": 8,
    "start_time": "2023-05-07T13:37:20.196Z"
   },
   {
    "duration": 36,
    "start_time": "2023-05-07T13:37:20.206Z"
   },
   {
    "duration": 5,
    "start_time": "2023-05-07T13:37:20.243Z"
   },
   {
    "duration": 149,
    "start_time": "2023-05-07T13:37:20.250Z"
   },
   {
    "duration": 4,
    "start_time": "2023-05-07T13:37:20.402Z"
   },
   {
    "duration": 13,
    "start_time": "2023-05-07T13:37:20.408Z"
   },
   {
    "duration": 192,
    "start_time": "2023-05-07T13:37:20.422Z"
   },
   {
    "duration": 153,
    "start_time": "2023-05-07T13:37:20.616Z"
   },
   {
    "duration": 6,
    "start_time": "2023-05-07T13:37:20.773Z"
   },
   {
    "duration": 173,
    "start_time": "2023-05-07T13:37:20.781Z"
   },
   {
    "duration": 142,
    "start_time": "2023-05-07T13:37:20.956Z"
   },
   {
    "duration": 10,
    "start_time": "2023-05-07T13:37:21.100Z"
   },
   {
    "duration": 168,
    "start_time": "2023-05-07T13:37:21.113Z"
   },
   {
    "duration": 12,
    "start_time": "2023-05-07T13:37:21.283Z"
   },
   {
    "duration": 179,
    "start_time": "2023-05-07T13:37:21.297Z"
   },
   {
    "duration": 13,
    "start_time": "2023-05-07T13:37:21.478Z"
   },
   {
    "duration": 181,
    "start_time": "2023-05-07T13:37:21.493Z"
   },
   {
    "duration": 27,
    "start_time": "2023-05-07T13:37:21.676Z"
   },
   {
    "duration": 32,
    "start_time": "2023-05-07T13:37:21.705Z"
   },
   {
    "duration": 15,
    "start_time": "2023-05-07T13:37:21.739Z"
   },
   {
    "duration": 17,
    "start_time": "2023-05-07T13:37:21.756Z"
   },
   {
    "duration": 25,
    "start_time": "2023-05-07T13:37:21.775Z"
   },
   {
    "duration": 317,
    "start_time": "2023-05-07T13:37:21.833Z"
   },
   {
    "duration": 20,
    "start_time": "2023-05-07T13:37:22.152Z"
   },
   {
    "duration": 212,
    "start_time": "2023-05-07T13:37:22.174Z"
   },
   {
    "duration": 2,
    "start_time": "2023-05-07T13:37:22.388Z"
   },
   {
    "duration": 16,
    "start_time": "2023-05-07T13:37:22.392Z"
   },
   {
    "duration": 20,
    "start_time": "2023-05-07T13:37:22.411Z"
   },
   {
    "duration": 43,
    "start_time": "2023-05-07T13:37:22.434Z"
   },
   {
    "duration": 124,
    "start_time": "2023-05-07T13:37:22.480Z"
   },
   {
    "duration": 6,
    "start_time": "2023-05-07T13:37:22.607Z"
   },
   {
    "duration": 7,
    "start_time": "2023-05-07T13:37:22.615Z"
   },
   {
    "duration": 17,
    "start_time": "2023-05-07T13:37:22.634Z"
   },
   {
    "duration": 17,
    "start_time": "2023-05-07T13:37:22.653Z"
   },
   {
    "duration": 15,
    "start_time": "2023-05-07T13:37:22.672Z"
   },
   {
    "duration": 13,
    "start_time": "2023-05-07T13:37:22.689Z"
   },
   {
    "duration": 18,
    "start_time": "2023-05-07T13:37:22.705Z"
   },
   {
    "duration": 17,
    "start_time": "2023-05-07T13:37:22.726Z"
   },
   {
    "duration": 17,
    "start_time": "2023-05-07T13:37:22.745Z"
   },
   {
    "duration": 7,
    "start_time": "2023-05-07T13:37:22.764Z"
   },
   {
    "duration": 24,
    "start_time": "2023-05-07T13:37:22.774Z"
   },
   {
    "duration": 18,
    "start_time": "2023-05-07T13:37:22.800Z"
   },
   {
    "duration": 183,
    "start_time": "2023-05-07T13:37:22.820Z"
   },
   {
    "duration": 8,
    "start_time": "2023-05-07T13:37:23.004Z"
   },
   {
    "duration": 20,
    "start_time": "2023-05-07T13:37:23.013Z"
   },
   {
    "duration": 186,
    "start_time": "2023-05-07T13:38:51.734Z"
   },
   {
    "duration": 91,
    "start_time": "2023-05-07T13:39:14.357Z"
   },
   {
    "duration": 113,
    "start_time": "2023-05-07T13:39:23.533Z"
   },
   {
    "duration": 844,
    "start_time": "2023-05-07T13:42:19.373Z"
   },
   {
    "duration": 1180,
    "start_time": "2023-05-07T13:42:31.302Z"
   },
   {
    "duration": 70,
    "start_time": "2023-05-07T13:42:32.485Z"
   },
   {
    "duration": 15,
    "start_time": "2023-05-07T13:42:32.557Z"
   },
   {
    "duration": 17,
    "start_time": "2023-05-07T13:42:32.574Z"
   },
   {
    "duration": 12,
    "start_time": "2023-05-07T13:42:32.593Z"
   },
   {
    "duration": 35,
    "start_time": "2023-05-07T13:42:32.606Z"
   },
   {
    "duration": 25,
    "start_time": "2023-05-07T13:42:32.644Z"
   },
   {
    "duration": 24,
    "start_time": "2023-05-07T13:42:32.671Z"
   },
   {
    "duration": 17,
    "start_time": "2023-05-07T13:42:32.696Z"
   },
   {
    "duration": 10,
    "start_time": "2023-05-07T13:42:32.716Z"
   },
   {
    "duration": 14,
    "start_time": "2023-05-07T13:42:32.728Z"
   },
   {
    "duration": 10,
    "start_time": "2023-05-07T13:42:32.745Z"
   },
   {
    "duration": 16,
    "start_time": "2023-05-07T13:42:32.757Z"
   },
   {
    "duration": 11,
    "start_time": "2023-05-07T13:42:32.774Z"
   },
   {
    "duration": 6,
    "start_time": "2023-05-07T13:42:32.788Z"
   },
   {
    "duration": 11,
    "start_time": "2023-05-07T13:42:32.796Z"
   },
   {
    "duration": 42,
    "start_time": "2023-05-07T13:42:32.809Z"
   },
   {
    "duration": 15,
    "start_time": "2023-05-07T13:42:32.853Z"
   },
   {
    "duration": 154,
    "start_time": "2023-05-07T13:42:32.871Z"
   },
   {
    "duration": 9,
    "start_time": "2023-05-07T13:42:33.027Z"
   },
   {
    "duration": 24,
    "start_time": "2023-05-07T13:42:33.038Z"
   },
   {
    "duration": 4,
    "start_time": "2023-05-07T13:42:33.064Z"
   },
   {
    "duration": 189,
    "start_time": "2023-05-07T13:42:33.070Z"
   },
   {
    "duration": 5,
    "start_time": "2023-05-07T13:42:33.261Z"
   },
   {
    "duration": 17,
    "start_time": "2023-05-07T13:42:33.267Z"
   },
   {
    "duration": 186,
    "start_time": "2023-05-07T13:42:33.285Z"
   },
   {
    "duration": 149,
    "start_time": "2023-05-07T13:42:33.473Z"
   },
   {
    "duration": 6,
    "start_time": "2023-05-07T13:42:33.634Z"
   },
   {
    "duration": 220,
    "start_time": "2023-05-07T13:42:33.643Z"
   },
   {
    "duration": 87,
    "start_time": "2023-05-07T13:42:33.865Z"
   },
   {
    "duration": 8,
    "start_time": "2023-05-07T13:42:33.954Z"
   },
   {
    "duration": 190,
    "start_time": "2023-05-07T13:42:33.964Z"
   },
   {
    "duration": 9,
    "start_time": "2023-05-07T13:42:34.156Z"
   },
   {
    "duration": 183,
    "start_time": "2023-05-07T13:42:34.167Z"
   },
   {
    "duration": 9,
    "start_time": "2023-05-07T13:42:34.351Z"
   },
   {
    "duration": 140,
    "start_time": "2023-05-07T13:42:34.362Z"
   },
   {
    "duration": 30,
    "start_time": "2023-05-07T13:42:34.504Z"
   },
   {
    "duration": 10,
    "start_time": "2023-05-07T13:42:34.536Z"
   },
   {
    "duration": 19,
    "start_time": "2023-05-07T13:42:34.547Z"
   },
   {
    "duration": 24,
    "start_time": "2023-05-07T13:42:34.568Z"
   },
   {
    "duration": 21,
    "start_time": "2023-05-07T13:42:34.593Z"
   },
   {
    "duration": 280,
    "start_time": "2023-05-07T13:42:34.632Z"
   },
   {
    "duration": 29,
    "start_time": "2023-05-07T13:42:34.914Z"
   },
   {
    "duration": 190,
    "start_time": "2023-05-07T13:42:34.945Z"
   },
   {
    "duration": 3,
    "start_time": "2023-05-07T13:42:35.137Z"
   },
   {
    "duration": 23,
    "start_time": "2023-05-07T13:42:35.141Z"
   },
   {
    "duration": 16,
    "start_time": "2023-05-07T13:42:35.166Z"
   },
   {
    "duration": 38,
    "start_time": "2023-05-07T13:42:35.184Z"
   },
   {
    "duration": 78,
    "start_time": "2023-05-07T13:42:35.224Z"
   },
   {
    "duration": 5,
    "start_time": "2023-05-07T13:42:35.303Z"
   },
   {
    "duration": 11,
    "start_time": "2023-05-07T13:42:35.309Z"
   },
   {
    "duration": 15,
    "start_time": "2023-05-07T13:42:35.322Z"
   },
   {
    "duration": 10,
    "start_time": "2023-05-07T13:42:35.338Z"
   },
   {
    "duration": 24,
    "start_time": "2023-05-07T13:42:35.350Z"
   },
   {
    "duration": 10,
    "start_time": "2023-05-07T13:42:35.376Z"
   },
   {
    "duration": 17,
    "start_time": "2023-05-07T13:42:35.388Z"
   },
   {
    "duration": 7,
    "start_time": "2023-05-07T13:42:35.407Z"
   },
   {
    "duration": 19,
    "start_time": "2023-05-07T13:42:35.416Z"
   },
   {
    "duration": 5,
    "start_time": "2023-05-07T13:42:35.437Z"
   },
   {
    "duration": 9,
    "start_time": "2023-05-07T13:42:35.444Z"
   },
   {
    "duration": 20,
    "start_time": "2023-05-07T13:42:35.455Z"
   },
   {
    "duration": 187,
    "start_time": "2023-05-07T13:42:35.477Z"
   },
   {
    "duration": 5,
    "start_time": "2023-05-07T13:42:35.666Z"
   },
   {
    "duration": 26,
    "start_time": "2023-05-07T13:42:35.673Z"
   },
   {
    "duration": 1080,
    "start_time": "2023-05-07T13:46:58.358Z"
   },
   {
    "duration": 71,
    "start_time": "2023-05-07T13:46:59.440Z"
   },
   {
    "duration": 12,
    "start_time": "2023-05-07T13:46:59.513Z"
   },
   {
    "duration": 16,
    "start_time": "2023-05-07T13:46:59.527Z"
   },
   {
    "duration": 10,
    "start_time": "2023-05-07T13:46:59.544Z"
   },
   {
    "duration": 7,
    "start_time": "2023-05-07T13:46:59.556Z"
   },
   {
    "duration": 16,
    "start_time": "2023-05-07T13:46:59.565Z"
   },
   {
    "duration": 10,
    "start_time": "2023-05-07T13:46:59.583Z"
   },
   {
    "duration": 10,
    "start_time": "2023-05-07T13:46:59.594Z"
   },
   {
    "duration": 8,
    "start_time": "2023-05-07T13:46:59.607Z"
   },
   {
    "duration": 10,
    "start_time": "2023-05-07T13:46:59.634Z"
   },
   {
    "duration": 7,
    "start_time": "2023-05-07T13:46:59.646Z"
   },
   {
    "duration": 11,
    "start_time": "2023-05-07T13:46:59.654Z"
   },
   {
    "duration": 11,
    "start_time": "2023-05-07T13:46:59.666Z"
   },
   {
    "duration": 5,
    "start_time": "2023-05-07T13:46:59.678Z"
   },
   {
    "duration": 15,
    "start_time": "2023-05-07T13:46:59.685Z"
   },
   {
    "duration": 10,
    "start_time": "2023-05-07T13:46:59.701Z"
   },
   {
    "duration": 6,
    "start_time": "2023-05-07T13:46:59.734Z"
   },
   {
    "duration": 143,
    "start_time": "2023-05-07T13:46:59.741Z"
   },
   {
    "duration": 8,
    "start_time": "2023-05-07T13:46:59.886Z"
   },
   {
    "duration": 38,
    "start_time": "2023-05-07T13:46:59.896Z"
   },
   {
    "duration": 5,
    "start_time": "2023-05-07T13:46:59.936Z"
   },
   {
    "duration": 140,
    "start_time": "2023-05-07T13:46:59.942Z"
   },
   {
    "duration": 5,
    "start_time": "2023-05-07T13:47:00.083Z"
   },
   {
    "duration": 28,
    "start_time": "2023-05-07T13:47:00.089Z"
   },
   {
    "duration": 183,
    "start_time": "2023-05-07T13:47:00.119Z"
   },
   {
    "duration": 132,
    "start_time": "2023-05-07T13:47:00.304Z"
   },
   {
    "duration": 5,
    "start_time": "2023-05-07T13:47:00.440Z"
   },
   {
    "duration": 155,
    "start_time": "2023-05-07T13:47:00.447Z"
   },
   {
    "duration": 107,
    "start_time": "2023-05-07T13:47:00.604Z"
   },
   {
    "duration": 9,
    "start_time": "2023-05-07T13:47:00.713Z"
   },
   {
    "duration": 179,
    "start_time": "2023-05-07T13:47:00.734Z"
   },
   {
    "duration": 9,
    "start_time": "2023-05-07T13:47:00.915Z"
   },
   {
    "duration": 183,
    "start_time": "2023-05-07T13:47:00.933Z"
   },
   {
    "duration": 10,
    "start_time": "2023-05-07T13:47:01.118Z"
   },
   {
    "duration": 146,
    "start_time": "2023-05-07T13:47:01.133Z"
   },
   {
    "duration": 20,
    "start_time": "2023-05-07T13:47:01.281Z"
   },
   {
    "duration": 33,
    "start_time": "2023-05-07T13:47:01.303Z"
   },
   {
    "duration": 63,
    "start_time": "2023-05-07T13:47:01.338Z"
   },
   {
    "duration": 41,
    "start_time": "2023-05-07T13:47:01.403Z"
   },
   {
    "duration": 25,
    "start_time": "2023-05-07T13:47:01.446Z"
   },
   {
    "duration": 292,
    "start_time": "2023-05-07T13:47:01.472Z"
   },
   {
    "duration": 17,
    "start_time": "2023-05-07T13:47:01.766Z"
   },
   {
    "duration": 198,
    "start_time": "2023-05-07T13:47:01.785Z"
   },
   {
    "duration": 3,
    "start_time": "2023-05-07T13:47:01.985Z"
   },
   {
    "duration": 51,
    "start_time": "2023-05-07T13:47:01.990Z"
   },
   {
    "duration": 29,
    "start_time": "2023-05-07T13:47:02.044Z"
   },
   {
    "duration": 46,
    "start_time": "2023-05-07T13:47:02.075Z"
   },
   {
    "duration": 77,
    "start_time": "2023-05-07T13:47:02.123Z"
   },
   {
    "duration": 6,
    "start_time": "2023-05-07T13:47:02.202Z"
   },
   {
    "duration": 18,
    "start_time": "2023-05-07T13:47:02.209Z"
   },
   {
    "duration": 28,
    "start_time": "2023-05-07T13:47:02.229Z"
   },
   {
    "duration": 20,
    "start_time": "2023-05-07T13:47:02.259Z"
   },
   {
    "duration": 23,
    "start_time": "2023-05-07T13:47:02.281Z"
   },
   {
    "duration": 19,
    "start_time": "2023-05-07T13:47:02.306Z"
   },
   {
    "duration": 8,
    "start_time": "2023-05-07T13:47:02.327Z"
   },
   {
    "duration": 16,
    "start_time": "2023-05-07T13:47:02.336Z"
   },
   {
    "duration": 35,
    "start_time": "2023-05-07T13:47:02.354Z"
   },
   {
    "duration": 15,
    "start_time": "2023-05-07T13:47:02.391Z"
   },
   {
    "duration": 17,
    "start_time": "2023-05-07T13:47:02.408Z"
   },
   {
    "duration": 28,
    "start_time": "2023-05-07T13:47:02.427Z"
   },
   {
    "duration": 176,
    "start_time": "2023-05-07T13:47:02.457Z"
   },
   {
    "duration": 6,
    "start_time": "2023-05-07T13:47:02.636Z"
   },
   {
    "duration": 39,
    "start_time": "2023-05-07T13:47:02.644Z"
   },
   {
    "duration": 1107,
    "start_time": "2023-05-07T13:56:03.571Z"
   },
   {
    "duration": 69,
    "start_time": "2023-05-07T13:56:04.680Z"
   },
   {
    "duration": 13,
    "start_time": "2023-05-07T13:56:04.751Z"
   },
   {
    "duration": 29,
    "start_time": "2023-05-07T13:56:04.766Z"
   },
   {
    "duration": 28,
    "start_time": "2023-05-07T13:56:04.796Z"
   },
   {
    "duration": 44,
    "start_time": "2023-05-07T13:56:04.825Z"
   },
   {
    "duration": 24,
    "start_time": "2023-05-07T13:56:04.871Z"
   },
   {
    "duration": 28,
    "start_time": "2023-05-07T13:56:04.896Z"
   },
   {
    "duration": 40,
    "start_time": "2023-05-07T13:56:04.925Z"
   },
   {
    "duration": 14,
    "start_time": "2023-05-07T13:56:04.968Z"
   },
   {
    "duration": 23,
    "start_time": "2023-05-07T13:56:04.983Z"
   },
   {
    "duration": 16,
    "start_time": "2023-05-07T13:56:05.008Z"
   },
   {
    "duration": 15,
    "start_time": "2023-05-07T13:56:05.026Z"
   },
   {
    "duration": 33,
    "start_time": "2023-05-07T13:56:05.043Z"
   },
   {
    "duration": 21,
    "start_time": "2023-05-07T13:56:05.078Z"
   },
   {
    "duration": 51,
    "start_time": "2023-05-07T13:56:05.100Z"
   },
   {
    "duration": 39,
    "start_time": "2023-05-07T13:56:05.153Z"
   },
   {
    "duration": 31,
    "start_time": "2023-05-07T13:56:05.194Z"
   },
   {
    "duration": 158,
    "start_time": "2023-05-07T13:56:05.227Z"
   },
   {
    "duration": 8,
    "start_time": "2023-05-07T13:56:05.387Z"
   },
   {
    "duration": 34,
    "start_time": "2023-05-07T13:56:05.397Z"
   },
   {
    "duration": 19,
    "start_time": "2023-05-07T13:56:05.433Z"
   },
   {
    "duration": 137,
    "start_time": "2023-05-07T13:56:05.453Z"
   },
   {
    "duration": 5,
    "start_time": "2023-05-07T13:56:05.591Z"
   },
   {
    "duration": 29,
    "start_time": "2023-05-07T13:56:05.597Z"
   },
   {
    "duration": 187,
    "start_time": "2023-05-07T13:56:05.628Z"
   },
   {
    "duration": 139,
    "start_time": "2023-05-07T13:56:05.818Z"
   },
   {
    "duration": 6,
    "start_time": "2023-05-07T13:56:05.961Z"
   },
   {
    "duration": 155,
    "start_time": "2023-05-07T13:56:05.968Z"
   },
   {
    "duration": 76,
    "start_time": "2023-05-07T13:56:06.125Z"
   },
   {
    "duration": 8,
    "start_time": "2023-05-07T13:56:06.217Z"
   },
   {
    "duration": 171,
    "start_time": "2023-05-07T13:56:06.226Z"
   },
   {
    "duration": 8,
    "start_time": "2023-05-07T13:56:06.399Z"
   },
   {
    "duration": 169,
    "start_time": "2023-05-07T13:56:06.409Z"
   },
   {
    "duration": 9,
    "start_time": "2023-05-07T13:56:06.580Z"
   },
   {
    "duration": 167,
    "start_time": "2023-05-07T13:56:06.591Z"
   },
   {
    "duration": 19,
    "start_time": "2023-05-07T13:56:06.760Z"
   },
   {
    "duration": 26,
    "start_time": "2023-05-07T13:56:06.781Z"
   },
   {
    "duration": 38,
    "start_time": "2023-05-07T13:56:06.809Z"
   },
   {
    "duration": 43,
    "start_time": "2023-05-07T13:56:06.849Z"
   },
   {
    "duration": 44,
    "start_time": "2023-05-07T13:56:06.894Z"
   },
   {
    "duration": 270,
    "start_time": "2023-05-07T13:56:06.939Z"
   },
   {
    "duration": 21,
    "start_time": "2023-05-07T13:56:07.211Z"
   },
   {
    "duration": 195,
    "start_time": "2023-05-07T13:56:07.233Z"
   },
   {
    "duration": 3,
    "start_time": "2023-05-07T13:56:07.430Z"
   },
   {
    "duration": 37,
    "start_time": "2023-05-07T13:56:07.435Z"
   },
   {
    "duration": 27,
    "start_time": "2023-05-07T13:56:07.474Z"
   },
   {
    "duration": 45,
    "start_time": "2023-05-07T13:56:07.503Z"
   },
   {
    "duration": 90,
    "start_time": "2023-05-07T13:56:07.551Z"
   },
   {
    "duration": 5,
    "start_time": "2023-05-07T13:56:07.643Z"
   },
   {
    "duration": 21,
    "start_time": "2023-05-07T13:56:07.650Z"
   },
   {
    "duration": 40,
    "start_time": "2023-05-07T13:56:07.673Z"
   },
   {
    "duration": 16,
    "start_time": "2023-05-07T13:56:07.715Z"
   },
   {
    "duration": 18,
    "start_time": "2023-05-07T13:56:07.733Z"
   },
   {
    "duration": 7,
    "start_time": "2023-05-07T13:56:07.753Z"
   },
   {
    "duration": 13,
    "start_time": "2023-05-07T13:56:07.762Z"
   },
   {
    "duration": 15,
    "start_time": "2023-05-07T13:56:07.777Z"
   },
   {
    "duration": 19,
    "start_time": "2023-05-07T13:56:07.795Z"
   },
   {
    "duration": 5,
    "start_time": "2023-05-07T13:56:07.816Z"
   },
   {
    "duration": 10,
    "start_time": "2023-05-07T13:56:07.822Z"
   },
   {
    "duration": 15,
    "start_time": "2023-05-07T13:56:07.834Z"
   },
   {
    "duration": 180,
    "start_time": "2023-05-07T13:56:07.851Z"
   },
   {
    "duration": 6,
    "start_time": "2023-05-07T13:56:08.032Z"
   },
   {
    "duration": 12,
    "start_time": "2023-05-07T13:56:08.040Z"
   },
   {
    "duration": 102,
    "start_time": "2023-05-07T14:04:21.646Z"
   },
   {
    "duration": 4,
    "start_time": "2023-05-07T14:04:32.382Z"
   }
  ],
  "kernelspec": {
   "display_name": "Python 3 (ipykernel)",
   "language": "python",
   "name": "python3"
  },
  "language_info": {
   "codemirror_mode": {
    "name": "ipython",
    "version": 3
   },
   "file_extension": ".py",
   "mimetype": "text/x-python",
   "name": "python",
   "nbconvert_exporter": "python",
   "pygments_lexer": "ipython3",
   "version": "3.9.12"
  },
  "toc": {
   "base_numbering": 1,
   "nav_menu": {},
   "number_sections": true,
   "sideBar": true,
   "skip_h1_title": true,
   "title_cell": "Table of Contents",
   "title_sidebar": "Contents",
   "toc_cell": false,
   "toc_position": {},
   "toc_section_display": true,
   "toc_window_display": false
  }
 },
 "nbformat": 4,
 "nbformat_minor": 5
}
