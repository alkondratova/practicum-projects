{
 "cells": [
  {
   "cell_type": "markdown",
   "id": "267e0d60",
   "metadata": {},
   "source": [
    "# Продажа квартир в Санкт-Петербурге — анализ рынка недвижимости"
   ]
  },
  {
   "cell_type": "markdown",
   "id": "9061f3a3",
   "metadata": {},
   "source": [
    "**Описание проекта**. На основе данных сервиса Яндекс.Недвижимость, проводится исследование рыночной стоимости объектов недвижимости и типичных параметров квартир. \n",
    "\n",
    "**Ход исследования**:\n",
    "1. Обзор данных.\n",
    "2. Предобработка данных. \n",
    "3. Исследовательский анализ:\n",
    "    1. Одномерный анализ: общая площадь; жилая площадь; площадь кухни; цена объекта; количество комнат; высота потолков; этаж квартиры; тип этажа квартиры («первый», «последний», «другой»); общее количество этажей в доме; расстояние до центра города в метрах; расстояние до ближайшего аэропорта; расстояние до ближайшего парка; день и месяц публикации объявления.\n",
    "    2. Исследование зависимости цены от: общей площади, жилой площади, площади кухни, количества комнат, типа этажа, даты размещения.\n",
    "    3. Средняя цена по населенным пунктам.\n",
    "    4. Расстояние до центра города (Санкт-Петербург).\n",
    "4. Общие выводы.\n",
    "   \n"
   ]
  },
  {
   "cell_type": "markdown",
   "id": "b0e3af9d",
   "metadata": {},
   "source": [
    "## 1. Обзор данных"
   ]
  },
  {
   "cell_type": "code",
   "execution_count": 1,
   "id": "dd88598d",
   "metadata": {},
   "outputs": [],
   "source": [
    "# импортируем нужные библиотеки\n",
    "import pandas as pd\n",
    "import matplotlib.pyplot as plt"
   ]
  },
  {
   "cell_type": "code",
   "execution_count": 2,
   "id": "ebc4b7f3",
   "metadata": {},
   "outputs": [
    {
     "data": {
      "text/html": [
       "<div>\n",
       "<style scoped>\n",
       "    .dataframe tbody tr th:only-of-type {\n",
       "        vertical-align: middle;\n",
       "    }\n",
       "\n",
       "    .dataframe tbody tr th {\n",
       "        vertical-align: top;\n",
       "    }\n",
       "\n",
       "    .dataframe thead th {\n",
       "        text-align: right;\n",
       "    }\n",
       "</style>\n",
       "<table border=\"1\" class=\"dataframe\">\n",
       "  <thead>\n",
       "    <tr style=\"text-align: right;\">\n",
       "      <th></th>\n",
       "      <th>total_images</th>\n",
       "      <th>last_price</th>\n",
       "      <th>total_area</th>\n",
       "      <th>first_day_exposition</th>\n",
       "      <th>rooms</th>\n",
       "      <th>ceiling_height</th>\n",
       "      <th>floors_total</th>\n",
       "      <th>living_area</th>\n",
       "      <th>floor</th>\n",
       "      <th>is_apartment</th>\n",
       "      <th>studio</th>\n",
       "      <th>open_plan</th>\n",
       "      <th>kitchen_area</th>\n",
       "      <th>balcony</th>\n",
       "      <th>locality_name</th>\n",
       "      <th>airports_nearest</th>\n",
       "      <th>cityCenters_nearest</th>\n",
       "      <th>parks_around3000</th>\n",
       "      <th>parks_nearest</th>\n",
       "      <th>ponds_around3000</th>\n",
       "      <th>ponds_nearest</th>\n",
       "      <th>days_exposition</th>\n",
       "    </tr>\n",
       "  </thead>\n",
       "  <tbody>\n",
       "    <tr>\n",
       "      <th>0</th>\n",
       "      <td>20</td>\n",
       "      <td>13000000.0</td>\n",
       "      <td>108.00</td>\n",
       "      <td>2019-03-07T00:00:00</td>\n",
       "      <td>3</td>\n",
       "      <td>2.70</td>\n",
       "      <td>16.0</td>\n",
       "      <td>51.00</td>\n",
       "      <td>8</td>\n",
       "      <td>NaN</td>\n",
       "      <td>False</td>\n",
       "      <td>False</td>\n",
       "      <td>25.00</td>\n",
       "      <td>NaN</td>\n",
       "      <td>Санкт-Петербург</td>\n",
       "      <td>18863.0</td>\n",
       "      <td>16028.0</td>\n",
       "      <td>1.0</td>\n",
       "      <td>482.0</td>\n",
       "      <td>2.0</td>\n",
       "      <td>755.0</td>\n",
       "      <td>NaN</td>\n",
       "    </tr>\n",
       "    <tr>\n",
       "      <th>1</th>\n",
       "      <td>7</td>\n",
       "      <td>3350000.0</td>\n",
       "      <td>40.40</td>\n",
       "      <td>2018-12-04T00:00:00</td>\n",
       "      <td>1</td>\n",
       "      <td>NaN</td>\n",
       "      <td>11.0</td>\n",
       "      <td>18.60</td>\n",
       "      <td>1</td>\n",
       "      <td>NaN</td>\n",
       "      <td>False</td>\n",
       "      <td>False</td>\n",
       "      <td>11.00</td>\n",
       "      <td>2.0</td>\n",
       "      <td>посёлок Шушары</td>\n",
       "      <td>12817.0</td>\n",
       "      <td>18603.0</td>\n",
       "      <td>0.0</td>\n",
       "      <td>NaN</td>\n",
       "      <td>0.0</td>\n",
       "      <td>NaN</td>\n",
       "      <td>81.0</td>\n",
       "    </tr>\n",
       "    <tr>\n",
       "      <th>2</th>\n",
       "      <td>10</td>\n",
       "      <td>5196000.0</td>\n",
       "      <td>56.00</td>\n",
       "      <td>2015-08-20T00:00:00</td>\n",
       "      <td>2</td>\n",
       "      <td>NaN</td>\n",
       "      <td>5.0</td>\n",
       "      <td>34.30</td>\n",
       "      <td>4</td>\n",
       "      <td>NaN</td>\n",
       "      <td>False</td>\n",
       "      <td>False</td>\n",
       "      <td>8.30</td>\n",
       "      <td>0.0</td>\n",
       "      <td>Санкт-Петербург</td>\n",
       "      <td>21741.0</td>\n",
       "      <td>13933.0</td>\n",
       "      <td>1.0</td>\n",
       "      <td>90.0</td>\n",
       "      <td>2.0</td>\n",
       "      <td>574.0</td>\n",
       "      <td>558.0</td>\n",
       "    </tr>\n",
       "    <tr>\n",
       "      <th>3</th>\n",
       "      <td>0</td>\n",
       "      <td>64900000.0</td>\n",
       "      <td>159.00</td>\n",
       "      <td>2015-07-24T00:00:00</td>\n",
       "      <td>3</td>\n",
       "      <td>NaN</td>\n",
       "      <td>14.0</td>\n",
       "      <td>NaN</td>\n",
       "      <td>9</td>\n",
       "      <td>NaN</td>\n",
       "      <td>False</td>\n",
       "      <td>False</td>\n",
       "      <td>NaN</td>\n",
       "      <td>0.0</td>\n",
       "      <td>Санкт-Петербург</td>\n",
       "      <td>28098.0</td>\n",
       "      <td>6800.0</td>\n",
       "      <td>2.0</td>\n",
       "      <td>84.0</td>\n",
       "      <td>3.0</td>\n",
       "      <td>234.0</td>\n",
       "      <td>424.0</td>\n",
       "    </tr>\n",
       "    <tr>\n",
       "      <th>4</th>\n",
       "      <td>2</td>\n",
       "      <td>10000000.0</td>\n",
       "      <td>100.00</td>\n",
       "      <td>2018-06-19T00:00:00</td>\n",
       "      <td>2</td>\n",
       "      <td>3.03</td>\n",
       "      <td>14.0</td>\n",
       "      <td>32.00</td>\n",
       "      <td>13</td>\n",
       "      <td>NaN</td>\n",
       "      <td>False</td>\n",
       "      <td>False</td>\n",
       "      <td>41.00</td>\n",
       "      <td>NaN</td>\n",
       "      <td>Санкт-Петербург</td>\n",
       "      <td>31856.0</td>\n",
       "      <td>8098.0</td>\n",
       "      <td>2.0</td>\n",
       "      <td>112.0</td>\n",
       "      <td>1.0</td>\n",
       "      <td>48.0</td>\n",
       "      <td>121.0</td>\n",
       "    </tr>\n",
       "    <tr>\n",
       "      <th>5</th>\n",
       "      <td>10</td>\n",
       "      <td>2890000.0</td>\n",
       "      <td>30.40</td>\n",
       "      <td>2018-09-10T00:00:00</td>\n",
       "      <td>1</td>\n",
       "      <td>NaN</td>\n",
       "      <td>12.0</td>\n",
       "      <td>14.40</td>\n",
       "      <td>5</td>\n",
       "      <td>NaN</td>\n",
       "      <td>False</td>\n",
       "      <td>False</td>\n",
       "      <td>9.10</td>\n",
       "      <td>NaN</td>\n",
       "      <td>городской посёлок Янино-1</td>\n",
       "      <td>NaN</td>\n",
       "      <td>NaN</td>\n",
       "      <td>NaN</td>\n",
       "      <td>NaN</td>\n",
       "      <td>NaN</td>\n",
       "      <td>NaN</td>\n",
       "      <td>55.0</td>\n",
       "    </tr>\n",
       "    <tr>\n",
       "      <th>6</th>\n",
       "      <td>6</td>\n",
       "      <td>3700000.0</td>\n",
       "      <td>37.30</td>\n",
       "      <td>2017-11-02T00:00:00</td>\n",
       "      <td>1</td>\n",
       "      <td>NaN</td>\n",
       "      <td>26.0</td>\n",
       "      <td>10.60</td>\n",
       "      <td>6</td>\n",
       "      <td>NaN</td>\n",
       "      <td>False</td>\n",
       "      <td>False</td>\n",
       "      <td>14.40</td>\n",
       "      <td>1.0</td>\n",
       "      <td>посёлок Парголово</td>\n",
       "      <td>52996.0</td>\n",
       "      <td>19143.0</td>\n",
       "      <td>0.0</td>\n",
       "      <td>NaN</td>\n",
       "      <td>0.0</td>\n",
       "      <td>NaN</td>\n",
       "      <td>155.0</td>\n",
       "    </tr>\n",
       "    <tr>\n",
       "      <th>7</th>\n",
       "      <td>5</td>\n",
       "      <td>7915000.0</td>\n",
       "      <td>71.60</td>\n",
       "      <td>2019-04-18T00:00:00</td>\n",
       "      <td>2</td>\n",
       "      <td>NaN</td>\n",
       "      <td>24.0</td>\n",
       "      <td>NaN</td>\n",
       "      <td>22</td>\n",
       "      <td>NaN</td>\n",
       "      <td>False</td>\n",
       "      <td>False</td>\n",
       "      <td>18.90</td>\n",
       "      <td>2.0</td>\n",
       "      <td>Санкт-Петербург</td>\n",
       "      <td>23982.0</td>\n",
       "      <td>11634.0</td>\n",
       "      <td>0.0</td>\n",
       "      <td>NaN</td>\n",
       "      <td>0.0</td>\n",
       "      <td>NaN</td>\n",
       "      <td>NaN</td>\n",
       "    </tr>\n",
       "    <tr>\n",
       "      <th>8</th>\n",
       "      <td>20</td>\n",
       "      <td>2900000.0</td>\n",
       "      <td>33.16</td>\n",
       "      <td>2018-05-23T00:00:00</td>\n",
       "      <td>1</td>\n",
       "      <td>NaN</td>\n",
       "      <td>27.0</td>\n",
       "      <td>15.43</td>\n",
       "      <td>26</td>\n",
       "      <td>NaN</td>\n",
       "      <td>False</td>\n",
       "      <td>False</td>\n",
       "      <td>8.81</td>\n",
       "      <td>NaN</td>\n",
       "      <td>посёлок Мурино</td>\n",
       "      <td>NaN</td>\n",
       "      <td>NaN</td>\n",
       "      <td>NaN</td>\n",
       "      <td>NaN</td>\n",
       "      <td>NaN</td>\n",
       "      <td>NaN</td>\n",
       "      <td>189.0</td>\n",
       "    </tr>\n",
       "    <tr>\n",
       "      <th>9</th>\n",
       "      <td>18</td>\n",
       "      <td>5400000.0</td>\n",
       "      <td>61.00</td>\n",
       "      <td>2017-02-26T00:00:00</td>\n",
       "      <td>3</td>\n",
       "      <td>2.50</td>\n",
       "      <td>9.0</td>\n",
       "      <td>43.60</td>\n",
       "      <td>7</td>\n",
       "      <td>NaN</td>\n",
       "      <td>False</td>\n",
       "      <td>False</td>\n",
       "      <td>6.50</td>\n",
       "      <td>2.0</td>\n",
       "      <td>Санкт-Петербург</td>\n",
       "      <td>50898.0</td>\n",
       "      <td>15008.0</td>\n",
       "      <td>0.0</td>\n",
       "      <td>NaN</td>\n",
       "      <td>0.0</td>\n",
       "      <td>NaN</td>\n",
       "      <td>289.0</td>\n",
       "    </tr>\n",
       "  </tbody>\n",
       "</table>\n",
       "</div>"
      ],
      "text/plain": [
       "   total_images  last_price  total_area first_day_exposition  rooms  \\\n",
       "0            20  13000000.0      108.00  2019-03-07T00:00:00      3   \n",
       "1             7   3350000.0       40.40  2018-12-04T00:00:00      1   \n",
       "2            10   5196000.0       56.00  2015-08-20T00:00:00      2   \n",
       "3             0  64900000.0      159.00  2015-07-24T00:00:00      3   \n",
       "4             2  10000000.0      100.00  2018-06-19T00:00:00      2   \n",
       "5            10   2890000.0       30.40  2018-09-10T00:00:00      1   \n",
       "6             6   3700000.0       37.30  2017-11-02T00:00:00      1   \n",
       "7             5   7915000.0       71.60  2019-04-18T00:00:00      2   \n",
       "8            20   2900000.0       33.16  2018-05-23T00:00:00      1   \n",
       "9            18   5400000.0       61.00  2017-02-26T00:00:00      3   \n",
       "\n",
       "   ceiling_height  floors_total  living_area  floor is_apartment  studio  \\\n",
       "0            2.70          16.0        51.00      8          NaN   False   \n",
       "1             NaN          11.0        18.60      1          NaN   False   \n",
       "2             NaN           5.0        34.30      4          NaN   False   \n",
       "3             NaN          14.0          NaN      9          NaN   False   \n",
       "4            3.03          14.0        32.00     13          NaN   False   \n",
       "5             NaN          12.0        14.40      5          NaN   False   \n",
       "6             NaN          26.0        10.60      6          NaN   False   \n",
       "7             NaN          24.0          NaN     22          NaN   False   \n",
       "8             NaN          27.0        15.43     26          NaN   False   \n",
       "9            2.50           9.0        43.60      7          NaN   False   \n",
       "\n",
       "   open_plan  kitchen_area  balcony              locality_name  \\\n",
       "0      False         25.00      NaN            Санкт-Петербург   \n",
       "1      False         11.00      2.0             посёлок Шушары   \n",
       "2      False          8.30      0.0            Санкт-Петербург   \n",
       "3      False           NaN      0.0            Санкт-Петербург   \n",
       "4      False         41.00      NaN            Санкт-Петербург   \n",
       "5      False          9.10      NaN  городской посёлок Янино-1   \n",
       "6      False         14.40      1.0          посёлок Парголово   \n",
       "7      False         18.90      2.0            Санкт-Петербург   \n",
       "8      False          8.81      NaN             посёлок Мурино   \n",
       "9      False          6.50      2.0            Санкт-Петербург   \n",
       "\n",
       "   airports_nearest  cityCenters_nearest  parks_around3000  parks_nearest  \\\n",
       "0           18863.0              16028.0               1.0          482.0   \n",
       "1           12817.0              18603.0               0.0            NaN   \n",
       "2           21741.0              13933.0               1.0           90.0   \n",
       "3           28098.0               6800.0               2.0           84.0   \n",
       "4           31856.0               8098.0               2.0          112.0   \n",
       "5               NaN                  NaN               NaN            NaN   \n",
       "6           52996.0              19143.0               0.0            NaN   \n",
       "7           23982.0              11634.0               0.0            NaN   \n",
       "8               NaN                  NaN               NaN            NaN   \n",
       "9           50898.0              15008.0               0.0            NaN   \n",
       "\n",
       "   ponds_around3000  ponds_nearest  days_exposition  \n",
       "0               2.0          755.0              NaN  \n",
       "1               0.0            NaN             81.0  \n",
       "2               2.0          574.0            558.0  \n",
       "3               3.0          234.0            424.0  \n",
       "4               1.0           48.0            121.0  \n",
       "5               NaN            NaN             55.0  \n",
       "6               0.0            NaN            155.0  \n",
       "7               0.0            NaN              NaN  \n",
       "8               NaN            NaN            189.0  \n",
       "9               0.0            NaN            289.0  "
      ]
     },
     "execution_count": 2,
     "metadata": {},
     "output_type": "execute_result"
    }
   ],
   "source": [
    "# прочитаем файл, указав нужный разделитель (знак табуляции) для корректного отображения датафрейма, и сохраним в data\n",
    "data = pd.read_csv('C:/Users/alkon/practicum_projects/real_estate_project/real_estate_data.csv', sep='\\t')\n",
    "\n",
    "# выведем первые строки для знакомства с датасетом, убрав ограничения по отображению столбцов\n",
    "pd.set_option('display.max_columns', None)\n",
    "data.head(10)"
   ]
  },
  {
   "cell_type": "code",
   "execution_count": 3,
   "id": "9fa66cb6",
   "metadata": {},
   "outputs": [
    {
     "name": "stdout",
     "output_type": "stream",
     "text": [
      "<class 'pandas.core.frame.DataFrame'>\n",
      "RangeIndex: 23699 entries, 0 to 23698\n",
      "Data columns (total 22 columns):\n",
      " #   Column                Non-Null Count  Dtype  \n",
      "---  ------                --------------  -----  \n",
      " 0   total_images          23699 non-null  int64  \n",
      " 1   last_price            23699 non-null  float64\n",
      " 2   total_area            23699 non-null  float64\n",
      " 3   first_day_exposition  23699 non-null  object \n",
      " 4   rooms                 23699 non-null  int64  \n",
      " 5   ceiling_height        14504 non-null  float64\n",
      " 6   floors_total          23613 non-null  float64\n",
      " 7   living_area           21796 non-null  float64\n",
      " 8   floor                 23699 non-null  int64  \n",
      " 9   is_apartment          2775 non-null   object \n",
      " 10  studio                23699 non-null  bool   \n",
      " 11  open_plan             23699 non-null  bool   \n",
      " 12  kitchen_area          21421 non-null  float64\n",
      " 13  balcony               12180 non-null  float64\n",
      " 14  locality_name         23650 non-null  object \n",
      " 15  airports_nearest      18157 non-null  float64\n",
      " 16  cityCenters_nearest   18180 non-null  float64\n",
      " 17  parks_around3000      18181 non-null  float64\n",
      " 18  parks_nearest         8079 non-null   float64\n",
      " 19  ponds_around3000      18181 non-null  float64\n",
      " 20  ponds_nearest         9110 non-null   float64\n",
      " 21  days_exposition       20518 non-null  float64\n",
      "dtypes: bool(2), float64(14), int64(3), object(3)\n",
      "memory usage: 3.7+ MB\n"
     ]
    }
   ],
   "source": [
    "# посмотрим общую информацию о данных\n",
    "data.info()"
   ]
  },
  {
   "cell_type": "markdown",
   "id": "84bc1855",
   "metadata": {},
   "source": [
    "Датафрейм содержит 23699 строк. В четырнадцати столбцах присутствуют пропущенные значения, в том числе в картографических данных (среди них `parks_around3000` и `ponds_around3000`, в которых совпадает количество пропусков). В некоторых столбцах потребуется заменить тип данных (например, в `floors_total` на целые числа, `is_apartment` на булев тип и др.). Название столбца `cityCenters_nearest` приведем к общему формату (змеиный регистр)."
   ]
  },
  {
   "cell_type": "code",
   "execution_count": 4,
   "id": "5273fa56",
   "metadata": {},
   "outputs": [
    {
     "data": {
      "image/png": "[encoded data removed]",
      "text/plain": [
       "<Figure size 1080x1440 with 20 Axes>"
      ]
     },
     "metadata": {
      "needs_background": "light"
     },
     "output_type": "display_data"
    }
   ],
   "source": [
    "# построим общую гистограмму\n",
    "data.hist(figsize=(15, 20));"
   ]
  },
  {
   "cell_type": "markdown",
   "id": "3e9eb88b",
   "metadata": {},
   "source": [
    "## 2. Предобработка данных"
   ]
  },
  {
   "cell_type": "code",
   "execution_count": 5,
   "id": "a20fecd1",
   "metadata": {},
   "outputs": [],
   "source": [
    "# сразу приведем название столбца с расстоянием до центра к нужному формату\n",
    "data.rename({'cityCenters_nearest':'city_centers_nearest'}, axis='columns', inplace=True)"
   ]
  },
  {
   "cell_type": "markdown",
   "id": "c840938b",
   "metadata": {},
   "source": [
    "Перейдем к обработке явных и неявных дубликатов, поскольку столбец c названием населенных пунктов `locality_name` понадобится нам для обработки пропусков в высоте потолков `ceiling_height`."
   ]
  },
  {
   "cell_type": "markdown",
   "id": "b6643382",
   "metadata": {},
   "source": [
    "### Обработка дубликатов "
   ]
  },
  {
   "cell_type": "code",
   "execution_count": 6,
   "id": "d5495bf7",
   "metadata": {},
   "outputs": [
    {
     "data": {
      "text/plain": [
       "0"
      ]
     },
     "execution_count": 6,
     "metadata": {},
     "output_type": "execute_result"
    }
   ],
   "source": [
    "# проверим, есть ли строки явные дубликаты\n",
    "data.duplicated().sum()"
   ]
  },
  {
   "cell_type": "markdown",
   "id": "d4df5a7a",
   "metadata": {},
   "source": [
    "Явные дубликаты не обнаружены. Проверим столбец `locality_name`: изучим уникальные значения и удалим неявные дубликаты."
   ]
  },
  {
   "cell_type": "code",
   "execution_count": 7,
   "id": "e31197dc",
   "metadata": {},
   "outputs": [
    {
     "data": {
      "text/plain": [
       "49"
      ]
     },
     "execution_count": 7,
     "metadata": {},
     "output_type": "execute_result"
    }
   ],
   "source": [
    "# проверим сколько пропусков в locality_name\n",
    "data['locality_name'].isna().sum()"
   ]
  },
  {
   "cell_type": "markdown",
   "id": "d04a4156",
   "metadata": {},
   "source": [
    "Удалим пропуски по столбцу `locality_name`, поскольку таких строк меньше 1% от всех данных."
   ]
  },
  {
   "cell_type": "code",
   "execution_count": 8,
   "id": "2ae79ca7",
   "metadata": {},
   "outputs": [],
   "source": [
    "# удалим пропуски\n",
    "data.dropna(subset=['locality_name'], inplace=True)"
   ]
  },
  {
   "cell_type": "code",
   "execution_count": 9,
   "id": "db71edef",
   "metadata": {},
   "outputs": [
    {
     "data": {
      "text/plain": [
       "array(['Санкт-Петербург', 'посёлок Шушары', 'городской посёлок Янино-1',\n",
       "       'посёлок Парголово', 'посёлок Мурино', 'Ломоносов', 'Сертолово',\n",
       "       'Петергоф', 'Пушкин', 'деревня Кудрово', 'Коммунар', 'Колпино',\n",
       "       'поселок городского типа Красный Бор', 'Гатчина', 'поселок Мурино',\n",
       "       'деревня Фёдоровское', 'Выборг', 'Кронштадт', 'Кировск',\n",
       "       'деревня Новое Девяткино', 'посёлок Металлострой',\n",
       "       'посёлок городского типа Лебяжье',\n",
       "       'посёлок городского типа Сиверский', 'поселок Молодцово',\n",
       "       'поселок городского типа Кузьмоловский',\n",
       "       'садовое товарищество Новая Ропша', 'Павловск',\n",
       "       'деревня Пикколово', 'Всеволожск', 'Волхов'], dtype=object)"
      ]
     },
     "execution_count": 9,
     "metadata": {},
     "output_type": "execute_result"
    }
   ],
   "source": [
    "# посмотрим уникальные значения в столбце locality_name\n",
    "data['locality_name'].unique()[0:30]"
   ]
  },
  {
   "cell_type": "markdown",
   "id": "7380b23d",
   "metadata": {},
   "source": [
    "В столбце присутствуют типы населенных пунктов (поселок, деревня и т.д.), которые не имеют смысла для анализа и могут приводить к неявным повторам, а также слова с е/ё (поселок, посёлок). Переведем названия в нижний регистр и приведем названия к единому формату."
   ]
  },
  {
   "cell_type": "code",
   "execution_count": 10,
   "id": "5b45c295",
   "metadata": {},
   "outputs": [
    {
     "data": {
      "text/plain": [
       "array(['санкт-петербург', 'шушары', 'янино-1', 'парголово', 'мурино',\n",
       "       'ломоносов', 'сертолово', 'петергоф', 'пушкин', 'кудрово',\n",
       "       'коммунар', 'колпино', 'красный бор', 'гатчина', 'федоровское',\n",
       "       'выборг', 'кронштадт', 'кировск', 'новое девяткино',\n",
       "       'металлострой', 'лебяжье', 'сиверский', 'молодцово',\n",
       "       'кузьмоловский', 'новая ропша', 'павловск', 'пикколово',\n",
       "       'всеволожск', 'волхов', 'кингисепп'], dtype=object)"
      ]
     },
     "execution_count": 10,
     "metadata": {},
     "output_type": "execute_result"
    }
   ],
   "source": [
    "# заменим 'ё' на 'е' и приведем названия к единому регистру\n",
    "data['locality_name'] = data['locality_name'].str.replace('ё', 'е').str.lower()\n",
    "\n",
    "# создадим список со словами, которые потребуется убрать из названий\n",
    "locality_type = [\n",
    "    'поселок', 'городской', 'деревня', 'городского', 'типа', 'садовое', 'товарищество', 'село', 'при', 'железнодорожной',\n",
    "    'станции','садоводческое', 'некоммерческое', 'коттеджный'\n",
    "]\n",
    "\n",
    "# переберем все названия в цикле и уберем образовавшиеся лишние пробелы\n",
    "for type in locality_type:\n",
    "    data['locality_name'] = data['locality_name'].str.replace(type, '').str.strip()\n",
    "\n",
    "# проверим результат\n",
    "data['locality_name'].unique()[0:30]"
   ]
  },
  {
   "cell_type": "code",
   "execution_count": 11,
   "id": "9c43875b",
   "metadata": {},
   "outputs": [
    {
     "data": {
      "text/plain": [
       "0"
      ]
     },
     "execution_count": 11,
     "metadata": {},
     "output_type": "execute_result"
    }
   ],
   "source": [
    "# проверим, есть ли строки дубликаты\n",
    "data.duplicated().sum()"
   ]
  },
  {
   "cell_type": "markdown",
   "id": "eb614281",
   "metadata": {},
   "source": [
    "**Вывод**: явные дубликаты не были обнаружены в наборе данных. Были изучены и обработаны уникальные значения в столбце `locality_name`: для устранения возможных неявных дубликатов были удалены типы населенных пунктов, буква 'е' была изменена на 'ё', названия были приведены к нижнему регистру. Строк дубликатов не обнаружено."
   ]
  },
  {
   "cell_type": "markdown",
   "id": "9a5fb165",
   "metadata": {},
   "source": [
    "### Обработка пропусков"
   ]
  },
  {
   "cell_type": "code",
   "execution_count": 12,
   "id": "bd09c98b",
   "metadata": {},
   "outputs": [
    {
     "data": {
      "text/plain": [
       "total_images                0\n",
       "last_price                  0\n",
       "total_area                  0\n",
       "first_day_exposition        0\n",
       "rooms                       0\n",
       "ceiling_height           9160\n",
       "floors_total               85\n",
       "living_area              1898\n",
       "floor                       0\n",
       "is_apartment            20890\n",
       "studio                      0\n",
       "open_plan                   0\n",
       "kitchen_area             2269\n",
       "balcony                 11513\n",
       "locality_name               0\n",
       "airports_nearest         5534\n",
       "city_centers_nearest     5511\n",
       "parks_around3000         5510\n",
       "parks_nearest           15586\n",
       "ponds_around3000         5510\n",
       "ponds_nearest           14565\n",
       "days_exposition          3180\n",
       "dtype: int64"
      ]
     },
     "execution_count": 12,
     "metadata": {},
     "output_type": "execute_result"
    }
   ],
   "source": [
    "# посчитаем количество пропусков\n",
    "data.isna().sum()"
   ]
  },
  {
   "cell_type": "markdown",
   "id": "e40bc1be",
   "metadata": {},
   "source": [
    "Скорее всего значение `balcony` продавцы оставляют пропущенным, если балкона в квартире нет, поэтому заменим заменим пропуски на 0, а тип данных поменяем на целые числа. "
   ]
  },
  {
   "cell_type": "code",
   "execution_count": 13,
   "id": "f204b388",
   "metadata": {},
   "outputs": [],
   "source": [
    "# заменим пропуски на 0 и изменим тип данных на int\n",
    "data['balcony'] = data['balcony'].fillna(0).astype('int')"
   ]
  },
  {
   "cell_type": "markdown",
   "id": "3417d245",
   "metadata": {},
   "source": [
    "Из 23699 строк датасета столбец `is_apartment` заполнен лишь в 2775. С учетом того, что апартаменты — это нежилые помещения, а пропусков в столбце `living_area` всего  1903, сделаем вывод, что значения в этом столбце можно заменить на False. К этому стоит добавить, что апартаменты — не самый популярный вид помещения и многие пользователи могут просто не знать, что это такое (кроме владельцев апартаментов, которые знают, что покупали). Тип значений заменим на булев. "
   ]
  },
  {
   "cell_type": "code",
   "execution_count": 14,
   "id": "33302e36",
   "metadata": {},
   "outputs": [],
   "source": [
    "# заменим пропуски на False и изменим тип данных на bool\n",
    "data['is_apartment'] = data['is_apartment'].fillna(False).astype('bool')"
   ]
  },
  {
   "cell_type": "code",
   "execution_count": 15,
   "id": "1f80b87f",
   "metadata": {},
   "outputs": [
    {
     "data": {
      "text/plain": [
       "14565"
      ]
     },
     "execution_count": 15,
     "metadata": {},
     "output_type": "execute_result"
    }
   ],
   "source": [
    "# количество пропущенных значений в совокупности с нулевыми в столбцах с количеством водоемов\n",
    "len(data.loc[(data['ponds_around3000'].isna()) | (data['ponds_around3000'] == 0)])"
   ]
  },
  {
   "cell_type": "code",
   "execution_count": 16,
   "id": "4c4db3b3",
   "metadata": {},
   "outputs": [
    {
     "data": {
      "text/plain": [
       "15590"
      ]
     },
     "execution_count": 16,
     "metadata": {},
     "output_type": "execute_result"
    }
   ],
   "source": [
    "# количество пропущенных значений в совокупности с нулевыми в столбцах с количеством парков\n",
    "len(data.loc[(data['parks_around3000'].isna()) | (data['parks_around3000'] == 0)])"
   ]
  },
  {
   "cell_type": "code",
   "execution_count": 17,
   "id": "7dec9e2f",
   "metadata": {},
   "outputs": [
    {
     "name": "stdout",
     "output_type": "stream",
     "text": [
      "Максимальное расстояние до парка: 3190.0\n",
      "Максимальное расстояние до водоема: 1344.0\n",
      "Максимальное расстояние до аэропорта: 84869.0\n",
      "Максимальное расстояние до центра города: 65968.0\n"
     ]
    }
   ],
   "source": [
    "# проверим, какие значения содержатся в столбцах с расстоянием\n",
    "print(\"Максимальное расстояние до парка:\", data['parks_nearest'].max())\n",
    "print(\"Максимальное расстояние до водоема:\", data['ponds_nearest'].max())\n",
    "print(\"Максимальное расстояние до аэропорта:\", data['airports_nearest'].max())\n",
    "print(\"Максимальное расстояние до центра города:\", data['city_centers_nearest'].max())"
   ]
  },
  {
   "cell_type": "markdown",
   "id": "c33fff8c",
   "metadata": {},
   "source": [
    "Если мы проверим проверим значения в столбцах `parks_around3000` и `ponds_around3000`, то в совокупности с нулевыми значениями пропущенные значения дадут приблизительное количество пропусков в столбцах с расстояниями `parks_nearest`, `ponds_nearest`. Сделаем вывод, что данные с расстояниями до парков и водоемов не собирались, если они находились приблизительно далее 3 км от квартиры (учитывая небольшую погрешность, наличие которой мы проверили, найдя максимальное значение расстояния до парка и водоема).\n",
    "\n",
    "Логично предположить, что мы можем заменить дискретные значения в столбцах `parks_around3000` и `ponds_around3000` на 0, а значения в столбцах с расстояниями оставить без изменений, поскольку логичную замену предположить невозможно (более 3 км, но сколько конкретно — неизвестно); заполнение медианой в данном случае привело бы к искажению данных. По той же логике мы не будем заполнять пропуски в столбцах `airports_nearest`и `city_centers_nearest`. Пропусков в этих картографических столбцах меньше, вероятно, поскольку для них задано большее расстояние (вряд ли пользователи ищут квартиру с аэропортом в радиусе менее 3 км и расстояние до центра имеет значение, даже если оно более 3 км)."
   ]
  },
  {
   "cell_type": "code",
   "execution_count": 18,
   "id": "6a010951",
   "metadata": {},
   "outputs": [],
   "source": [
    "# заменим пропуски на 0 и изменим тип данных на int\n",
    "data['parks_around3000'] = data['parks_around3000'].fillna(0).astype('int')\n",
    "data['ponds_around3000'] = data['ponds_around3000'].fillna(0).astype('int')"
   ]
  },
  {
   "cell_type": "markdown",
   "id": "ee69ae57",
   "metadata": {},
   "source": [
    "Удалим строки с пропущенными значениями в столбцах `floors_total`, потому что их доля составляет меньше 1% данных и это не повлияет на результаты анализа."
   ]
  },
  {
   "cell_type": "code",
   "execution_count": 19,
   "id": "2adf9777",
   "metadata": {},
   "outputs": [],
   "source": [
    "# удалим строки с пропущенными значениями в выбранных столбцах\n",
    "data.dropna(subset=['floors_total'], inplace=True)"
   ]
  },
  {
   "cell_type": "markdown",
   "id": "3b602ba1",
   "metadata": {},
   "source": [
    "Пропуски в столбцах `ceiling_height` могли образоваться, поскольку пользователи не знают точную высоту потолка и не заполняют еe. В столбцах `living_area` и `kitchen_area` — в случае студий, где определить размер кухни и жилую площадь затруднительно или невозможно. Исходя из данных в столбце `studio`, таких квартир всего лишь 146, остальные пропуски могли образоваться по причине недостатка информации у пользователя."
   ]
  },
  {
   "cell_type": "markdown",
   "id": "b3f6f883",
   "metadata": {},
   "source": [
    "Поскольку медиана является робастной оценкой (устойчива к выбросам), мы можем произвести замену пропусков с ее помощью до того, как обработаем аномальные значения. В столбце с высотой потолка `ceiling_height` достаточно много пропусков, около 40% данных. Заполняя пропуски в этом столбце, необходимо иметь в виду, что в Санкт-Петербурге в центре находится много зданий старого фонда, в которых высота потолков выше, чем в новостройках или, например, \"хрущевках\", которые располагаются дальше от центра и ближе к окраинам. Чтобы отразить в данных эту важную особенность Санкт-Петербурга, выделим два диапазона по столбцу с расстоянием до центра `city_centers_nearest`: до 4 км зона, где больше всего зданий старого фонда, до 8 км зона, где могут присутствовать новостройки, но их доля не так велика. Заполним пропуски медианным значением по этим диапазонам. Оставшиеся пропуски заполним медианным значением по населенным пунктам из столбца `locality_name`."
   ]
  },
  {
   "cell_type": "code",
   "execution_count": 20,
   "id": "c518513c",
   "metadata": {},
   "outputs": [
    {
     "data": {
      "text/plain": [
       "7786"
      ]
     },
     "execution_count": 20,
     "metadata": {},
     "output_type": "execute_result"
    }
   ],
   "source": [
    "# заменим пропуски медианой по диапазонам расстояния от центра\n",
    "data.loc[(data['city_centers_nearest'] <= 4000) & (data['ceiling_height'].isna()), 'ceiling_height'] = data.loc[data['city_centers_nearest'] <= 4000, 'ceiling_height'].median()\n",
    "data.loc[(data['city_centers_nearest'] <= 8000) & (data['ceiling_height'].isna()), 'ceiling_height'] = data.loc[(data['city_centers_nearest'] <= 8000) & (data['city_centers_nearest'] > 4000), 'ceiling_height'].median()\n",
    "data['ceiling_height'].isna().sum()"
   ]
  },
  {
   "cell_type": "code",
   "execution_count": 21,
   "id": "1ceedb64",
   "metadata": {},
   "outputs": [
    {
     "data": {
      "text/plain": [
       "95"
      ]
     },
     "execution_count": 21,
     "metadata": {},
     "output_type": "execute_result"
    }
   ],
   "source": [
    "# оставшиеся пропуски заменим медианой по населенному пункту\n",
    "for name in data['locality_name'].unique():\n",
    "    data.loc[(data['locality_name'] == name) & (data['ceiling_height'].isna()), 'ceiling_height'] = \\\n",
    "    data.loc[(data['locality_name'] == name) & (data['ceiling_height'].isna()==False), 'ceiling_height'].median()\n",
    "data['ceiling_height'].isna().sum()"
   ]
  },
  {
   "cell_type": "markdown",
   "id": "23cb662a",
   "metadata": {},
   "source": [
    "Осталась незначительная доля пропусков: скорее всего, это данные по населенным пунктам, в которых нет ни одной записи с данными по высоте потолка. Проверим это и заполним оставшиеся пропуски общей медианой."
   ]
  },
  {
   "cell_type": "code",
   "execution_count": 22,
   "id": "a6bcc957",
   "metadata": {},
   "outputs": [
    {
     "name": "stdout",
     "output_type": "stream",
     "text": [
      "кобринское            6\n",
      "селезнево             5\n",
      "усть-луга             5\n",
      "старополье            3\n",
      "рождествено           3\n",
      "                     ..\n",
      "форт красная горка    1\n",
      "курковицы             1\n",
      "реброво               1\n",
      "семиозерье            1\n",
      "тихковицы             1\n",
      "Name: locality_name, Length: 64, dtype: int64\n",
      "3163    NaN\n",
      "4302    NaN\n",
      "12031   NaN\n",
      "12062   NaN\n",
      "17332   NaN\n",
      "17771   NaN\n",
      "Name: ceiling_height, dtype: float64\n"
     ]
    }
   ],
   "source": [
    "print(data.loc[data['ceiling_height'].isna()==True, 'locality_name'].value_counts())\n",
    "print(data.loc[data['locality_name']=='кобринское', 'ceiling_height'])"
   ]
  },
  {
   "cell_type": "code",
   "execution_count": 23,
   "id": "896b2d0c",
   "metadata": {},
   "outputs": [
    {
     "data": {
      "text/plain": [
       "0"
      ]
     },
     "execution_count": 23,
     "metadata": {},
     "output_type": "execute_result"
    }
   ],
   "source": [
    "# заполняем остаток пропусков общей медианой по столбцу\n",
    "data['ceiling_height'] = data['ceiling_height'].fillna(data['ceiling_height'].median())\n",
    "data['ceiling_height'].isna().sum()"
   ]
  },
  {
   "cell_type": "markdown",
   "id": "6e422208",
   "metadata": {},
   "source": [
    "Замена пропущенных значений в столбцах `living_area` и `kitchen_area` на медиану привела бы к большому количеству некорректных значений, где сумма площади кухни и жилой площади превышает общую площадь. Для замены пропусков рассчитаем коэффициент, показывающий медианную долю кухни/жилой площади от общей площади квартиры."
   ]
  },
  {
   "cell_type": "code",
   "execution_count": 24,
   "id": "98a736a3",
   "metadata": {},
   "outputs": [],
   "source": [
    "# напишем функцию, которая рассчитает коэффициент площади и с его помощью заменит пропуски в выбранном столбце\n",
    "def coef(column):\n",
    "    column_coef = data[column].median() / data[data[column].isna() == False]['total_area'].median()\n",
    "    data[column] = data[column].fillna(data['total_area'] * column_coef)"
   ]
  },
  {
   "cell_type": "code",
   "execution_count": 25,
   "id": "05c43fdb",
   "metadata": {},
   "outputs": [
    {
     "data": {
      "text/plain": [
       "189"
      ]
     },
     "execution_count": 25,
     "metadata": {},
     "output_type": "execute_result"
    }
   ],
   "source": [
    "# заменим пропуски в столбцах площади кухни и жилой площади с помощью написанной функции\n",
    "coef('living_area')\n",
    "coef('kitchen_area')\n",
    "\n",
    "# проверим, сколько получилось некорректных значений, где сумма кухни и жилой площади превышает общую площадь\n",
    "len(data.loc[(data['living_area'] + data['kitchen_area']) >= data['total_area']][:])"
   ]
  },
  {
   "cell_type": "markdown",
   "id": "1ee972ca",
   "metadata": {},
   "source": [
    "Некорректных значений меньше 1% набора данных, поэтому избавимся от них."
   ]
  },
  {
   "cell_type": "code",
   "execution_count": 26,
   "id": "ed1b2a4e",
   "metadata": {},
   "outputs": [],
   "source": [
    "# сделаем срез по данным, где сумма кухни и жилой площади не превышает общую площадь\n",
    "data = data.loc[(data['living_area'] + data['kitchen_area']) < data['total_area']][:]"
   ]
  },
  {
   "cell_type": "markdown",
   "id": "77f19cd1",
   "metadata": {},
   "source": [
    "Пропуски в столбце `days_exposition`, который не заполняется пользователем, вероятнее всего образовались по технической причине. В этом столбце нет нулевых значений, поэтому, вероятно, пропуски — это объявления, которые были размещены менее одного дня; либо это объявления, которые еще не закрыты. Поскольку нет возможности определить это точно, оставим пропуски в этом столбце. "
   ]
  },
  {
   "cell_type": "code",
   "execution_count": 27,
   "id": "f7439bd8",
   "metadata": {},
   "outputs": [
    {
     "data": {
      "text/plain": [
       "total_images                0\n",
       "last_price                  0\n",
       "total_area                  0\n",
       "first_day_exposition        0\n",
       "rooms                       0\n",
       "ceiling_height              0\n",
       "floors_total                0\n",
       "living_area                 0\n",
       "floor                       0\n",
       "is_apartment                0\n",
       "studio                      0\n",
       "open_plan                   0\n",
       "kitchen_area                0\n",
       "balcony                     0\n",
       "locality_name               0\n",
       "airports_nearest         5461\n",
       "city_centers_nearest     5438\n",
       "parks_around3000            0\n",
       "parks_nearest           15404\n",
       "ponds_around3000            0\n",
       "ponds_nearest           14398\n",
       "days_exposition          3149\n",
       "dtype: int64"
      ]
     },
     "execution_count": 27,
     "metadata": {},
     "output_type": "execute_result"
    }
   ],
   "source": [
    "# посчитаем количество пропусков\n",
    "data.isna().sum()"
   ]
  },
  {
   "cell_type": "markdown",
   "id": "947b3337",
   "metadata": {},
   "source": [
    "**Вывод**: пропуски в столбцах `balcony`, `parks_around3000`, `ponds_around3000` были заполнены нулевыми значениями. Пропуски в столбце `is_apartment` заменены на *False* (квартира не является апартаментами). Пропуски в столбцах `kitchen_area` и `living_area` были заменены с помощью рассчитанного коэффициента. Пропуски в `ceiling_height` заменены медианным значением в зависимости от удаленности от центра и по населенному пункту. Строки с пропущенными значениями в столбцах `floors_total` и `locality_name` (менее 1%) были удалены. Были оставлены пропуски в столбцах с числовыми картографическими данными и автоматически заполняемом столбце `days_exposition`.\n",
    "\n",
    "В полях с данными, которые вводят пользователи, пропуски в общем могут образовываться по нескольким причинам: во-первых, пользователи оставляют пропущенными значения, если это значения булева типа (не указывают ничего в поле с балконом, если балкона нет), во-вторых, если пользователи затрудняются указать значение (например, точную высоту потолка или жилую площадь), в-третьих, по причине базового человеческого фактора (если у пользователя есть свобода заполнять ячейку в любом формате или не заполнять вовсе, то по разным причинам он может ее не заполнить или заполнить неверно, что приведет к неверной выгрузке данных). \n",
    "\n",
    "Поскольку картографические данные скорее всего подтягиваются автоматически, пропуски в этих столбцах могут образовываться из-за технической ошибки, недоработки: нужно сообщить о такой вероятности коллегам из бэкенда. Либо это предусмотренная особенность выгрузки данных для определенных параметров. "
   ]
  },
  {
   "cell_type": "markdown",
   "id": "640c4c1e",
   "metadata": {},
   "source": [
    "### Типы данных"
   ]
  },
  {
   "cell_type": "markdown",
   "id": "21078489",
   "metadata": {},
   "source": [
    "Выше мы уже заменили тип данных в некоторых столбцах в процессе обработки пропусков.\n",
    "\n",
    "В столбце `first_day_exposition` необходимо заменить тип данных на с *object* на *datetime*, поскольку далее это позволит производить операции с датой (например, выделить дни недели). В столбцах `balcony`, `parks_around3000`, `ponds_around3000` тип *float64* заменили на *int64*, поскольку количество балконов, парков и водоемов должно быть целым числом, по той же логике заменим тип в `floors_total` (количество этажей). В столбце `is_apartment` содержится булев тип данных (является апартаментами или нет). Большинство значений в столбце `days_exposition` — целые числа, а числа с точкой больше похожи на образовавшиеся в результате технической неполадке при выгрузке, следовательно здесь тип данных также целесообразно было бы заменить на *int64*, однако из-за наличия пропусков оставим *float64*."
   ]
  },
  {
   "cell_type": "code",
   "execution_count": 28,
   "id": "9a18f363",
   "metadata": {},
   "outputs": [
    {
     "name": "stdout",
     "output_type": "stream",
     "text": [
      "<class 'pandas.core.frame.DataFrame'>\n",
      "Int64Index: 23376 entries, 0 to 23698\n",
      "Data columns (total 22 columns):\n",
      " #   Column                Non-Null Count  Dtype         \n",
      "---  ------                --------------  -----         \n",
      " 0   total_images          23376 non-null  int64         \n",
      " 1   last_price            23376 non-null  float64       \n",
      " 2   total_area            23376 non-null  float64       \n",
      " 3   first_day_exposition  23376 non-null  datetime64[ns]\n",
      " 4   rooms                 23376 non-null  int64         \n",
      " 5   ceiling_height        23376 non-null  float64       \n",
      " 6   floors_total          23376 non-null  int32         \n",
      " 7   living_area           23376 non-null  float64       \n",
      " 8   floor                 23376 non-null  int64         \n",
      " 9   is_apartment          23376 non-null  bool          \n",
      " 10  studio                23376 non-null  bool          \n",
      " 11  open_plan             23376 non-null  bool          \n",
      " 12  kitchen_area          23376 non-null  float64       \n",
      " 13  balcony               23376 non-null  int32         \n",
      " 14  locality_name         23376 non-null  object        \n",
      " 15  airports_nearest      17915 non-null  float64       \n",
      " 16  city_centers_nearest  17938 non-null  float64       \n",
      " 17  parks_around3000      23376 non-null  int32         \n",
      " 18  parks_nearest         7972 non-null   float64       \n",
      " 19  ponds_around3000      23376 non-null  int32         \n",
      " 20  ponds_nearest         8978 non-null   float64       \n",
      " 21  days_exposition       20227 non-null  float64       \n",
      "dtypes: bool(3), datetime64[ns](1), float64(10), int32(4), int64(3), object(1)\n",
      "memory usage: 3.3+ MB\n"
     ]
    }
   ],
   "source": [
    "# в столбце с датой размещения отсутствуют данные о времени, оставим только дату\n",
    "data['first_day_exposition'] = pd.to_datetime(data['first_day_exposition'], format='%Y-%m-%d')\n",
    "\n",
    "# убедимся, что тип данных float из-за наличия NaN \n",
    "# data['floors_total'].unique()\n",
    "data['floors_total'] = data['floors_total'].astype('int')\n",
    "data.info()"
   ]
  },
  {
   "cell_type": "markdown",
   "id": "dc05cf5d",
   "metadata": {},
   "source": [
    "**Вывод**: типы данных изучены и приведены к нужным."
   ]
  },
  {
   "cell_type": "markdown",
   "id": "3fd0c034",
   "metadata": {},
   "source": [
    "### Поиск и обработка аномальных значений"
   ]
  },
  {
   "cell_type": "markdown",
   "id": "e9e03337",
   "metadata": {},
   "source": [
    "Аномальные значения могут присутствовать в столбцах `rooms`, `total_area`, `ceiling_height`, `days_exposition`, `last_price`, `living_area`, `kitchen_area`, `floor`, `floors_total`. Проверим эти столбцы."
   ]
  },
  {
   "cell_type": "code",
   "execution_count": 29,
   "id": "efb41c3b",
   "metadata": {},
   "outputs": [
    {
     "data": {
      "text/plain": [
       "8793         12190.0\n",
       "17456       430000.0\n",
       "14911       430000.0\n",
       "16274       440000.0\n",
       "16219       450000.0\n",
       "            ...     \n",
       "15651    300000000.0\n",
       "1436     330000000.0\n",
       "14706    401300000.0\n",
       "19540    420000000.0\n",
       "12971    763000000.0\n",
       "Name: last_price, Length: 23376, dtype: float64"
      ]
     },
     "execution_count": 29,
     "metadata": {},
     "output_type": "execute_result"
    }
   ],
   "source": [
    "# посмотрим, какие данные содержатся в столбце со стоимостью\n",
    "data['last_price'].sort_values()"
   ]
  },
  {
   "cell_type": "markdown",
   "id": "f014f7c3",
   "metadata": {},
   "source": [
    "Для удобства переведем значения в Квартиры в Ленобласти вполне могут стоить 430 тыс., однако 12 тыс. — аномально низкое значение, которое нужно отбросить. Проверим крайние диапазоны значений."
   ]
  },
  {
   "cell_type": "code",
   "execution_count": 30,
   "id": "20e60526",
   "metadata": {},
   "outputs": [
    {
     "data": {
      "text/html": [
       "<div>\n",
       "<style scoped>\n",
       "    .dataframe tbody tr th:only-of-type {\n",
       "        vertical-align: middle;\n",
       "    }\n",
       "\n",
       "    .dataframe tbody tr th {\n",
       "        vertical-align: top;\n",
       "    }\n",
       "\n",
       "    .dataframe thead th {\n",
       "        text-align: right;\n",
       "    }\n",
       "</style>\n",
       "<table border=\"1\" class=\"dataframe\">\n",
       "  <thead>\n",
       "    <tr style=\"text-align: right;\">\n",
       "      <th></th>\n",
       "      <th>rooms</th>\n",
       "      <th>locality_name</th>\n",
       "      <th>last_price</th>\n",
       "      <th>total_area</th>\n",
       "      <th>city_centers_nearest</th>\n",
       "    </tr>\n",
       "  </thead>\n",
       "  <tbody>\n",
       "    <tr>\n",
       "      <th>5893</th>\n",
       "      <td>6</td>\n",
       "      <td>санкт-петербург</td>\n",
       "      <td>230000000.0</td>\n",
       "      <td>500.0</td>\n",
       "      <td>5297.0</td>\n",
       "    </tr>\n",
       "    <tr>\n",
       "      <th>13749</th>\n",
       "      <td>6</td>\n",
       "      <td>санкт-петербург</td>\n",
       "      <td>240000000.0</td>\n",
       "      <td>410.0</td>\n",
       "      <td>5297.0</td>\n",
       "    </tr>\n",
       "    <tr>\n",
       "      <th>16461</th>\n",
       "      <td>6</td>\n",
       "      <td>санкт-петербург</td>\n",
       "      <td>245000000.0</td>\n",
       "      <td>285.7</td>\n",
       "      <td>6235.0</td>\n",
       "    </tr>\n",
       "    <tr>\n",
       "      <th>22831</th>\n",
       "      <td>2</td>\n",
       "      <td>санкт-петербург</td>\n",
       "      <td>289238400.0</td>\n",
       "      <td>187.5</td>\n",
       "      <td>1073.0</td>\n",
       "    </tr>\n",
       "    <tr>\n",
       "      <th>15651</th>\n",
       "      <td>7</td>\n",
       "      <td>санкт-петербург</td>\n",
       "      <td>300000000.0</td>\n",
       "      <td>618.0</td>\n",
       "      <td>5297.0</td>\n",
       "    </tr>\n",
       "    <tr>\n",
       "      <th>1436</th>\n",
       "      <td>3</td>\n",
       "      <td>санкт-петербург</td>\n",
       "      <td>330000000.0</td>\n",
       "      <td>190.0</td>\n",
       "      <td>1197.0</td>\n",
       "    </tr>\n",
       "    <tr>\n",
       "      <th>14706</th>\n",
       "      <td>5</td>\n",
       "      <td>санкт-петербург</td>\n",
       "      <td>401300000.0</td>\n",
       "      <td>401.0</td>\n",
       "      <td>2389.0</td>\n",
       "    </tr>\n",
       "    <tr>\n",
       "      <th>19540</th>\n",
       "      <td>12</td>\n",
       "      <td>санкт-петербург</td>\n",
       "      <td>420000000.0</td>\n",
       "      <td>900.0</td>\n",
       "      <td>7877.0</td>\n",
       "    </tr>\n",
       "    <tr>\n",
       "      <th>12971</th>\n",
       "      <td>7</td>\n",
       "      <td>санкт-петербург</td>\n",
       "      <td>763000000.0</td>\n",
       "      <td>400.0</td>\n",
       "      <td>3956.0</td>\n",
       "    </tr>\n",
       "  </tbody>\n",
       "</table>\n",
       "</div>"
      ],
      "text/plain": [
       "       rooms    locality_name   last_price  total_area  city_centers_nearest\n",
       "5893       6  санкт-петербург  230000000.0       500.0                5297.0\n",
       "13749      6  санкт-петербург  240000000.0       410.0                5297.0\n",
       "16461      6  санкт-петербург  245000000.0       285.7                6235.0\n",
       "22831      2  санкт-петербург  289238400.0       187.5                1073.0\n",
       "15651      7  санкт-петербург  300000000.0       618.0                5297.0\n",
       "1436       3  санкт-петербург  330000000.0       190.0                1197.0\n",
       "14706      5  санкт-петербург  401300000.0       401.0                2389.0\n",
       "19540     12  санкт-петербург  420000000.0       900.0                7877.0\n",
       "12971      7  санкт-петербург  763000000.0       400.0                3956.0"
      ]
     },
     "execution_count": 30,
     "metadata": {},
     "output_type": "execute_result"
    }
   ],
   "source": [
    "data.loc[data['last_price'] >= 200000000, ('rooms','locality_name', 'last_price', 'total_area', 'city_centers_nearest')\n",
    "        ].sort_values(by='last_price')"
   ]
  },
  {
   "cell_type": "markdown",
   "id": "f28ff730",
   "metadata": {},
   "source": [
    "Дорогие квартиры имеют большую площадь и расположены в центре Санкт-Петербурга: данные выглядят правдоподобно. Мы допускаем, что элитное жилье в центре Санкт-Петербурга могло продаваться за 763 млн руб. Ниже посмотрим на эти данные подробнее."
   ]
  },
  {
   "cell_type": "code",
   "execution_count": 31,
   "id": "f12b0097",
   "metadata": {},
   "outputs": [
    {
     "data": {
      "text/plain": [
       "1"
      ]
     },
     "execution_count": 31,
     "metadata": {},
     "output_type": "execute_result"
    }
   ],
   "source": [
    "# проверим, есть ли квартиры дешевле 1 млн руб. в Санкт-Петербурге\n",
    "data[(data['last_price'] <=1000000) & (data['locality_name']=='санкт-петербург')]['last_price'].count()"
   ]
  },
  {
   "cell_type": "code",
   "execution_count": 32,
   "id": "e0c2a1a5",
   "metadata": {},
   "outputs": [
    {
     "data": {
      "text/html": [
       "<div>\n",
       "<style scoped>\n",
       "    .dataframe tbody tr th:only-of-type {\n",
       "        vertical-align: middle;\n",
       "    }\n",
       "\n",
       "    .dataframe tbody tr th {\n",
       "        vertical-align: top;\n",
       "    }\n",
       "\n",
       "    .dataframe thead th {\n",
       "        text-align: right;\n",
       "    }\n",
       "</style>\n",
       "<table border=\"1\" class=\"dataframe\">\n",
       "  <thead>\n",
       "    <tr style=\"text-align: right;\">\n",
       "      <th></th>\n",
       "      <th>rooms</th>\n",
       "      <th>locality_name</th>\n",
       "      <th>last_price</th>\n",
       "      <th>total_area</th>\n",
       "      <th>city_centers_nearest</th>\n",
       "    </tr>\n",
       "  </thead>\n",
       "  <tbody>\n",
       "    <tr>\n",
       "      <th>8793</th>\n",
       "      <td>2</td>\n",
       "      <td>санкт-петербург</td>\n",
       "      <td>12190.0</td>\n",
       "      <td>109.0</td>\n",
       "      <td>9176.0</td>\n",
       "    </tr>\n",
       "    <tr>\n",
       "      <th>14911</th>\n",
       "      <td>2</td>\n",
       "      <td>свирь</td>\n",
       "      <td>430000.0</td>\n",
       "      <td>54.0</td>\n",
       "      <td>NaN</td>\n",
       "    </tr>\n",
       "    <tr>\n",
       "      <th>17456</th>\n",
       "      <td>1</td>\n",
       "      <td>сланцы</td>\n",
       "      <td>430000.0</td>\n",
       "      <td>30.4</td>\n",
       "      <td>NaN</td>\n",
       "    </tr>\n",
       "    <tr>\n",
       "      <th>16274</th>\n",
       "      <td>1</td>\n",
       "      <td>старополье</td>\n",
       "      <td>440000.0</td>\n",
       "      <td>40.0</td>\n",
       "      <td>NaN</td>\n",
       "    </tr>\n",
       "    <tr>\n",
       "      <th>5698</th>\n",
       "      <td>2</td>\n",
       "      <td>будогощь</td>\n",
       "      <td>450000.0</td>\n",
       "      <td>42.0</td>\n",
       "      <td>NaN</td>\n",
       "    </tr>\n",
       "    <tr>\n",
       "      <th>9581</th>\n",
       "      <td>2</td>\n",
       "      <td>старополье</td>\n",
       "      <td>450000.0</td>\n",
       "      <td>43.4</td>\n",
       "      <td>NaN</td>\n",
       "    </tr>\n",
       "    <tr>\n",
       "      <th>16219</th>\n",
       "      <td>2</td>\n",
       "      <td>вахнова кара</td>\n",
       "      <td>450000.0</td>\n",
       "      <td>38.5</td>\n",
       "      <td>NaN</td>\n",
       "    </tr>\n",
       "    <tr>\n",
       "      <th>17676</th>\n",
       "      <td>1</td>\n",
       "      <td>ям-тесово</td>\n",
       "      <td>450000.0</td>\n",
       "      <td>36.5</td>\n",
       "      <td>NaN</td>\n",
       "    </tr>\n",
       "    <tr>\n",
       "      <th>21912</th>\n",
       "      <td>1</td>\n",
       "      <td>совхозный</td>\n",
       "      <td>470000.0</td>\n",
       "      <td>37.0</td>\n",
       "      <td>NaN</td>\n",
       "    </tr>\n",
       "    <tr>\n",
       "      <th>23484</th>\n",
       "      <td>2</td>\n",
       "      <td>сланцы</td>\n",
       "      <td>470000.0</td>\n",
       "      <td>44.5</td>\n",
       "      <td>NaN</td>\n",
       "    </tr>\n",
       "    <tr>\n",
       "      <th>16032</th>\n",
       "      <td>1</td>\n",
       "      <td>сланцы</td>\n",
       "      <td>480000.0</td>\n",
       "      <td>32.0</td>\n",
       "      <td>NaN</td>\n",
       "    </tr>\n",
       "    <tr>\n",
       "      <th>6859</th>\n",
       "      <td>1</td>\n",
       "      <td>старополье</td>\n",
       "      <td>490000.0</td>\n",
       "      <td>40.0</td>\n",
       "      <td>NaN</td>\n",
       "    </tr>\n",
       "    <tr>\n",
       "      <th>10782</th>\n",
       "      <td>1</td>\n",
       "      <td>сланцы</td>\n",
       "      <td>490000.0</td>\n",
       "      <td>29.1</td>\n",
       "      <td>NaN</td>\n",
       "    </tr>\n",
       "  </tbody>\n",
       "</table>\n",
       "</div>"
      ],
      "text/plain": [
       "       rooms    locality_name  last_price  total_area  city_centers_nearest\n",
       "8793       2  санкт-петербург     12190.0       109.0                9176.0\n",
       "14911      2            свирь    430000.0        54.0                   NaN\n",
       "17456      1           сланцы    430000.0        30.4                   NaN\n",
       "16274      1       старополье    440000.0        40.0                   NaN\n",
       "5698       2         будогощь    450000.0        42.0                   NaN\n",
       "9581       2       старополье    450000.0        43.4                   NaN\n",
       "16219      2     вахнова кара    450000.0        38.5                   NaN\n",
       "17676      1        ям-тесово    450000.0        36.5                   NaN\n",
       "21912      1        совхозный    470000.0        37.0                   NaN\n",
       "23484      2           сланцы    470000.0        44.5                   NaN\n",
       "16032      1           сланцы    480000.0        32.0                   NaN\n",
       "6859       1       старополье    490000.0        40.0                   NaN\n",
       "10782      1           сланцы    490000.0        29.1                   NaN"
      ]
     },
     "execution_count": 32,
     "metadata": {},
     "output_type": "execute_result"
    }
   ],
   "source": [
    "# посмотрим на дешевые квартиры стоимостью менее 500 тыс. рублей\n",
    "data.loc[data['last_price'] < 500000, ('rooms','locality_name', 'last_price', 'total_area', 'city_centers_nearest')\n",
    "        ].sort_values(by='last_price')"
   ]
  },
  {
   "cell_type": "markdown",
   "id": "66b101de",
   "metadata": {},
   "source": [
    "Данные выглядят правдоподобно: все дешевые квартиры находятся в области. Уберем единственную ошибочную строку, остальные значения оставим как есть. "
   ]
  },
  {
   "cell_type": "code",
   "execution_count": 33,
   "id": "bf230d20",
   "metadata": {},
   "outputs": [
    {
     "data": {
      "text/plain": [
       "17456       430000.0\n",
       "14911       430000.0\n",
       "16274       440000.0\n",
       "16219       450000.0\n",
       "17676       450000.0\n",
       "            ...     \n",
       "15651    300000000.0\n",
       "1436     330000000.0\n",
       "14706    401300000.0\n",
       "19540    420000000.0\n",
       "12971    763000000.0\n",
       "Name: last_price, Length: 23375, dtype: float64"
      ]
     },
     "execution_count": 33,
     "metadata": {},
     "output_type": "execute_result"
    }
   ],
   "source": [
    "# уберем одну строку командой drop\n",
    "data = data.drop(index=8793)\n",
    "\n",
    "# проверим результат\n",
    "data['last_price'].sort_values()"
   ]
  },
  {
   "cell_type": "code",
   "execution_count": 34,
   "id": "2dd95766",
   "metadata": {},
   "outputs": [
    {
     "data": {
      "text/plain": [
       "22590     1.00\n",
       "5712      1.20\n",
       "16934     1.75\n",
       "16446     2.00\n",
       "19329     2.00\n",
       "         ...  \n",
       "4876     27.00\n",
       "2158     27.00\n",
       "20478    27.00\n",
       "22336    32.00\n",
       "3148     32.00\n",
       "Name: ceiling_height, Length: 23375, dtype: float64"
      ]
     },
     "execution_count": 34,
     "metadata": {},
     "output_type": "execute_result"
    }
   ],
   "source": [
    "# проверим, какие значения содержатся в столбце с высотой потолков\n",
    "data['ceiling_height'].sort_values()"
   ]
  },
  {
   "cell_type": "code",
   "execution_count": 35,
   "id": "37f608c0",
   "metadata": {},
   "outputs": [
    {
     "data": {
      "text/html": [
       "<div>\n",
       "<style scoped>\n",
       "    .dataframe tbody tr th:only-of-type {\n",
       "        vertical-align: middle;\n",
       "    }\n",
       "\n",
       "    .dataframe tbody tr th {\n",
       "        vertical-align: top;\n",
       "    }\n",
       "\n",
       "    .dataframe thead th {\n",
       "        text-align: right;\n",
       "    }\n",
       "</style>\n",
       "<table border=\"1\" class=\"dataframe\">\n",
       "  <thead>\n",
       "    <tr style=\"text-align: right;\">\n",
       "      <th></th>\n",
       "      <th>total_images</th>\n",
       "      <th>last_price</th>\n",
       "      <th>total_area</th>\n",
       "      <th>first_day_exposition</th>\n",
       "      <th>rooms</th>\n",
       "      <th>ceiling_height</th>\n",
       "      <th>floors_total</th>\n",
       "      <th>living_area</th>\n",
       "      <th>floor</th>\n",
       "      <th>is_apartment</th>\n",
       "      <th>studio</th>\n",
       "      <th>open_plan</th>\n",
       "      <th>kitchen_area</th>\n",
       "      <th>balcony</th>\n",
       "      <th>locality_name</th>\n",
       "      <th>airports_nearest</th>\n",
       "      <th>city_centers_nearest</th>\n",
       "      <th>parks_around3000</th>\n",
       "      <th>parks_nearest</th>\n",
       "      <th>ponds_around3000</th>\n",
       "      <th>ponds_nearest</th>\n",
       "      <th>days_exposition</th>\n",
       "    </tr>\n",
       "  </thead>\n",
       "  <tbody>\n",
       "    <tr>\n",
       "      <th>3474</th>\n",
       "      <td>3</td>\n",
       "      <td>1400000.0</td>\n",
       "      <td>30.0</td>\n",
       "      <td>2018-03-16</td>\n",
       "      <td>1</td>\n",
       "      <td>8.0</td>\n",
       "      <td>5</td>\n",
       "      <td>15.3</td>\n",
       "      <td>2</td>\n",
       "      <td>False</td>\n",
       "      <td>False</td>\n",
       "      <td>False</td>\n",
       "      <td>7.300000</td>\n",
       "      <td>0</td>\n",
       "      <td>нурма</td>\n",
       "      <td>NaN</td>\n",
       "      <td>NaN</td>\n",
       "      <td>0</td>\n",
       "      <td>NaN</td>\n",
       "      <td>0</td>\n",
       "      <td>NaN</td>\n",
       "      <td>125.0</td>\n",
       "    </tr>\n",
       "    <tr>\n",
       "      <th>5863</th>\n",
       "      <td>20</td>\n",
       "      <td>5650000.0</td>\n",
       "      <td>45.0</td>\n",
       "      <td>2018-08-15</td>\n",
       "      <td>1</td>\n",
       "      <td>8.3</td>\n",
       "      <td>16</td>\n",
       "      <td>19.3</td>\n",
       "      <td>14</td>\n",
       "      <td>False</td>\n",
       "      <td>False</td>\n",
       "      <td>False</td>\n",
       "      <td>8.300000</td>\n",
       "      <td>1</td>\n",
       "      <td>санкт-петербург</td>\n",
       "      <td>13069.0</td>\n",
       "      <td>10763.0</td>\n",
       "      <td>0</td>\n",
       "      <td>NaN</td>\n",
       "      <td>1</td>\n",
       "      <td>613.0</td>\n",
       "      <td>14.0</td>\n",
       "    </tr>\n",
       "    <tr>\n",
       "      <th>15743</th>\n",
       "      <td>14</td>\n",
       "      <td>5600000.0</td>\n",
       "      <td>67.0</td>\n",
       "      <td>2016-11-11</td>\n",
       "      <td>3</td>\n",
       "      <td>8.0</td>\n",
       "      <td>16</td>\n",
       "      <td>41.0</td>\n",
       "      <td>1</td>\n",
       "      <td>False</td>\n",
       "      <td>False</td>\n",
       "      <td>False</td>\n",
       "      <td>8.000000</td>\n",
       "      <td>0</td>\n",
       "      <td>санкт-петербург</td>\n",
       "      <td>32691.0</td>\n",
       "      <td>11035.0</td>\n",
       "      <td>1</td>\n",
       "      <td>723.0</td>\n",
       "      <td>0</td>\n",
       "      <td>NaN</td>\n",
       "      <td>474.0</td>\n",
       "    </tr>\n",
       "    <tr>\n",
       "      <th>17442</th>\n",
       "      <td>0</td>\n",
       "      <td>5350000.0</td>\n",
       "      <td>54.0</td>\n",
       "      <td>2015-06-16</td>\n",
       "      <td>2</td>\n",
       "      <td>8.0</td>\n",
       "      <td>5</td>\n",
       "      <td>29.0</td>\n",
       "      <td>2</td>\n",
       "      <td>False</td>\n",
       "      <td>False</td>\n",
       "      <td>False</td>\n",
       "      <td>9.379653</td>\n",
       "      <td>1</td>\n",
       "      <td>красное</td>\n",
       "      <td>24638.0</td>\n",
       "      <td>28062.0</td>\n",
       "      <td>0</td>\n",
       "      <td>NaN</td>\n",
       "      <td>0</td>\n",
       "      <td>NaN</td>\n",
       "      <td>469.0</td>\n",
       "    </tr>\n",
       "    <tr>\n",
       "      <th>20264</th>\n",
       "      <td>17</td>\n",
       "      <td>119000000.0</td>\n",
       "      <td>187.6</td>\n",
       "      <td>2017-07-10</td>\n",
       "      <td>4</td>\n",
       "      <td>6.0</td>\n",
       "      <td>7</td>\n",
       "      <td>147.0</td>\n",
       "      <td>7</td>\n",
       "      <td>False</td>\n",
       "      <td>False</td>\n",
       "      <td>False</td>\n",
       "      <td>15.600000</td>\n",
       "      <td>0</td>\n",
       "      <td>санкт-петербург</td>\n",
       "      <td>26902.0</td>\n",
       "      <td>5605.0</td>\n",
       "      <td>3</td>\n",
       "      <td>484.0</td>\n",
       "      <td>1</td>\n",
       "      <td>305.0</td>\n",
       "      <td>259.0</td>\n",
       "    </tr>\n",
       "  </tbody>\n",
       "</table>\n",
       "</div>"
      ],
      "text/plain": [
       "       total_images   last_price  total_area first_day_exposition  rooms  \\\n",
       "3474              3    1400000.0        30.0           2018-03-16      1   \n",
       "5863             20    5650000.0        45.0           2018-08-15      1   \n",
       "15743            14    5600000.0        67.0           2016-11-11      3   \n",
       "17442             0    5350000.0        54.0           2015-06-16      2   \n",
       "20264            17  119000000.0       187.6           2017-07-10      4   \n",
       "\n",
       "       ceiling_height  floors_total  living_area  floor  is_apartment  studio  \\\n",
       "3474              8.0             5         15.3      2         False   False   \n",
       "5863              8.3            16         19.3     14         False   False   \n",
       "15743             8.0            16         41.0      1         False   False   \n",
       "17442             8.0             5         29.0      2         False   False   \n",
       "20264             6.0             7        147.0      7         False   False   \n",
       "\n",
       "       open_plan  kitchen_area  balcony    locality_name  airports_nearest  \\\n",
       "3474       False      7.300000        0            нурма               NaN   \n",
       "5863       False      8.300000        1  санкт-петербург           13069.0   \n",
       "15743      False      8.000000        0  санкт-петербург           32691.0   \n",
       "17442      False      9.379653        1          красное           24638.0   \n",
       "20264      False     15.600000        0  санкт-петербург           26902.0   \n",
       "\n",
       "       city_centers_nearest  parks_around3000  parks_nearest  \\\n",
       "3474                    NaN                 0            NaN   \n",
       "5863                10763.0                 0            NaN   \n",
       "15743               11035.0                 1          723.0   \n",
       "17442               28062.0                 0            NaN   \n",
       "20264                5605.0                 3          484.0   \n",
       "\n",
       "       ponds_around3000  ponds_nearest  days_exposition  \n",
       "3474                  0            NaN            125.0  \n",
       "5863                  1          613.0             14.0  \n",
       "15743                 0            NaN            474.0  \n",
       "17442                 0            NaN            469.0  \n",
       "20264                 1          305.0            259.0  "
      ]
     },
     "execution_count": 35,
     "metadata": {},
     "output_type": "execute_result"
    }
   ],
   "source": [
    "# выведем отдельно квартиры с высокими потолками\n",
    "data.query('6 <= ceiling_height <= 10')"
   ]
  },
  {
   "cell_type": "markdown",
   "id": "0c1e1885",
   "metadata": {},
   "source": [
    "В столбце `ceiling_height` есть значения от 25 до 32: логично предположить, что это вещественные значения 2.5 и 3.2 м. Заменим их, поделив все значения на 10. В данных также есть небольшое количество квартир с высотой потолка приблизительно от 6 до 10 м, от них мы тоже избавимся, поскольку данные выглядят неправдоподобно относительно цены, расположения и размера квартиры (это не могут быть премиум квартиры с двумя уровнями). Поделим все значения на 10, что как раз сделает этот диапазон достаточно маленьким, чтобы его отсечь (будем считать, что минимальная высота потолка по нормам и стандартам от 2.4 м)."
   ]
  },
  {
   "cell_type": "code",
   "execution_count": 36,
   "id": "a49ce8a8",
   "metadata": {},
   "outputs": [
    {
     "data": {
      "text/plain": [
       "2236     2.4\n",
       "11125    2.4\n",
       "14345    2.4\n",
       "15453    2.4\n",
       "17601    2.4\n",
       "        ... \n",
       "1026     5.3\n",
       "12628    5.3\n",
       "7578     5.5\n",
       "1388     5.6\n",
       "20264    6.0\n",
       "Name: ceiling_height, Length: 23347, dtype: float64"
      ]
     },
     "execution_count": 36,
     "metadata": {},
     "output_type": "execute_result"
    }
   ],
   "source": [
    "# делим значения высоты в выбранном диапазоне на 10\n",
    "data.loc[(data['ceiling_height'] > 6) & (data['ceiling_height'] <= 35), 'ceiling_height'] /= 10 \n",
    "# выбираем значения в диапазоне от 2.4 м до 6 м, избавляемся от выброса в 100 м\n",
    "data = data.loc[(data['ceiling_height'] < 100) & (data['ceiling_height'] >= 2.4)][:]\n",
    "\n",
    "# проверяем результат\n",
    "data['ceiling_height'].sort_values()"
   ]
  },
  {
   "cell_type": "code",
   "execution_count": 37,
   "id": "fe001d55",
   "metadata": {},
   "outputs": [
    {
     "data": {
      "text/plain": [
       "[0, 1, 2, 3, 4, 5, 6, 7, 8, 9, 10, 11, 12, 14, 15, 16, 19]"
      ]
     },
     "execution_count": 37,
     "metadata": {},
     "output_type": "execute_result"
    }
   ],
   "source": [
    "# проверим, какие значения содержатся в столбце c количеством комнат\n",
    "sorted(data['rooms'].unique())"
   ]
  },
  {
   "cell_type": "markdown",
   "id": "5ae7c3bc",
   "metadata": {},
   "source": [
    "В данных присутствуют квартиры с нулем комнат и очень большим количеством комнат. Предварительно предположим, что ноль указан в студиях и квартирах с открытой планировкой, а квартиры с большим количеством комнат являются бывшими коммунальными квартирами: они распространены в Санкт-Петербурге. Проверим это."
   ]
  },
  {
   "cell_type": "code",
   "execution_count": 38,
   "id": "0c6b8f92",
   "metadata": {},
   "outputs": [
    {
     "data": {
      "text/plain": [
       "0"
      ]
     },
     "execution_count": 38,
     "metadata": {},
     "output_type": "execute_result"
    }
   ],
   "source": [
    "# проверим, есть ли квартиры с нулем комнат, не являющиеся студиями и не свободной планировки\n",
    "len(data[(data['rooms']==0) & ((data['studio']=='False') | (data['open_plan']=='False'))])"
   ]
  },
  {
   "cell_type": "code",
   "execution_count": 39,
   "id": "bf105c0d",
   "metadata": {},
   "outputs": [
    {
     "data": {
      "text/html": [
       "<div>\n",
       "<style scoped>\n",
       "    .dataframe tbody tr th:only-of-type {\n",
       "        vertical-align: middle;\n",
       "    }\n",
       "\n",
       "    .dataframe tbody tr th {\n",
       "        vertical-align: top;\n",
       "    }\n",
       "\n",
       "    .dataframe thead th {\n",
       "        text-align: right;\n",
       "    }\n",
       "</style>\n",
       "<table border=\"1\" class=\"dataframe\">\n",
       "  <thead>\n",
       "    <tr style=\"text-align: right;\">\n",
       "      <th></th>\n",
       "      <th>rooms</th>\n",
       "      <th>locality_name</th>\n",
       "      <th>last_price</th>\n",
       "      <th>total_area</th>\n",
       "    </tr>\n",
       "  </thead>\n",
       "  <tbody>\n",
       "    <tr>\n",
       "      <th>648</th>\n",
       "      <td>11</td>\n",
       "      <td>санкт-петербург</td>\n",
       "      <td>17500000.0</td>\n",
       "      <td>183.7</td>\n",
       "    </tr>\n",
       "    <tr>\n",
       "      <th>9688</th>\n",
       "      <td>11</td>\n",
       "      <td>санкт-петербург</td>\n",
       "      <td>33000000.0</td>\n",
       "      <td>194.1</td>\n",
       "    </tr>\n",
       "    <tr>\n",
       "      <th>18119</th>\n",
       "      <td>10</td>\n",
       "      <td>санкт-петербург</td>\n",
       "      <td>15500000.0</td>\n",
       "      <td>216.1</td>\n",
       "    </tr>\n",
       "    <tr>\n",
       "      <th>20829</th>\n",
       "      <td>14</td>\n",
       "      <td>санкт-петербург</td>\n",
       "      <td>28659000.0</td>\n",
       "      <td>245.4</td>\n",
       "    </tr>\n",
       "    <tr>\n",
       "      <th>18848</th>\n",
       "      <td>16</td>\n",
       "      <td>санкт-петербург</td>\n",
       "      <td>28500000.0</td>\n",
       "      <td>270.0</td>\n",
       "    </tr>\n",
       "    <tr>\n",
       "      <th>4149</th>\n",
       "      <td>10</td>\n",
       "      <td>санкт-петербург</td>\n",
       "      <td>23000000.0</td>\n",
       "      <td>272.6</td>\n",
       "    </tr>\n",
       "    <tr>\n",
       "      <th>18891</th>\n",
       "      <td>10</td>\n",
       "      <td>санкт-петербург</td>\n",
       "      <td>40000000.0</td>\n",
       "      <td>290.0</td>\n",
       "    </tr>\n",
       "    <tr>\n",
       "      <th>866</th>\n",
       "      <td>14</td>\n",
       "      <td>санкт-петербург</td>\n",
       "      <td>25000000.0</td>\n",
       "      <td>363.0</td>\n",
       "    </tr>\n",
       "    <tr>\n",
       "      <th>14498</th>\n",
       "      <td>19</td>\n",
       "      <td>санкт-петербург</td>\n",
       "      <td>32250000.0</td>\n",
       "      <td>374.6</td>\n",
       "    </tr>\n",
       "    <tr>\n",
       "      <th>5358</th>\n",
       "      <td>15</td>\n",
       "      <td>санкт-петербург</td>\n",
       "      <td>65000000.0</td>\n",
       "      <td>590.0</td>\n",
       "    </tr>\n",
       "    <tr>\n",
       "      <th>19540</th>\n",
       "      <td>12</td>\n",
       "      <td>санкт-петербург</td>\n",
       "      <td>420000000.0</td>\n",
       "      <td>900.0</td>\n",
       "    </tr>\n",
       "  </tbody>\n",
       "</table>\n",
       "</div>"
      ],
      "text/plain": [
       "       rooms    locality_name   last_price  total_area\n",
       "648       11  санкт-петербург   17500000.0       183.7\n",
       "9688      11  санкт-петербург   33000000.0       194.1\n",
       "18119     10  санкт-петербург   15500000.0       216.1\n",
       "20829     14  санкт-петербург   28659000.0       245.4\n",
       "18848     16  санкт-петербург   28500000.0       270.0\n",
       "4149      10  санкт-петербург   23000000.0       272.6\n",
       "18891     10  санкт-петербург   40000000.0       290.0\n",
       "866       14  санкт-петербург   25000000.0       363.0\n",
       "14498     19  санкт-петербург   32250000.0       374.6\n",
       "5358      15  санкт-петербург   65000000.0       590.0\n",
       "19540     12  санкт-петербург  420000000.0       900.0"
      ]
     },
     "execution_count": 39,
     "metadata": {},
     "output_type": "execute_result"
    }
   ],
   "source": [
    "# проверим площадь, цену и населенный пункт квартир с 10 и более комнатами\n",
    "data.loc[data['rooms'] >= 10, ('rooms','locality_name', 'last_price', 'total_area')].sort_values(by='total_area')"
   ]
  },
  {
   "cell_type": "markdown",
   "id": "8bde0fd5",
   "metadata": {},
   "source": [
    "Поскольку все квартиры с нулем комнат либо свободной планировки, либо студии, оставим нулевые значения. Квартиры с большим количеством комнат на данном этапе также оставим, поскольку они выглядят как бывшие коммунальные: у них большой площади и находятся в Санкт-Петербурге."
   ]
  },
  {
   "cell_type": "code",
   "execution_count": 40,
   "id": "806ef296",
   "metadata": {},
   "outputs": [
    {
     "data": {
      "text/plain": [
       "19807     13.0\n",
       "19546     13.0\n",
       "17961     13.0\n",
       "19558     13.2\n",
       "19642     14.0\n",
       "         ...  \n",
       "5358     590.0\n",
       "15651    618.0\n",
       "3117     631.0\n",
       "12859    631.2\n",
       "19540    900.0\n",
       "Name: total_area, Length: 23347, dtype: float64"
      ]
     },
     "execution_count": 40,
     "metadata": {},
     "output_type": "execute_result"
    }
   ],
   "source": [
    "# проверим, какие значения содержатся в столбце 'total_area'\n",
    "data['total_area'].sort_values()"
   ]
  },
  {
   "cell_type": "markdown",
   "id": "d1f7cc85",
   "metadata": {},
   "source": [
    "Квартиры c малой площадью вплоть до 13 м вполне возможны в Санкт-Петербурге: часто квартиры в домах старого фонда переделывают уже не в коммунальные, а в отдельные квартиры-студии. Проверим, сколько комнат в квартирах с маленькой площадью и являются ли они студиями. Если нет, то заменим на студии с нулем комнат: пользователи часто указывают 1-комнатную квартиру вместо студии, особенно если в квартире так или иначе выполнено зонирование. Есть квартиры с очень большой площадью. Также взглянем на них поближе."
   ]
  },
  {
   "cell_type": "code",
   "execution_count": 41,
   "id": "f1a7861e",
   "metadata": {},
   "outputs": [
    {
     "data": {
      "text/html": [
       "<div>\n",
       "<style scoped>\n",
       "    .dataframe tbody tr th:only-of-type {\n",
       "        vertical-align: middle;\n",
       "    }\n",
       "\n",
       "    .dataframe tbody tr th {\n",
       "        vertical-align: top;\n",
       "    }\n",
       "\n",
       "    .dataframe thead th {\n",
       "        text-align: right;\n",
       "    }\n",
       "</style>\n",
       "<table border=\"1\" class=\"dataframe\">\n",
       "  <thead>\n",
       "    <tr style=\"text-align: right;\">\n",
       "      <th></th>\n",
       "      <th>total_area</th>\n",
       "      <th>rooms</th>\n",
       "      <th>studio</th>\n",
       "      <th>kitchen_area</th>\n",
       "      <th>locality_name</th>\n",
       "      <th>last_price</th>\n",
       "    </tr>\n",
       "  </thead>\n",
       "  <tbody>\n",
       "    <tr>\n",
       "      <th>4077</th>\n",
       "      <td>20.0</td>\n",
       "      <td>2</td>\n",
       "      <td>False</td>\n",
       "      <td>5.600000</td>\n",
       "      <td>санкт-петербург</td>\n",
       "      <td>3000000.0</td>\n",
       "    </tr>\n",
       "    <tr>\n",
       "      <th>4542</th>\n",
       "      <td>18.0</td>\n",
       "      <td>1</td>\n",
       "      <td>False</td>\n",
       "      <td>3.126551</td>\n",
       "      <td>санкт-петербург</td>\n",
       "      <td>3300000.0</td>\n",
       "    </tr>\n",
       "    <tr>\n",
       "      <th>6084</th>\n",
       "      <td>18.0</td>\n",
       "      <td>1</td>\n",
       "      <td>False</td>\n",
       "      <td>3.000000</td>\n",
       "      <td>тихвин</td>\n",
       "      <td>770000.0</td>\n",
       "    </tr>\n",
       "    <tr>\n",
       "      <th>8729</th>\n",
       "      <td>18.4</td>\n",
       "      <td>1</td>\n",
       "      <td>False</td>\n",
       "      <td>2.400000</td>\n",
       "      <td>пушкин</td>\n",
       "      <td>2200000.0</td>\n",
       "    </tr>\n",
       "    <tr>\n",
       "      <th>10208</th>\n",
       "      <td>17.0</td>\n",
       "      <td>1</td>\n",
       "      <td>False</td>\n",
       "      <td>3.000000</td>\n",
       "      <td>санкт-петербург</td>\n",
       "      <td>1900000.0</td>\n",
       "    </tr>\n",
       "    <tr>\n",
       "      <th>10964</th>\n",
       "      <td>20.0</td>\n",
       "      <td>1</td>\n",
       "      <td>False</td>\n",
       "      <td>3.473945</td>\n",
       "      <td>всеволожск</td>\n",
       "      <td>1150000.0</td>\n",
       "    </tr>\n",
       "    <tr>\n",
       "      <th>12040</th>\n",
       "      <td>15.0</td>\n",
       "      <td>1</td>\n",
       "      <td>False</td>\n",
       "      <td>2.605459</td>\n",
       "      <td>сосновый бор</td>\n",
       "      <td>1900000.0</td>\n",
       "    </tr>\n",
       "    <tr>\n",
       "      <th>12881</th>\n",
       "      <td>18.5</td>\n",
       "      <td>1</td>\n",
       "      <td>False</td>\n",
       "      <td>3.213400</td>\n",
       "      <td>сосновый бор</td>\n",
       "      <td>1500000.0</td>\n",
       "    </tr>\n",
       "    <tr>\n",
       "      <th>16949</th>\n",
       "      <td>15.0</td>\n",
       "      <td>1</td>\n",
       "      <td>False</td>\n",
       "      <td>2.605459</td>\n",
       "      <td>санкт-петербург</td>\n",
       "      <td>1550000.0</td>\n",
       "    </tr>\n",
       "    <tr>\n",
       "      <th>16991</th>\n",
       "      <td>20.0</td>\n",
       "      <td>1</td>\n",
       "      <td>False</td>\n",
       "      <td>3.473945</td>\n",
       "      <td>мурино</td>\n",
       "      <td>1750000.0</td>\n",
       "    </tr>\n",
       "  </tbody>\n",
       "</table>\n",
       "</div>"
      ],
      "text/plain": [
       "       total_area  rooms  studio  kitchen_area    locality_name  last_price\n",
       "4077         20.0      2   False      5.600000  санкт-петербург   3000000.0\n",
       "4542         18.0      1   False      3.126551  санкт-петербург   3300000.0\n",
       "6084         18.0      1   False      3.000000           тихвин    770000.0\n",
       "8729         18.4      1   False      2.400000           пушкин   2200000.0\n",
       "10208        17.0      1   False      3.000000  санкт-петербург   1900000.0\n",
       "10964        20.0      1   False      3.473945       всеволожск   1150000.0\n",
       "12040        15.0      1   False      2.605459     сосновый бор   1900000.0\n",
       "12881        18.5      1   False      3.213400     сосновый бор   1500000.0\n",
       "16949        15.0      1   False      2.605459  санкт-петербург   1550000.0\n",
       "16991        20.0      1   False      3.473945           мурино   1750000.0"
      ]
     },
     "execution_count": 41,
     "metadata": {},
     "output_type": "execute_result"
    }
   ],
   "source": [
    "# проверяем маленькие квартиры \n",
    "data.loc[(data['total_area'] <= 20) & (data['rooms'] > 0), \n",
    "         ('total_area', 'rooms', 'studio', 'kitchen_area', 'locality_name','last_price')].head(10)"
   ]
  },
  {
   "cell_type": "code",
   "execution_count": 42,
   "id": "89d41eea",
   "metadata": {},
   "outputs": [],
   "source": [
    "# заменяем тип на студии, а количество комнат на 0\n",
    "data.loc[data['total_area'] <= 20, 'studio'] = True\n",
    "data.loc[data['total_area'] <= 20, 'rooms'] = 0\n",
    "\n",
    "# заменим тип на студии также в квартирах с площадью до 35 м с очень маленькой кухней до 4 м\n",
    "data.loc[(data['total_area'] <= 35) & (data['kitchen_area'] <= 4), 'studio'] = True\n",
    "data.loc[(data['total_area'] <= 35) & (data['kitchen_area'] <= 4), 'rooms'] = 0\n",
    "\n",
    "# приведем тип данных в количестве комнат к целочисленному \n",
    "data['rooms'] = data['rooms'].astype('int') "
   ]
  },
  {
   "cell_type": "code",
   "execution_count": 43,
   "id": "504dd507",
   "metadata": {},
   "outputs": [
    {
     "data": {
      "text/html": [
       "<div>\n",
       "<style scoped>\n",
       "    .dataframe tbody tr th:only-of-type {\n",
       "        vertical-align: middle;\n",
       "    }\n",
       "\n",
       "    .dataframe tbody tr th {\n",
       "        vertical-align: top;\n",
       "    }\n",
       "\n",
       "    .dataframe thead th {\n",
       "        text-align: right;\n",
       "    }\n",
       "</style>\n",
       "<table border=\"1\" class=\"dataframe\">\n",
       "  <thead>\n",
       "    <tr style=\"text-align: right;\">\n",
       "      <th></th>\n",
       "      <th>total_area</th>\n",
       "      <th>rooms</th>\n",
       "      <th>locality_name</th>\n",
       "      <th>last_price</th>\n",
       "      <th>city_centers_nearest</th>\n",
       "    </tr>\n",
       "  </thead>\n",
       "  <tbody>\n",
       "    <tr>\n",
       "      <th>19540</th>\n",
       "      <td>900.0</td>\n",
       "      <td>12</td>\n",
       "      <td>санкт-петербург</td>\n",
       "      <td>420000000.0</td>\n",
       "      <td>7877.0</td>\n",
       "    </tr>\n",
       "    <tr>\n",
       "      <th>12859</th>\n",
       "      <td>631.2</td>\n",
       "      <td>7</td>\n",
       "      <td>санкт-петербург</td>\n",
       "      <td>140000000.0</td>\n",
       "      <td>4972.0</td>\n",
       "    </tr>\n",
       "    <tr>\n",
       "      <th>3117</th>\n",
       "      <td>631.0</td>\n",
       "      <td>7</td>\n",
       "      <td>санкт-петербург</td>\n",
       "      <td>140000000.0</td>\n",
       "      <td>4972.0</td>\n",
       "    </tr>\n",
       "    <tr>\n",
       "      <th>15651</th>\n",
       "      <td>618.0</td>\n",
       "      <td>7</td>\n",
       "      <td>санкт-петербург</td>\n",
       "      <td>300000000.0</td>\n",
       "      <td>5297.0</td>\n",
       "    </tr>\n",
       "    <tr>\n",
       "      <th>5358</th>\n",
       "      <td>590.0</td>\n",
       "      <td>15</td>\n",
       "      <td>санкт-петербург</td>\n",
       "      <td>65000000.0</td>\n",
       "      <td>4666.0</td>\n",
       "    </tr>\n",
       "    <tr>\n",
       "      <th>4237</th>\n",
       "      <td>517.0</td>\n",
       "      <td>7</td>\n",
       "      <td>санкт-петербург</td>\n",
       "      <td>50000000.0</td>\n",
       "      <td>1847.0</td>\n",
       "    </tr>\n",
       "    <tr>\n",
       "      <th>8018</th>\n",
       "      <td>507.0</td>\n",
       "      <td>5</td>\n",
       "      <td>санкт-петербург</td>\n",
       "      <td>84000000.0</td>\n",
       "      <td>5735.0</td>\n",
       "    </tr>\n",
       "  </tbody>\n",
       "</table>\n",
       "</div>"
      ],
      "text/plain": [
       "       total_area  rooms    locality_name   last_price  city_centers_nearest\n",
       "19540       900.0     12  санкт-петербург  420000000.0                7877.0\n",
       "12859       631.2      7  санкт-петербург  140000000.0                4972.0\n",
       "3117        631.0      7  санкт-петербург  140000000.0                4972.0\n",
       "15651       618.0      7  санкт-петербург  300000000.0                5297.0\n",
       "5358        590.0     15  санкт-петербург   65000000.0                4666.0\n",
       "4237        517.0      7  санкт-петербург   50000000.0                1847.0\n",
       "8018        507.0      5  санкт-петербург   84000000.0                5735.0"
      ]
     },
     "execution_count": 43,
     "metadata": {},
     "output_type": "execute_result"
    }
   ],
   "source": [
    "data.loc[data['total_area'] > 500, ('total_area', 'rooms','locality_name','last_price', 'city_centers_nearest')\n",
    "        ].sort_values(by='total_area', ascending=False)"
   ]
  },
  {
   "cell_type": "markdown",
   "id": "ffaef4b0",
   "metadata": {},
   "source": [
    "Ручная проверка показала, что в Санкт-Петербурге действительно есть квартира площадью 900 кв.м, ее параметры в данных так же выглядят правдоподобно. На этом этапе оставим строку с этой квартирой, поскольку данные по ней вряд ли ошибочные, однако учтем ее как единичный/нетипичный случай ниже на этапе EDA."
   ]
  },
  {
   "cell_type": "code",
   "execution_count": 44,
   "id": "68677b87",
   "metadata": {},
   "outputs": [
    {
     "data": {
      "text/plain": [
       "20217      1.3\n",
       "11033      2.0\n",
       "906        2.0\n",
       "9138       2.0\n",
       "19642      2.0\n",
       "         ...  \n",
       "16239     93.2\n",
       "5358     100.0\n",
       "2489     100.7\n",
       "20215    107.0\n",
       "19540    112.0\n",
       "Name: kitchen_area, Length: 23347, dtype: float64"
      ]
     },
     "execution_count": 44,
     "metadata": {},
     "output_type": "execute_result"
    }
   ],
   "source": [
    "# посмотрим на значения в столбце с площадью кухни\n",
    "data['kitchen_area'].sort_values()"
   ]
  },
  {
   "cell_type": "markdown",
   "id": "7f9d331d",
   "metadata": {},
   "source": [
    "Проверим крайние значения: находятся ли большие кухни в маленьких квартирах, а также взглянем на квартиры с маленькой кухней до 4 м (минимальная площадь кухни по устаревшему стандарту), в которых от одной комнаты."
   ]
  },
  {
   "cell_type": "code",
   "execution_count": 45,
   "id": "4d84ad82",
   "metadata": {},
   "outputs": [
    {
     "data": {
      "text/plain": [
       "0"
      ]
     },
     "execution_count": 45,
     "metadata": {},
     "output_type": "execute_result"
    }
   ],
   "source": [
    "# проверим, есть ли квартиры меньше 100 кв. м с кухней больше 50 кв. м\n",
    "len(data[(data['kitchen_area'] > 50) & (data['total_area'] < 100)])"
   ]
  },
  {
   "cell_type": "code",
   "execution_count": 46,
   "id": "013ad8f1",
   "metadata": {},
   "outputs": [
    {
     "data": {
      "text/html": [
       "<div>\n",
       "<style scoped>\n",
       "    .dataframe tbody tr th:only-of-type {\n",
       "        vertical-align: middle;\n",
       "    }\n",
       "\n",
       "    .dataframe tbody tr th {\n",
       "        vertical-align: top;\n",
       "    }\n",
       "\n",
       "    .dataframe thead th {\n",
       "        text-align: right;\n",
       "    }\n",
       "</style>\n",
       "<table border=\"1\" class=\"dataframe\">\n",
       "  <thead>\n",
       "    <tr style=\"text-align: right;\">\n",
       "      <th></th>\n",
       "      <th>kitchen_area</th>\n",
       "      <th>total_area</th>\n",
       "      <th>rooms</th>\n",
       "      <th>living_area</th>\n",
       "      <th>locality_name</th>\n",
       "      <th>last_price</th>\n",
       "      <th>city_centers_nearest</th>\n",
       "    </tr>\n",
       "  </thead>\n",
       "  <tbody>\n",
       "    <tr>\n",
       "      <th>7950</th>\n",
       "      <td>2.89</td>\n",
       "      <td>66.4</td>\n",
       "      <td>2</td>\n",
       "      <td>44.4</td>\n",
       "      <td>санкт-петербург</td>\n",
       "      <td>5967734.0</td>\n",
       "      <td>20802.0</td>\n",
       "    </tr>\n",
       "    <tr>\n",
       "      <th>3078</th>\n",
       "      <td>3.20</td>\n",
       "      <td>43.0</td>\n",
       "      <td>2</td>\n",
       "      <td>29.3</td>\n",
       "      <td>санкт-петербург</td>\n",
       "      <td>6000000.0</td>\n",
       "      <td>5247.0</td>\n",
       "    </tr>\n",
       "    <tr>\n",
       "      <th>14836</th>\n",
       "      <td>3.30</td>\n",
       "      <td>45.0</td>\n",
       "      <td>2</td>\n",
       "      <td>28.4</td>\n",
       "      <td>стрельна</td>\n",
       "      <td>3900000.0</td>\n",
       "      <td>23654.0</td>\n",
       "    </tr>\n",
       "    <tr>\n",
       "      <th>12595</th>\n",
       "      <td>3.40</td>\n",
       "      <td>44.4</td>\n",
       "      <td>2</td>\n",
       "      <td>28.4</td>\n",
       "      <td>санкт-петербург</td>\n",
       "      <td>3700000.0</td>\n",
       "      <td>13609.0</td>\n",
       "    </tr>\n",
       "    <tr>\n",
       "      <th>12370</th>\n",
       "      <td>3.50</td>\n",
       "      <td>59.2</td>\n",
       "      <td>2</td>\n",
       "      <td>32.6</td>\n",
       "      <td>санкт-петербург</td>\n",
       "      <td>7575000.0</td>\n",
       "      <td>14545.0</td>\n",
       "    </tr>\n",
       "    <tr>\n",
       "      <th>14183</th>\n",
       "      <td>3.50</td>\n",
       "      <td>47.0</td>\n",
       "      <td>2</td>\n",
       "      <td>36.0</td>\n",
       "      <td>санкт-петербург</td>\n",
       "      <td>5200000.0</td>\n",
       "      <td>2998.0</td>\n",
       "    </tr>\n",
       "    <tr>\n",
       "      <th>8712</th>\n",
       "      <td>3.70</td>\n",
       "      <td>42.7</td>\n",
       "      <td>2</td>\n",
       "      <td>27.5</td>\n",
       "      <td>санкт-петербург</td>\n",
       "      <td>14948000.0</td>\n",
       "      <td>3914.0</td>\n",
       "    </tr>\n",
       "    <tr>\n",
       "      <th>11475</th>\n",
       "      <td>3.80</td>\n",
       "      <td>40.8</td>\n",
       "      <td>2</td>\n",
       "      <td>26.8</td>\n",
       "      <td>яльгелево</td>\n",
       "      <td>2500000.0</td>\n",
       "      <td>NaN</td>\n",
       "    </tr>\n",
       "  </tbody>\n",
       "</table>\n",
       "</div>"
      ],
      "text/plain": [
       "       kitchen_area  total_area  rooms  living_area    locality_name  \\\n",
       "7950           2.89        66.4      2         44.4  санкт-петербург   \n",
       "3078           3.20        43.0      2         29.3  санкт-петербург   \n",
       "14836          3.30        45.0      2         28.4         стрельна   \n",
       "12595          3.40        44.4      2         28.4  санкт-петербург   \n",
       "12370          3.50        59.2      2         32.6  санкт-петербург   \n",
       "14183          3.50        47.0      2         36.0  санкт-петербург   \n",
       "8712           3.70        42.7      2         27.5  санкт-петербург   \n",
       "11475          3.80        40.8      2         26.8        яльгелево   \n",
       "\n",
       "       last_price  city_centers_nearest  \n",
       "7950    5967734.0               20802.0  \n",
       "3078    6000000.0                5247.0  \n",
       "14836   3900000.0               23654.0  \n",
       "12595   3700000.0               13609.0  \n",
       "12370   7575000.0               14545.0  \n",
       "14183   5200000.0                2998.0  \n",
       "8712   14948000.0                3914.0  \n",
       "11475   2500000.0                   NaN  "
      ]
     },
     "execution_count": 46,
     "metadata": {},
     "output_type": "execute_result"
    }
   ],
   "source": [
    "# посмотрим на квартиры с кухней до 4 м и больше 0 комнат\n",
    "data.loc[(data['kitchen_area']<4) & (data['rooms']>0) , \n",
    "         ('kitchen_area', 'total_area', 'rooms', 'living_area', 'locality_name','last_price', 'city_centers_nearest')\n",
    "        ].sort_values(by='kitchen_area', ascending=True)"
   ]
  },
  {
   "cell_type": "markdown",
   "id": "8ce036ac",
   "metadata": {},
   "source": [
    "Во всех обнаруженных квартирах 2 комнаты и очень маленькая кухня, характерная для студий. Вероятно, это \"евродвушки\", где площадь кухни разбита на \"жилую зону\" и собственно кухню. Можно было бы заменить количество комнат здесь на 1 и высчитать предполагаемую площадь кухни через коэффициент или как 40% от общей площади, но таких строк очень мало, поэтому не будем тратить время и отбросим их."
   ]
  },
  {
   "cell_type": "code",
   "execution_count": 47,
   "id": "20a071b0",
   "metadata": {},
   "outputs": [],
   "source": [
    "# удалим строки с квартирами, в которых больше 1 и кухня меньше 4 м\n",
    "data = data.loc[~((data['kitchen_area']<4) & (data['rooms']>0))][:]"
   ]
  },
  {
   "cell_type": "code",
   "execution_count": 48,
   "id": "3571991d",
   "metadata": {},
   "outputs": [
    {
     "data": {
      "text/plain": [
       "13915      2.000000\n",
       "21758      2.000000\n",
       "23574      3.000000\n",
       "3242       3.000000\n",
       "17582      5.000000\n",
       "            ...    \n",
       "4237     332.000000\n",
       "12401    347.500000\n",
       "3117     364.038462\n",
       "5358     409.000000\n",
       "19540    409.700000\n",
       "Name: living_area, Length: 23339, dtype: float64"
      ]
     },
     "execution_count": 48,
     "metadata": {},
     "output_type": "execute_result"
    }
   ],
   "source": [
    "# посмотрим на значения в столбце с жилой площадью\n",
    "data['living_area'].sort_values()"
   ]
  },
  {
   "cell_type": "markdown",
   "id": "5905c4cc",
   "metadata": {},
   "source": [
    "Высокие значения площади вплоть до 409 м вполне возможны для элитного жилья в Санкт-Петербурге. Есть строки с очень маленькой жилой площадью до 6 кв. м, их немного, поэтому удалим их. Такой диапазон оправдан, поскольку в Санкт-Петербурге есть студии с очень маленькой общей площадью."
   ]
  },
  {
   "cell_type": "code",
   "execution_count": 49,
   "id": "cc7e8f4a",
   "metadata": {},
   "outputs": [],
   "source": [
    "# удалим строки со значением жилой площади до 6 кв. м\n",
    "data = data.loc[data['living_area'] >= 6][:]"
   ]
  },
  {
   "cell_type": "code",
   "execution_count": 50,
   "id": "9da4bf6d",
   "metadata": {},
   "outputs": [
    {
     "data": {
      "text/plain": [
       "23698     1\n",
       "18810     1\n",
       "12513     1\n",
       "12514     1\n",
       "12517     1\n",
       "         ..\n",
       "11079    29\n",
       "1917     30\n",
       "18629    31\n",
       "11575    32\n",
       "18218    33\n",
       "Name: floor, Length: 23333, dtype: int64"
      ]
     },
     "execution_count": 50,
     "metadata": {},
     "output_type": "execute_result"
    }
   ],
   "source": [
    "# проверяем этажи, на которых расположены квартиры\n",
    "data['floor'].sort_values()"
   ]
  },
  {
   "cell_type": "code",
   "execution_count": 51,
   "id": "f53fb766",
   "metadata": {},
   "outputs": [
    {
     "data": {
      "text/plain": [
       "21603     1\n",
       "17744     1\n",
       "7962      1\n",
       "3076      1\n",
       "18900     1\n",
       "         ..\n",
       "5807     36\n",
       "397      36\n",
       "11079    36\n",
       "16731    52\n",
       "2253     60\n",
       "Name: floors_total, Length: 23333, dtype: int32"
      ]
     },
     "execution_count": 51,
     "metadata": {},
     "output_type": "execute_result"
    }
   ],
   "source": [
    "# проверяем общее количество этажей\n",
    "data['floors_total'].sort_values()"
   ]
  },
  {
   "cell_type": "markdown",
   "id": "e6249cab",
   "metadata": {},
   "source": [
    "Самый высокий ЖК в Санкт-Петербурге — 37-ми этажное здание, поэтому мы отбросим строки с большим значением. Многоквартирные одноэтажные дома могут располагаться в Ленобласти. Посмотрим на данные подробнее."
   ]
  },
  {
   "cell_type": "code",
   "execution_count": 52,
   "id": "d7e96abf",
   "metadata": {},
   "outputs": [
    {
     "name": "stdout",
     "output_type": "stream",
     "text": [
      "Одноэтажные дома в СПб: 2\n"
     ]
    },
    {
     "data": {
      "text/html": [
       "<div>\n",
       "<style scoped>\n",
       "    .dataframe tbody tr th:only-of-type {\n",
       "        vertical-align: middle;\n",
       "    }\n",
       "\n",
       "    .dataframe tbody tr th {\n",
       "        vertical-align: top;\n",
       "    }\n",
       "\n",
       "    .dataframe thead th {\n",
       "        text-align: right;\n",
       "    }\n",
       "</style>\n",
       "<table border=\"1\" class=\"dataframe\">\n",
       "  <thead>\n",
       "    <tr style=\"text-align: right;\">\n",
       "      <th></th>\n",
       "      <th>floors_total</th>\n",
       "      <th>locality_name</th>\n",
       "      <th>floor</th>\n",
       "    </tr>\n",
       "  </thead>\n",
       "  <tbody>\n",
       "    <tr>\n",
       "      <th>3076</th>\n",
       "      <td>1</td>\n",
       "      <td>волосово</td>\n",
       "      <td>1</td>\n",
       "    </tr>\n",
       "    <tr>\n",
       "      <th>22550</th>\n",
       "      <td>1</td>\n",
       "      <td>сестрорецк</td>\n",
       "      <td>1</td>\n",
       "    </tr>\n",
       "    <tr>\n",
       "      <th>21603</th>\n",
       "      <td>1</td>\n",
       "      <td>сосново</td>\n",
       "      <td>1</td>\n",
       "    </tr>\n",
       "    <tr>\n",
       "      <th>19590</th>\n",
       "      <td>1</td>\n",
       "      <td>рощино</td>\n",
       "      <td>1</td>\n",
       "    </tr>\n",
       "    <tr>\n",
       "      <th>18900</th>\n",
       "      <td>1</td>\n",
       "      <td>свирьстрой</td>\n",
       "      <td>1</td>\n",
       "    </tr>\n",
       "    <tr>\n",
       "      <th>17744</th>\n",
       "      <td>1</td>\n",
       "      <td>суйда</td>\n",
       "      <td>1</td>\n",
       "    </tr>\n",
       "    <tr>\n",
       "      <th>17020</th>\n",
       "      <td>1</td>\n",
       "      <td>каськово</td>\n",
       "      <td>1</td>\n",
       "    </tr>\n",
       "    <tr>\n",
       "      <th>16444</th>\n",
       "      <td>1</td>\n",
       "      <td>оредеж</td>\n",
       "      <td>1</td>\n",
       "    </tr>\n",
       "    <tr>\n",
       "      <th>15543</th>\n",
       "      <td>1</td>\n",
       "      <td>большая ижора</td>\n",
       "      <td>1</td>\n",
       "    </tr>\n",
       "    <tr>\n",
       "      <th>11746</th>\n",
       "      <td>1</td>\n",
       "      <td>большие колпаны</td>\n",
       "      <td>1</td>\n",
       "    </tr>\n",
       "    <tr>\n",
       "      <th>11641</th>\n",
       "      <td>1</td>\n",
       "      <td>санкт-петербург</td>\n",
       "      <td>1</td>\n",
       "    </tr>\n",
       "    <tr>\n",
       "      <th>10817</th>\n",
       "      <td>1</td>\n",
       "      <td>ефимовский</td>\n",
       "      <td>1</td>\n",
       "    </tr>\n",
       "    <tr>\n",
       "      <th>9752</th>\n",
       "      <td>1</td>\n",
       "      <td>сижно</td>\n",
       "      <td>1</td>\n",
       "    </tr>\n",
       "    <tr>\n",
       "      <th>9517</th>\n",
       "      <td>1</td>\n",
       "      <td>гаврилово</td>\n",
       "      <td>1</td>\n",
       "    </tr>\n",
       "    <tr>\n",
       "      <th>8388</th>\n",
       "      <td>1</td>\n",
       "      <td>сестрорецк</td>\n",
       "      <td>1</td>\n",
       "    </tr>\n",
       "    <tr>\n",
       "      <th>8335</th>\n",
       "      <td>1</td>\n",
       "      <td>луга</td>\n",
       "      <td>1</td>\n",
       "    </tr>\n",
       "    <tr>\n",
       "      <th>7962</th>\n",
       "      <td>1</td>\n",
       "      <td>луга</td>\n",
       "      <td>1</td>\n",
       "    </tr>\n",
       "    <tr>\n",
       "      <th>5787</th>\n",
       "      <td>1</td>\n",
       "      <td>санкт-петербург</td>\n",
       "      <td>1</td>\n",
       "    </tr>\n",
       "    <tr>\n",
       "      <th>5698</th>\n",
       "      <td>1</td>\n",
       "      <td>будогощь</td>\n",
       "      <td>1</td>\n",
       "    </tr>\n",
       "    <tr>\n",
       "      <th>4379</th>\n",
       "      <td>1</td>\n",
       "      <td>рощино</td>\n",
       "      <td>1</td>\n",
       "    </tr>\n",
       "    <tr>\n",
       "      <th>22841</th>\n",
       "      <td>1</td>\n",
       "      <td>пчевжа</td>\n",
       "      <td>1</td>\n",
       "    </tr>\n",
       "    <tr>\n",
       "      <th>22855</th>\n",
       "      <td>1</td>\n",
       "      <td>зеленогорск</td>\n",
       "      <td>1</td>\n",
       "    </tr>\n",
       "  </tbody>\n",
       "</table>\n",
       "</div>"
      ],
      "text/plain": [
       "       floors_total    locality_name  floor\n",
       "3076              1         волосово      1\n",
       "22550             1       сестрорецк      1\n",
       "21603             1          сосново      1\n",
       "19590             1           рощино      1\n",
       "18900             1       свирьстрой      1\n",
       "17744             1            суйда      1\n",
       "17020             1         каськово      1\n",
       "16444             1           оредеж      1\n",
       "15543             1    большая ижора      1\n",
       "11746             1  большие колпаны      1\n",
       "11641             1  санкт-петербург      1\n",
       "10817             1       ефимовский      1\n",
       "9752              1            сижно      1\n",
       "9517              1        гаврилово      1\n",
       "8388              1       сестрорецк      1\n",
       "8335              1             луга      1\n",
       "7962              1             луга      1\n",
       "5787              1  санкт-петербург      1\n",
       "5698              1         будогощь      1\n",
       "4379              1           рощино      1\n",
       "22841             1           пчевжа      1\n",
       "22855             1      зеленогорск      1"
      ]
     },
     "execution_count": 52,
     "metadata": {},
     "output_type": "execute_result"
    }
   ],
   "source": [
    "# выведем одноэтажные дома и проверим, есть ли такие в Санкт-Петербурге\n",
    "print('Одноэтажные дома в СПб:', len(data[(data['floors_total']<2) & (data['locality_name']=='санкт-петербург')]))\n",
    "data.loc[data['floors_total']<2, ('floors_total','locality_name', 'floor')].sort_values(by='floor')"
   ]
  },
  {
   "cell_type": "markdown",
   "id": "e5c124c0",
   "metadata": {},
   "source": [
    "Одноэтажные дома в Ленобласти выглядят правдоподобно и общее количество этажей в них равно этажу квартиры. Таких квартир в Санкт-Петербурге всего лишь 2, допустим, что они могли бы быть в некоторых районах (например, в районе метро Озерки)."
   ]
  },
  {
   "cell_type": "code",
   "execution_count": 53,
   "id": "20b8c346",
   "metadata": {},
   "outputs": [
    {
     "data": {
      "text/plain": [
       "19590     1\n",
       "7962      1\n",
       "16444     1\n",
       "17744     1\n",
       "22841     1\n",
       "         ..\n",
       "12960    35\n",
       "15982    35\n",
       "5807     36\n",
       "397      36\n",
       "11079    36\n",
       "Name: floors_total, Length: 23331, dtype: int32"
      ]
     },
     "execution_count": 53,
     "metadata": {},
     "output_type": "execute_result"
    }
   ],
   "source": [
    "# удалим строки с количеством этажей больше 37\n",
    "data = data.loc[data['floors_total'] <= 37][:]\n",
    "\n",
    "# проверим результат\n",
    "data['floors_total'].sort_values()"
   ]
  },
  {
   "cell_type": "code",
   "execution_count": 54,
   "id": "6fde1398",
   "metadata": {},
   "outputs": [
    {
     "data": {
      "text/plain": [
       "3       79\n",
       "4      180\n",
       "5      299\n",
       "2     3605\n",
       "1     4145\n",
       "0    15023\n",
       "Name: balcony, dtype: int64"
      ]
     },
     "execution_count": 54,
     "metadata": {},
     "output_type": "execute_result"
    }
   ],
   "source": [
    "# посмотрим, какие значения содержатся в столбце с балконами\n",
    "data['balcony'].value_counts().sort_values()"
   ]
  },
  {
   "cell_type": "code",
   "execution_count": 55,
   "id": "b93bb038",
   "metadata": {},
   "outputs": [],
   "source": [
    "# сбросим индексы после удаления строк\n",
    "data = data.reset_index(drop=True)"
   ]
  },
  {
   "cell_type": "markdown",
   "id": "12e49b8a",
   "metadata": {},
   "source": [
    "Присутствуют квартиры с 3-5 балконами. С учетом наличия квартир большой площади и принадлежащих к старому фонду или элитному жилью, выглядит правдоподобно. Однако проверим, нет ли квартир с небольшой площадью и большим количеством балконов."
   ]
  },
  {
   "cell_type": "code",
   "execution_count": 56,
   "id": "63bcb29e",
   "metadata": {},
   "outputs": [
    {
     "data": {
      "text/html": [
       "<div>\n",
       "<style scoped>\n",
       "    .dataframe tbody tr th:only-of-type {\n",
       "        vertical-align: middle;\n",
       "    }\n",
       "\n",
       "    .dataframe tbody tr th {\n",
       "        vertical-align: top;\n",
       "    }\n",
       "\n",
       "    .dataframe thead th {\n",
       "        text-align: right;\n",
       "    }\n",
       "</style>\n",
       "<table border=\"1\" class=\"dataframe\">\n",
       "  <thead>\n",
       "    <tr style=\"text-align: right;\">\n",
       "      <th></th>\n",
       "      <th>balcony</th>\n",
       "      <th>total_area</th>\n",
       "      <th>locality_name</th>\n",
       "      <th>rooms</th>\n",
       "    </tr>\n",
       "  </thead>\n",
       "  <tbody>\n",
       "    <tr>\n",
       "      <th>10745</th>\n",
       "      <td>5</td>\n",
       "      <td>98.60</td>\n",
       "      <td>всеволожск</td>\n",
       "      <td>3</td>\n",
       "    </tr>\n",
       "    <tr>\n",
       "      <th>7711</th>\n",
       "      <td>4</td>\n",
       "      <td>98.60</td>\n",
       "      <td>санкт-петербург</td>\n",
       "      <td>3</td>\n",
       "    </tr>\n",
       "    <tr>\n",
       "      <th>19986</th>\n",
       "      <td>4</td>\n",
       "      <td>98.50</td>\n",
       "      <td>санкт-петербург</td>\n",
       "      <td>3</td>\n",
       "    </tr>\n",
       "    <tr>\n",
       "      <th>8801</th>\n",
       "      <td>5</td>\n",
       "      <td>98.00</td>\n",
       "      <td>санкт-петербург</td>\n",
       "      <td>3</td>\n",
       "    </tr>\n",
       "    <tr>\n",
       "      <th>11104</th>\n",
       "      <td>5</td>\n",
       "      <td>98.00</td>\n",
       "      <td>красное</td>\n",
       "      <td>4</td>\n",
       "    </tr>\n",
       "    <tr>\n",
       "      <th>...</th>\n",
       "      <td>...</td>\n",
       "      <td>...</td>\n",
       "      <td>...</td>\n",
       "      <td>...</td>\n",
       "    </tr>\n",
       "    <tr>\n",
       "      <th>642</th>\n",
       "      <td>4</td>\n",
       "      <td>36.00</td>\n",
       "      <td>кронштадт</td>\n",
       "      <td>1</td>\n",
       "    </tr>\n",
       "    <tr>\n",
       "      <th>11404</th>\n",
       "      <td>5</td>\n",
       "      <td>35.95</td>\n",
       "      <td>мурино</td>\n",
       "      <td>1</td>\n",
       "    </tr>\n",
       "    <tr>\n",
       "      <th>13432</th>\n",
       "      <td>5</td>\n",
       "      <td>35.00</td>\n",
       "      <td>мурино</td>\n",
       "      <td>1</td>\n",
       "    </tr>\n",
       "    <tr>\n",
       "      <th>16302</th>\n",
       "      <td>4</td>\n",
       "      <td>33.50</td>\n",
       "      <td>луга</td>\n",
       "      <td>1</td>\n",
       "    </tr>\n",
       "    <tr>\n",
       "      <th>7820</th>\n",
       "      <td>5</td>\n",
       "      <td>30.20</td>\n",
       "      <td>санкт-петербург</td>\n",
       "      <td>1</td>\n",
       "    </tr>\n",
       "  </tbody>\n",
       "</table>\n",
       "<p>391 rows × 4 columns</p>\n",
       "</div>"
      ],
      "text/plain": [
       "       balcony  total_area    locality_name  rooms\n",
       "10745        5       98.60       всеволожск      3\n",
       "7711         4       98.60  санкт-петербург      3\n",
       "19986        4       98.50  санкт-петербург      3\n",
       "8801         5       98.00  санкт-петербург      3\n",
       "11104        5       98.00          красное      4\n",
       "...        ...         ...              ...    ...\n",
       "642          4       36.00        кронштадт      1\n",
       "11404        5       35.95           мурино      1\n",
       "13432        5       35.00           мурино      1\n",
       "16302        4       33.50             луга      1\n",
       "7820         5       30.20  санкт-петербург      1\n",
       "\n",
       "[391 rows x 4 columns]"
      ]
     },
     "execution_count": 56,
     "metadata": {},
     "output_type": "execute_result"
    }
   ],
   "source": [
    "# выведем данные по квартирам с 4 и более балконами и площадью менее 100 кв.м\n",
    "data.loc[(data['balcony']>=4) & (data['total_area']<100), ('balcony', 'total_area', 'locality_name', 'rooms')\n",
    "        ].sort_values(by='total_area', ascending=False)"
   ]
  },
  {
   "cell_type": "markdown",
   "id": "cddddc57",
   "metadata": {},
   "source": [
    "Такие квартиры похожи на аномалии с некорректно введенным значением балконов. Однако их немного и дальше в исследовании эти данные нам не пригодятся. Поэтому оставим эти значения."
   ]
  },
  {
   "cell_type": "code",
   "execution_count": 57,
   "id": "5d0771c1",
   "metadata": {},
   "outputs": [
    {
     "data": {
      "text/plain": [
       "274"
      ]
     },
     "execution_count": 57,
     "metadata": {},
     "output_type": "execute_result"
    }
   ],
   "source": [
    "# посмотрим на количество дней размещения, не учитывая оставленные пропуски\n",
    "data.loc[data['days_exposition'].isna()==False, 'days_exposition'].sort_values()\n",
    "len(data[data['days_exposition'] > 1000])"
   ]
  },
  {
   "cell_type": "markdown",
   "id": "d6f93da3",
   "metadata": {},
   "source": [
    "Некоторые квартиры продавались более 2-3 лет. Доля таких квартир невелика, поэтому мы можем допустить, что это реальные значения (некоторые квартиры трудно продаются). Оставим их."
   ]
  },
  {
   "cell_type": "markdown",
   "id": "30ba6eb8",
   "metadata": {},
   "source": [
    "**Выводы**: были изучены и обработаны аномальные значения в столбцах датафрейма.\n",
    "* В столбце `last_price` было удалено аномально низкое значение 12 тыс.\n",
    "* В столбце `ceiling_height` ошибочные значения 25-35 м были преобразованы в числа с плавающей точкой (2.5-3.5 м), удалены аномально высокие и низкие значения вне диапазона 2.4-6 м. \n",
    "* Были изучены данные в столбце `rooms`: квартиры с большим количеством комнат характерны для бывших коммунальных квартир старого фонда, квартиры с 0-1 комнат были исследованы и заполнены типом \"студия\" (`studio`) с 0 комнат по размеру жилой площади и соотношению площади и кухни.\n",
    "* В столбце `total_area` было выявлено одно аномально высокое значение 900 кв. м, однако, поскольку оно является правдоподобным, на данном этапе мы его оставили и учтем в исследовательском анализе данных как выброс. Квартиры-студии с маленькой площадью (до 13 м) характерны для центра Санкт-Петербурга, поэтому были оставлены.\n",
    "* В столбце `kitchen_area` были изучены большие значения и удалены строки, в которых при этом площадь квартиры была менее 100 м. Были удалены двухкомнатные квартиры (потенциально \"евродвушки\"), кухня которых аномально маленькая. \n",
    "* В столбце `living_area` квартиры с жилой площадью менее 6 кв. м были удалены.\n",
    "* В столбце `floor` аномальных значений не обнаружено.\n",
    "* В столбце `floors_total` были удалены квартиры в домах с более 37 этажами (по самому высокому ЖК в Петербурге). \n",
    "* В столбце `balcony` были обнаружены странные значения (маленькие квартиры с 5 балконами), однако было принято решение оставить их, поскольку этот столбец не будет участвовать в анализе далее. \n",
    "* В столбце `days_exposition` были обнаружены квартиры, которые продавались более 2-3 лет, однако с учетом их небольшой доли было принято решение не удалять эти строки."
   ]
  },
  {
   "cell_type": "markdown",
   "id": "f930dfa5",
   "metadata": {},
   "source": [
    "### Результаты предобработки"
   ]
  },
  {
   "cell_type": "code",
   "execution_count": 58,
   "id": "b7327d07",
   "metadata": {},
   "outputs": [
    {
     "name": "stdout",
     "output_type": "stream",
     "text": [
      "<class 'pandas.core.frame.DataFrame'>\n",
      "RangeIndex: 23331 entries, 0 to 23330\n",
      "Data columns (total 22 columns):\n",
      " #   Column                Non-Null Count  Dtype         \n",
      "---  ------                --------------  -----         \n",
      " 0   total_images          23331 non-null  int64         \n",
      " 1   last_price            23331 non-null  float64       \n",
      " 2   total_area            23331 non-null  float64       \n",
      " 3   first_day_exposition  23331 non-null  datetime64[ns]\n",
      " 4   rooms                 23331 non-null  int32         \n",
      " 5   ceiling_height        23331 non-null  float64       \n",
      " 6   floors_total          23331 non-null  int32         \n",
      " 7   living_area           23331 non-null  float64       \n",
      " 8   floor                 23331 non-null  int64         \n",
      " 9   is_apartment          23331 non-null  bool          \n",
      " 10  studio                23331 non-null  bool          \n",
      " 11  open_plan             23331 non-null  bool          \n",
      " 12  kitchen_area          23331 non-null  float64       \n",
      " 13  balcony               23331 non-null  int32         \n",
      " 14  locality_name         23331 non-null  object        \n",
      " 15  airports_nearest      17887 non-null  float64       \n",
      " 16  city_centers_nearest  17910 non-null  float64       \n",
      " 17  parks_around3000      23331 non-null  int32         \n",
      " 18  parks_nearest         7957 non-null   float64       \n",
      " 19  ponds_around3000      23331 non-null  int32         \n",
      " 20  ponds_nearest         8964 non-null   float64       \n",
      " 21  days_exposition       20187 non-null  float64       \n",
      "dtypes: bool(3), datetime64[ns](1), float64(10), int32(5), int64(2), object(1)\n",
      "memory usage: 3.0+ MB\n"
     ]
    }
   ],
   "source": [
    "# просмотрим общую информацию о данных\n",
    "data.info()"
   ]
  },
  {
   "cell_type": "code",
   "execution_count": 59,
   "id": "c2eddf49",
   "metadata": {},
   "outputs": [
    {
     "data": {
      "text/html": [
       "<div>\n",
       "<style scoped>\n",
       "    .dataframe tbody tr th:only-of-type {\n",
       "        vertical-align: middle;\n",
       "    }\n",
       "\n",
       "    .dataframe tbody tr th {\n",
       "        vertical-align: top;\n",
       "    }\n",
       "\n",
       "    .dataframe thead th {\n",
       "        text-align: right;\n",
       "    }\n",
       "</style>\n",
       "<table border=\"1\" class=\"dataframe\">\n",
       "  <thead>\n",
       "    <tr style=\"text-align: right;\">\n",
       "      <th></th>\n",
       "      <th>total_images</th>\n",
       "      <th>last_price</th>\n",
       "      <th>total_area</th>\n",
       "      <th>first_day_exposition</th>\n",
       "      <th>rooms</th>\n",
       "      <th>ceiling_height</th>\n",
       "      <th>floors_total</th>\n",
       "      <th>living_area</th>\n",
       "      <th>floor</th>\n",
       "      <th>is_apartment</th>\n",
       "      <th>studio</th>\n",
       "      <th>open_plan</th>\n",
       "      <th>kitchen_area</th>\n",
       "      <th>balcony</th>\n",
       "      <th>locality_name</th>\n",
       "      <th>airports_nearest</th>\n",
       "      <th>city_centers_nearest</th>\n",
       "      <th>parks_around3000</th>\n",
       "      <th>parks_nearest</th>\n",
       "      <th>ponds_around3000</th>\n",
       "      <th>ponds_nearest</th>\n",
       "      <th>days_exposition</th>\n",
       "    </tr>\n",
       "  </thead>\n",
       "  <tbody>\n",
       "    <tr>\n",
       "      <th>0</th>\n",
       "      <td>20</td>\n",
       "      <td>13000000.0</td>\n",
       "      <td>108.00</td>\n",
       "      <td>2019-03-07</td>\n",
       "      <td>3</td>\n",
       "      <td>2.700</td>\n",
       "      <td>16</td>\n",
       "      <td>51.000000</td>\n",
       "      <td>8</td>\n",
       "      <td>False</td>\n",
       "      <td>False</td>\n",
       "      <td>False</td>\n",
       "      <td>25.000000</td>\n",
       "      <td>0</td>\n",
       "      <td>санкт-петербург</td>\n",
       "      <td>18863.0</td>\n",
       "      <td>16028.0</td>\n",
       "      <td>1</td>\n",
       "      <td>482.0</td>\n",
       "      <td>2</td>\n",
       "      <td>755.0</td>\n",
       "      <td>NaN</td>\n",
       "    </tr>\n",
       "    <tr>\n",
       "      <th>1</th>\n",
       "      <td>7</td>\n",
       "      <td>3350000.0</td>\n",
       "      <td>40.40</td>\n",
       "      <td>2018-12-04</td>\n",
       "      <td>1</td>\n",
       "      <td>2.615</td>\n",
       "      <td>11</td>\n",
       "      <td>18.600000</td>\n",
       "      <td>1</td>\n",
       "      <td>False</td>\n",
       "      <td>False</td>\n",
       "      <td>False</td>\n",
       "      <td>11.000000</td>\n",
       "      <td>2</td>\n",
       "      <td>шушары</td>\n",
       "      <td>12817.0</td>\n",
       "      <td>18603.0</td>\n",
       "      <td>0</td>\n",
       "      <td>NaN</td>\n",
       "      <td>0</td>\n",
       "      <td>NaN</td>\n",
       "      <td>81.0</td>\n",
       "    </tr>\n",
       "    <tr>\n",
       "      <th>2</th>\n",
       "      <td>10</td>\n",
       "      <td>5196000.0</td>\n",
       "      <td>56.00</td>\n",
       "      <td>2015-08-20</td>\n",
       "      <td>2</td>\n",
       "      <td>2.700</td>\n",
       "      <td>5</td>\n",
       "      <td>34.300000</td>\n",
       "      <td>4</td>\n",
       "      <td>False</td>\n",
       "      <td>False</td>\n",
       "      <td>False</td>\n",
       "      <td>8.300000</td>\n",
       "      <td>0</td>\n",
       "      <td>санкт-петербург</td>\n",
       "      <td>21741.0</td>\n",
       "      <td>13933.0</td>\n",
       "      <td>1</td>\n",
       "      <td>90.0</td>\n",
       "      <td>2</td>\n",
       "      <td>574.0</td>\n",
       "      <td>558.0</td>\n",
       "    </tr>\n",
       "    <tr>\n",
       "      <th>3</th>\n",
       "      <td>0</td>\n",
       "      <td>64900000.0</td>\n",
       "      <td>159.00</td>\n",
       "      <td>2015-07-24</td>\n",
       "      <td>3</td>\n",
       "      <td>3.000</td>\n",
       "      <td>14</td>\n",
       "      <td>91.730769</td>\n",
       "      <td>9</td>\n",
       "      <td>False</td>\n",
       "      <td>False</td>\n",
       "      <td>False</td>\n",
       "      <td>27.617866</td>\n",
       "      <td>0</td>\n",
       "      <td>санкт-петербург</td>\n",
       "      <td>28098.0</td>\n",
       "      <td>6800.0</td>\n",
       "      <td>2</td>\n",
       "      <td>84.0</td>\n",
       "      <td>3</td>\n",
       "      <td>234.0</td>\n",
       "      <td>424.0</td>\n",
       "    </tr>\n",
       "    <tr>\n",
       "      <th>4</th>\n",
       "      <td>2</td>\n",
       "      <td>10000000.0</td>\n",
       "      <td>100.00</td>\n",
       "      <td>2018-06-19</td>\n",
       "      <td>2</td>\n",
       "      <td>3.030</td>\n",
       "      <td>14</td>\n",
       "      <td>32.000000</td>\n",
       "      <td>13</td>\n",
       "      <td>False</td>\n",
       "      <td>False</td>\n",
       "      <td>False</td>\n",
       "      <td>41.000000</td>\n",
       "      <td>0</td>\n",
       "      <td>санкт-петербург</td>\n",
       "      <td>31856.0</td>\n",
       "      <td>8098.0</td>\n",
       "      <td>2</td>\n",
       "      <td>112.0</td>\n",
       "      <td>1</td>\n",
       "      <td>48.0</td>\n",
       "      <td>121.0</td>\n",
       "    </tr>\n",
       "    <tr>\n",
       "      <th>5</th>\n",
       "      <td>10</td>\n",
       "      <td>2890000.0</td>\n",
       "      <td>30.40</td>\n",
       "      <td>2018-09-10</td>\n",
       "      <td>1</td>\n",
       "      <td>2.650</td>\n",
       "      <td>12</td>\n",
       "      <td>14.400000</td>\n",
       "      <td>5</td>\n",
       "      <td>False</td>\n",
       "      <td>False</td>\n",
       "      <td>False</td>\n",
       "      <td>9.100000</td>\n",
       "      <td>0</td>\n",
       "      <td>янино-1</td>\n",
       "      <td>NaN</td>\n",
       "      <td>NaN</td>\n",
       "      <td>0</td>\n",
       "      <td>NaN</td>\n",
       "      <td>0</td>\n",
       "      <td>NaN</td>\n",
       "      <td>55.0</td>\n",
       "    </tr>\n",
       "    <tr>\n",
       "      <th>6</th>\n",
       "      <td>6</td>\n",
       "      <td>3700000.0</td>\n",
       "      <td>37.30</td>\n",
       "      <td>2017-11-02</td>\n",
       "      <td>1</td>\n",
       "      <td>2.640</td>\n",
       "      <td>26</td>\n",
       "      <td>10.600000</td>\n",
       "      <td>6</td>\n",
       "      <td>False</td>\n",
       "      <td>False</td>\n",
       "      <td>False</td>\n",
       "      <td>14.400000</td>\n",
       "      <td>1</td>\n",
       "      <td>парголово</td>\n",
       "      <td>52996.0</td>\n",
       "      <td>19143.0</td>\n",
       "      <td>0</td>\n",
       "      <td>NaN</td>\n",
       "      <td>0</td>\n",
       "      <td>NaN</td>\n",
       "      <td>155.0</td>\n",
       "    </tr>\n",
       "    <tr>\n",
       "      <th>7</th>\n",
       "      <td>5</td>\n",
       "      <td>7915000.0</td>\n",
       "      <td>71.60</td>\n",
       "      <td>2019-04-18</td>\n",
       "      <td>2</td>\n",
       "      <td>2.700</td>\n",
       "      <td>24</td>\n",
       "      <td>41.307692</td>\n",
       "      <td>22</td>\n",
       "      <td>False</td>\n",
       "      <td>False</td>\n",
       "      <td>False</td>\n",
       "      <td>18.900000</td>\n",
       "      <td>2</td>\n",
       "      <td>санкт-петербург</td>\n",
       "      <td>23982.0</td>\n",
       "      <td>11634.0</td>\n",
       "      <td>0</td>\n",
       "      <td>NaN</td>\n",
       "      <td>0</td>\n",
       "      <td>NaN</td>\n",
       "      <td>NaN</td>\n",
       "    </tr>\n",
       "    <tr>\n",
       "      <th>8</th>\n",
       "      <td>20</td>\n",
       "      <td>2900000.0</td>\n",
       "      <td>33.16</td>\n",
       "      <td>2018-05-23</td>\n",
       "      <td>1</td>\n",
       "      <td>2.700</td>\n",
       "      <td>27</td>\n",
       "      <td>15.430000</td>\n",
       "      <td>26</td>\n",
       "      <td>False</td>\n",
       "      <td>False</td>\n",
       "      <td>False</td>\n",
       "      <td>8.810000</td>\n",
       "      <td>0</td>\n",
       "      <td>мурино</td>\n",
       "      <td>NaN</td>\n",
       "      <td>NaN</td>\n",
       "      <td>0</td>\n",
       "      <td>NaN</td>\n",
       "      <td>0</td>\n",
       "      <td>NaN</td>\n",
       "      <td>189.0</td>\n",
       "    </tr>\n",
       "    <tr>\n",
       "      <th>9</th>\n",
       "      <td>18</td>\n",
       "      <td>5400000.0</td>\n",
       "      <td>61.00</td>\n",
       "      <td>2017-02-26</td>\n",
       "      <td>3</td>\n",
       "      <td>2.500</td>\n",
       "      <td>9</td>\n",
       "      <td>43.600000</td>\n",
       "      <td>7</td>\n",
       "      <td>False</td>\n",
       "      <td>False</td>\n",
       "      <td>False</td>\n",
       "      <td>6.500000</td>\n",
       "      <td>2</td>\n",
       "      <td>санкт-петербург</td>\n",
       "      <td>50898.0</td>\n",
       "      <td>15008.0</td>\n",
       "      <td>0</td>\n",
       "      <td>NaN</td>\n",
       "      <td>0</td>\n",
       "      <td>NaN</td>\n",
       "      <td>289.0</td>\n",
       "    </tr>\n",
       "  </tbody>\n",
       "</table>\n",
       "</div>"
      ],
      "text/plain": [
       "   total_images  last_price  total_area first_day_exposition  rooms  \\\n",
       "0            20  13000000.0      108.00           2019-03-07      3   \n",
       "1             7   3350000.0       40.40           2018-12-04      1   \n",
       "2            10   5196000.0       56.00           2015-08-20      2   \n",
       "3             0  64900000.0      159.00           2015-07-24      3   \n",
       "4             2  10000000.0      100.00           2018-06-19      2   \n",
       "5            10   2890000.0       30.40           2018-09-10      1   \n",
       "6             6   3700000.0       37.30           2017-11-02      1   \n",
       "7             5   7915000.0       71.60           2019-04-18      2   \n",
       "8            20   2900000.0       33.16           2018-05-23      1   \n",
       "9            18   5400000.0       61.00           2017-02-26      3   \n",
       "\n",
       "   ceiling_height  floors_total  living_area  floor  is_apartment  studio  \\\n",
       "0           2.700            16    51.000000      8         False   False   \n",
       "1           2.615            11    18.600000      1         False   False   \n",
       "2           2.700             5    34.300000      4         False   False   \n",
       "3           3.000            14    91.730769      9         False   False   \n",
       "4           3.030            14    32.000000     13         False   False   \n",
       "5           2.650            12    14.400000      5         False   False   \n",
       "6           2.640            26    10.600000      6         False   False   \n",
       "7           2.700            24    41.307692     22         False   False   \n",
       "8           2.700            27    15.430000     26         False   False   \n",
       "9           2.500             9    43.600000      7         False   False   \n",
       "\n",
       "   open_plan  kitchen_area  balcony    locality_name  airports_nearest  \\\n",
       "0      False     25.000000        0  санкт-петербург           18863.0   \n",
       "1      False     11.000000        2           шушары           12817.0   \n",
       "2      False      8.300000        0  санкт-петербург           21741.0   \n",
       "3      False     27.617866        0  санкт-петербург           28098.0   \n",
       "4      False     41.000000        0  санкт-петербург           31856.0   \n",
       "5      False      9.100000        0          янино-1               NaN   \n",
       "6      False     14.400000        1        парголово           52996.0   \n",
       "7      False     18.900000        2  санкт-петербург           23982.0   \n",
       "8      False      8.810000        0           мурино               NaN   \n",
       "9      False      6.500000        2  санкт-петербург           50898.0   \n",
       "\n",
       "   city_centers_nearest  parks_around3000  parks_nearest  ponds_around3000  \\\n",
       "0               16028.0                 1          482.0                 2   \n",
       "1               18603.0                 0            NaN                 0   \n",
       "2               13933.0                 1           90.0                 2   \n",
       "3                6800.0                 2           84.0                 3   \n",
       "4                8098.0                 2          112.0                 1   \n",
       "5                   NaN                 0            NaN                 0   \n",
       "6               19143.0                 0            NaN                 0   \n",
       "7               11634.0                 0            NaN                 0   \n",
       "8                   NaN                 0            NaN                 0   \n",
       "9               15008.0                 0            NaN                 0   \n",
       "\n",
       "   ponds_nearest  days_exposition  \n",
       "0          755.0              NaN  \n",
       "1            NaN             81.0  \n",
       "2          574.0            558.0  \n",
       "3          234.0            424.0  \n",
       "4           48.0            121.0  \n",
       "5            NaN             55.0  \n",
       "6            NaN            155.0  \n",
       "7            NaN              NaN  \n",
       "8            NaN            189.0  \n",
       "9            NaN            289.0  "
      ]
     },
     "execution_count": 59,
     "metadata": {},
     "output_type": "execute_result"
    }
   ],
   "source": [
    "# выведем первые строки датасета\n",
    "data.head(10)"
   ]
  },
  {
   "cell_type": "markdown",
   "id": "2ba5c656",
   "metadata": {},
   "source": [
    "Была проведена предобработка данных, в результате которой данные были очищены от пропусков (кроме тех, замену для которых предположить невозможно/нецелесообразно), проверены на явные и неявные дубликаты, аномальные (некорректные) значения были выявлены и удалены по необходимости. Было удалено менее 2% строк датасета."
   ]
  },
  {
   "cell_type": "markdown",
   "id": "1565ec1c",
   "metadata": {},
   "source": [
    "### Создание новых столбцов"
   ]
  },
  {
   "cell_type": "code",
   "execution_count": 60,
   "id": "091a953e",
   "metadata": {},
   "outputs": [],
   "source": [
    "# добавим столбец с ценой одного квадратного метра, переводя в целочисленный тип\n",
    "data['price_per_square'] = (data['last_price'] / data['total_area']).astype('int')\n",
    "# добавим столбец с днем недели публикации объявления\n",
    "data['weekday'] = data['first_day_exposition'].dt.weekday\n",
    "# добавим столбец с месяцем публикации объявления\n",
    "data['month'] = data['first_day_exposition'].dt.month\n",
    "# добавим столбец с годом публикации объявления\n",
    "data['year'] = data['first_day_exposition'].dt.year"
   ]
  },
  {
   "cell_type": "code",
   "execution_count": 61,
   "id": "aa08e4db",
   "metadata": {},
   "outputs": [
    {
     "data": {
      "text/plain": [
       "другой       17176\n",
       "последний     3283\n",
       "первый        2872\n",
       "Name: floor_category, dtype: int64"
      ]
     },
     "execution_count": 61,
     "metadata": {},
     "output_type": "execute_result"
    }
   ],
   "source": [
    "# напишем функцию, которая присваивает квартире тип этажа\n",
    "# - \"первый\", если 'floor' равно 1;\n",
    "# - \"последний\", если 'floor' = 'total_floor';\n",
    "# - \"другой\" в остальных случаях\n",
    "\n",
    "def floor_category(data):\n",
    "    if data['floor'] == 1:\n",
    "        return 'первый'\n",
    "    if data['floor'] == data['floors_total']:\n",
    "        return 'последний'\n",
    "    else:\n",
    "        return 'другой'\n",
    "\n",
    "# добавим столбец, применяя функцию к датасету с помощью apply\n",
    "data['floor_category'] = data.apply(floor_category, axis=1)\n",
    "\n",
    "# проверим результат\n",
    "data['floor_category'].value_counts()"
   ]
  },
  {
   "cell_type": "code",
   "execution_count": 62,
   "id": "52e974ea",
   "metadata": {},
   "outputs": [],
   "source": [
    "# добавим столбец с расстоянием до центра города в километрах и округлим до целых значений\n",
    "data['city_centers_km'] = data['city_centers_nearest'].div(1000).round()"
   ]
  },
  {
   "cell_type": "code",
   "execution_count": 63,
   "id": "2d3bd7db",
   "metadata": {},
   "outputs": [
    {
     "data": {
      "text/html": [
       "<div>\n",
       "<style scoped>\n",
       "    .dataframe tbody tr th:only-of-type {\n",
       "        vertical-align: middle;\n",
       "    }\n",
       "\n",
       "    .dataframe tbody tr th {\n",
       "        vertical-align: top;\n",
       "    }\n",
       "\n",
       "    .dataframe thead th {\n",
       "        text-align: right;\n",
       "    }\n",
       "</style>\n",
       "<table border=\"1\" class=\"dataframe\">\n",
       "  <thead>\n",
       "    <tr style=\"text-align: right;\">\n",
       "      <th></th>\n",
       "      <th>price_per_square</th>\n",
       "      <th>weekday</th>\n",
       "      <th>month</th>\n",
       "      <th>year</th>\n",
       "      <th>floor_category</th>\n",
       "      <th>city_centers_km</th>\n",
       "    </tr>\n",
       "  </thead>\n",
       "  <tbody>\n",
       "    <tr>\n",
       "      <th>0</th>\n",
       "      <td>120370</td>\n",
       "      <td>3</td>\n",
       "      <td>3</td>\n",
       "      <td>2019</td>\n",
       "      <td>другой</td>\n",
       "      <td>16.0</td>\n",
       "    </tr>\n",
       "    <tr>\n",
       "      <th>1</th>\n",
       "      <td>82920</td>\n",
       "      <td>1</td>\n",
       "      <td>12</td>\n",
       "      <td>2018</td>\n",
       "      <td>первый</td>\n",
       "      <td>19.0</td>\n",
       "    </tr>\n",
       "    <tr>\n",
       "      <th>2</th>\n",
       "      <td>92785</td>\n",
       "      <td>3</td>\n",
       "      <td>8</td>\n",
       "      <td>2015</td>\n",
       "      <td>другой</td>\n",
       "      <td>14.0</td>\n",
       "    </tr>\n",
       "    <tr>\n",
       "      <th>3</th>\n",
       "      <td>408176</td>\n",
       "      <td>4</td>\n",
       "      <td>7</td>\n",
       "      <td>2015</td>\n",
       "      <td>другой</td>\n",
       "      <td>7.0</td>\n",
       "    </tr>\n",
       "    <tr>\n",
       "      <th>4</th>\n",
       "      <td>100000</td>\n",
       "      <td>1</td>\n",
       "      <td>6</td>\n",
       "      <td>2018</td>\n",
       "      <td>другой</td>\n",
       "      <td>8.0</td>\n",
       "    </tr>\n",
       "    <tr>\n",
       "      <th>5</th>\n",
       "      <td>95065</td>\n",
       "      <td>0</td>\n",
       "      <td>9</td>\n",
       "      <td>2018</td>\n",
       "      <td>другой</td>\n",
       "      <td>NaN</td>\n",
       "    </tr>\n",
       "    <tr>\n",
       "      <th>6</th>\n",
       "      <td>99195</td>\n",
       "      <td>3</td>\n",
       "      <td>11</td>\n",
       "      <td>2017</td>\n",
       "      <td>другой</td>\n",
       "      <td>19.0</td>\n",
       "    </tr>\n",
       "    <tr>\n",
       "      <th>7</th>\n",
       "      <td>110544</td>\n",
       "      <td>3</td>\n",
       "      <td>4</td>\n",
       "      <td>2019</td>\n",
       "      <td>другой</td>\n",
       "      <td>12.0</td>\n",
       "    </tr>\n",
       "    <tr>\n",
       "      <th>8</th>\n",
       "      <td>87454</td>\n",
       "      <td>2</td>\n",
       "      <td>5</td>\n",
       "      <td>2018</td>\n",
       "      <td>другой</td>\n",
       "      <td>NaN</td>\n",
       "    </tr>\n",
       "    <tr>\n",
       "      <th>9</th>\n",
       "      <td>88524</td>\n",
       "      <td>6</td>\n",
       "      <td>2</td>\n",
       "      <td>2017</td>\n",
       "      <td>другой</td>\n",
       "      <td>15.0</td>\n",
       "    </tr>\n",
       "  </tbody>\n",
       "</table>\n",
       "</div>"
      ],
      "text/plain": [
       "   price_per_square  weekday  month  year floor_category  city_centers_km\n",
       "0            120370        3      3  2019         другой             16.0\n",
       "1             82920        1     12  2018         первый             19.0\n",
       "2             92785        3      8  2015         другой             14.0\n",
       "3            408176        4      7  2015         другой              7.0\n",
       "4            100000        1      6  2018         другой              8.0\n",
       "5             95065        0      9  2018         другой              NaN\n",
       "6             99195        3     11  2017         другой             19.0\n",
       "7            110544        3      4  2019         другой             12.0\n",
       "8             87454        2      5  2018         другой              NaN\n",
       "9             88524        6      2  2017         другой             15.0"
      ]
     },
     "execution_count": 63,
     "metadata": {},
     "output_type": "execute_result"
    }
   ],
   "source": [
    "# выведем первые строки новых столбцов датасета\n",
    "data.loc[:, ['price_per_square', 'weekday', 'month', 'year', 'floor_category', 'city_centers_km']].head(10)"
   ]
  },
  {
   "cell_type": "markdown",
   "id": "97e7bcbf",
   "metadata": {},
   "source": [
    "**Вывод**: были добавлены столбцы `price_per_square`, `weekday`, `month`, `year`, `floor_category`, `city_centers_km`."
   ]
  },
  {
   "cell_type": "markdown",
   "id": "56a50107",
   "metadata": {},
   "source": [
    "## 3. Исследовательский анализ"
   ]
  },
  {
   "cell_type": "markdown",
   "id": "6ea7c81c",
   "metadata": {},
   "source": [
    "### Исследование параметров квартир"
   ]
  },
  {
   "cell_type": "markdown",
   "id": "b72ffa89",
   "metadata": {},
   "source": [
    "Необходимо изучить и описать параметры: \n",
    "* общая площадь;\n",
    "* жилая площадь;\n",
    "* площадь кухни;\n",
    "* цена объекта;\n",
    "* количество комнат;\n",
    "* высота потолков;\n",
    "* этаж квартиры;\n",
    "* тип этажа квартиры («первый», «последний», «другой»);\n",
    "* общее количество этажей в доме;\n",
    "* расстояние до центра города в метрах;\n",
    "* расстояние до ближайшего аэропорта;\n",
    "* расстояние до ближайшего парка;\n",
    "* день и месяц публикации объявления."
   ]
  },
  {
   "cell_type": "markdown",
   "id": "c678f5fb",
   "metadata": {},
   "source": [
    "##### Общая площадь"
   ]
  },
  {
   "cell_type": "code",
   "execution_count": 64,
   "id": "c0d861f8",
   "metadata": {},
   "outputs": [
    {
     "data": {
      "text/plain": [
       "count    23331.000000\n",
       "mean        60.403884\n",
       "std         35.706425\n",
       "min         13.000000\n",
       "25%         40.000000\n",
       "50%         52.000000\n",
       "75%         69.900000\n",
       "max        900.000000\n",
       "Name: total_area, dtype: float64"
      ]
     },
     "execution_count": 64,
     "metadata": {},
     "output_type": "execute_result"
    }
   ],
   "source": [
    "# получим числовое описание данных по площади\n",
    "data['total_area'].describe()"
   ]
  },
  {
   "cell_type": "markdown",
   "id": "b55d1565",
   "metadata": {},
   "source": [
    "Межквартильный размах находится в диапазоне от 40 до 70 кв.м. Среднее (60 кв.м) больше медианы (52 кв.м), поскольку в данных присутствует выбросы (квартиры с очень большой площадью), минимальное значение 13 кв.м, максимальное значение 900 кв.м. Визуализируем разброс данных, чтобы узнать долю выбросов и определить диапазон нормальных значений."
   ]
  },
  {
   "cell_type": "code",
   "execution_count": 65,
   "id": "c778413c",
   "metadata": {},
   "outputs": [
    {
     "data": {
      "image/png": "[encoded data removed]",
      "text/plain": [
       "<Figure size 216x936 with 1 Axes>"
      ]
     },
     "metadata": {
      "needs_background": "light"
     },
     "output_type": "display_data"
    }
   ],
   "source": [
    "# построим график boxplot для визуализации распределения данных\n",
    "data.boxplot('total_area', figsize=(3, 13))\n",
    "plt.title('Общая площадь')\n",
    "plt.ylabel('Размер общей площади (кв.м)')\n",
    "plt.show()"
   ]
  },
  {
   "cell_type": "markdown",
   "id": "847eaf50",
   "metadata": {},
   "source": [
    "Диапазон нормальных значений находится примерно от 20 кв.м до 120-130 кв.м. Выбросы до 350-360 кв.м плотно сгруппированы, далее чуть менее плотно отражены значения до 500 кв.м, эти квартиры вероятнее всего представляют центральную историческую часть Санкт-Петербурга с большими квартирами старого фонда, а также элитный сегмент жилья. Квартиры с площадью приблизительно более 520 кв.м отражены как единичные выбросы, удалим эти строки для удобства дальнейшего анализа.\n",
    "\n",
    "Будем иметь в виду выбросы, отражающие особенности Санкт-Петербурга. Построим гистограмму для нормального размаха значений (20-130 кв.м), чтобы визуализировать их распределение."
   ]
  },
  {
   "cell_type": "code",
   "execution_count": 66,
   "id": "3344dab3",
   "metadata": {},
   "outputs": [],
   "source": [
    "# уберем строку с 900 кв.м\n",
    "data = data.loc[data['total_area']<530][:]"
   ]
  },
  {
   "cell_type": "code",
   "execution_count": 67,
   "id": "0dfd9471",
   "metadata": {},
   "outputs": [
    {
     "data": {
      "image/png": "[encoded data removed]",
      "text/plain": [
       "<Figure size 432x288 with 1 Axes>"
      ]
     },
     "metadata": {
      "needs_background": "light"
     },
     "output_type": "display_data"
    }
   ],
   "source": [
    "# построим гистограмму для выбранного диапазона\n",
    "plt.hist(data['total_area'], bins=50, range=(20,130))\n",
    "plt.title('Площадь квартир')\n",
    "plt.xlabel('Размер общей площади (кв.м)')\n",
    "plt.show()"
   ]
  },
  {
   "cell_type": "markdown",
   "id": "64311306",
   "metadata": {},
   "source": [
    "Распределение квартир по площади тяготеет к нормальному, однако график скошен вправо и в выбранном диапазоне видны несколько пиков: около 30 кв. м (сделаем предположение, что это типовые по размеру студии/однокомнатные квартиры, \"хрущевки\" или квартиры в новостройках на окраинах с большим количеством студий) и около 45-50 кв.м (среднее значение)."
   ]
  },
  {
   "cell_type": "code",
   "execution_count": 68,
   "id": "f5bb4c2e",
   "metadata": {},
   "outputs": [
    {
     "data": {
      "text/plain": [
       "<AxesSubplot:>"
      ]
     },
     "execution_count": 68,
     "metadata": {},
     "output_type": "execute_result"
    },
    {
     "data": {
      "image/png": "[encoded data removed]",
      "text/plain": [
       "<Figure size 360x720 with 1 Axes>"
      ]
     },
     "metadata": {
      "needs_background": "light"
     },
     "output_type": "display_data"
    }
   ],
   "source": [
    "# убедимся, что распределение данных по площадям выглядит реалистично\n",
    "columns_boxplot = ['total_area', 'kitchen_area', 'living_area']\n",
    "data.boxplot(columns_boxplot, figsize=(5, 10))"
   ]
  },
  {
   "cell_type": "markdown",
   "id": "b704b043",
   "metadata": {},
   "source": [
    "##### Жилая площадь"
   ]
  },
  {
   "cell_type": "code",
   "execution_count": 69,
   "id": "43326d40",
   "metadata": {},
   "outputs": [
    {
     "data": {
      "text/plain": [
       "count    23326.000000\n",
       "mean        34.511013\n",
       "std         21.856767\n",
       "min          6.000000\n",
       "25%         19.000000\n",
       "50%         30.000000\n",
       "75%         42.100000\n",
       "max        347.500000\n",
       "Name: living_area, dtype: float64"
      ]
     },
     "execution_count": 69,
     "metadata": {},
     "output_type": "execute_result"
    }
   ],
   "source": [
    "# получим числовое описание данных по жилой площади\n",
    "data['living_area'].describe()"
   ]
  },
  {
   "cell_type": "markdown",
   "id": "1842e400",
   "metadata": {},
   "source": [
    "Среднее значение — 34 кв.м жилой площади, медианное — 30 кв.м.Межквартильный размах 19-42 кв.м. Построим гистограмму для визуализации диапазона 6-100 кв.м. "
   ]
  },
  {
   "cell_type": "markdown",
   "id": "7294a92b",
   "metadata": {},
   "source": [
    "Среднее значение — 34 кв.м жилой площади, медианное — 30 кв.м.Межквартильный размах 19-42 кв.м. Построим гистограмму для визуализации диапазона 6-100 кв.м. "
   ]
  },
  {
   "cell_type": "markdown",
   "id": "55a57716",
   "metadata": {},
   "source": [
    "График по жилой площади похож на график по общей, так же выделяются два пика. Пик возле значений приблизительно 17 кв.м мог образоваться из-за популярности небольших по площади квартир с минимальным размером площади кухни. Второй пик приходится приблизительно на 30 кв.м жилой площади: большей популярностью пользуются небольшие квартиры. "
   ]
  },
  {
   "cell_type": "markdown",
   "id": "425f4db0",
   "metadata": {},
   "source": [
    "##### Площадь кухни"
   ]
  },
  {
   "cell_type": "code",
   "execution_count": 70,
   "id": "872a28e2",
   "metadata": {},
   "outputs": [
    {
     "data": {
      "text/plain": [
       "count    23326.000000\n",
       "mean        10.457995\n",
       "std          5.900941\n",
       "min          1.300000\n",
       "25%          7.000000\n",
       "50%          9.000000\n",
       "75%         12.000000\n",
       "max        107.000000\n",
       "Name: kitchen_area, dtype: float64"
      ]
     },
     "execution_count": 70,
     "metadata": {},
     "output_type": "execute_result"
    }
   ],
   "source": [
    "# получим числовое описание данных по площади кухни\n",
    "data['kitchen_area'].describe()"
   ]
  },
  {
   "cell_type": "markdown",
   "id": "b6b4328e",
   "metadata": {},
   "source": [
    "Средняя кухня площадью примерно 9-10 кв.м, минимальное значение 1.3 кв.м характерно для маленьких студий, максимальное значение 107 кв.м для — элитного жилья. Межквартильный размах — 7-12 кв.м. Построим гистограмму для диапазона 1.3-30 кв.м."
   ]
  },
  {
   "cell_type": "code",
   "execution_count": 71,
   "id": "53975335",
   "metadata": {},
   "outputs": [
    {
     "data": {
      "image/png": "[encoded data removed]",
      "text/plain": [
       "<Figure size 432x288 with 1 Axes>"
      ]
     },
     "metadata": {
      "needs_background": "light"
     },
     "output_type": "display_data"
    }
   ],
   "source": [
    "# построим гистограмму для выбранного диапазона\n",
    "plt.hist(data['kitchen_area'], bins=30, range=(1.3,30))\n",
    "plt.title('Площадь кухни')\n",
    "plt.xlabel('Площадь кухни (кв.м)')\n",
    "plt.show()"
   ]
  },
  {
   "cell_type": "markdown",
   "id": "a5e80c66",
   "metadata": {},
   "source": [
    "Так же наблюдаем два пика: больше всего квартир с кухней 5-6 кв.м (около минимального стандартного значения, более устаревший стандарт) и 8 кв.м (более новый минимальный стандарт размера кухни). График соответствует ожидаемому распределению значений."
   ]
  },
  {
   "cell_type": "markdown",
   "id": "3ebf12c7",
   "metadata": {},
   "source": [
    "##### Цена на момент снятия с публикации"
   ]
  },
  {
   "cell_type": "code",
   "execution_count": 72,
   "id": "788ac205",
   "metadata": {},
   "outputs": [
    {
     "data": {
      "text/plain": [
       "count        23.326000\n",
       "mean       6493.973700\n",
       "std       10298.528552\n",
       "min         430.000000\n",
       "25%        3434.250000\n",
       "50%        4650.000000\n",
       "75%        6799.000000\n",
       "max      763000.000000\n",
       "Name: last_price, dtype: float64"
      ]
     },
     "execution_count": 72,
     "metadata": {},
     "output_type": "execute_result"
    }
   ],
   "source": [
    "# получим числовое описание данных по цене квартиры, отразим в тысячах\n",
    "data['last_price'].describe()/1000"
   ]
  },
  {
   "cell_type": "markdown",
   "id": "9f4ffcb8",
   "metadata": {},
   "source": [
    "Среднее значение 6.5 млн руб., медианное — 4.7 млн руб. Самая дорогая квартира стоит 763 млн руб. Минимальная цена квартиры 430 тыс. руб. Межквартильный размах — 3.5-6.8 млн руб. Среднее значение выше медианного, есть очень дорогие квартиры (среднее выше медианы). Посмотрим на распределение данных и выбросы с помощью коробчатой диаграммы."
   ]
  },
  {
   "cell_type": "code",
   "execution_count": 73,
   "id": "ac59b8db",
   "metadata": {},
   "outputs": [
    {
     "data": {
      "image/png": "[encoded data removed]",
      "text/plain": [
       "<Figure size 288x864 with 1 Axes>"
      ]
     },
     "metadata": {
      "needs_background": "light"
     },
     "output_type": "display_data"
    }
   ],
   "source": [
    "# построим график boxplot для визуализации распределения данных\n",
    "data.boxplot('last_price', figsize=(4, 12))\n",
    "plt.title('Цена на момент снятия с публикации')\n",
    "plt.ylabel('Цена (10 млн руб.)')\n",
    "plt.show()"
   ]
  },
  {
   "cell_type": "markdown",
   "id": "08466972",
   "metadata": {},
   "source": [
    "Выбросы плотно сгруппированы примерно до 10 млн руб. Наличие точек выбросов, скорее всего, характеризует дорогое элитное жилье в центральных районах. Выберем квартиры до 70 млн руб. и взглянем на график еще раз."
   ]
  },
  {
   "cell_type": "code",
   "execution_count": 74,
   "id": "b423c114",
   "metadata": {
    "scrolled": false
   },
   "outputs": [
    {
     "data": {
      "image/png": "[encoded data removed]",
      "text/plain": [
       "<Figure size 288x936 with 1 Axes>"
      ]
     },
     "metadata": {
      "needs_background": "light"
     },
     "output_type": "display_data"
    }
   ],
   "source": [
    "# выберем все квартиры с ценой до 10 млн рублей\n",
    "data_price_filtered = data.query('last_price <= 70000000')\n",
    "# построим по ним график размаха \n",
    "data_price_filtered.boxplot('last_price', figsize=(4, 13))\n",
    "plt.title('Цена на момент снятия с публикации')\n",
    "plt.ylabel('Цена (10 млн руб.)')\n",
    "plt.show()"
   ]
  },
  {
   "cell_type": "markdown",
   "id": "0a3dfa36",
   "metadata": {},
   "source": [
    "Нормальные значения находятся в диапазоне приблизительно до 12 млн руб. Выбросы плотно сгруппированы приблизительно до 30-40 млн, чуть менее плотно до 60-70 млн руб. Построим гистограмму для диапазона до 20 млн руб."
   ]
  },
  {
   "cell_type": "code",
   "execution_count": 75,
   "id": "329ae899",
   "metadata": {
    "scrolled": true
   },
   "outputs": [
    {
     "data": {
      "image/png": "[encoded data removed]",
      "text/plain": [
       "<Figure size 432x288 with 1 Axes>"
      ]
     },
     "metadata": {
      "needs_background": "light"
     },
     "output_type": "display_data"
    }
   ],
   "source": [
    "# построим гистограмму для выбранного диапазона\n",
    "plt.hist(data['last_price']/1000000, bins=50, range=(0,20))\n",
    "plt.title('Цена на момент снятия с публикации')\n",
    "plt.xlabel('Цена (10 млн руб.)')\n",
    "plt.show()"
   ]
  },
  {
   "cell_type": "markdown",
   "id": "4eb21e3c",
   "metadata": {},
   "source": [
    "Больше всего квартир стоят приблизительно 5 млн рублей. Скорее всего это совокупность квартир в Ленобласти, где цены в целом ниже, а также маленьких студий в Санкт-Петербурге и пригородах (один из самых популярных тип квартир на данный момент, в том числе в новых строящихся домах, они часто становятся объектами купли-продажи)."
   ]
  },
  {
   "cell_type": "markdown",
   "id": "25fdbe64",
   "metadata": {},
   "source": [
    "##### Количество комнат"
   ]
  },
  {
   "cell_type": "code",
   "execution_count": 76,
   "id": "c4b8a8ea",
   "metadata": {},
   "outputs": [
    {
     "data": {
      "text/plain": [
       "1     7833\n",
       "2     7815\n",
       "3     5737\n",
       "4     1168\n",
       "5      322\n",
       "0      264\n",
       "6      103\n",
       "7       56\n",
       "8       11\n",
       "9        8\n",
       "10       3\n",
       "11       2\n",
       "14       2\n",
       "19       1\n",
       "16       1\n",
       "Name: rooms, dtype: int64"
      ]
     },
     "execution_count": 76,
     "metadata": {},
     "output_type": "execute_result"
    }
   ],
   "source": [
    "# взглянем на частоту данных по количеству комнат\n",
    "data['rooms'].value_counts()"
   ]
  },
  {
   "cell_type": "markdown",
   "id": "70cf710c",
   "metadata": {},
   "source": [
    "Будем иметь в виду выбросы в виде квартир с очень большим количеством комнат (10-19): это может быть элитное жилье или бывшие коммунальные квартиры в Санкт-Петербурге. Для удобства дальнейшего анализа отбросим эти строки и построим гистограмму по диапазону нормальных значений."
   ]
  },
  {
   "cell_type": "code",
   "execution_count": 77,
   "id": "feed9a68",
   "metadata": {},
   "outputs": [],
   "source": [
    "# выберем все строки с количеством комнат до 9\n",
    "data = data.loc[data['rooms']<10][:]"
   ]
  },
  {
   "cell_type": "code",
   "execution_count": 78,
   "id": "70d53b98",
   "metadata": {},
   "outputs": [
    {
     "data": {
      "image/png": "[encoded data removed]",
      "text/plain": [
       "<Figure size 432x288 with 1 Axes>"
      ]
     },
     "metadata": {
      "needs_background": "light"
     },
     "output_type": "display_data"
    }
   ],
   "source": [
    "# построим гистограмму \n",
    "plt.hist(data['rooms'], bins=9)\n",
    "plt.title('Количество комнат')\n",
    "plt.show()"
   ]
  },
  {
   "cell_type": "markdown",
   "id": "bd5c63d3",
   "metadata": {},
   "source": [
    "Больше всего однокомнатных и двухкомнатых квартир, чуть меньше трехкомнатных. Количество квартир с четырьмя и более комнатами значительно меньше."
   ]
  },
  {
   "cell_type": "code",
   "execution_count": 79,
   "id": "d264386b",
   "metadata": {},
   "outputs": [
    {
     "data": {
      "text/plain": [
       "count    23317.000000\n",
       "mean         2.722387\n",
       "std          0.237771\n",
       "min          2.400000\n",
       "25%          2.550000\n",
       "50%          2.700000\n",
       "75%          2.750000\n",
       "max          6.000000\n",
       "Name: ceiling_height, dtype: float64"
      ]
     },
     "execution_count": 79,
     "metadata": {},
     "output_type": "execute_result"
    }
   ],
   "source": [
    "# получим числовое описание данных по высоте потолков\n",
    "data['ceiling_height'].describe()"
   ]
  },
  {
   "cell_type": "markdown",
   "id": "ae86653f",
   "metadata": {},
   "source": [
    "Среднее и медиана практически одинаковые, поскольку на этапе предобработке мы удалили аномальные значения. Посмотрим как распределяются данные."
   ]
  },
  {
   "cell_type": "code",
   "execution_count": 80,
   "id": "81498009",
   "metadata": {},
   "outputs": [
    {
     "data": {
      "image/png": "[encoded data removed]",
      "text/plain": [
       "<Figure size 288x864 with 1 Axes>"
      ]
     },
     "metadata": {
      "needs_background": "light"
     },
     "output_type": "display_data"
    }
   ],
   "source": [
    "# построим график boxplot для визуализации распределения данных\n",
    "data.boxplot('ceiling_height', figsize=(4, 12))\n",
    "plt.title('Высота потолков')\n",
    "plt.ylabel('Высота потолков (м)')\n",
    "plt.show()"
   ]
  },
  {
   "cell_type": "markdown",
   "id": "8006b70b",
   "metadata": {},
   "source": [
    "Нормальный размах значений находится в диапазоне от приблизительно 2.4 м до 3 м, больше всего квартир с потолками 2.5-2.7 м. Выбросы достаточно плотно сгруппированы до значения примерно 4 м, эти значения характерны для элитного жилья и старого фонда в центре Санкт-Петербурга."
   ]
  },
  {
   "cell_type": "code",
   "execution_count": 81,
   "id": "0a92d36f",
   "metadata": {},
   "outputs": [
    {
     "data": {
      "image/png": "[encoded data removed]",
      "text/plain": [
       "<Figure size 432x288 with 1 Axes>"
      ]
     },
     "metadata": {
      "needs_background": "light"
     },
     "output_type": "display_data"
    }
   ],
   "source": [
    "# построим гистограмму для выбранного диапазона\n",
    "plt.hist(data['ceiling_height'], bins=(25), range=(2, 4.5))\n",
    "plt.title('Высота потолков')\n",
    "plt.xlabel('Высота потолков (м)')\n",
    "plt.show()"
   ]
  },
  {
   "cell_type": "markdown",
   "id": "493bd6e5",
   "metadata": {},
   "source": [
    "Мы видим несколько пиков. Это может быть связано с типовыми значениями высоты потолка, а также с проведенной выше предобработкой данных, где мы заполняли пропуски медианными значениями по расположению и населенному пункту."
   ]
  },
  {
   "cell_type": "markdown",
   "id": "df4869b2",
   "metadata": {},
   "source": [
    "##### Этаж"
   ]
  },
  {
   "cell_type": "code",
   "execution_count": 82,
   "id": "af8eda57",
   "metadata": {},
   "outputs": [
    {
     "data": {
      "text/plain": [
       "2     3316\n",
       "3     3030\n",
       "1     2872\n",
       "4     2776\n",
       "5     2588\n",
       "6     1279\n",
       "7     1201\n",
       "8     1062\n",
       "9     1038\n",
       "10     678\n",
       "11     515\n",
       "12     509\n",
       "13     368\n",
       "15     336\n",
       "14     329\n",
       "16     310\n",
       "17     223\n",
       "18     172\n",
       "19     142\n",
       "21     117\n",
       "20     108\n",
       "22     108\n",
       "23      98\n",
       "24      60\n",
       "25      43\n",
       "26      23\n",
       "27      10\n",
       "28       1\n",
       "30       1\n",
       "29       1\n",
       "32       1\n",
       "33       1\n",
       "31       1\n",
       "Name: floor, dtype: int64"
      ]
     },
     "execution_count": 82,
     "metadata": {},
     "output_type": "execute_result"
    }
   ],
   "source": [
    "# взглянем на частоту данных \n",
    "data['floor'].value_counts()"
   ]
  },
  {
   "cell_type": "code",
   "execution_count": 83,
   "id": "727ddb2a",
   "metadata": {},
   "outputs": [
    {
     "data": {
      "image/png": "[encoded data removed]",
      "text/plain": [
       "<Figure size 288x360 with 1 Axes>"
      ]
     },
     "metadata": {
      "needs_background": "light"
     },
     "output_type": "display_data"
    }
   ],
   "source": [
    "# построим график boxplot для визуализации распределения данных\n",
    "data.boxplot('floor', figsize=(4, 5))\n",
    "plt.title('Этаж')\n",
    "plt.show()"
   ]
  },
  {
   "cell_type": "markdown",
   "id": "5514fa90",
   "metadata": {},
   "source": [
    "Больше всего квартир в объявлениях располагаются на 1-8 этаже. Нормальный размах значений от 1-2 до 16 этажа. Квартиры на более высоких этажах отражены как выбросы."
   ]
  },
  {
   "cell_type": "code",
   "execution_count": 84,
   "id": "041802cc",
   "metadata": {},
   "outputs": [
    {
     "data": {
      "image/png": "[encoded data removed]",
      "text/plain": [
       "<Figure size 432x288 with 1 Axes>"
      ]
     },
     "metadata": {
      "needs_background": "light"
     },
     "output_type": "display_data"
    }
   ],
   "source": [
    "# построим гистограмму\n",
    "plt.hist(data['floor'], bins=33, range=(1,33))\n",
    "plt.title('Этаж квартир')\n",
    "plt.show()"
   ]
  },
  {
   "cell_type": "markdown",
   "id": "90838113",
   "metadata": {},
   "source": [
    "Мы видим пик на значениях 2 этаж. Далее значительный провал на 5 этаже: возможно, это связано с большим количеством домов до 5 этажей, например, старого фонда, «хрущевок», малоэтажной застройки в области и так далее."
   ]
  },
  {
   "cell_type": "markdown",
   "id": "0f1744d2",
   "metadata": {},
   "source": [
    "##### Тип этажа квартиры"
   ]
  },
  {
   "cell_type": "code",
   "execution_count": 85,
   "id": "682b7f5c",
   "metadata": {},
   "outputs": [
    {
     "data": {
      "text/plain": [
       "другой       17169\n",
       "последний     3276\n",
       "первый        2872\n",
       "Name: floor_category, dtype: int64"
      ]
     },
     "execution_count": 85,
     "metadata": {},
     "output_type": "execute_result"
    }
   ],
   "source": [
    "# взглянем на частоту данных \n",
    "data['floor_category'].value_counts()"
   ]
  },
  {
   "cell_type": "code",
   "execution_count": 86,
   "id": "ff4b2c2e",
   "metadata": {},
   "outputs": [
    {
     "data": {
      "image/png": "[encoded data removed]",
      "text/plain": [
       "<Figure size 432x288 with 1 Axes>"
      ]
     },
     "metadata": {
      "needs_background": "light"
     },
     "output_type": "display_data"
    }
   ],
   "source": [
    "# построим гистограмму\n",
    "plt.hist(data['floor_category'], bins=3)\n",
    "plt.title('Тип этажа квартир')\n",
    "plt.show()"
   ]
  },
  {
   "cell_type": "markdown",
   "id": "a677a38b",
   "metadata": {},
   "source": [
    "Квартир на первом и последнем этаже примерно равное количество, большинство квартир располагаются на другом этаже."
   ]
  },
  {
   "cell_type": "markdown",
   "id": "39f5441c",
   "metadata": {},
   "source": [
    "##### Общее количество этажей"
   ]
  },
  {
   "cell_type": "code",
   "execution_count": 87,
   "id": "c07c856f",
   "metadata": {},
   "outputs": [
    {
     "data": {
      "text/plain": [
       "5     5725\n",
       "9     3739\n",
       "16    1354\n",
       "12    1352\n",
       "4     1178\n",
       "10    1171\n",
       "25    1057\n",
       "6      895\n",
       "17     823\n",
       "3      658\n",
       "7      578\n",
       "14     547\n",
       "18     495\n",
       "24     455\n",
       "8      384\n",
       "2      370\n",
       "15     364\n",
       "23     345\n",
       "19     336\n",
       "22     281\n",
       "20     270\n",
       "13     227\n",
       "11     200\n",
       "27     162\n",
       "21     156\n",
       "26     123\n",
       "35      23\n",
       "1       22\n",
       "28      21\n",
       "36       3\n",
       "34       1\n",
       "29       1\n",
       "33       1\n",
       "Name: floors_total, dtype: int64"
      ]
     },
     "execution_count": 87,
     "metadata": {},
     "output_type": "execute_result"
    }
   ],
   "source": [
    "# взглянем на частоту данных \n",
    "data['floors_total'].value_counts()"
   ]
  },
  {
   "cell_type": "code",
   "execution_count": 88,
   "id": "f6246bb1",
   "metadata": {},
   "outputs": [
    {
     "data": {
      "image/png": "[encoded data removed]",
      "text/plain": [
       "<Figure size 288x360 with 1 Axes>"
      ]
     },
     "metadata": {
      "needs_background": "light"
     },
     "output_type": "display_data"
    }
   ],
   "source": [
    "# построим график boxplot для визуализации распределения данных\n",
    "data.boxplot('floors_total', figsize=(4, 5))\n",
    "plt.title('Количество этажей в доме')\n",
    "plt.show()"
   ]
  },
  {
   "cell_type": "markdown",
   "id": "29404c57",
   "metadata": {},
   "source": [
    "Больше всего домов от 5 до 16 этажей, что выглядит правдоподобно: это типовая застройка. Нормальный размах значений от 2 до 16 этажей в домах. Многоэтажные дома более 30 этажей отражены как выбросы: это высокие здания в Санкт-Петербурге."
   ]
  },
  {
   "cell_type": "code",
   "execution_count": 89,
   "id": "21c7a96c",
   "metadata": {},
   "outputs": [
    {
     "data": {
      "image/png": "[encoded data removed]",
      "text/plain": [
       "<Figure size 432x288 with 1 Axes>"
      ]
     },
     "metadata": {
      "needs_background": "light"
     },
     "output_type": "display_data"
    }
   ],
   "source": [
    "# построим гистограмму \n",
    "plt.hist(data['floors_total'], bins=30, range=(10,130))\n",
    "plt.title('Общее количество этажей в доме')\n",
    "plt.show()"
   ]
  },
  {
   "cell_type": "markdown",
   "id": "472a2fc9",
   "metadata": {},
   "source": [
    "Мы видим несколько пиков на графике: 5, 9, 12, 16 и 25 этажей. Это связано с типовой застройкой."
   ]
  },
  {
   "cell_type": "markdown",
   "id": "b5bcf1fe",
   "metadata": {},
   "source": [
    "##### Расстояние до центра города"
   ]
  },
  {
   "cell_type": "code",
   "execution_count": 90,
   "id": "f7de81d1",
   "metadata": {},
   "outputs": [
    {
     "data": {
      "text/plain": [
       "count    17896.000000\n",
       "mean     14210.566719\n",
       "std       8616.374711\n",
       "min        181.000000\n",
       "25%       9259.250000\n",
       "50%      13107.000000\n",
       "75%      16293.250000\n",
       "max      65968.000000\n",
       "Name: city_centers_nearest, dtype: float64"
      ]
     },
     "execution_count": 90,
     "metadata": {},
     "output_type": "execute_result"
    }
   ],
   "source": [
    "# получим числовое описание данных по расстоянию до центра города\n",
    "data['city_centers_nearest'].describe()"
   ]
  },
  {
   "cell_type": "code",
   "execution_count": 91,
   "id": "b70e8378",
   "metadata": {},
   "outputs": [
    {
     "data": {
      "image/png": "[encoded data removed]",
      "text/plain": [
       "<Figure size 288x864 with 1 Axes>"
      ]
     },
     "metadata": {
      "needs_background": "light"
     },
     "output_type": "display_data"
    }
   ],
   "source": [
    "# построим график boxplot для визуализации распределения данных\n",
    "data.boxplot('city_centers_nearest', figsize=(4, 12))\n",
    "plt.title('Расстояние до центра')\n",
    "plt.ylabel('Расстояние до центра (м)')\n",
    "plt.show()"
   ]
  },
  {
   "cell_type": "code",
   "execution_count": 92,
   "id": "3786ba29",
   "metadata": {},
   "outputs": [
    {
     "data": {
      "image/png": "[encoded data removed]",
      "text/plain": [
       "<Figure size 432x288 with 1 Axes>"
      ]
     },
     "metadata": {
      "needs_background": "light"
     },
     "output_type": "display_data"
    }
   ],
   "source": [
    "# построим гистограмму для выбранного диапазона\n",
    "plt.hist(data['city_centers_nearest'])\n",
    "plt.title('Расстояние до центра')\n",
    "plt.xlabel('Расстояние до центра (м)')\n",
    "plt.show()"
   ]
  },
  {
   "cell_type": "markdown",
   "id": "4dd58075",
   "metadata": {},
   "source": [
    "Большинство квартир располагаются в радиусе приблизительно 10-17 км от центра города: скорее всего это квартиры в спальных районах Санкт-Петербурга, где много новых домов, в которых активно продаются квартиры. Нормальный размах значений от 0 до 26 км. Значительное количество квартир расположено в радиусе до 10 км от центра города. На этапе предобработки мы выяснили, что скорее всего картографические данные собирались по определенному радиусу — необходимо это учитывать."
   ]
  },
  {
   "cell_type": "markdown",
   "id": "67bc7db1",
   "metadata": {},
   "source": [
    "##### Расстояние до ближайшего аэропорта"
   ]
  },
  {
   "cell_type": "code",
   "execution_count": 93,
   "id": "7f13fe13",
   "metadata": {},
   "outputs": [
    {
     "data": {
      "text/plain": [
       "count    17873.00000\n",
       "mean     28809.00056\n",
       "std      12639.01607\n",
       "min          0.00000\n",
       "25%      18557.00000\n",
       "50%      26766.00000\n",
       "75%      37288.00000\n",
       "max      84869.00000\n",
       "Name: airports_nearest, dtype: float64"
      ]
     },
     "execution_count": 93,
     "metadata": {},
     "output_type": "execute_result"
    }
   ],
   "source": [
    "# получим числовое описание данных по расстоянию до ближайшего аэропорта\n",
    "data['airports_nearest'].describe()"
   ]
  },
  {
   "cell_type": "code",
   "execution_count": 94,
   "id": "a1e39f4c",
   "metadata": {},
   "outputs": [
    {
     "data": {
      "image/png": "[encoded data removed]",
      "text/plain": [
       "<Figure size 288x504 with 1 Axes>"
      ]
     },
     "metadata": {
      "needs_background": "light"
     },
     "output_type": "display_data"
    }
   ],
   "source": [
    "# построим график boxplot для визуализации распределения данных\n",
    "data.boxplot('airports_nearest', figsize=(4, 7))\n",
    "plt.title('Расстояние до аэропорта')\n",
    "plt.ylabel('Расстояние до аэропорта (м)')\n",
    "plt.show()"
   ]
  },
  {
   "cell_type": "code",
   "execution_count": 95,
   "id": "367f82dd",
   "metadata": {},
   "outputs": [
    {
     "data": {
      "image/png": "[encoded data removed]",
      "text/plain": [
       "<Figure size 432x288 with 1 Axes>"
      ]
     },
     "metadata": {
      "needs_background": "light"
     },
     "output_type": "display_data"
    }
   ],
   "source": [
    "# построим гистограмму для выбранного диапазона\n",
    "plt.hist(data['airports_nearest'])\n",
    "plt.title('Расстояние до аэропорта')\n",
    "plt.xlabel('Расстояние до аэропорта (м)')\n",
    "plt.show()"
   ]
  },
  {
   "cell_type": "markdown",
   "id": "cda01f76",
   "metadata": {},
   "source": [
    "Больше всего квартир находятся на расстоянии приблизительно от 20 до 40 км от аэропорта. Провал на расстоянии до 10 км и резкое повышение далее на гистограмме объясняется тем, что в радиусе 10 км от Пулково нет жилой застройки (если прокладывать маршрут по дорогам)."
   ]
  },
  {
   "cell_type": "markdown",
   "id": "893002fb",
   "metadata": {},
   "source": [
    "##### Расстояние до ближайшего парка"
   ]
  },
  {
   "cell_type": "code",
   "execution_count": 96,
   "id": "a2575a6c",
   "metadata": {},
   "outputs": [
    {
     "data": {
      "text/plain": [
       "count    7950.000000\n",
       "mean      490.801132\n",
       "std       341.244248\n",
       "min         1.000000\n",
       "25%       288.000000\n",
       "50%       455.000000\n",
       "75%       612.000000\n",
       "max      3190.000000\n",
       "Name: parks_nearest, dtype: float64"
      ]
     },
     "execution_count": 96,
     "metadata": {},
     "output_type": "execute_result"
    }
   ],
   "source": [
    "# получим числовое описание данных по расстоянию до ближайшего парка\n",
    "data['parks_nearest'].describe()"
   ]
  },
  {
   "cell_type": "code",
   "execution_count": 97,
   "id": "3dc49d3d",
   "metadata": {},
   "outputs": [
    {
     "data": {
      "image/png": "[encoded data removed]",
      "text/plain": [
       "<Figure size 288x504 with 1 Axes>"
      ]
     },
     "metadata": {
      "needs_background": "light"
     },
     "output_type": "display_data"
    }
   ],
   "source": [
    "# построим график boxplot для визуализации распределения данных\n",
    "data.boxplot('parks_nearest', figsize=(4, 7))\n",
    "plt.title('Расстояние до ближайшего парка')\n",
    "plt.ylabel('Расстояние до парка (м)')\n",
    "plt.show()"
   ]
  },
  {
   "cell_type": "code",
   "execution_count": 98,
   "id": "4888ad34",
   "metadata": {},
   "outputs": [
    {
     "data": {
      "image/png": "[encoded data removed]",
      "text/plain": [
       "<Figure size 432x288 with 1 Axes>"
      ]
     },
     "metadata": {
      "needs_background": "light"
     },
     "output_type": "display_data"
    }
   ],
   "source": [
    "# построим гистограмму\n",
    "plt.hist(data['parks_nearest'])\n",
    "plt.title('Расстояние до ближайшего парка')\n",
    "plt.xlabel('Расстояние до парка (м)')\n",
    "plt.show()"
   ]
  },
  {
   "cell_type": "markdown",
   "id": "5c5e3886",
   "metadata": {},
   "source": [
    "Как мы выяснили на этапе предобработки, данные собирались только по квартирам, у которых есть парки в радиусе приблизительно 3 км, что необходимо учесть на этапе разведывания данных. Нормальный размах значений от нуля до 1 км, большинство квартир из имеющегося набора расположены в 500 метрах от парка."
   ]
  },
  {
   "cell_type": "markdown",
   "id": "c980e733",
   "metadata": {},
   "source": [
    "##### День и месяц публикации объявления"
   ]
  },
  {
   "cell_type": "code",
   "execution_count": 99,
   "id": "2b634709",
   "metadata": {},
   "outputs": [
    {
     "data": {
      "text/plain": [
       "3    4231\n",
       "1    4118\n",
       "4    3947\n",
       "2    3911\n",
       "0    3555\n",
       "5    1894\n",
       "6    1661\n",
       "Name: weekday, dtype: int64"
      ]
     },
     "execution_count": 99,
     "metadata": {},
     "output_type": "execute_result"
    }
   ],
   "source": [
    "# взглянем на частоту данных \n",
    "data['weekday'].value_counts()"
   ]
  },
  {
   "cell_type": "code",
   "execution_count": 100,
   "id": "bd40594e",
   "metadata": {},
   "outputs": [
    {
     "data": {
      "image/png": "[encoded data removed]",
      "text/plain": [
       "<Figure size 432x288 with 1 Axes>"
      ]
     },
     "metadata": {
      "needs_background": "light"
     },
     "output_type": "display_data"
    }
   ],
   "source": [
    "# построим гистограмму\n",
    "plt.hist(data['weekday'], bins=13)\n",
    "plt.title('День публикации объявления')\n",
    "plt.xlabel('Номер дня недели')\n",
    "plt.show()"
   ]
  },
  {
   "cell_type": "markdown",
   "id": "215321dd",
   "metadata": {},
   "source": [
    "Больше объявлений размещаются в будние дни (0-4)."
   ]
  },
  {
   "cell_type": "code",
   "execution_count": 101,
   "id": "e4bb048a",
   "metadata": {},
   "outputs": [
    {
     "data": {
      "text/plain": [
       "2     2609\n",
       "3     2544\n",
       "11    2338\n",
       "4     2336\n",
       "10    2088\n",
       "9     1954\n",
       "6     1727\n",
       "8     1722\n",
       "7     1663\n",
       "12    1617\n",
       "1     1475\n",
       "5     1244\n",
       "Name: month, dtype: int64"
      ]
     },
     "execution_count": 101,
     "metadata": {},
     "output_type": "execute_result"
    }
   ],
   "source": [
    "# взглянем на частоту данных \n",
    "data['month'].value_counts()"
   ]
  },
  {
   "cell_type": "code",
   "execution_count": 102,
   "id": "df3e5bc7",
   "metadata": {},
   "outputs": [
    {
     "data": {
      "image/png": "[encoded data removed]",
      "text/plain": [
       "<Figure size 432x288 with 1 Axes>"
      ]
     },
     "metadata": {
      "needs_background": "light"
     },
     "output_type": "display_data"
    }
   ],
   "source": [
    "# построим гистограмму\n",
    "plt.hist(data['month'], bins=23)\n",
    "plt.title('Месяц публикации объявления')\n",
    "plt.xlabel('Номер месяца')\n",
    "plt.show()"
   ]
  },
  {
   "cell_type": "markdown",
   "id": "97d66113",
   "metadata": {},
   "source": [
    "Больше всего объявлений размещено в феврале, после январских праздников. Мало объявлений размещено в декабре-январе по причине закрытия года и праздников. Мы видим провал мае, вероятно, поскольку люди отмечают майские праздники, и летнее затишье, когда многие уезжают в отпуск."
   ]
  },
  {
   "cell_type": "markdown",
   "id": "22632906",
   "metadata": {},
   "source": [
    "##### Исследование времени продажи квартир"
   ]
  },
  {
   "cell_type": "code",
   "execution_count": 103,
   "id": "c35c3d9f",
   "metadata": {},
   "outputs": [
    {
     "data": {
      "text/plain": [
       "count    20177.000000\n",
       "mean       181.096694\n",
       "std        219.979696\n",
       "min          1.000000\n",
       "25%         45.000000\n",
       "50%         95.000000\n",
       "75%        232.000000\n",
       "max       1580.000000\n",
       "Name: days_exposition, dtype: float64"
      ]
     },
     "execution_count": 103,
     "metadata": {},
     "output_type": "execute_result"
    }
   ],
   "source": [
    "# получим числовое описание данных\n",
    "data['days_exposition'].describe()"
   ]
  },
  {
   "cell_type": "markdown",
   "id": "f81bf051",
   "metadata": {},
   "source": [
    "Среднее время продажи больше медианного: это говорит о том, что в данных присутствуют необычно долгие продажи. Обычно время продажи занимает от 45 до 232 дней. Посмотрим ближе на распределение данных."
   ]
  },
  {
   "cell_type": "code",
   "execution_count": 104,
   "id": "51339956",
   "metadata": {},
   "outputs": [
    {
     "data": {
      "image/png": "[encoded data removed]",
      "text/plain": [
       "<Figure size 288x504 with 1 Axes>"
      ]
     },
     "metadata": {
      "needs_background": "light"
     },
     "output_type": "display_data"
    },
    {
     "data": {
      "image/png": "[encoded data removed]",
      "text/plain": [
       "<Figure size 432x288 with 1 Axes>"
      ]
     },
     "metadata": {
      "needs_background": "light"
     },
     "output_type": "display_data"
    },
    {
     "data": {
      "image/png": "[encoded data removed]",
      "text/plain": [
       "<Figure size 432x288 with 1 Axes>"
      ]
     },
     "metadata": {
      "needs_background": "light"
     },
     "output_type": "display_data"
    }
   ],
   "source": [
    "# построим график boxplot для визуализации распределения данных\n",
    "data.boxplot('days_exposition', figsize=(4, 7))\n",
    "plt.title('Длительность продажи (дни)')\n",
    "plt.show()\n",
    "\n",
    "# построим гистограмму\n",
    "plt.hist(data['days_exposition'])\n",
    "plt.title('Длительность продаж (дни)')\n",
    "plt.show()\n",
    "\n",
    "# построим гистограмму для диапазона до 100 дней\n",
    "plt.hist(data['days_exposition'], range=(0,100))\n",
    "plt.title('Длительность продаж (дни)')\n",
    "plt.show()"
   ]
  },
  {
   "cell_type": "markdown",
   "id": "341eda24",
   "metadata": {},
   "source": [
    "На графике видно, что есть большое количество квартир, проданных менее чем за 100 дней. Быстрыми продажами можно считать те, которые произошли в период меньше одного-полутора месяца со дня размещения. Долгие продажи длятся более 232 дней, необычно долгие продажи начинают от приблизительно полутора лет.\n",
    "Также есть пики на 45 и 60 дней, ровно на 1,5 и 2 месяца, они наверняка связаны с особенностями сервиса, возможно, это какие-то подписки, по которым объявление закрывается через 45 или 60 дней автоматически."
   ]
  },
  {
   "cell_type": "markdown",
   "id": "545690fc",
   "metadata": {},
   "source": [
    "##### Выводы по одномерному анализу"
   ]
  },
  {
   "cell_type": "markdown",
   "id": "c4ac8314",
   "metadata": {},
   "source": [
    "Большая часть квартир имеет общую площадь 40-70 кв. м, жилую площадь 19-42 кв. м, площадь кухни 7-12 кв. м, высоту потолка 2,55-2,75, стоят от 3,5 до 6,8 млн рублей, находятся на 2-8 этаже (не на первом или последнем), в домах с 5, 9 или 16 этажами.\n",
    "\n",
    "Большинство квартир, по которым собирались картографические данные, находятся в радиусе 10-17 км от центра города, 20-40 км от аэропорта и имеют парк в радиусе 500 м.\n",
    "\n",
    "Чаще всего объявления размещаются в будние дни. Больше всего объявлений было размещено в феврале. Меньше объявлений размещается в мае, летом и в период декабрь-январь, вероятно, по причине праздников и отпусков.\n",
    "\n",
    "Чаще всего квартиры продаются за 45-232 дня. Есть квартиры, которые продали быстро, меньше чем за месяц, и очень долго, спустя более полутора лет с момента размещения объявления."
   ]
  },
  {
   "cell_type": "markdown",
   "id": "8c49814d",
   "metadata": {},
   "source": [
    "#### Изучение факторов, влияющих на формирование цены"
   ]
  },
  {
   "cell_type": "markdown",
   "id": "7ce1ace2",
   "metadata": {},
   "source": [
    "Изучим зависимость цены от общей площади, жилой площади, площади кухни, количества комнат, типа этажа, на котором расположена квартира, и даты размещения. Можем предположить наличие линейной зависимости между количественными переменными (данные по площадам, количество комнат) и ценой: проверим ее с помощью рассчета коэффициента корреляции Пирсона. Для дня, месяца, года размещения выведем отсортированные сводные таблицы с рассчетом медианной цены. Построим графики для визуализации зависимости."
   ]
  },
  {
   "cell_type": "code",
   "execution_count": 105,
   "id": "59068b15",
   "metadata": {},
   "outputs": [],
   "source": [
    "# напишем функцию для работы с числовыми факторами\n",
    "def correlation(column_name):\n",
    "    # которая построит график рассеяния\n",
    "    data.plot(x=column_name, y='last_price', kind='scatter', grid=True, alpha=0.5)\n",
    "    plt.show()\n",
    "    # создаст сводную таблицу \n",
    "    pivot_data = data.pivot_table(index=column_name, values='last_price', aggfunc = ['mean', 'count', 'median'])\n",
    "    pivot_data.columns=['mean', 'count', 'median']\n",
    "    # визуализирует медианное значение из сводной таблицы\n",
    "    pivot_data.plot(y='median', grid=True, alpha=0.3)\n",
    "    plt.show()\n",
    "    # рассчитает коэффициент корреляции\n",
    "    return data[column_name].corr(data['last_price'])"
   ]
  },
  {
   "cell_type": "markdown",
   "id": "d2081b6d",
   "metadata": {},
   "source": [
    "##### Зависимость цены и общей площади"
   ]
  },
  {
   "cell_type": "code",
   "execution_count": 106,
   "id": "dd1a0a9c",
   "metadata": {},
   "outputs": [
    {
     "data": {
      "image/png": "[encoded data removed]",
      "text/plain": [
       "<Figure size 432x288 with 1 Axes>"
      ]
     },
     "metadata": {
      "needs_background": "light"
     },
     "output_type": "display_data"
    },
    {
     "data": {
      "image/png": "[encoded data removed]",
      "text/plain": [
       "<Figure size 432x288 with 1 Axes>"
      ]
     },
     "metadata": {
      "needs_background": "light"
     },
     "output_type": "display_data"
    },
    {
     "data": {
      "text/plain": [
       "0.6322794356075466"
      ]
     },
     "execution_count": 106,
     "metadata": {},
     "output_type": "execute_result"
    }
   ],
   "source": [
    "# применим ранее написанную функцию к столбцу с общей площадью\n",
    "correlation('total_area')"
   ]
  },
  {
   "cell_type": "markdown",
   "id": "093d056a",
   "metadata": {},
   "source": [
    "Коэффициент корреляции 0.69 говорит о наличии связи между ценой и общей площадью: чем больше площадь, тем выше цена. Это видно и на графиках."
   ]
  },
  {
   "cell_type": "markdown",
   "id": "ec6c90c4",
   "metadata": {},
   "source": [
    "##### Зависимость цены и жилой площади"
   ]
  },
  {
   "cell_type": "code",
   "execution_count": 107,
   "id": "8b150de2",
   "metadata": {},
   "outputs": [
    {
     "data": {
      "image/png": "[encoded data removed]",
      "text/plain": [
       "<Figure size 432x288 with 1 Axes>"
      ]
     },
     "metadata": {
      "needs_background": "light"
     },
     "output_type": "display_data"
    },
    {
     "data": {
      "image/png": "[encoded data removed]",
      "text/plain": [
       "<Figure size 432x288 with 1 Axes>"
      ]
     },
     "metadata": {
      "needs_background": "light"
     },
     "output_type": "display_data"
    },
    {
     "data": {
      "text/plain": [
       "0.5720269305781142"
      ]
     },
     "execution_count": 107,
     "metadata": {},
     "output_type": "execute_result"
    }
   ],
   "source": [
    "# применим ранее написанную функцию к столбцу с жилой площадью\n",
    "correlation('living_area')"
   ]
  },
  {
   "cell_type": "markdown",
   "id": "692bf072",
   "metadata": {},
   "source": [
    "Коэффициент корреляции 0.62 и графики показывают наличие зависимости: чем больше жилая площадь, тем выше цена квартиры."
   ]
  },
  {
   "cell_type": "markdown",
   "id": "0a90a849",
   "metadata": {},
   "source": [
    "##### Зависимость цены и площади кухни"
   ]
  },
  {
   "cell_type": "code",
   "execution_count": 108,
   "id": "7fb76a73",
   "metadata": {},
   "outputs": [
    {
     "data": {
      "image/png": "[encoded data removed]",
      "text/plain": [
       "<Figure size 432x288 with 1 Axes>"
      ]
     },
     "metadata": {
      "needs_background": "light"
     },
     "output_type": "display_data"
    },
    {
     "data": {
      "image/png": "[encoded data removed]",
      "text/plain": [
       "<Figure size 432x288 with 1 Axes>"
      ]
     },
     "metadata": {
      "needs_background": "light"
     },
     "output_type": "display_data"
    },
    {
     "data": {
      "text/plain": [
       "0.5025016938971122"
      ]
     },
     "execution_count": 108,
     "metadata": {},
     "output_type": "execute_result"
    }
   ],
   "source": [
    "# применим ранее написанную функцию к столбцу с площадью кухни\n",
    "correlation('kitchen_area')"
   ]
  },
  {
   "cell_type": "markdown",
   "id": "e5f357e9",
   "metadata": {},
   "source": [
    "Коэффициент корреляции 0.54 и графики показывают наличие линейной зависимости: чем больше площадь кухни, тем выше цена.\n",
    "\n",
    "Мы установили наличие положительной линейной зависимости площади и цены квартиры. Больше всего на цену квартиры влияет общая площадь, меньше — жилая, наименьшее влияние оказывает площадь кухни. Однако связь не слишком сильная даже у общей площади. Это логично, ведь на цену квартиры влияет множество других факторов: район, качество ремонта и так далее."
   ]
  },
  {
   "cell_type": "markdown",
   "id": "afaee73d",
   "metadata": {},
   "source": [
    "##### Зависимость цены и количества комнат"
   ]
  },
  {
   "cell_type": "code",
   "execution_count": 109,
   "id": "dd96dcd1",
   "metadata": {},
   "outputs": [
    {
     "data": {
      "image/png": "[encoded data removed]",
      "text/plain": [
       "<Figure size 432x288 with 1 Axes>"
      ]
     },
     "metadata": {
      "needs_background": "light"
     },
     "output_type": "display_data"
    },
    {
     "data": {
      "image/png": "[encoded data removed]",
      "text/plain": [
       "<Figure size 432x288 with 1 Axes>"
      ]
     },
     "metadata": {
      "needs_background": "light"
     },
     "output_type": "display_data"
    },
    {
     "data": {
      "text/plain": [
       "0.35524698217724177"
      ]
     },
     "execution_count": 109,
     "metadata": {},
     "output_type": "execute_result"
    }
   ],
   "source": [
    "# применим ранее написанную функцию к столбцу с количеством комнат\n",
    "correlation('rooms')"
   ]
  },
  {
   "cell_type": "markdown",
   "id": "5ec131e0",
   "metadata": {},
   "source": [
    "Между количеством комнат и ценой есть слабая линейная зависимость с коэффициентом корреляции 0.39. Чем больше комнат в квартире, тем ее цена выше. При этом связь ожидаемо меньше, чем с площадью."
   ]
  },
  {
   "cell_type": "markdown",
   "id": "3f2e9a48",
   "metadata": {},
   "source": [
    "##### Зависимость цены и типа этажа"
   ]
  },
  {
   "cell_type": "code",
   "execution_count": 110,
   "id": "8ea4d602",
   "metadata": {},
   "outputs": [
    {
     "data": {
      "text/html": [
       "<div>\n",
       "<style scoped>\n",
       "    .dataframe tbody tr th:only-of-type {\n",
       "        vertical-align: middle;\n",
       "    }\n",
       "\n",
       "    .dataframe tbody tr th {\n",
       "        vertical-align: top;\n",
       "    }\n",
       "\n",
       "    .dataframe thead th {\n",
       "        text-align: right;\n",
       "    }\n",
       "</style>\n",
       "<table border=\"1\" class=\"dataframe\">\n",
       "  <thead>\n",
       "    <tr style=\"text-align: right;\">\n",
       "      <th></th>\n",
       "      <th>Тип этажа</th>\n",
       "      <th>Кол-во квартир</th>\n",
       "      <th>Медианная цена</th>\n",
       "    </tr>\n",
       "  </thead>\n",
       "  <tbody>\n",
       "    <tr>\n",
       "      <th>0</th>\n",
       "      <td>другой</td>\n",
       "      <td>17169</td>\n",
       "      <td>4850000.0</td>\n",
       "    </tr>\n",
       "    <tr>\n",
       "      <th>1</th>\n",
       "      <td>первый</td>\n",
       "      <td>2872</td>\n",
       "      <td>3900000.0</td>\n",
       "    </tr>\n",
       "    <tr>\n",
       "      <th>2</th>\n",
       "      <td>последний</td>\n",
       "      <td>3276</td>\n",
       "      <td>4300000.0</td>\n",
       "    </tr>\n",
       "  </tbody>\n",
       "</table>\n",
       "</div>"
      ],
      "text/plain": [
       "   Тип этажа  Кол-во квартир  Медианная цена\n",
       "0     другой           17169       4850000.0\n",
       "1     первый            2872       3900000.0\n",
       "2  последний            3276       4300000.0"
      ]
     },
     "execution_count": 110,
     "metadata": {},
     "output_type": "execute_result"
    }
   ],
   "source": [
    "# выведем сводную таблицу для цены по типам этажа \n",
    "pivot_floor = data.pivot_table(index='floor_category', values='last_price', aggfunc = ['count', 'median']).reset_index()\n",
    "pivot_floor.columns=['Тип этажа', 'Кол-во квартир', 'Медианная цена']\n",
    "pivot_floor"
   ]
  },
  {
   "cell_type": "markdown",
   "id": "725428c2",
   "metadata": {},
   "source": [
    "Нужно учитывать, что доля квартир на первом или последнем этаже вместе взятых меньше, чем на других этажах."
   ]
  },
  {
   "cell_type": "code",
   "execution_count": 111,
   "id": "deeb3723",
   "metadata": {
    "scrolled": false
   },
   "outputs": [
    {
     "data": {
      "text/plain": [
       "<AxesSubplot:xlabel='Тип этажа'>"
      ]
     },
     "execution_count": 111,
     "metadata": {},
     "output_type": "execute_result"
    },
    {
     "data": {
      "image/png": "[encoded data removed]",
      "text/plain": [
       "<Figure size 432x288 with 1 Axes>"
      ]
     },
     "metadata": {
      "needs_background": "light"
     },
     "output_type": "display_data"
    }
   ],
   "source": [
    "# построим столбчатую диаграмму для наглянности\n",
    "pivot_floor.plot(x='Тип этажа', y='Медианная цена', kind='bar')"
   ]
  },
  {
   "cell_type": "markdown",
   "id": "220731c4",
   "metadata": {},
   "source": [
    "Квартиры на первом этаже стоят приблизительно на 20% меньше, чем квартиры на другом этаже. Менее значительная разница с последним этажом. Ожидаемо, квартиры на другом этаже стоят больше, чем на первом или последнем.\n",
    "\n",
    "Нахождение на типе этажа \"другой\" может быть принято за базовое референсное значение, в то время как нахождение на первом или последнем этаже имеет определенную специфику, влияющую на цену квартиры. Так, сравнивая разницы в медианной цене относительно типа этажа \"другой\", нахождение квартиры на первом этаже можно рассматривать как более весомый фактор влияния на цену, чем если она находится на последнем этаже."
   ]
  },
  {
   "cell_type": "markdown",
   "id": "cdc42170",
   "metadata": {},
   "source": [
    "##### Зависимость цены и даты размещения"
   ]
  },
  {
   "cell_type": "code",
   "execution_count": 112,
   "id": "cbdf57fa",
   "metadata": {},
   "outputs": [
    {
     "data": {
      "text/html": [
       "<div>\n",
       "<style scoped>\n",
       "    .dataframe tbody tr th:only-of-type {\n",
       "        vertical-align: middle;\n",
       "    }\n",
       "\n",
       "    .dataframe tbody tr th {\n",
       "        vertical-align: top;\n",
       "    }\n",
       "\n",
       "    .dataframe thead th {\n",
       "        text-align: right;\n",
       "    }\n",
       "</style>\n",
       "<table border=\"1\" class=\"dataframe\">\n",
       "  <thead>\n",
       "    <tr style=\"text-align: right;\">\n",
       "      <th></th>\n",
       "      <th>День недели</th>\n",
       "      <th>Кол-во квартир</th>\n",
       "      <th>Медианная цена</th>\n",
       "    </tr>\n",
       "  </thead>\n",
       "  <tbody>\n",
       "    <tr>\n",
       "      <th>4</th>\n",
       "      <td>4</td>\n",
       "      <td>3947</td>\n",
       "      <td>4550000.0</td>\n",
       "    </tr>\n",
       "    <tr>\n",
       "      <th>5</th>\n",
       "      <td>5</td>\n",
       "      <td>1894</td>\n",
       "      <td>4550000.0</td>\n",
       "    </tr>\n",
       "    <tr>\n",
       "      <th>6</th>\n",
       "      <td>6</td>\n",
       "      <td>1661</td>\n",
       "      <td>4550000.0</td>\n",
       "    </tr>\n",
       "    <tr>\n",
       "      <th>0</th>\n",
       "      <td>0</td>\n",
       "      <td>3555</td>\n",
       "      <td>4650000.0</td>\n",
       "    </tr>\n",
       "    <tr>\n",
       "      <th>3</th>\n",
       "      <td>3</td>\n",
       "      <td>4231</td>\n",
       "      <td>4650000.0</td>\n",
       "    </tr>\n",
       "    <tr>\n",
       "      <th>2</th>\n",
       "      <td>2</td>\n",
       "      <td>3911</td>\n",
       "      <td>4700000.0</td>\n",
       "    </tr>\n",
       "    <tr>\n",
       "      <th>1</th>\n",
       "      <td>1</td>\n",
       "      <td>4118</td>\n",
       "      <td>4704595.0</td>\n",
       "    </tr>\n",
       "  </tbody>\n",
       "</table>\n",
       "</div>"
      ],
      "text/plain": [
       "   День недели  Кол-во квартир  Медианная цена\n",
       "4            4            3947       4550000.0\n",
       "5            5            1894       4550000.0\n",
       "6            6            1661       4550000.0\n",
       "0            0            3555       4650000.0\n",
       "3            3            4231       4650000.0\n",
       "2            2            3911       4700000.0\n",
       "1            1            4118       4704595.0"
      ]
     },
     "execution_count": 112,
     "metadata": {},
     "output_type": "execute_result"
    }
   ],
   "source": [
    "# выведем сводную таблицу для цены по дням недели размещения объявления \n",
    "pivot_weekday = data.pivot_table(index='weekday', values='last_price', aggfunc = ['count', 'median']).reset_index()\n",
    "pivot_weekday.columns=['День недели', 'Кол-во квартир', 'Медианная цена']\n",
    "pivot_weekday.sort_values(by='Медианная цена')"
   ]
  },
  {
   "cell_type": "code",
   "execution_count": 113,
   "id": "6fb3f87b",
   "metadata": {},
   "outputs": [
    {
     "data": {
      "text/plain": [
       "<AxesSubplot:xlabel='weekday'>"
      ]
     },
     "execution_count": 113,
     "metadata": {},
     "output_type": "execute_result"
    },
    {
     "data": {
      "image/png": "[encoded data removed]",
      "text/plain": [
       "<Figure size 432x288 with 1 Axes>"
      ]
     },
     "metadata": {
      "needs_background": "light"
     },
     "output_type": "display_data"
    }
   ],
   "source": [
    "# построим график для наглянности\n",
    "data.groupby('weekday')['last_price'].median().plot()"
   ]
  },
  {
   "cell_type": "markdown",
   "id": "8a991b39",
   "metadata": {},
   "source": [
    "Разница между минимальным и максимальным медианным значением цены по дням недели незначительна: 4.6 млн и 4.7 млн рублей. Также, как мы выяснили выше и как видно из сводной таблицы, в выходные дни было размещено меньше объявлений, чем в будние дни. Так, исходя из имеющихся данных можно сделать вывод об отсутствии связи между днем недели размещения объявления и ценой квартиры."
   ]
  },
  {
   "cell_type": "code",
   "execution_count": 114,
   "id": "09689ead",
   "metadata": {},
   "outputs": [
    {
     "data": {
      "text/html": [
       "<div>\n",
       "<style scoped>\n",
       "    .dataframe tbody tr th:only-of-type {\n",
       "        vertical-align: middle;\n",
       "    }\n",
       "\n",
       "    .dataframe tbody tr th {\n",
       "        vertical-align: top;\n",
       "    }\n",
       "\n",
       "    .dataframe thead th {\n",
       "        text-align: right;\n",
       "    }\n",
       "</style>\n",
       "<table border=\"1\" class=\"dataframe\">\n",
       "  <thead>\n",
       "    <tr style=\"text-align: right;\">\n",
       "      <th></th>\n",
       "      <th>Месяц</th>\n",
       "      <th>Кол-во квартир</th>\n",
       "      <th>Медианная цена</th>\n",
       "    </tr>\n",
       "  </thead>\n",
       "  <tbody>\n",
       "    <tr>\n",
       "      <th>5</th>\n",
       "      <td>6</td>\n",
       "      <td>1727</td>\n",
       "      <td>4400000.0</td>\n",
       "    </tr>\n",
       "    <tr>\n",
       "      <th>4</th>\n",
       "      <td>5</td>\n",
       "      <td>1244</td>\n",
       "      <td>4515000.0</td>\n",
       "    </tr>\n",
       "    <tr>\n",
       "      <th>9</th>\n",
       "      <td>10</td>\n",
       "      <td>2088</td>\n",
       "      <td>4570000.0</td>\n",
       "    </tr>\n",
       "    <tr>\n",
       "      <th>7</th>\n",
       "      <td>8</td>\n",
       "      <td>1722</td>\n",
       "      <td>4580000.0</td>\n",
       "    </tr>\n",
       "    <tr>\n",
       "      <th>0</th>\n",
       "      <td>1</td>\n",
       "      <td>1475</td>\n",
       "      <td>4600000.0</td>\n",
       "    </tr>\n",
       "    <tr>\n",
       "      <th>6</th>\n",
       "      <td>7</td>\n",
       "      <td>1663</td>\n",
       "      <td>4600000.0</td>\n",
       "    </tr>\n",
       "    <tr>\n",
       "      <th>1</th>\n",
       "      <td>2</td>\n",
       "      <td>2609</td>\n",
       "      <td>4650000.0</td>\n",
       "    </tr>\n",
       "    <tr>\n",
       "      <th>2</th>\n",
       "      <td>3</td>\n",
       "      <td>2544</td>\n",
       "      <td>4650000.0</td>\n",
       "    </tr>\n",
       "    <tr>\n",
       "      <th>11</th>\n",
       "      <td>12</td>\n",
       "      <td>1617</td>\n",
       "      <td>4690000.0</td>\n",
       "    </tr>\n",
       "    <tr>\n",
       "      <th>8</th>\n",
       "      <td>9</td>\n",
       "      <td>1954</td>\n",
       "      <td>4700000.0</td>\n",
       "    </tr>\n",
       "    <tr>\n",
       "      <th>10</th>\n",
       "      <td>11</td>\n",
       "      <td>2338</td>\n",
       "      <td>4700000.0</td>\n",
       "    </tr>\n",
       "    <tr>\n",
       "      <th>3</th>\n",
       "      <td>4</td>\n",
       "      <td>2336</td>\n",
       "      <td>4800000.0</td>\n",
       "    </tr>\n",
       "  </tbody>\n",
       "</table>\n",
       "</div>"
      ],
      "text/plain": [
       "    Месяц  Кол-во квартир  Медианная цена\n",
       "5       6            1727       4400000.0\n",
       "4       5            1244       4515000.0\n",
       "9      10            2088       4570000.0\n",
       "7       8            1722       4580000.0\n",
       "0       1            1475       4600000.0\n",
       "6       7            1663       4600000.0\n",
       "1       2            2609       4650000.0\n",
       "2       3            2544       4650000.0\n",
       "11     12            1617       4690000.0\n",
       "8       9            1954       4700000.0\n",
       "10     11            2338       4700000.0\n",
       "3       4            2336       4800000.0"
      ]
     },
     "execution_count": 114,
     "metadata": {},
     "output_type": "execute_result"
    }
   ],
   "source": [
    "# выведем сводную таблицу для цены по месяцу размещения объявления \n",
    "pivot_month = data.pivot_table(index='month', values='last_price', aggfunc = ['count', 'median']).reset_index()\n",
    "pivot_month.columns=['Месяц', 'Кол-во квартир', 'Медианная цена']\n",
    "pivot_month.sort_values(by='Медианная цена')"
   ]
  },
  {
   "cell_type": "code",
   "execution_count": 115,
   "id": "dfed2d83",
   "metadata": {},
   "outputs": [
    {
     "data": {
      "text/plain": [
       "<AxesSubplot:xlabel='month'>"
      ]
     },
     "execution_count": 115,
     "metadata": {},
     "output_type": "execute_result"
    },
    {
     "data": {
      "image/png": "[encoded data removed]",
      "text/plain": [
       "<Figure size 432x288 with 1 Axes>"
      ]
     },
     "metadata": {
      "needs_background": "light"
     },
     "output_type": "display_data"
    }
   ],
   "source": [
    "# построим график для наглянности\n",
    "data.groupby('month')['last_price'].median().plot()"
   ]
  },
  {
   "cell_type": "markdown",
   "id": "30f8197e",
   "metadata": {},
   "source": [
    "Как и в случае с днями недели размещения объявлений, разница минимальной (июнь) и максимальной (апрель) медианной ценой по месяцам незначительна в масштабах рынка недвижимости — приблизительно 400 тыс. рублей, при этом логика сезонной зависимости из графика не прослеживается. Так, исходя из имеющихся данных можно сделать вывод об отсутствии связи между месяцем размещения объявления и ценой квартиры."
   ]
  },
  {
   "cell_type": "code",
   "execution_count": 116,
   "id": "e985ae23",
   "metadata": {},
   "outputs": [
    {
     "data": {
      "text/html": [
       "<div>\n",
       "<style scoped>\n",
       "    .dataframe tbody tr th:only-of-type {\n",
       "        vertical-align: middle;\n",
       "    }\n",
       "\n",
       "    .dataframe tbody tr th {\n",
       "        vertical-align: top;\n",
       "    }\n",
       "\n",
       "    .dataframe thead th {\n",
       "        text-align: right;\n",
       "    }\n",
       "</style>\n",
       "<table border=\"1\" class=\"dataframe\">\n",
       "  <thead>\n",
       "    <tr style=\"text-align: right;\">\n",
       "      <th></th>\n",
       "      <th>Год</th>\n",
       "      <th>Кол-во квартир</th>\n",
       "      <th>Медианная цена</th>\n",
       "    </tr>\n",
       "  </thead>\n",
       "  <tbody>\n",
       "    <tr>\n",
       "      <th>3</th>\n",
       "      <td>2017</td>\n",
       "      <td>8086</td>\n",
       "      <td>4500000.0</td>\n",
       "    </tr>\n",
       "    <tr>\n",
       "      <th>2</th>\n",
       "      <td>2016</td>\n",
       "      <td>2716</td>\n",
       "      <td>4550000.0</td>\n",
       "    </tr>\n",
       "    <tr>\n",
       "      <th>4</th>\n",
       "      <td>2018</td>\n",
       "      <td>8387</td>\n",
       "      <td>4570000.0</td>\n",
       "    </tr>\n",
       "    <tr>\n",
       "      <th>5</th>\n",
       "      <td>2019</td>\n",
       "      <td>2838</td>\n",
       "      <td>5050000.0</td>\n",
       "    </tr>\n",
       "    <tr>\n",
       "      <th>1</th>\n",
       "      <td>2015</td>\n",
       "      <td>1159</td>\n",
       "      <td>5300000.0</td>\n",
       "    </tr>\n",
       "    <tr>\n",
       "      <th>0</th>\n",
       "      <td>2014</td>\n",
       "      <td>131</td>\n",
       "      <td>8037000.0</td>\n",
       "    </tr>\n",
       "  </tbody>\n",
       "</table>\n",
       "</div>"
      ],
      "text/plain": [
       "    Год  Кол-во квартир  Медианная цена\n",
       "3  2017            8086       4500000.0\n",
       "2  2016            2716       4550000.0\n",
       "4  2018            8387       4570000.0\n",
       "5  2019            2838       5050000.0\n",
       "1  2015            1159       5300000.0\n",
       "0  2014             131       8037000.0"
      ]
     },
     "execution_count": 116,
     "metadata": {},
     "output_type": "execute_result"
    }
   ],
   "source": [
    "# выведем сводную таблицу для цены по году размещения объявления \n",
    "pivot_year = data.pivot_table(index='year', values='last_price', aggfunc = ['count', 'median']).reset_index()\n",
    "pivot_year.columns=['Год', 'Кол-во квартир', 'Медианная цена']\n",
    "pivot_year.sort_values(by='Медианная цена')"
   ]
  },
  {
   "cell_type": "markdown",
   "id": "16c95120",
   "metadata": {},
   "source": [
    "Стоит учесть, что доля размещенных в 2014 году объявлений в датасете невелика. Построим график, чтобы увидеть общую тенденцию."
   ]
  },
  {
   "cell_type": "code",
   "execution_count": 117,
   "id": "c38857e7",
   "metadata": {},
   "outputs": [
    {
     "data": {
      "text/plain": [
       "<AxesSubplot:xlabel='year'>"
      ]
     },
     "execution_count": 117,
     "metadata": {},
     "output_type": "execute_result"
    },
    {
     "data": {
      "image/png": "[encoded data removed]",
      "text/plain": [
       "<Figure size 432x288 with 1 Axes>"
      ]
     },
     "metadata": {
      "needs_background": "light"
     },
     "output_type": "display_data"
    }
   ],
   "source": [
    "# построим график для наглянности\n",
    "data.groupby('year')['last_price'].median().plot()"
   ]
  },
  {
   "cell_type": "markdown",
   "id": "1c59b41a",
   "metadata": {},
   "source": [
    "Несмотря на то, что данных для 2014 года недостаточно, мы видим общий тренд на снижение цены, продолжающийся до 2017 года. К 2015 году медианная цена упала более чем на 2 млн, к 2016 еще на 1 млн. С 2017 года медианная цена начала медленно расти, но к 2019 году едва достигла цены 2015. Таким образом, мы можем сделать вывод, что цена зависит от года размещения и связана с состоянием рынка недвижимости и общей экономической обстановкой."
   ]
  },
  {
   "cell_type": "markdown",
   "id": "21753fc0",
   "metadata": {},
   "source": [
    "##### Выводы о факторах, влияющих на формирование цены"
   ]
  },
  {
   "cell_type": "markdown",
   "id": "11a1c25a",
   "metadata": {},
   "source": [
    "Была изучена зависимость цены от общей и жилой площади, площади кухни, количества комнат, типа этажа и даты размещения.\n",
    "\n",
    "Выявлена линейная зависимость цены квартиры и ее площади: чем больше площадь, тем выше цена. Наиболее сильная зависимость от общей площади с коэффициентом корреляции 0.69, менее сильная связь с жилой площади с коэффициентом 0.62, площадь кухни влияет меньше всего: коэффициент корреляции 0.54. Еще меньше на цену влияет количество комнат: коэффициент корреляции 0.39.\n",
    "\n",
    "Было выяснено, что расположение квартиры на первом и последнем этаже уменьшают ее стоимость. При этом больше снижает цену расположение на первом этаже (≃20% относительно других этажей), чем на последнем (≃10% относительно других этажей).\n",
    "\n",
    "При изучении даты размещения объявления было выявлено влияние года размещения: цены на квартиры падали с 2014 года и стали расти с 2017. Однако к 2019 году едва достигли показателей 2015. Не удалось выявить наличие связи цены с днем недели и месяцем размещения объявления."
   ]
  },
  {
   "cell_type": "markdown",
   "id": "67fcdea6",
   "metadata": {},
   "source": [
    "#### Исследование средней цены по населенным пунктам"
   ]
  },
  {
   "cell_type": "markdown",
   "id": "c0e2cbec",
   "metadata": {},
   "source": [
    "Посчитаем среднюю цену одного квадратного метра в 10 населённых пунктах с наибольшим числом объявлений и выделим населённые пункты с самой высокой и низкой стоимостью квадратного метра."
   ]
  },
  {
   "cell_type": "code",
   "execution_count": 118,
   "id": "c2d0481d",
   "metadata": {},
   "outputs": [
    {
     "data": {
      "text/html": [
       "<div>\n",
       "<style scoped>\n",
       "    .dataframe tbody tr th:only-of-type {\n",
       "        vertical-align: middle;\n",
       "    }\n",
       "\n",
       "    .dataframe tbody tr th {\n",
       "        vertical-align: top;\n",
       "    }\n",
       "\n",
       "    .dataframe thead th {\n",
       "        text-align: right;\n",
       "    }\n",
       "</style>\n",
       "<table border=\"1\" class=\"dataframe\">\n",
       "  <thead>\n",
       "    <tr style=\"text-align: right;\">\n",
       "      <th></th>\n",
       "      <th>Населенный пункт</th>\n",
       "      <th>Кол-во объявлений</th>\n",
       "      <th>Средняя цена кв.м</th>\n",
       "    </tr>\n",
       "  </thead>\n",
       "  <tbody>\n",
       "    <tr>\n",
       "      <th>224</th>\n",
       "      <td>санкт-петербург</td>\n",
       "      <td>15496</td>\n",
       "      <td>114578.948116</td>\n",
       "    </tr>\n",
       "    <tr>\n",
       "      <th>151</th>\n",
       "      <td>мурино</td>\n",
       "      <td>573</td>\n",
       "      <td>85801.052356</td>\n",
       "    </tr>\n",
       "    <tr>\n",
       "      <th>109</th>\n",
       "      <td>кудрово</td>\n",
       "      <td>464</td>\n",
       "      <td>95226.801724</td>\n",
       "    </tr>\n",
       "    <tr>\n",
       "      <th>298</th>\n",
       "      <td>шушары</td>\n",
       "      <td>437</td>\n",
       "      <td>78483.691076</td>\n",
       "    </tr>\n",
       "    <tr>\n",
       "      <th>35</th>\n",
       "      <td>всеволожск</td>\n",
       "      <td>389</td>\n",
       "      <td>68648.676093</td>\n",
       "    </tr>\n",
       "    <tr>\n",
       "      <th>203</th>\n",
       "      <td>пушкин</td>\n",
       "      <td>368</td>\n",
       "      <td>103179.959239</td>\n",
       "    </tr>\n",
       "    <tr>\n",
       "      <th>92</th>\n",
       "      <td>колпино</td>\n",
       "      <td>337</td>\n",
       "      <td>75480.118694</td>\n",
       "    </tr>\n",
       "    <tr>\n",
       "      <th>176</th>\n",
       "      <td>парголово</td>\n",
       "      <td>326</td>\n",
       "      <td>90134.650307</td>\n",
       "    </tr>\n",
       "    <tr>\n",
       "      <th>43</th>\n",
       "      <td>гатчина</td>\n",
       "      <td>303</td>\n",
       "      <td>68624.689769</td>\n",
       "    </tr>\n",
       "    <tr>\n",
       "      <th>36</th>\n",
       "      <td>выборг</td>\n",
       "      <td>232</td>\n",
       "      <td>58402.168103</td>\n",
       "    </tr>\n",
       "  </tbody>\n",
       "</table>\n",
       "</div>"
      ],
      "text/plain": [
       "    Населенный пункт  Кол-во объявлений  Средняя цена кв.м\n",
       "224  санкт-петербург              15496      114578.948116\n",
       "151           мурино                573       85801.052356\n",
       "109          кудрово                464       95226.801724\n",
       "298           шушары                437       78483.691076\n",
       "35        всеволожск                389       68648.676093\n",
       "203           пушкин                368      103179.959239\n",
       "92           колпино                337       75480.118694\n",
       "176        парголово                326       90134.650307\n",
       "43           гатчина                303       68624.689769\n",
       "36            выборг                232       58402.168103"
      ]
     },
     "execution_count": 118,
     "metadata": {},
     "output_type": "execute_result"
    }
   ],
   "source": [
    "# выведем сводную таблицу по населенным пунктам, где посчитаем количество объявлений и среднюю цену квадратного метра\n",
    "top_locality = data.pivot_table(index='locality_name', values='price_per_square', aggfunc=['count', 'mean']).reset_index()\n",
    "top_locality.columns=['Населенный пункт', 'Кол-во объявлений', 'Средняя цена кв.м']\n",
    "# оставим 10 населенных пунктов с наибольшим количеством объявлений \n",
    "top_locality = top_locality.sort_values(by='Кол-во объявлений', ascending=False).head(10)\n",
    "top_locality"
   ]
  },
  {
   "cell_type": "code",
   "execution_count": 119,
   "id": "823a98f8",
   "metadata": {},
   "outputs": [
    {
     "data": {
      "text/html": [
       "<div>\n",
       "<style scoped>\n",
       "    .dataframe tbody tr th:only-of-type {\n",
       "        vertical-align: middle;\n",
       "    }\n",
       "\n",
       "    .dataframe tbody tr th {\n",
       "        vertical-align: top;\n",
       "    }\n",
       "\n",
       "    .dataframe thead th {\n",
       "        text-align: right;\n",
       "    }\n",
       "</style>\n",
       "<table border=\"1\" class=\"dataframe\">\n",
       "  <thead>\n",
       "    <tr style=\"text-align: right;\">\n",
       "      <th></th>\n",
       "      <th>Населенный пункт</th>\n",
       "      <th>Кол-во объявлений</th>\n",
       "      <th>Средняя цена кв.м</th>\n",
       "    </tr>\n",
       "  </thead>\n",
       "  <tbody>\n",
       "    <tr>\n",
       "      <th>224</th>\n",
       "      <td>санкт-петербург</td>\n",
       "      <td>15496</td>\n",
       "      <td>114578.948116</td>\n",
       "    </tr>\n",
       "  </tbody>\n",
       "</table>\n",
       "</div>"
      ],
      "text/plain": [
       "    Населенный пункт  Кол-во объявлений  Средняя цена кв.м\n",
       "224  санкт-петербург              15496      114578.948116"
      ]
     },
     "execution_count": 119,
     "metadata": {},
     "output_type": "execute_result"
    }
   ],
   "source": [
    "# выберем строку с максимальной средней ценой \n",
    "top_locality[top_locality['Средняя цена кв.м'] == top_locality['Средняя цена кв.м'].max()]"
   ]
  },
  {
   "cell_type": "code",
   "execution_count": 120,
   "id": "a2246e28",
   "metadata": {},
   "outputs": [
    {
     "data": {
      "text/html": [
       "<div>\n",
       "<style scoped>\n",
       "    .dataframe tbody tr th:only-of-type {\n",
       "        vertical-align: middle;\n",
       "    }\n",
       "\n",
       "    .dataframe tbody tr th {\n",
       "        vertical-align: top;\n",
       "    }\n",
       "\n",
       "    .dataframe thead th {\n",
       "        text-align: right;\n",
       "    }\n",
       "</style>\n",
       "<table border=\"1\" class=\"dataframe\">\n",
       "  <thead>\n",
       "    <tr style=\"text-align: right;\">\n",
       "      <th></th>\n",
       "      <th>Населенный пункт</th>\n",
       "      <th>Кол-во объявлений</th>\n",
       "      <th>Средняя цена кв.м</th>\n",
       "    </tr>\n",
       "  </thead>\n",
       "  <tbody>\n",
       "    <tr>\n",
       "      <th>36</th>\n",
       "      <td>выборг</td>\n",
       "      <td>232</td>\n",
       "      <td>58402.168103</td>\n",
       "    </tr>\n",
       "  </tbody>\n",
       "</table>\n",
       "</div>"
      ],
      "text/plain": [
       "   Населенный пункт  Кол-во объявлений  Средняя цена кв.м\n",
       "36           выборг                232       58402.168103"
      ]
     },
     "execution_count": 120,
     "metadata": {},
     "output_type": "execute_result"
    }
   ],
   "source": [
    "# выберем строку с минимальной средней ценой \n",
    "top_locality[top_locality['Средняя цена кв.м'] == top_locality['Средняя цена кв.м'].min()]"
   ]
  },
  {
   "cell_type": "code",
   "execution_count": 121,
   "id": "0f35835a",
   "metadata": {
    "scrolled": false
   },
   "outputs": [
    {
     "data": {
      "text/plain": [
       "<AxesSubplot:xlabel='Населенный пункт'>"
      ]
     },
     "execution_count": 121,
     "metadata": {},
     "output_type": "execute_result"
    },
    {
     "data": {
      "image/png": "[encoded data removed]",
      "text/plain": [
       "<Figure size 432x288 with 1 Axes>"
      ]
     },
     "metadata": {
      "needs_background": "light"
     },
     "output_type": "display_data"
    }
   ],
   "source": [
    "top_locality.sort_values(by='Средняя цена кв.м', ascending=False).plot(x='Населенный пункт', y='Средняя цена кв.м', kind='bar')"
   ]
  },
  {
   "cell_type": "markdown",
   "id": "0475b364",
   "metadata": {},
   "source": [
    "Из 10 населенных пунктов с наибольшим количеством объявлений самая высокая средняя стоимость квадратного метра — в Санкт-Петербурге (≃ 115 тыс. рублей), самая низкая — в Выборге (≃ 58 тыс. рублей)."
   ]
  },
  {
   "cell_type": "markdown",
   "id": "9794a031",
   "metadata": {},
   "source": [
    "#### Исследование расстояния до центра города (Санкт-Петербург)"
   ]
  },
  {
   "cell_type": "markdown",
   "id": "d62ebc9a",
   "metadata": {},
   "source": [
    "Изучим как стоимость квартиры зависит от расстояния до центра города."
   ]
  },
  {
   "cell_type": "code",
   "execution_count": 122,
   "id": "86a40007",
   "metadata": {},
   "outputs": [
    {
     "data": {
      "text/plain": [
       "<AxesSubplot:xlabel='city_centers_nearest'>"
      ]
     },
     "execution_count": 122,
     "metadata": {},
     "output_type": "execute_result"
    },
    {
     "data": {
      "image/png": "[encoded data removed]",
      "text/plain": [
       "<Figure size 432x288 with 1 Axes>"
      ]
     },
     "metadata": {
      "needs_background": "light"
     },
     "output_type": "display_data"
    }
   ],
   "source": [
    "# выберем данные по цене и расстоянию до центра города для Санкт-Петербурга\n",
    "spb = data.loc[(data['locality_name']=='санкт-петербург') & ~(data['city_centers_nearest'].isna()), ('last_price','city_centers_nearest')]\n",
    "\n",
    "# округлим расстояние до центра до километров и переведем в целочисленный тип\n",
    "spb['city_centers_nearest'] /= 1000\n",
    "spb['city_centers_nearest'] = spb['city_centers_nearest'].astype('int')\n",
    "# для удобства отобразим цену в миллионах\n",
    "spb['last_price'] /=1000000\n",
    "\n",
    "# посчитаем цену каждого километра и построим график\n",
    "spb.groupby('city_centers_nearest')['last_price'].mean().plot()"
   ]
  },
  {
   "cell_type": "markdown",
   "id": "1485012a",
   "metadata": {},
   "source": [
    "График показывает общую тенденцию: чем ближе квартира к центру городу, тем выше ее стоимость. Квартиры в самом центре (0 км) в среднем стоят 22-23 млн рублей, дальше мы наблюдаем резкое снижение средней цены. Небольшое повышение стоимости квартир в радиусе 8 км от центра может быть связано с застройкой более новых районов (где меньше старого фонда) жилыми комплексами комфорт класса или удобной транспортной доступностью. Дальше мы видим продолжение тренда, средняя цена снижается до приблизительно 6 млн к 10 километру и далее снижение замедляется. Колебания на 20 и 27 км могут быть также связаны с застройкой новыми комплексами высокого класса."
   ]
  },
  {
   "cell_type": "markdown",
   "id": "7169a9b5",
   "metadata": {},
   "source": [
    "### Общий вывод"
   ]
  },
  {
   "cell_type": "markdown",
   "id": "8d419932",
   "metadata": {},
   "source": [
    "Была выполнена предобработка данных: мы избавились от неявных дубликатов, обработали пропуски и привели типы данных к нужным, обработали аномальные значения и добавили необходимые столбцы.\n",
    "\n",
    "В результате одномерного анализа было выявлено: \n",
    "\n",
    "**Общая площадь**. Типичное значение площади — 52 кв. м (медиана). Чаще всего встречаются квартиры общей площадью **40-70 кв. м**. Нормальный диапазон значений включает 20-120 кв. м, но достаточно плотно сгруппированы и выбросы — квартиры от 120 до 350 кв. м. Это нормально для Санкт-Петербурга: присутствует жилье с большой площадью в историческом центре, а также в отдельных районах (например, Крестовский остров, Петроградская сторона и т.д.) — премиум класса. Следует учесть квартиры с очень маленькой площадью (до 20 кв.м), которые также характерны для города: бывшие коммунальные квартиры (квартиры старого фонда) переделывают в несколько малометражных студий. \n",
    "\n",
    "**Жилая площадь и площадь кухни.** Чаще всего встречаются квартиры с жилой площадью **19-42 кв. м** и площадью кухни **7-12 кв. м**, однако встречаются квартиры с кухней до 1.3 м — такое маленькое значение площади кухни встречается в студиях. \n",
    "\n",
    "**Цена на момент снятия с публикации**. Средняя цена квартиры — 6.5 млн, медианная — 4.7 млн руб, поскольку встречаются очень дорогие квартиры до 763 млн. руб. Несмотря на то, что они отражены как выбросы, нам стоит их учитывать: это сегмент дорого жилья в Санкт-Петербурге. Чаще всего квартиры стоят **от 3.5 млн рублей до 6.8 млн рублей**, однако плотно сгруппированы выбросы до 10 млн (такие значения встречаются достаточно часто). \n",
    "\n",
    "**Высота потолков**. Чаще всего встречаются потолки **2.55-2.75 м**. Нормальный диапазон значений — 2.4-3 м, однако часто встречаются квартиры с потолками до 4 м: скорее всего это старый фонд в историческом центре Санкт-Петербурга. \n",
    "\n",
    "**Этажи**. Чаще всего встречаются квартиры на 2-9 этажах, нормальный диапазон — **1-16 этаж**, что совпадает с показателями по общему количеству этажей в доме (пятиэтажки, девятиэтажно, шестнадцатиэтажки, однако встречаются высокие дома до 36 этажей). Квартиры на первом и последнем этаже встречаются реже, чем на категории этажа «другой». \n",
    "\n",
    "**Расстояние до центра.** Данные собирались приблизительно в диапазоне до 65 км. Чаще всего встречаются квартиры, находящиеся в радиусе от **10 до 17 км** от центра (квартиры в пределах Санкт-Петербурга). \n",
    "\n",
    "**Расстояние до аэропорта.** Чаще всего квартиры находятся на расстоянии **18-37 км** до аэропорта. \n",
    "\n",
    "**Расстояние до парка.** Данные собирались приблизительно до 3 км. Большинство квартир имеют парк в шаровой доступности: в **300-612 метрах**.\n",
    "\n",
    "**Дата публикации объявлений**.  На выходных размещается в два раза меньше объявлений, чем в будние дни. Присутствует сезонность: больше объявлений размещается в феврале-марте-апреле, когда уже прошли новогодние праздники и еще не начались майские. Летом размещается мало объявлений, люди отдыхают и занимаются отпуском. Количество объявлений растет к ноябрю, однако падает в декабре (конец года и приближающиеся праздники). \n",
    "\n",
    "**Время продажи квартир**. Большинство квартир продается за **45-232 дня**. Однако есть очень быстрые продажи (до 1 месяца) и очень медленные (от полутора лет). \n",
    "\n",
    "**Какие факторы влияют на цену квартиры?** Наибольшая зависимость от общей площади: чем она выше, тем дороже квартира. Однако коэффициент корреляции 0.69 говорит о том, что на цену квартиры влияет множество других факторов (район, ремонт и т.д.). Меньше зависимость от площади кухни, жилой площади и количества комнат. Квартиры на первом и последнем этаже стоят дешевле квартир на других этажах, причем нахождение на первом этаже сильнее удешевляет квартиру. На цену также влияет общее положение в экономике и на рынке недвижимости: так, приблизительно в 2014-2017 году наблюдался провал в ценах на квартиры, а в 2017 году началось плавное повышение. \n",
    "\n",
    "**Средняя цена квадратного метра**. Из 10 населенных пунктов с наибольшим количеством объявлений самая высокая средняя стоимость квадратного метра — в Санкт-Петербурге (≃ 115 тыс. рублей), самая низкая — в Выборге (≃ 58 тыс. рублей). Так, населенный пункт влияет на цену квартиры. \n",
    "\n",
    "**На цену квартиры также влияет расстояние до конца города**: квартиры в центре стоят в среднем 22.5 млн рублей, в то время как квартиры в 10 км стоят уже значительно меньше, в среднем 7 млн рублей. "
   ]
  }
 ],
 "metadata": {
  "kernelspec": {
   "display_name": "Python 3 (ipykernel)",
   "language": "python",
   "name": "python3"
  },
  "language_info": {
   "codemirror_mode": {
    "name": "ipython",
    "version": 3
   },
   "file_extension": ".py",
   "mimetype": "text/x-python",
   "name": "python",
   "nbconvert_exporter": "python",
   "pygments_lexer": "ipython3",
   "version": "3.9.12"
  }
 },
 "nbformat": 4,
 "nbformat_minor": 5
}
