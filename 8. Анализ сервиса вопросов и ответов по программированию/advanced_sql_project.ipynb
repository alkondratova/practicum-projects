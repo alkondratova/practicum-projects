{
 "cells": [
  {
   "cell_type": "markdown",
   "id": "4707055f",
   "metadata": {},
   "source": [
    "# Анализ сервиса вопросов и ответов по программированию"
   ]
  },
  {
   "cell_type": "markdown",
   "id": "303da4ed",
   "metadata": {},
   "source": [
    "### Описание проекта"
   ]
  },
  {
   "cell_type": "markdown",
   "id": "0aaccae7",
   "metadata": {},
   "source": [
    "Проект выполнен на основе базы данных StackOverflow — сервиса вопросов и ответов о программировании. База содержит данные о постах, созданных в 2008 году. "
   ]
  },
  {
   "cell_type": "markdown",
   "id": "98fade8a",
   "metadata": {},
   "source": [
    "**Задача:** с помощью SQL посчитать и визуализировать ключевые метрики сервис-системы вопросов и ответов о программировании."
   ]
  },
  {
   "cell_type": "markdown",
   "id": "7ad3b7b3",
   "metadata": {},
   "source": [
    "#### Описание данных"
   ]
  },
  {
   "cell_type": "markdown",
   "id": "799d3c0a",
   "metadata": {},
   "source": [
    "- `stackoverflow.badges` — хранит информацию о значках, которые присуждаются за разные достижения;\n",
    "- `stackoverflow.post_types` — хранит информацию о типе постов;\n",
    "- `stackoverflow.posts` — содержит информацию о постах;\n",
    "- `stackoverflow.users` — содержит информацию о пользователях;\n",
    "- `stackoverflow.vote_types` — содержит информацию о типах голосов;\n",
    "- `stackoverflow.votes` — содержит информацию о голосах за посты. "
   ]
  },
  {
   "cell_type": "markdown",
   "id": "a5fc9bc0",
   "metadata": {},
   "source": [
    "### Написание запросов: первая часть"
   ]
  },
  {
   "cell_type": "markdown",
   "id": "617b0a2c",
   "metadata": {},
   "source": [
    "1. Количество вопросов, которые набрали больше 300 очков или как минимум 100 раз были добавлены в «Закладки»."
   ]
  },
  {
   "cell_type": "code",
   "execution_count": null,
   "id": "abe589d1",
   "metadata": {},
   "outputs": [],
   "source": [
    "SELECT COUNT(*) AS question_count\n",
    "FROM stackoverflow.posts\n",
    "WHERE ((score > 300) OR (favorites_count >= 100))\n",
    "  AND (post_type_id = 1);"
   ]
  },
  {
   "cell_type": "markdown",
   "id": "5eb8744f",
   "metadata": {},
   "source": [
    "2. Среднее количество вопросов в день с 1 по 18 ноября 2008 включительно."
   ]
  },
  {
   "cell_type": "code",
   "execution_count": null,
   "id": "74e04607",
   "metadata": {},
   "outputs": [],
   "source": [
    "SELECT ROUND(AVG(question_count_per_day)) AS average_questions_per_day\n",
    "FROM (\n",
    "    SELECT date_trunc('day', creation_date)::date AS post_date, COUNT(*) AS question_count_per_day\n",
    "    FROM stackoverflow.posts\n",
    "    WHERE post_type_id = 1\n",
    "        AND date_trunc('day', creation_date)::date BETWEEN '2008-11-01' AND '2008-11-18'\n",
    "    GROUP BY post_date\n",
    ") AS daily_question_counts;"
   ]
  },
  {
   "cell_type": "markdown",
   "id": "233264a2",
   "metadata": {},
   "source": [
    "3. Количество уникальных пользователей, которые получили значки сразу в день регистрации."
   ]
  },
  {
   "cell_type": "code",
   "execution_count": null,
   "id": "e9106f32",
   "metadata": {},
   "outputs": [],
   "source": [
    "SELECT COUNT(DISTINCT u.id) AS users_with_badges_on_registration_day\n",
    "FROM stackoverflow.users u\n",
    "JOIN stackoverflow.badges b ON u.id = b.user_id\n",
    "WHERE date_trunc('day', u.creation_date) = date_trunc('day', b.creation_date);"
   ]
  },
  {
   "cell_type": "markdown",
   "id": "bf6825e2",
   "metadata": {},
   "source": [
    "4. Количество уникальных постов пользователя с именем Joel Coehoorn с хотя бы одним голосом."
   ]
  },
  {
   "cell_type": "code",
   "execution_count": null,
   "id": "c1478d29",
   "metadata": {},
   "outputs": [],
   "source": [
    "SELECT COUNT(DISTINCT p.id) AS unique_posts_with_votes\n",
    "FROM stackoverflow.users u\n",
    "JOIN stackoverflow.posts p ON u.id = p.user_id\n",
    "JOIN stackoverflow.votes v ON p.id = v.post_id\n",
    "WHERE u.display_name = 'Joel Coehoorn';"
   ]
  },
  {
   "cell_type": "markdown",
   "id": "61409c27",
   "metadata": {},
   "source": [
    "5. Таблица `vote_types` с новым полем `rank`, в которое вошли номера записей в обратном порядке, с сортировкой по полю `id`."
   ]
  },
  {
   "cell_type": "code",
   "execution_count": null,
   "id": "785b293f",
   "metadata": {},
   "outputs": [],
   "source": [
    "SELECT *, ROW_NUMBER() OVER (ORDER BY id DESC) AS rank\n",
    "FROM stackoverflow.vote_types\n",
    "ORDER BY id;"
   ]
  },
  {
   "cell_type": "markdown",
   "id": "2993db26",
   "metadata": {},
   "source": [
    "6. 10 пользователей, которые поставили больше всего голосов типа 'Close': идентификаторы и количество голосов с сортировкой по убыванию количества голосов, затем по убыванию значения идентификатора пользователя."
   ]
  },
  {
   "cell_type": "code",
   "execution_count": null,
   "id": "ac8009a4",
   "metadata": {},
   "outputs": [],
   "source": [
    "SELECT v.user_id, COUNT(*) AS vote_count\n",
    "FROM stackoverflow.votes v\n",
    "JOIN stackoverflow.vote_types vt ON v.vote_type_id = vt.id\n",
    "WHERE vt.name = 'Close'\n",
    "GROUP BY v.user_id\n",
    "ORDER BY vote_count DESC, v.user_id DESC\n",
    "LIMIT 10;"
   ]
  },
  {
   "cell_type": "markdown",
   "id": "f0bfa6ea",
   "metadata": {},
   "source": [
    "7. 10 пользователей по количеству значков, полученных в период с 15 ноября по 15 декабря 2008 года включительно: идентификатор пользователя; число значков; место в рейтинге — чем больше значков, тем выше рейтинг. Пользователям, получившие одинаковое количество значков, присваивается одно и то же место в рейтинге. Сортировка по количеству значков по убыванию, а затем по возрастанию значения идентификатора пользователя."
   ]
  },
  {
   "cell_type": "code",
   "execution_count": null,
   "id": "db8c7253",
   "metadata": {},
   "outputs": [],
   "source": [
    "WITH user_badge_counts AS (\n",
    "    SELECT u.id AS user_id, COUNT(*) AS badge_count\n",
    "    FROM stackoverflow.users u\n",
    "    JOIN stackoverflow.badges b ON u.id = b.user_id\n",
    "    WHERE date_trunc('day', b.creation_date)::date BETWEEN '2008-11-15' AND '2008-12-15'\n",
    "    GROUP BY u.id\n",
    ")\n",
    "SELECT user_id, badge_count,\n",
    "       DENSE_RANK() OVER (ORDER BY badge_count DESC) AS rank\n",
    "FROM user_badge_counts\n",
    "ORDER BY badge_count DESC, user_id\n",
    "LIMIT 10;"
   ]
  },
  {
   "cell_type": "markdown",
   "id": "1472c9fd",
   "metadata": {},
   "source": [
    "8. Среднее количество очков на каждый пост пользователя. Таблица включает: заголовок поста; идентификатор пользователя; число очков поста; среднее число очков пользователя за пост, округлённое до целого числа. Посты без заголовка, а также те, что набрали ноль очков — не учитываются."
   ]
  },
  {
   "cell_type": "code",
   "execution_count": null,
   "id": "030ee290",
   "metadata": {},
   "outputs": [],
   "source": [
    "SELECT title,\n",
    "       user_id,\n",
    "       score,\n",
    "       ROUND(AVG(score) OVER (PARTITION BY user_id)) AS avg_score\n",
    "FROM (\n",
    "    SELECT *\n",
    "    FROM stackoverflow.posts\n",
    "    WHERE title IS NOT NULL AND score != 0\n",
    ") filtered_posts;"
   ]
  },
  {
   "cell_type": "markdown",
   "id": "f7287d94",
   "metadata": {},
   "source": [
    "9. Заголовки постов, которые были написаны пользователями, получившими более 1000 значков."
   ]
  },
  {
   "cell_type": "code",
   "execution_count": null,
   "id": "449033ff",
   "metadata": {},
   "outputs": [],
   "source": [
    "WITH UsersWith1000Badges AS (\n",
    "    SELECT u.id AS user_id\n",
    "    FROM stackoverflow.users u\n",
    "    JOIN stackoverflow.badges b ON u.id = b.user_id\n",
    "    GROUP BY u.id\n",
    "    HAVING COUNT(b.id) > 1000\n",
    ")\n",
    "SELECT p.title\n",
    "FROM stackoverflow.posts p\n",
    "JOIN UsersWith1000Badges u ON p.user_id = u.user_id\n",
    "WHERE p.title IS NOT NULL;"
   ]
  },
  {
   "cell_type": "markdown",
   "id": "eec71728",
   "metadata": {},
   "source": [
    "10. Данные о пользователях из Канады (англ. Canada) с разделением на три группы в зависимости от количества просмотров их профилей:\n",
    "- пользователям с числом просмотров больше либо равным 350 присваивается группа 1;\n",
    "- пользователям с числом просмотров меньше 350, но больше либо равно 100 — группа 2;\n",
    "- пользователям с числом просмотров меньше 100 — группа 3."
   ]
  },
  {
   "cell_type": "code",
   "execution_count": null,
   "id": "cb2969dd",
   "metadata": {},
   "outputs": [],
   "source": [
    "SELECT id AS user_id,\n",
    "       views AS profile_views,\n",
    "       CASE\n",
    "           WHEN views >= 350 THEN 1\n",
    "           WHEN views >= 100 THEN 2\n",
    "           ELSE 3\n",
    "       END AS user_group\n",
    "FROM stackoverflow.users\n",
    "WHERE location LIKE '%Canada%'\n",
    "  AND views > 0;"
   ]
  },
  {
   "cell_type": "markdown",
   "id": "40a6cede",
   "metadata": {},
   "source": [
    "11. Дополнение предыдущего запроса. Отображение лидеров каждой группы — пользователей, которые набрали максимальное число просмотров в своей группе с сортировкой по убыванию просмотров, а затем по возрастанию значения идентификатора."
   ]
  },
  {
   "cell_type": "code",
   "execution_count": null,
   "id": "b99aa5cd",
   "metadata": {},
   "outputs": [],
   "source": [
    "WITH t1 AS (\n",
    "    SELECT id,\n",
    "           views,\n",
    "           CASE\n",
    "               WHEN views >= 350 THEN 1\n",
    "               WHEN views < 350 AND views >= 100 THEN 2\n",
    "               ELSE 3\n",
    "           END AS category\n",
    "    FROM stackoverflow.users\n",
    "    WHERE views != 0 AND location LIKE '%Canada%'\n",
    "),\n",
    "t2 AS (\n",
    "    SELECT category,\n",
    "           MAX(views) AS max_views\n",
    "    FROM t1\n",
    "    GROUP BY category\n",
    ")\n",
    "SELECT t1.id AS user_id,\n",
    "       t1.views AS profile_views,\n",
    "       t1.category AS user_group\n",
    "FROM t1\n",
    "JOIN t2 ON t1.category = t2.category AND t1.views = t2.max_views\n",
    "ORDER BY t1.views DESC, t1.id;\n"
   ]
  },
  {
   "cell_type": "markdown",
   "id": "c96d8b7d",
   "metadata": {},
   "source": [
    "12. Ежедневный прирост новых пользователей в ноябре 2008 года. Таблица включает: номер дня; число пользователей, зарегистрированных в этот день; сумму пользователей с накоплением."
   ]
  },
  {
   "cell_type": "code",
   "execution_count": null,
   "id": "f5b0909f",
   "metadata": {},
   "outputs": [],
   "source": [
    "SELECT EXTRACT(DAY FROM creation_date) AS day_number,\n",
    "       COUNT(*) AS daily_new_users,\n",
    "       SUM(COUNT(*)) OVER (ORDER BY EXTRACT(DAY FROM creation_date)) AS accumulated_users\n",
    "FROM stackoverflow.users\n",
    "WHERE EXTRACT(MONTH FROM creation_date) = 11 AND EXTRACT(YEAR FROM creation_date) = 2008\n",
    "GROUP BY EXTRACT(DAY FROM creation_date)\n",
    "ORDER BY day_number;"
   ]
  },
  {
   "cell_type": "markdown",
   "id": "5cad4678",
   "metadata": {},
   "source": [
    "13. Для каждого пользователя, который написал хотя бы один пост, найден интервал между регистрацией и временем создания первого поста. Выведен идентификатор пользователя и разница во времени между регистрацией и первым постом."
   ]
  },
  {
   "cell_type": "code",
   "execution_count": null,
   "id": "50c539df",
   "metadata": {},
   "outputs": [],
   "source": [
    "WITH FirstPost AS (\n",
    "    SELECT p.user_id,\n",
    "           p.creation_date AS post_date,\n",
    "           u.creation_date AS created_date,\n",
    "           ROW_NUMBER() OVER(PARTITION BY p.user_id ORDER BY p.creation_date) AS row_num\n",
    "    FROM stackoverflow.posts AS p\n",
    "    JOIN stackoverflow.users AS u ON p.user_id = u.id\n",
    ")\n",
    "\n",
    "SELECT user_id,\n",
    "       post_date - created_date AS interval\n",
    "FROM FirstPost\n",
    "WHERE row_num = 1;"
   ]
  },
  {
   "cell_type": "markdown",
   "id": "74bc3b43",
   "metadata": {},
   "source": [
    "### Написание запросов: вторая часть"
   ]
  },
  {
   "cell_type": "markdown",
   "id": "9a2f83c8",
   "metadata": {},
   "source": [
    "1. Общая сумма просмотров у постов, опубликованных в каждый месяц 2008 года с сортировкой по убыванию общего количества просмотров."
   ]
  },
  {
   "cell_type": "code",
   "execution_count": null,
   "id": "4971e851",
   "metadata": {},
   "outputs": [],
   "source": [
    "SELECT\n",
    "  DATE_TRUNC('month', creation_date)::date AS month,\n",
    "  SUM(views_count) AS total_views\n",
    "FROM\n",
    "  stackoverflow.posts\n",
    "WHERE\n",
    "  EXTRACT(year FROM creation_date) = 2008\n",
    "GROUP BY\n",
    "  month\n",
    "ORDER BY\n",
    "  total_views DESC;"
   ]
  },
  {
   "cell_type": "markdown",
   "id": "2f808aa0",
   "metadata": {},
   "source": [
    "Видим, что данные отличаются по месяцам. Увеличение активности в сентебре и октябре может быть связана с началом учебного года. Малая активность в июле вероятно говорит о неполноте данных."
   ]
  },
  {
   "cell_type": "markdown",
   "id": "e6a6577a",
   "metadata": {},
   "source": [
    "2. Самые активные пользователи, которые в первый месяц после регистрации (включая день регистрации) дали больше 100 ответов. Для каждого имени пользователя выведено количество уникальных значений `user_id`. Сортировка по полю с именами в лексикографическом порядке."
   ]
  },
  {
   "cell_type": "code",
   "execution_count": null,
   "id": "7e23c3c4",
   "metadata": {},
   "outputs": [],
   "source": [
    "WITH creation_date_post AS (\n",
    "    SELECT user_id, creation_date\n",
    "    FROM stackoverflow.posts AS p\n",
    "    LEFT JOIN stackoverflow.post_types AS pt ON pt.id = p.post_type_id\n",
    "    WHERE type = 'Answer'\n",
    "    )\n",
    "    \n",
    "SELECT u.display_name, COUNT(DISTINCT user_id) ct\n",
    "FROM stackoverflow.users AS u\n",
    "JOIN creation_date_post AS p ON p.user_id = u.id\n",
    "WHERE DATE_TRUNC('day', p.creation_date) ::date <= DATE_TRUNC( 'day', u. creation_date)::date + INTERVAL '1 month'\n",
    "GROUP BY 1\n",
    "HAVING COUNT (*) > 100\n",
    "ORDER BY 1;"
   ]
  },
  {
   "cell_type": "markdown",
   "id": "bfeab971",
   "metadata": {},
   "source": [
    "Многим популярным именам соответствует несколько `user_id` — данные лучше анализировать по идентификатору, а не по имени пользователя."
   ]
  },
  {
   "cell_type": "markdown",
   "id": "2dd475df",
   "metadata": {},
   "source": [
    "3. Количество постов за 2008 год по месяцам. Отобраны посты от пользователей, которые зарегистрировались в сентябре 2008 года и сделали хотя бы один пост в декабре того же года. Сортировка по значению месяца по убыванию."
   ]
  },
  {
   "cell_type": "code",
   "execution_count": null,
   "id": "5a00d3f0",
   "metadata": {},
   "outputs": [],
   "source": [
    "SELECT DATE_TRUNC('month', p.creation_date)::date AS date,\n",
    "       COUNT(p.id)\n",
    "FROM stackoverflow.posts AS p\n",
    "WHERE p.user_id IN (\n",
    "    SELECT DISTINCT u.id\n",
    "    FROM stackoverflow.users AS u\n",
    "    JOIN stackoverflow.posts AS p ON u.id = p.user_id\n",
    "    WHERE DATE_TRUNC('month', u.creation_date)::date = '2008-09-01'\n",
    "      AND DATE_TRUNC('month', p.creation_date)::date = '2008-12-01'\n",
    ")\n",
    "GROUP BY date\n",
    "ORDER BY date DESC;"
   ]
  },
  {
   "cell_type": "markdown",
   "id": "a0a1f834",
   "metadata": {},
   "source": [
    "В данных присутствуют ошибки: встречаются пользователи, которые были активны в августе, хотя были зарегистрированы в сентябре."
   ]
  },
  {
   "cell_type": "markdown",
   "id": "5052286b",
   "metadata": {},
   "source": [
    "4. Выгрузка данных о постах: идентификатор пользователя, который написал пост; дата создания поста; количество просмотров у текущего поста; сумма просмотров постов автора с накоплением. Сортировка по возрастанию идентификаторов пользователей, данные об одном и том же пользователе — по возрастанию даты создания поста."
   ]
  },
  {
   "cell_type": "code",
   "execution_count": null,
   "id": "21e14ccd",
   "metadata": {},
   "outputs": [],
   "source": [
    "SELECT\n",
    "    p.user_id,\n",
    "    p.creation_date,\n",
    "    p.views_count,\n",
    "    SUM(p.views_count) OVER (PARTITION BY p.user_id ORDER BY p.creation_date) AS cumulative_views\n",
    "FROM stackoverflow.posts p\n",
    "ORDER BY p.user_id, p.creation_date;"
   ]
  },
  {
   "cell_type": "markdown",
   "id": "e50dcc79",
   "metadata": {},
   "source": [
    "5. Среднее количество дней взаимодействия пользователей с платформой в период с 1 по 7 декабря 2008 года включительно (по публикации хотя бы одного поста)."
   ]
  },
  {
   "cell_type": "code",
   "execution_count": null,
   "id": "d71ac664",
   "metadata": {},
   "outputs": [],
   "source": [
    "WITH user_activity AS (\n",
    "    SELECT\n",
    "        user_id,\n",
    "        COUNT(DISTINCT DATE_TRUNC('day', creation_date)) AS active_days\n",
    "    FROM stackoverflow.posts\n",
    "    WHERE creation_date >= '2008-12-01' AND creation_date <= '2008-12-07'\n",
    "    GROUP BY user_id\n",
    ")\n",
    "SELECT\n",
    "    ROUND(AVG(active_days)) AS average_active_days\n",
    "FROM user_activity;"
   ]
  },
  {
   "cell_type": "markdown",
   "id": "7926fe2a",
   "metadata": {},
   "source": [
    "В эти дни пользователи публиковали посты в среднем всего лишь 2 дня. Снижение активности может свидетельствовать о технических неполадках на платформе. "
   ]
  },
  {
   "cell_type": "markdown",
   "id": "450fe022",
   "metadata": {},
   "source": [
    "6. Изменение количества постов ежемесячно с 1 сентября по 31 декабря 2008 года в процентах по сравнению с предыдущим. "
   ]
  },
  {
   "cell_type": "code",
   "execution_count": null,
   "id": "fe964584",
   "metadata": {},
   "outputs": [],
   "source": [
    "WITH post_counts AS (\n",
    "    SELECT\n",
    "        DATE_TRUNC('month', creation_date) AS month,\n",
    "        COUNT(*) AS post_count\n",
    "    FROM stackoverflow.posts\n",
    "    WHERE creation_date >= '2008-09-01' AND creation_date <= '2008-12-31'\n",
    "    GROUP BY month\n",
    ")\n",
    "SELECT\n",
    "    EXTRACT(MONTH FROM month) AS month_number,\n",
    "    post_count,\n",
    "    ROUND(((post_count - LAG(post_count) OVER (ORDER BY month))::numeric / LAG(post_count) OVER (ORDER BY month)) * 100, 2) AS percent_change\n",
    "FROM post_counts;"
   ]
  },
  {
   "cell_type": "markdown",
   "id": "35628da2",
   "metadata": {},
   "source": [
    "Видим общее снижение количества постов. Прим этом наибольшее снижение произошло в ноябре: постов стало меньше на 25% по сравнению с октябрем."
   ]
  },
  {
   "cell_type": "markdown",
   "id": "638d7e80",
   "metadata": {},
   "source": [
    "7. Активность пользователя, который опубликовал больше всего постов за все время с момента регистрации, в октябре 2008 года: номер недели; дата и время последнего поста, опубликованного на этой неделе."
   ]
  },
  {
   "cell_type": "code",
   "execution_count": null,
   "id": "3aca7a66",
   "metadata": {},
   "outputs": [],
   "source": [
    "WITH best_user AS (\n",
    "    SELECT\n",
    "        p.user_id AS user_id\n",
    "    FROM\n",
    "        stackoverflow.posts AS p\n",
    "    GROUP BY\n",
    "        p.user_id\n",
    "    ORDER BY\n",
    "        COUNT(p.id) DESC\n",
    "    LIMIT\n",
    "        1\n",
    "), all_post_best_user AS (\n",
    "    SELECT\n",
    "        p.creation_date AS date_time,\n",
    "        EXTRACT('week' FROM p.creation_date::DATE) AS week_numb\n",
    "    FROM\n",
    "        stackoverflow.posts AS p\n",
    "    JOIN best_user AS bu ON bu.user_id = p.user_id\n",
    "    WHERE\n",
    "        EXTRACT('month' FROM p.creation_date::DATE) = 10\n",
    "    ORDER BY\n",
    "        week_numb\n",
    ")\n",
    "SELECT\n",
    "    DISTINCT apbu.week_numb,\n",
    "    MAX(apbu.date_time) OVER (PARTITION BY apbu.week_numb) AS last_post_date\n",
    "FROM\n",
    "    all_post_best_user AS apbu\n",
    "ORDER BY\n",
    "    apbu.week_numb;"
   ]
  }
 ],
 "metadata": {
  "kernelspec": {
   "display_name": "Python 3 (ipykernel)",
   "language": "python",
   "name": "python3"
  },
  "language_info": {
   "codemirror_mode": {
    "name": "ipython",
    "version": 3
   },
   "file_extension": ".py",
   "mimetype": "text/x-python",
   "name": "python",
   "nbconvert_exporter": "python",
   "pygments_lexer": "ipython3",
   "version": "3.9.12"
  }
 },
 "nbformat": 4,
 "nbformat_minor": 5
}
