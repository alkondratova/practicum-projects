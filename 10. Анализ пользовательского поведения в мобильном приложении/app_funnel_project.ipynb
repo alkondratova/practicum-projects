{
 "cells": [
  {
   "cell_type": "markdown",
   "metadata": {},
   "source": [
    "# Исследование пользовательского поведения в мобильном приложении"
   ]
  },
  {
   "cell_type": "markdown",
   "metadata": {},
   "source": [
    "**Описание проекта**. В данном проекте проведено исследование пользовательского поведения в мобильном приложении стартапа, занимающегося продажей продуктов питания. Изучена воронка событий, определён порядок их выполнения и рассчитана конверсия между событиями. Проведено A/A/B-тестирование, в котором оценивается влияние изменений шрифтов в приложении на пользовательское поведение."
   ]
  },
  {
   "cell_type": "markdown",
   "metadata": {},
   "source": [
    "**Описание данных**\n",
    "\n",
    "Каждая запись в логе — это действие пользователя, или событие.\n",
    "\n",
    "- `EventName` — название события;\n",
    "- `DeviceIDHash` — уникальный идентификатор пользователя;\n",
    "- `EventTimestamp` — время события;\n",
    "- `ExpId` — номер эксперимента: 246 и 247 — контрольные группы, а 248 — экспериментальная."
   ]
  },
  {
   "cell_type": "markdown",
   "metadata": {},
   "source": [
    "**План работы**:\n",
    "\n",
    "1. Загрузить файл с данными и изучить общую информацию.\n",
    "2. Провести предобработку данных: проверить данные на пропуски, дубликаты, преобразовать названия столбцов и типы данных.\n",
    "3. Проверить данные: за все ли дни мы обладаем полными данными, выделить актуальный период, проверить распределение на группы. \n",
    "4. Изучить воронку событий и выяснить, сколько пользователей переходят на каждый её этап и доходят до конца. \n",
    "5. Провести A/A/B-тест и определить, повлияло ли изменение шрифтов на поведение пользователей: есть ли статистически значимое различие между контрольными и экспериментальными группами. Учесть множественный характер теста в выборе уровня значимости. "
   ]
  },
  {
   "cell_type": "markdown",
   "metadata": {},
   "source": [
    "## Загрузка данных и импорт библиотек"
   ]
  },
  {
   "cell_type": "code",
   "execution_count": 1,
   "metadata": {},
   "outputs": [],
   "source": [
    "# импортируем нужные библиотеки\n",
    "import pandas as pd\n",
    "from scipy import stats as st\n",
    "import numpy as np\n",
    "import math as mth\n",
    "from matplotlib import pyplot as plt\n",
    "import datetime as dt\n",
    "import seaborn as sns\n",
    "import plotly.express as px \n",
    "from plotly import graph_objects as go"
   ]
  },
  {
   "cell_type": "code",
   "execution_count": 2,
   "metadata": {},
   "outputs": [
    {
     "data": {
      "text/html": [
       "<div>\n",
       "<style scoped>\n",
       "    .dataframe tbody tr th:only-of-type {\n",
       "        vertical-align: middle;\n",
       "    }\n",
       "\n",
       "    .dataframe tbody tr th {\n",
       "        vertical-align: top;\n",
       "    }\n",
       "\n",
       "    .dataframe thead th {\n",
       "        text-align: right;\n",
       "    }\n",
       "</style>\n",
       "<table border=\"1\" class=\"dataframe\">\n",
       "  <thead>\n",
       "    <tr style=\"text-align: right;\">\n",
       "      <th></th>\n",
       "      <th>EventName</th>\n",
       "      <th>DeviceIDHash</th>\n",
       "      <th>EventTimestamp</th>\n",
       "      <th>ExpId</th>\n",
       "    </tr>\n",
       "  </thead>\n",
       "  <tbody>\n",
       "    <tr>\n",
       "      <th>0</th>\n",
       "      <td>MainScreenAppear</td>\n",
       "      <td>4575588528974610257</td>\n",
       "      <td>1564029816</td>\n",
       "      <td>246</td>\n",
       "    </tr>\n",
       "    <tr>\n",
       "      <th>1</th>\n",
       "      <td>MainScreenAppear</td>\n",
       "      <td>7416695313311560658</td>\n",
       "      <td>1564053102</td>\n",
       "      <td>246</td>\n",
       "    </tr>\n",
       "    <tr>\n",
       "      <th>2</th>\n",
       "      <td>PaymentScreenSuccessful</td>\n",
       "      <td>3518123091307005509</td>\n",
       "      <td>1564054127</td>\n",
       "      <td>248</td>\n",
       "    </tr>\n",
       "    <tr>\n",
       "      <th>3</th>\n",
       "      <td>CartScreenAppear</td>\n",
       "      <td>3518123091307005509</td>\n",
       "      <td>1564054127</td>\n",
       "      <td>248</td>\n",
       "    </tr>\n",
       "    <tr>\n",
       "      <th>4</th>\n",
       "      <td>PaymentScreenSuccessful</td>\n",
       "      <td>6217807653094995999</td>\n",
       "      <td>1564055322</td>\n",
       "      <td>248</td>\n",
       "    </tr>\n",
       "  </tbody>\n",
       "</table>\n",
       "</div>"
      ],
      "text/plain": [
       "                 EventName         DeviceIDHash  EventTimestamp  ExpId\n",
       "0         MainScreenAppear  4575588528974610257      1564029816    246\n",
       "1         MainScreenAppear  7416695313311560658      1564053102    246\n",
       "2  PaymentScreenSuccessful  3518123091307005509      1564054127    248\n",
       "3         CartScreenAppear  3518123091307005509      1564054127    248\n",
       "4  PaymentScreenSuccessful  6217807653094995999      1564055322    248"
      ]
     },
     "execution_count": 2,
     "metadata": {},
     "output_type": "execute_result"
    }
   ],
   "source": [
    "# прочитаем данные\n",
    "data = pd.read_csv('C:/Users/alkon/practicum_projects/app_funnel_project/logs_exp.csv', sep='\\t')\n",
    "data.head(5)"
   ]
  },
  {
   "cell_type": "code",
   "execution_count": 3,
   "metadata": {},
   "outputs": [
    {
     "name": "stdout",
     "output_type": "stream",
     "text": [
      "<class 'pandas.core.frame.DataFrame'>\n",
      "RangeIndex: 244126 entries, 0 to 244125\n",
      "Data columns (total 4 columns):\n",
      " #   Column          Non-Null Count   Dtype \n",
      "---  ------          --------------   ----- \n",
      " 0   EventName       244126 non-null  object\n",
      " 1   DeviceIDHash    244126 non-null  int64 \n",
      " 2   EventTimestamp  244126 non-null  int64 \n",
      " 3   ExpId           244126 non-null  int64 \n",
      "dtypes: int64(3), object(1)\n",
      "memory usage: 7.5+ MB\n"
     ]
    }
   ],
   "source": [
    "# выведем общую информацию о датафрейме\n",
    "data.info()"
   ]
  },
  {
   "cell_type": "markdown",
   "metadata": {},
   "source": [
    "## Предобработка данных"
   ]
  },
  {
   "cell_type": "code",
   "execution_count": 4,
   "metadata": {},
   "outputs": [
    {
     "name": "stdout",
     "output_type": "stream",
     "text": [
      "\u001b[1mКоличество явных дубликатов:\u001b[0m 413\n",
      "\u001b[1mКоличество пропусков:\n",
      "\u001b[0m EventName         0\n",
      "DeviceIDHash      0\n",
      "EventTimestamp    0\n",
      "ExpId             0\n",
      "dtype: int64\n"
     ]
    }
   ],
   "source": [
    "# проверим данные на пропуски и дубликаты\n",
    "print('\\033[1mКоличество явных дубликатов:\\033[0m', data.duplicated().sum())\n",
    "print('\\033[1mКоличество пропусков:\\n\\033[0m', data.isna().sum())"
   ]
  },
  {
   "cell_type": "markdown",
   "metadata": {},
   "source": [
    "Видим, что в данных отсутствуют пропуски, но есть дубликаты, которые нужно удалить из датафрейма. Тип данных в столбце с датой приведём из строки в дату. Названия столбцов приведём к змеиному регистру. "
   ]
  },
  {
   "cell_type": "code",
   "execution_count": 5,
   "metadata": {},
   "outputs": [
    {
     "name": "stdout",
     "output_type": "stream",
     "text": [
      "\u001b[1mКоличество явных дубликатов:\u001b[0m 0\n"
     ]
    }
   ],
   "source": [
    "# удалим строки дубликаты \n",
    "data = data.drop_duplicates().reset_index(drop=True)\n",
    "print('\\033[1mКоличество явных дубликатов:\\033[0m', data.duplicated().sum())"
   ]
  },
  {
   "cell_type": "code",
   "execution_count": 6,
   "metadata": {},
   "outputs": [],
   "source": [
    "# замена названий столбцов\n",
    "data.columns = ['event_name', 'user_id', 'event_timestamp', 'group']"
   ]
  },
  {
   "cell_type": "code",
   "execution_count": 7,
   "metadata": {},
   "outputs": [],
   "source": [
    "# преобразование столбца с датой и временем\n",
    "data['event_datetime'] = pd.to_datetime(data['event_timestamp'], unit='s')\n",
    "# добавляем столбцец с датой\n",
    "data['event_date'] = data['event_datetime'].astype('datetime64[D]')"
   ]
  },
  {
   "cell_type": "code",
   "execution_count": 8,
   "metadata": {},
   "outputs": [
    {
     "name": "stdout",
     "output_type": "stream",
     "text": [
      "event_name                 object\n",
      "user_id                     int64\n",
      "event_timestamp             int64\n",
      "group                       int64\n",
      "event_datetime     datetime64[ns]\n",
      "event_date         datetime64[ns]\n",
      "dtype: object\n"
     ]
    }
   ],
   "source": [
    "# проверка типов данных\n",
    "print(data.dtypes)"
   ]
  },
  {
   "cell_type": "code",
   "execution_count": 9,
   "metadata": {},
   "outputs": [
    {
     "name": "stdout",
     "output_type": "stream",
     "text": [
      "\u001b[1mКоличество групп:\u001b[0m 3\n",
      "\u001b[1mКоличество пользователей в каждой группе:\u001b[0m\n",
      "group\n",
      "246    2489\n",
      "247    2520\n",
      "248    2542\n",
      "Name: user_id, dtype: int64\n",
      "\u001b[1mПользователи, входящие в более чем одну группу:\u001b[0m\n",
      "0\n"
     ]
    }
   ],
   "source": [
    "# создание списка пользователей, входящих в каждую группу\n",
    "users_in_group_A = data[data['group'] == 'A']['user_id'].unique()\n",
    "users_in_group_B = data[data['group'] == 'B']['user_id'].unique()\n",
    "users_in_group_C = data[data['group'] == 'C']['user_id'].unique()\n",
    "\n",
    "# подсчет пользователей по группам \n",
    "users_in_groups = data.groupby('group')['user_id'].nunique()\n",
    "\n",
    "# поиск пользователей, входящих в более чем одну группу\n",
    "users_in_multiple_groups = set(users_in_group_A) & set(users_in_group_B) & set(users_in_group_C)\n",
    "\n",
    "print(\"\\033[1mКоличество групп:\\033[0m\", len(data['group'].value_counts()))\n",
    "print(\"\\033[1mКоличество пользователей в каждой группе:\\033[0m\")\n",
    "print(users_in_groups)\n",
    "print(\"\\033[1mПользователи, входящие в более чем одну группу:\\033[0m\")\n",
    "print(len(users_in_multiple_groups))"
   ]
  },
  {
   "cell_type": "markdown",
   "metadata": {},
   "source": [
    "В датафрейме три группы. Пользователи разделены корректно: ни один не попал более чем в одну группу. При этом данные распределены по группам достаточно равномерно: самая маленькая группа 246 (контрольная) меньше самой большой группы 248 (экспериментальной) примерно на 2%."
   ]
  },
  {
   "cell_type": "markdown",
   "metadata": {},
   "source": [
    "**Выводы**. Мы изучили датафрейм, удалили дубликаты, проверили данные на пропуски (не обнаружены), привели названия столбцов к общепринятому регистру, преобразовали столбец с датой и временем, добавив новый столбец с датой. Также мы убедились в корректности разделения групп. Можно переходить к следующему шагу."
   ]
  },
  {
   "cell_type": "markdown",
   "metadata": {},
   "source": [
    "## Проверка данных"
   ]
  },
  {
   "cell_type": "code",
   "execution_count": 10,
   "metadata": {},
   "outputs": [
    {
     "name": "stdout",
     "output_type": "stream",
     "text": [
      "\u001b[1mОбщее число событий в логе:\u001b[0m 243713\n",
      "\u001b[1mОбщее число пользователей в логе:\u001b[0m 7551\n",
      "\u001b[1mСреднее число событий на пользователя:\u001b[0m 32\n"
     ]
    }
   ],
   "source": [
    "# подсчет общего числа событий в логе\n",
    "total_events = len(data)\n",
    "print(\"\\033[1mОбщее число событий в логе:\\033[0m\", total_events)\n",
    "\n",
    "# определение общего числа пользователей в логе\n",
    "total_users = data['user_id'].nunique()\n",
    "print(\"\\033[1mОбщее число пользователей в логе:\\033[0m\", total_users)\n",
    "\n",
    "# расчёт среднего числа событий на пользователя\n",
    "avg_events_per_user = total_events / total_users\n",
    "print(\"\\033[1mСреднее число событий на пользователя:\\033[0m\", round(avg_events_per_user))"
   ]
  },
  {
   "cell_type": "code",
   "execution_count": 11,
   "metadata": {},
   "outputs": [
    {
     "name": "stdout",
     "output_type": "stream",
     "text": [
      "\u001b[1mМинимальная дата в данных:\u001b[0m 2019-07-25 00:00:00\n",
      "\u001b[1mМаксимальная дата в данных:\u001b[0m 2019-08-07 00:00:00\n"
     ]
    }
   ],
   "source": [
    "# определим минимальную и максимальную даты\n",
    "min_date = data['event_date'].min()\n",
    "max_date = data['event_date'].max()\n",
    "print(\"\\033[1mМинимальная дата в данных:\\033[0m\", min_date)\n",
    "print(\"\\033[1mМаксимальная дата в данных:\\033[0m\", max_date)"
   ]
  },
  {
   "cell_type": "markdown",
   "metadata": {},
   "source": [
    "Мы располагаем данными с 25 июля по 7 августа 2019 года."
   ]
  },
  {
   "cell_type": "code",
   "execution_count": 12,
   "metadata": {},
   "outputs": [
    {
     "data": {
      "image/png": "[encoded data removed]",
      "text/plain": [
       "<Figure size 864x432 with 1 Axes>"
      ]
     },
     "metadata": {
      "needs_background": "light"
     },
     "output_type": "display_data"
    }
   ],
   "source": [
    "# группируем данные по дате и группе, считаем количество событий\n",
    "events_by_date_group = data.groupby(['event_date', 'group'])['event_name'].count().reset_index()\n",
    "\n",
    "# определяем уникальные названия групп\n",
    "group_names = events_by_date_group['group'].unique()\n",
    "\n",
    "# строим гистограмму\n",
    "colors = ['skyblue', 'lightcoral', 'lightgreen']\n",
    "plt.figure(figsize=(12, 6))\n",
    "\n",
    "for i, group_name in enumerate(group_names):\n",
    "    group_data = events_by_date_group[events_by_date_group['group'] == group_name]\n",
    "    plt.bar(group_data['event_date'], group_data['event_name'], color=colors[i], label=f'Группа {group_name}', alpha=0.5)\n",
    "\n",
    "plt.title(\"Количество событий по дате и группе\")\n",
    "plt.xlabel(\"Дата\")\n",
    "plt.ylabel(\"Количество событий\")\n",
    "plt.xticks(rotation=45)\n",
    "plt.legend()\n",
    "plt.show()"
   ]
  },
  {
   "cell_type": "markdown",
   "metadata": {},
   "source": [
    "Больше всего событий произошло в период с 1 по 7 августа: скорее всего это период, за которые предоставлены полные данные. Отбросим всё, до 31 июля включительно. По смешению цветов на графике видно, что данные по дням в разных группах распределены приблизительно одинаково, кроме 3 августа, когда событий в группе 248 случилось чуть заметнее больше, чем в двух других группах."
   ]
  },
  {
   "cell_type": "code",
   "execution_count": 13,
   "metadata": {},
   "outputs": [],
   "source": [
    "# выделим данные за актуальный период\n",
    "actual_data = data[data['event_date'] > '2019-07-31']"
   ]
  },
  {
   "cell_type": "code",
   "execution_count": 14,
   "metadata": {},
   "outputs": [
    {
     "name": "stdout",
     "output_type": "stream",
     "text": [
      "\u001b[1mПотерянные события после фильтрации данных:\u001b[0m 2826 или 1.16 %\n",
      "\u001b[1mПотерянные пользователи после фильтрации данных:\u001b[0m 17 или 0.23 %\n"
     ]
    }
   ],
   "source": [
    "# общее количество событий и пользователей до фильтрации\n",
    "total_events_before = len(data)\n",
    "total_users_before = data['user_id'].nunique()\n",
    "\n",
    "# общее количество событий и пользователей после фильтрации\n",
    "total_events_after = len(actual_data)\n",
    "total_users_after = actual_data['user_id'].nunique()\n",
    "\n",
    "# расчет потерянных событий и пользователей\n",
    "lost_events = total_events_before - total_events_after\n",
    "lost_users = total_users_before - total_users_after\n",
    "\n",
    "# расчет и вывод процентных потерь (округленных до 2 знаков после запятой)\n",
    "percent_events_lost = round((lost_events / total_events_before) * 100, 2)\n",
    "percent_users_lost = round((lost_users / total_users_before) * 100, 2)\n",
    "\n",
    "print(\"\\033[1mПотерянные события после фильтрации данных:\\033[0m\", lost_events, \"или\", percent_events_lost, \"%\")\n",
    "print(\"\\033[1mПотерянные пользователи после фильтрации данных:\\033[0m\", lost_users, \"или\", percent_users_lost, \"%\")"
   ]
  },
  {
   "cell_type": "code",
   "execution_count": 15,
   "metadata": {},
   "outputs": [
    {
     "data": {
      "text/html": [
       "<div>\n",
       "<style scoped>\n",
       "    .dataframe tbody tr th:only-of-type {\n",
       "        vertical-align: middle;\n",
       "    }\n",
       "\n",
       "    .dataframe tbody tr th {\n",
       "        vertical-align: top;\n",
       "    }\n",
       "\n",
       "    .dataframe thead th {\n",
       "        text-align: right;\n",
       "    }\n",
       "</style>\n",
       "<table border=\"1\" class=\"dataframe\">\n",
       "  <thead>\n",
       "    <tr style=\"text-align: right;\">\n",
       "      <th></th>\n",
       "      <th>user_id</th>\n",
       "    </tr>\n",
       "    <tr>\n",
       "      <th>group</th>\n",
       "      <th></th>\n",
       "    </tr>\n",
       "  </thead>\n",
       "  <tbody>\n",
       "    <tr>\n",
       "      <th>246</th>\n",
       "      <td>2484</td>\n",
       "    </tr>\n",
       "    <tr>\n",
       "      <th>247</th>\n",
       "      <td>2513</td>\n",
       "    </tr>\n",
       "    <tr>\n",
       "      <th>248</th>\n",
       "      <td>2537</td>\n",
       "    </tr>\n",
       "  </tbody>\n",
       "</table>\n",
       "</div>"
      ],
      "text/plain": [
       "       user_id\n",
       "group         \n",
       "246       2484\n",
       "247       2513\n",
       "248       2537"
      ]
     },
     "execution_count": 15,
     "metadata": {},
     "output_type": "execute_result"
    }
   ],
   "source": [
    "groups = actual_data.groupby('group').agg({'user_id':'nunique'})\n",
    "groups"
   ]
  },
  {
   "cell_type": "markdown",
   "metadata": {},
   "source": [
    "Было потеряно менее 1% пользователей. В отфильтрованных данных присутствуют пользователи из всех трех групп."
   ]
  },
  {
   "cell_type": "markdown",
   "metadata": {},
   "source": [
    "**Выводы**. В результате проверки мы выделили период, за который предоставлены полные данные: это 1-7 августа 2019 года."
   ]
  },
  {
   "cell_type": "markdown",
   "metadata": {},
   "source": [
    "## Изучение воронки событий"
   ]
  },
  {
   "cell_type": "markdown",
   "metadata": {},
   "source": [
    "Посмотрим, какие события есть в логах, как часто они встречаются."
   ]
  },
  {
   "cell_type": "code",
   "execution_count": 16,
   "metadata": {},
   "outputs": [
    {
     "data": {
      "text/html": [
       "<div>\n",
       "<style scoped>\n",
       "    .dataframe tbody tr th:only-of-type {\n",
       "        vertical-align: middle;\n",
       "    }\n",
       "\n",
       "    .dataframe tbody tr th {\n",
       "        vertical-align: top;\n",
       "    }\n",
       "\n",
       "    .dataframe thead th {\n",
       "        text-align: right;\n",
       "    }\n",
       "</style>\n",
       "<table border=\"1\" class=\"dataframe\">\n",
       "  <thead>\n",
       "    <tr style=\"text-align: right;\">\n",
       "      <th></th>\n",
       "      <th>event</th>\n",
       "      <th>frequency</th>\n",
       "    </tr>\n",
       "  </thead>\n",
       "  <tbody>\n",
       "    <tr>\n",
       "      <th>0</th>\n",
       "      <td>MainScreenAppear</td>\n",
       "      <td>117328</td>\n",
       "    </tr>\n",
       "    <tr>\n",
       "      <th>1</th>\n",
       "      <td>OffersScreenAppear</td>\n",
       "      <td>46333</td>\n",
       "    </tr>\n",
       "    <tr>\n",
       "      <th>2</th>\n",
       "      <td>CartScreenAppear</td>\n",
       "      <td>42303</td>\n",
       "    </tr>\n",
       "    <tr>\n",
       "      <th>3</th>\n",
       "      <td>PaymentScreenSuccessful</td>\n",
       "      <td>33918</td>\n",
       "    </tr>\n",
       "    <tr>\n",
       "      <th>4</th>\n",
       "      <td>Tutorial</td>\n",
       "      <td>1005</td>\n",
       "    </tr>\n",
       "  </tbody>\n",
       "</table>\n",
       "</div>"
      ],
      "text/plain": [
       "                     event  frequency\n",
       "0         MainScreenAppear     117328\n",
       "1       OffersScreenAppear      46333\n",
       "2         CartScreenAppear      42303\n",
       "3  PaymentScreenSuccessful      33918\n",
       "4                 Tutorial       1005"
      ]
     },
     "execution_count": 16,
     "metadata": {},
     "output_type": "execute_result"
    }
   ],
   "source": [
    "# подсчет числа событий каждого типа\n",
    "event_counts = actual_data['event_name'].value_counts().reset_index()\n",
    "event_counts.columns = ['event', 'frequency']\n",
    "event_counts.sort_values(by='frequency', ascending=False)"
   ]
  },
  {
   "cell_type": "markdown",
   "metadata": {},
   "source": [
    "Чаще всего пользователи просматривают главную страницу `MainScreenAppear`. Затем по порядку: страницу с предложениями, страницу корзины, страницу проведенной оплаты. Наименее часто встречается событие обучения `Tutorial`."
   ]
  },
  {
   "cell_type": "code",
   "execution_count": 17,
   "metadata": {},
   "outputs": [
    {
     "data": {
      "text/html": [
       "<div>\n",
       "<style scoped>\n",
       "    .dataframe tbody tr th:only-of-type {\n",
       "        vertical-align: middle;\n",
       "    }\n",
       "\n",
       "    .dataframe tbody tr th {\n",
       "        vertical-align: top;\n",
       "    }\n",
       "\n",
       "    .dataframe thead th {\n",
       "        text-align: right;\n",
       "    }\n",
       "</style>\n",
       "<table border=\"1\" class=\"dataframe\">\n",
       "  <thead>\n",
       "    <tr style=\"text-align: right;\">\n",
       "      <th></th>\n",
       "      <th>event</th>\n",
       "      <th>users</th>\n",
       "      <th>user_fraction</th>\n",
       "    </tr>\n",
       "  </thead>\n",
       "  <tbody>\n",
       "    <tr>\n",
       "      <th>1</th>\n",
       "      <td>MainScreenAppear</td>\n",
       "      <td>7419</td>\n",
       "      <td>98.47%</td>\n",
       "    </tr>\n",
       "    <tr>\n",
       "      <th>2</th>\n",
       "      <td>OffersScreenAppear</td>\n",
       "      <td>4593</td>\n",
       "      <td>60.96%</td>\n",
       "    </tr>\n",
       "    <tr>\n",
       "      <th>0</th>\n",
       "      <td>CartScreenAppear</td>\n",
       "      <td>3734</td>\n",
       "      <td>49.56%</td>\n",
       "    </tr>\n",
       "    <tr>\n",
       "      <th>3</th>\n",
       "      <td>PaymentScreenSuccessful</td>\n",
       "      <td>3539</td>\n",
       "      <td>46.97%</td>\n",
       "    </tr>\n",
       "    <tr>\n",
       "      <th>4</th>\n",
       "      <td>Tutorial</td>\n",
       "      <td>840</td>\n",
       "      <td>11.15%</td>\n",
       "    </tr>\n",
       "  </tbody>\n",
       "</table>\n",
       "</div>"
      ],
      "text/plain": [
       "                     event  users user_fraction\n",
       "1         MainScreenAppear   7419        98.47%\n",
       "2       OffersScreenAppear   4593        60.96%\n",
       "0         CartScreenAppear   3734        49.56%\n",
       "3  PaymentScreenSuccessful   3539        46.97%\n",
       "4                 Tutorial    840        11.15%"
      ]
     },
     "execution_count": 17,
     "metadata": {},
     "output_type": "execute_result"
    }
   ],
   "source": [
    "# считаем пользователей для каждого события\n",
    "users_per_event = actual_data.groupby('event_name')['user_id'].nunique().reset_index()\n",
    "users_per_event.columns = ['event', 'users']\n",
    "users_per_event = users_per_event.sort_values(by='users', ascending=False)\n",
    "\n",
    "# считаем доли пользователей, совершивших каждое событие\n",
    "total_users = actual_data['user_id'].nunique()\n",
    "users_per_event['user_fraction'] = (users_per_event['users'] / total_users).map('{:.2%}'.format)\n",
    "users_per_event"
   ]
  },
  {
   "cell_type": "markdown",
   "metadata": {},
   "source": [
    "Порядок совпадает с порядком распределения количества событий. Исходя из этого построим воронку: \n",
    "1. Просмотр главной страницы  \n",
    "2. Просмотр предложения \n",
    "3. Просмотр корзины \n",
    "4. Просмотр страницы проведенной оплаты\n",
    "\n",
    "Поскольку просмотр инструкции/обучение не являются обязательным этапом, ведущим к продаже, а также выполняется всего лишь 11% пользователей, мы не будем считать его частью воронки."
   ]
  },
  {
   "cell_type": "code",
   "execution_count": 18,
   "metadata": {},
   "outputs": [
    {
     "data": {
      "text/html": [
       "<div>\n",
       "<style scoped>\n",
       "    .dataframe tbody tr th:only-of-type {\n",
       "        vertical-align: middle;\n",
       "    }\n",
       "\n",
       "    .dataframe tbody tr th {\n",
       "        vertical-align: top;\n",
       "    }\n",
       "\n",
       "    .dataframe thead th {\n",
       "        text-align: right;\n",
       "    }\n",
       "</style>\n",
       "<table border=\"1\" class=\"dataframe\">\n",
       "  <thead>\n",
       "    <tr style=\"text-align: right;\">\n",
       "      <th></th>\n",
       "      <th>event</th>\n",
       "      <th>users</th>\n",
       "      <th>user_fraction</th>\n",
       "      <th>conversion</th>\n",
       "    </tr>\n",
       "  </thead>\n",
       "  <tbody>\n",
       "    <tr>\n",
       "      <th>1</th>\n",
       "      <td>MainScreenAppear</td>\n",
       "      <td>7419</td>\n",
       "      <td>98.47%</td>\n",
       "      <td>100.0%</td>\n",
       "    </tr>\n",
       "    <tr>\n",
       "      <th>2</th>\n",
       "      <td>OffersScreenAppear</td>\n",
       "      <td>4593</td>\n",
       "      <td>60.96%</td>\n",
       "      <td>61.9%</td>\n",
       "    </tr>\n",
       "    <tr>\n",
       "      <th>0</th>\n",
       "      <td>CartScreenAppear</td>\n",
       "      <td>3734</td>\n",
       "      <td>49.56%</td>\n",
       "      <td>81.3%</td>\n",
       "    </tr>\n",
       "    <tr>\n",
       "      <th>3</th>\n",
       "      <td>PaymentScreenSuccessful</td>\n",
       "      <td>3539</td>\n",
       "      <td>46.97%</td>\n",
       "      <td>94.8%</td>\n",
       "    </tr>\n",
       "  </tbody>\n",
       "</table>\n",
       "</div>"
      ],
      "text/plain": [
       "                     event  users user_fraction conversion\n",
       "1         MainScreenAppear   7419        98.47%     100.0%\n",
       "2       OffersScreenAppear   4593        60.96%      61.9%\n",
       "0         CartScreenAppear   3734        49.56%      81.3%\n",
       "3  PaymentScreenSuccessful   3539        46.97%      94.8%"
      ]
     },
     "execution_count": 18,
     "metadata": {},
     "output_type": "execute_result"
    }
   ],
   "source": [
    "# убираем последний шаг \"Tutorial\" из воронки\n",
    "funnel = users_per_event[users_per_event['event'] != 'Tutorial'].copy()\n",
    "\n",
    "# рассчитываем долю пользователей, переходящих на следующий этап воронки\n",
    "funnel['conversion'] = funnel['users'] / funnel['users'].shift(1)\n",
    "funnel = funnel.fillna(1) # заполняем NaN в первой строке значением 1\n",
    "# выведем конверсию в процентах\n",
    "funnel['conversion'] = funnel['conversion'].map('{:.1%}'.format)\n",
    "\n",
    "funnel"
   ]
  },
  {
   "cell_type": "code",
   "execution_count": 19,
   "metadata": {},
   "outputs": [
    {
     "data": {
      "text/html": [
       "<div>\n",
       "<style scoped>\n",
       "    .dataframe tbody tr th:only-of-type {\n",
       "        vertical-align: middle;\n",
       "    }\n",
       "\n",
       "    .dataframe tbody tr th {\n",
       "        vertical-align: top;\n",
       "    }\n",
       "\n",
       "    .dataframe thead th {\n",
       "        text-align: right;\n",
       "    }\n",
       "</style>\n",
       "<table border=\"1\" class=\"dataframe\">\n",
       "  <thead>\n",
       "    <tr style=\"text-align: right;\">\n",
       "      <th></th>\n",
       "      <th>event</th>\n",
       "      <th>users</th>\n",
       "      <th>user_fraction</th>\n",
       "      <th>conversion</th>\n",
       "      <th>user_loss</th>\n",
       "    </tr>\n",
       "  </thead>\n",
       "  <tbody>\n",
       "    <tr>\n",
       "      <th>1</th>\n",
       "      <td>MainScreenAppear</td>\n",
       "      <td>7419</td>\n",
       "      <td>98.47%</td>\n",
       "      <td>100.0%</td>\n",
       "      <td>NaN</td>\n",
       "    </tr>\n",
       "    <tr>\n",
       "      <th>2</th>\n",
       "      <td>OffersScreenAppear</td>\n",
       "      <td>4593</td>\n",
       "      <td>60.96%</td>\n",
       "      <td>61.9%</td>\n",
       "      <td>-2826.0</td>\n",
       "    </tr>\n",
       "    <tr>\n",
       "      <th>0</th>\n",
       "      <td>CartScreenAppear</td>\n",
       "      <td>3734</td>\n",
       "      <td>49.56%</td>\n",
       "      <td>81.3%</td>\n",
       "      <td>-859.0</td>\n",
       "    </tr>\n",
       "    <tr>\n",
       "      <th>3</th>\n",
       "      <td>PaymentScreenSuccessful</td>\n",
       "      <td>3539</td>\n",
       "      <td>46.97%</td>\n",
       "      <td>94.8%</td>\n",
       "      <td>-195.0</td>\n",
       "    </tr>\n",
       "  </tbody>\n",
       "</table>\n",
       "</div>"
      ],
      "text/plain": [
       "                     event  users user_fraction conversion  user_loss\n",
       "1         MainScreenAppear   7419        98.47%     100.0%        NaN\n",
       "2       OffersScreenAppear   4593        60.96%      61.9%    -2826.0\n",
       "0         CartScreenAppear   3734        49.56%      81.3%     -859.0\n",
       "3  PaymentScreenSuccessful   3539        46.97%      94.8%     -195.0"
      ]
     },
     "execution_count": 19,
     "metadata": {},
     "output_type": "execute_result"
    }
   ],
   "source": [
    "# рассчитываем разницу в количестве пользователей между этапами воронки\n",
    "funnel['user_loss'] = funnel['users'].diff()\n",
    "funnel"
   ]
  },
  {
   "cell_type": "markdown",
   "metadata": {},
   "source": [
    "Больше всего пользователей теряется после первого шага — просмотра главного экрана (*MainScreenAppear*)."
   ]
  },
  {
   "cell_type": "code",
   "execution_count": 20,
   "metadata": {},
   "outputs": [
    {
     "name": "stdout",
     "output_type": "stream",
     "text": [
      "Доля пользователей, дошедших от первого этапа до оплаты: 47.70%\n"
     ]
    }
   ],
   "source": [
    "# найдем долю пользователей, дошедших от первого этапа до оплаты\n",
    "conversion_from_main_to_payment = funnel.iloc[-1]['users'] / funnel.iloc[0]['users']\n",
    "\n",
    "print(\"Доля пользователей, дошедших от первого этапа до оплаты:\", '{:.2%}'.format(conversion_from_main_to_payment))"
   ]
  },
  {
   "cell_type": "markdown",
   "metadata": {},
   "source": [
    "**Выводы**. Мы построили воронку событий и выяснили, что до последнего этапа покупки доходит менее половины пользователей."
   ]
  },
  {
   "cell_type": "markdown",
   "metadata": {},
   "source": [
    "## Изучение результатов эксперимента"
   ]
  },
  {
   "cell_type": "markdown",
   "metadata": {},
   "source": [
    "Выясним, повлияло ли изменение шрифтов на поведение пользователей приложения. "
   ]
  },
  {
   "cell_type": "code",
   "execution_count": 21,
   "metadata": {},
   "outputs": [
    {
     "data": {
      "text/html": [
       "<div>\n",
       "<style scoped>\n",
       "    .dataframe tbody tr th:only-of-type {\n",
       "        vertical-align: middle;\n",
       "    }\n",
       "\n",
       "    .dataframe tbody tr th {\n",
       "        vertical-align: top;\n",
       "    }\n",
       "\n",
       "    .dataframe thead th {\n",
       "        text-align: right;\n",
       "    }\n",
       "</style>\n",
       "<table border=\"1\" class=\"dataframe\">\n",
       "  <thead>\n",
       "    <tr style=\"text-align: right;\">\n",
       "      <th></th>\n",
       "      <th>user_id</th>\n",
       "    </tr>\n",
       "    <tr>\n",
       "      <th>group</th>\n",
       "      <th></th>\n",
       "    </tr>\n",
       "  </thead>\n",
       "  <tbody>\n",
       "    <tr>\n",
       "      <th>246</th>\n",
       "      <td>2484</td>\n",
       "    </tr>\n",
       "    <tr>\n",
       "      <th>247</th>\n",
       "      <td>2513</td>\n",
       "    </tr>\n",
       "    <tr>\n",
       "      <th>248</th>\n",
       "      <td>2537</td>\n",
       "    </tr>\n",
       "  </tbody>\n",
       "</table>\n",
       "</div>"
      ],
      "text/plain": [
       "       user_id\n",
       "group         \n",
       "246       2484\n",
       "247       2513\n",
       "248       2537"
      ]
     },
     "execution_count": 21,
     "metadata": {},
     "output_type": "execute_result"
    }
   ],
   "source": [
    "groups"
   ]
  },
  {
   "cell_type": "markdown",
   "metadata": {},
   "source": [
    "Группы 246 и 247 — контрольные (A), 248 — экспериментальная (B). Сперва проведём A/A-тест и выясним, равны ли две контрольные группы.\n",
    "\n",
    "В ходе проверки данных мы выяснили, что траффик разделен корректно и ни один пользователь не попал в несколько групп. Теперь проверим, что различие в количестве пользователей двух групп не превышает 1%."
   ]
  },
  {
   "cell_type": "code",
   "execution_count": 22,
   "metadata": {},
   "outputs": [
    {
     "name": "stdout",
     "output_type": "stream",
     "text": [
      "Процентное различие в размерах групп 246 и 247: 1.17%\n"
     ]
    }
   ],
   "source": [
    "# найдем количество пользователей в группах 246 и 247\n",
    "users_246 = actual_data[actual_data['group'] == 246]['user_id'].nunique()\n",
    "users_247 = actual_data[actual_data['group'] == 247]['user_id'].nunique()\n",
    "\n",
    "# вычислим процентное различие в размерах групп\n",
    "percentage_difference = ((users_247 - users_246) / users_246) * 100\n",
    "\n",
    "print(f\"Процентное различие в размерах групп 246 и 247: {percentage_difference:.2f}%\")"
   ]
  },
  {
   "cell_type": "markdown",
   "metadata": {},
   "source": [
    "В данном случае различие оказалось чуть более 1%, такая погрешность кажется не критичной, поэтому будем считать, что критерий равенства количества пользователей в группах выполнен. Перейдем к проверке различий по метрикам."
   ]
  },
  {
   "cell_type": "code",
   "execution_count": 23,
   "metadata": {},
   "outputs": [
    {
     "data": {
      "text/html": [
       "<div>\n",
       "<style scoped>\n",
       "    .dataframe tbody tr th:only-of-type {\n",
       "        vertical-align: middle;\n",
       "    }\n",
       "\n",
       "    .dataframe tbody tr th {\n",
       "        vertical-align: top;\n",
       "    }\n",
       "\n",
       "    .dataframe thead th {\n",
       "        text-align: right;\n",
       "    }\n",
       "</style>\n",
       "<table border=\"1\" class=\"dataframe\">\n",
       "  <thead>\n",
       "    <tr style=\"text-align: right;\">\n",
       "      <th></th>\n",
       "      <th>event_name</th>\n",
       "      <th>difference (%)</th>\n",
       "    </tr>\n",
       "  </thead>\n",
       "  <tbody>\n",
       "    <tr>\n",
       "      <th>0</th>\n",
       "      <td>CartScreenAppear</td>\n",
       "      <td>-2.21</td>\n",
       "    </tr>\n",
       "    <tr>\n",
       "      <th>1</th>\n",
       "      <td>MainScreenAppear</td>\n",
       "      <td>1.06</td>\n",
       "    </tr>\n",
       "    <tr>\n",
       "      <th>2</th>\n",
       "      <td>OffersScreenAppear</td>\n",
       "      <td>-1.43</td>\n",
       "    </tr>\n",
       "    <tr>\n",
       "      <th>3</th>\n",
       "      <td>PaymentScreenSuccessful</td>\n",
       "      <td>-3.50</td>\n",
       "    </tr>\n",
       "  </tbody>\n",
       "</table>\n",
       "</div>"
      ],
      "text/plain": [
       "                event_name  difference (%)\n",
       "0         CartScreenAppear           -2.21\n",
       "1         MainScreenAppear            1.06\n",
       "2       OffersScreenAppear           -1.43\n",
       "3  PaymentScreenSuccessful           -3.50"
      ]
     },
     "execution_count": 23,
     "metadata": {},
     "output_type": "execute_result"
    }
   ],
   "source": [
    "# выделяем данные для контрольных групп без событий Tutorial\n",
    "group_246 = actual_data[(actual_data['group'] == 246) & (actual_data['event_name'] != 'Tutorial')]\n",
    "group_247 = actual_data[(actual_data['group'] == 247) & (actual_data['event_name'] != 'Tutorial')]\n",
    "\n",
    "# считаем количество пользователей на каждом этапе воронки для каждой контрольной группы\n",
    "group_246_metrics = group_246.groupby('event_name')['user_id'].nunique()\n",
    "group_247_metrics = group_247.groupby('event_name')['user_id'].nunique()\n",
    "\n",
    "# вычисляем разницу\n",
    "difference = ((group_247_metrics - group_246_metrics) / group_246_metrics * 100).reset_index().round(2)\n",
    "difference.rename(columns={'user_id': 'difference (%)'}, inplace=True)\n",
    "difference"
   ]
  },
  {
   "cell_type": "markdown",
   "metadata": {},
   "source": [
    "Разница в количестве пользователей на каждом этапе превышает 1%, однако эта разница также не кажется критичной. Перейдём к проверке статистической значимости различий."
   ]
  },
  {
   "cell_type": "markdown",
   "metadata": {},
   "source": [
    "Поскольку мы будем сравнивать доли пользователей между контрольными группами, мы используем z-тест для разности долей. Этот тест позволит определить, статистически значимо ли различие в долях пользователей, перешедших на определенные этапы воронки. "
   ]
  },
  {
   "cell_type": "code",
   "execution_count": 24,
   "metadata": {},
   "outputs": [
    {
     "data": {
      "text/html": [
       "<div>\n",
       "<style scoped>\n",
       "    .dataframe tbody tr th:only-of-type {\n",
       "        vertical-align: middle;\n",
       "    }\n",
       "\n",
       "    .dataframe tbody tr th {\n",
       "        vertical-align: top;\n",
       "    }\n",
       "\n",
       "    .dataframe thead th {\n",
       "        text-align: right;\n",
       "    }\n",
       "</style>\n",
       "<table border=\"1\" class=\"dataframe\">\n",
       "  <thead>\n",
       "    <tr style=\"text-align: right;\">\n",
       "      <th>group</th>\n",
       "      <th>246</th>\n",
       "      <th>247</th>\n",
       "      <th>248</th>\n",
       "    </tr>\n",
       "    <tr>\n",
       "      <th>event_name</th>\n",
       "      <th></th>\n",
       "      <th></th>\n",
       "      <th></th>\n",
       "    </tr>\n",
       "  </thead>\n",
       "  <tbody>\n",
       "    <tr>\n",
       "      <th>MainScreenAppear</th>\n",
       "      <td>2450</td>\n",
       "      <td>2476</td>\n",
       "      <td>2493</td>\n",
       "    </tr>\n",
       "    <tr>\n",
       "      <th>OffersScreenAppear</th>\n",
       "      <td>1542</td>\n",
       "      <td>1520</td>\n",
       "      <td>1531</td>\n",
       "    </tr>\n",
       "    <tr>\n",
       "      <th>CartScreenAppear</th>\n",
       "      <td>1266</td>\n",
       "      <td>1238</td>\n",
       "      <td>1230</td>\n",
       "    </tr>\n",
       "    <tr>\n",
       "      <th>PaymentScreenSuccessful</th>\n",
       "      <td>1200</td>\n",
       "      <td>1158</td>\n",
       "      <td>1181</td>\n",
       "    </tr>\n",
       "  </tbody>\n",
       "</table>\n",
       "</div>"
      ],
      "text/plain": [
       "group                     246   247   248\n",
       "event_name                               \n",
       "MainScreenAppear         2450  2476  2493\n",
       "OffersScreenAppear       1542  1520  1531\n",
       "CartScreenAppear         1266  1238  1230\n",
       "PaymentScreenSuccessful  1200  1158  1181"
      ]
     },
     "execution_count": 24,
     "metadata": {},
     "output_type": "execute_result"
    }
   ],
   "source": [
    "# создадим датафрейм без событий Tutorial\n",
    "test_data = actual_data.query('event_name != \"Tutorial\"')\n",
    "\n",
    "# создадим сводную таблицу с нужными данными \n",
    "test_pivot = test_data.pivot_table(index='event_name', columns='group',values='user_id',aggfunc='nunique').sort_values(by=246, ascending=False)\n",
    "test_pivot"
   ]
  },
  {
   "cell_type": "code",
   "execution_count": 25,
   "metadata": {},
   "outputs": [],
   "source": [
    "def z_test(group1, group2, alpha=0.05): \n",
    "    \n",
    "    # вычисляем количество событий в первой и второй группах\n",
    "    p1_events = test_pivot.loc[event, group1]\n",
    "    p2_events = test_pivot.loc[event, group2] \n",
    "    \n",
    "    # получаем количество уникальных пользователей в первой и второй группах\n",
    "    p1_users = groups.loc[group1, 'user_id'] \n",
    "    p2_users = groups.loc[group2, 'user_id'] \n",
    "    \n",
    "    # вычисляем долю пользователей, совершивших событие, в каждой группе\n",
    "    p1 = p1_events / p1_users\n",
    "    p2 = p2_events / p2_users \n",
    "    \n",
    "    # вычисляем разницу между долями пользователей в группах\n",
    "    difference = p1 - p2\n",
    "    \n",
    "    # вычисляем общую долю пользователей для объединенных данных\n",
    "    p_combined = (p1_events + p2_events) / (p1_users + p2_users) \n",
    "    \n",
    "    # считаем статистику в ст.отклонениях стандартного нормального распределения\n",
    "    z_value = difference / mth.sqrt(p_combined * (1 - p_combined) * (1 / p1_users + 1 / p2_users))\n",
    "    \n",
    "    # задаем стандартное нормальное распределение (среднее 0, ст.отклонение 1)\n",
    "    distr = st.norm(0, 1)\n",
    "    \n",
    "    # вычисляем p-value для двустороннего теста\n",
    "    p_value = (1 - distr.cdf(abs(z_value))) * 2\n",
    "    \n",
    "    print(\"\\033[1m{}\\033[0m\".format(event))\n",
    "    print('p-value: {:.3f}'.format(p_value))\n",
    "\n",
    "    # проверяем статистическую значимость и выводим результат\n",
    "    if (p_value < alpha):\n",
    "        print(\"Отвергаем нулевую гипотезу: между долями есть значимая разница\")\n",
    "    else:\n",
    "        print(\"Нельзя отвергнуть нулевую гипотезу: между долями нет значимой разницы\")\n"
   ]
  },
  {
   "cell_type": "code",
   "execution_count": 26,
   "metadata": {},
   "outputs": [
    {
     "name": "stdout",
     "output_type": "stream",
     "text": [
      "\u001b[1mMainScreenAppear\u001b[0m\n",
      "p-value: 0.757\n",
      "Нельзя отвергнуть нулевую гипотезу: между долями нет значимой разницы\n",
      "\u001b[1mOffersScreenAppear\u001b[0m\n",
      "p-value: 0.248\n",
      "Нельзя отвергнуть нулевую гипотезу: между долями нет значимой разницы\n",
      "\u001b[1mCartScreenAppear\u001b[0m\n",
      "p-value: 0.229\n",
      "Нельзя отвергнуть нулевую гипотезу: между долями нет значимой разницы\n",
      "\u001b[1mPaymentScreenSuccessful\u001b[0m\n",
      "p-value: 0.115\n",
      "Нельзя отвергнуть нулевую гипотезу: между долями нет значимой разницы\n"
     ]
    }
   ],
   "source": [
    "# запускаем функцию для двух контрольных групп\n",
    "for event in test_pivot.index:\n",
    "    z_test(246, 247)"
   ]
  },
  {
   "cell_type": "markdown",
   "metadata": {},
   "source": [
    "Видим, что разница между группами ни по одному событию не имеет статистической значимости. Таким образом, все критерии выполнены и A/A-тест можно считать успешным: группы разделены корректно."
   ]
  },
  {
   "cell_type": "markdown",
   "metadata": {},
   "source": [
    "Перейдем к A/B-тесту и сравним первую контрольную группу 246 с экспериментальной 248. "
   ]
  },
  {
   "cell_type": "code",
   "execution_count": 27,
   "metadata": {},
   "outputs": [
    {
     "name": "stdout",
     "output_type": "stream",
     "text": [
      "\u001b[1mГруппы 246 и 248\u001b[0m\n",
      "\u001b[1mMainScreenAppear\u001b[0m\n",
      "p-value: 0.295\n",
      "Нельзя отвергнуть нулевую гипотезу: между долями нет значимой разницы\n",
      "\u001b[1mOffersScreenAppear\u001b[0m\n",
      "p-value: 0.208\n",
      "Нельзя отвергнуть нулевую гипотезу: между долями нет значимой разницы\n",
      "\u001b[1mCartScreenAppear\u001b[0m\n",
      "p-value: 0.078\n",
      "Нельзя отвергнуть нулевую гипотезу: между долями нет значимой разницы\n",
      "\u001b[1mPaymentScreenSuccessful\u001b[0m\n",
      "p-value: 0.212\n",
      "Нельзя отвергнуть нулевую гипотезу: между долями нет значимой разницы\n"
     ]
    }
   ],
   "source": [
    "print(\"\\033[1mГруппы 246 и 248\\033[0m\")\n",
    "for event in test_pivot.index:\n",
    "    z_test(246, 248)"
   ]
  },
  {
   "cell_type": "markdown",
   "metadata": {},
   "source": [
    "Видим, что ни по одному событию не выявлено статистически значимого различия между группами. Перейдём к сравнению второй контрольной группы."
   ]
  },
  {
   "cell_type": "code",
   "execution_count": 28,
   "metadata": {},
   "outputs": [
    {
     "name": "stdout",
     "output_type": "stream",
     "text": [
      "\u001b[1mГруппы 247 и 248\u001b[0m\n",
      "\u001b[1mMainScreenAppear\u001b[0m\n",
      "p-value: 0.459\n",
      "Нельзя отвергнуть нулевую гипотезу: между долями нет значимой разницы\n",
      "\u001b[1mOffersScreenAppear\u001b[0m\n",
      "p-value: 0.920\n",
      "Нельзя отвергнуть нулевую гипотезу: между долями нет значимой разницы\n",
      "\u001b[1mCartScreenAppear\u001b[0m\n",
      "p-value: 0.579\n",
      "Нельзя отвергнуть нулевую гипотезу: между долями нет значимой разницы\n",
      "\u001b[1mPaymentScreenSuccessful\u001b[0m\n",
      "p-value: 0.737\n",
      "Нельзя отвергнуть нулевую гипотезу: между долями нет значимой разницы\n"
     ]
    }
   ],
   "source": [
    "print(\"\\033[1mГруппы 247 и 248\\033[0m\")\n",
    "for event in test_pivot.index:\n",
    "    z_test(247, 248)"
   ]
  },
  {
   "cell_type": "markdown",
   "metadata": {},
   "source": [
    "Статистически значимое различие между группами снова не выявлено. Теперь сравним результаты с объединённой контрольной группой. "
   ]
  },
  {
   "cell_type": "code",
   "execution_count": 29,
   "metadata": {},
   "outputs": [],
   "source": [
    "# создадим столбец 'two_control_groups' в таблице test_pivot как сумму групп 246 и 247\n",
    "test_pivot['two_control_groups'] = test_pivot[246] + test_pivot[247]\n",
    "# добавим количество пользователей в объединенной группе\n",
    "groups.loc['two_control_groups'] = groups.loc[[246, 247], 'user_id'].sum()"
   ]
  },
  {
   "cell_type": "code",
   "execution_count": 30,
   "metadata": {},
   "outputs": [
    {
     "name": "stdout",
     "output_type": "stream",
     "text": [
      "\u001b[1mСравнение с объединенной контрольной группой\u001b[0m\n",
      "\u001b[1mMainScreenAppear\u001b[0m\n",
      "p-value: 0.294\n",
      "Нельзя отвергнуть нулевую гипотезу: между долями нет значимой разницы\n",
      "\u001b[1mOffersScreenAppear\u001b[0m\n",
      "p-value: 0.434\n",
      "Нельзя отвергнуть нулевую гипотезу: между долями нет значимой разницы\n",
      "\u001b[1mCartScreenAppear\u001b[0m\n",
      "p-value: 0.182\n",
      "Нельзя отвергнуть нулевую гипотезу: между долями нет значимой разницы\n",
      "\u001b[1mPaymentScreenSuccessful\u001b[0m\n",
      "p-value: 0.600\n",
      "Нельзя отвергнуть нулевую гипотезу: между долями нет значимой разницы\n"
     ]
    }
   ],
   "source": [
    "print(\"\\033[1mСравнение с объединенной контрольной группой\\033[0m\")\n",
    "for event in test_pivot.index:\n",
    "    z_test('two_control_groups', 248)"
   ]
  },
  {
   "cell_type": "markdown",
   "metadata": {},
   "source": [
    "Сравнение с объединенной контрольной группой также не выявило статистически значимой разницы."
   ]
  },
  {
   "cell_type": "markdown",
   "metadata": {},
   "source": [
    "При проверке гипотез мы выбрали стандартный уровень значимости 0.05. Всего было проведено 16 проверок, из которых 4 для A/A-теста и еще 12 для сравнения разных групп в А/B-тесте: это множественное сравнение, для которого необходимо корректировать уровень значимости, например, по методу Бонферрони, который является одним из самых распространенных, чтобы исключить вероятность ложноположительного результата. Однако, поскольку ни одна проверка не показала положительный результат, т.е. ни в одном случае мы не смогли опровергнуть нулевую гипотезу, поправка по методу Бонферрони, по сути ужесточающая критерии проверки, не изменит результат исследования."
   ]
  },
  {
   "cell_type": "markdown",
   "metadata": {},
   "source": [
    "**Выводы**. В ходе теста не удалось выявить статистически значимое различие между группами, следовательно, изменение шрифтов не повлияло на поведение пользователей."
   ]
  },
  {
   "cell_type": "markdown",
   "metadata": {},
   "source": [
    "## Выводы"
   ]
  },
  {
   "cell_type": "markdown",
   "metadata": {},
   "source": [
    "В ходе исследования мы построили воронку событий, в которую входят следующие этапы: просмотр главной страницы, просмотр предложения, просмотр корзины, просмотр страницы проведенной оплаты. Мы выяснили, что до финального шага воронки — т.е. до покупки — доходят менее половины всех пользователей (48%). Больше всего пользователей (~40%) уходят после просмотра главной страницы. \n",
    "\n",
    "Затем мы проверили, повлияло ли изменение шрифтов на поведение пользователей. Убедившись в корректности разделения траффика с помощью A/A-теста, мы провели A/B-тест, который показал, что поведение пользователей не изменилось: статистически значимых изменений обнаружено не было. \n",
    "\n",
    "Исходя из результатов исследования, можно дать следующие **рекомендации**: \n",
    "1. Изменение шрифтов не повлияло на поведение пользователей в лучшую сторону и не увеличило конверсию в покупку. Однако при этом оно и не ухудшило ситуацию. Если изменение шрифтов является частью общего ребрендинга и необходимым этапом, то ввести такое изменение без потери продаж — можно. \n",
    "2. Необходимо провести анализ функциональности приложения и, в частности, привлекательность и удобство главной страницы, с которой уходит бОльшая часть пользователей."
   ]
  }
 ],
 "metadata": {
  "ExecuteTimeLog": [
   {
    "duration": 1570,
    "start_time": "2023-09-06T21:27:19.624Z"
   },
   {
    "duration": 754,
    "start_time": "2023-09-06T21:28:11.724Z"
   },
   {
    "duration": 205,
    "start_time": "2023-09-06T21:28:16.732Z"
   },
   {
    "duration": 217,
    "start_time": "2023-09-06T21:28:27.192Z"
   },
   {
    "duration": 33,
    "start_time": "2023-09-06T21:29:01.764Z"
   },
   {
    "duration": 130,
    "start_time": "2023-09-06T21:30:46.036Z"
   },
   {
    "duration": 69,
    "start_time": "2023-09-06T21:30:50.734Z"
   },
   {
    "duration": 74,
    "start_time": "2023-09-06T21:30:54.256Z"
   },
   {
    "duration": 72,
    "start_time": "2023-09-06T21:31:17.521Z"
   },
   {
    "duration": 79,
    "start_time": "2023-09-06T21:31:37.576Z"
   },
   {
    "duration": 112,
    "start_time": "2023-09-06T21:31:59.473Z"
   },
   {
    "duration": 84,
    "start_time": "2023-09-06T21:32:08.092Z"
   },
   {
    "duration": 93,
    "start_time": "2023-09-06T21:32:42.236Z"
   },
   {
    "duration": 156,
    "start_time": "2023-09-06T21:32:49.095Z"
   },
   {
    "duration": 137,
    "start_time": "2023-09-06T21:32:52.822Z"
   },
   {
    "duration": 87,
    "start_time": "2023-09-06T21:32:54.991Z"
   },
   {
    "duration": 83,
    "start_time": "2023-09-06T21:33:28.431Z"
   },
   {
    "duration": 102,
    "start_time": "2023-09-06T21:33:46.618Z"
   },
   {
    "duration": 106,
    "start_time": "2023-09-06T21:33:56.396Z"
   },
   {
    "duration": 91,
    "start_time": "2023-09-06T21:35:08.488Z"
   },
   {
    "duration": 142,
    "start_time": "2023-09-06T21:35:14.272Z"
   },
   {
    "duration": 4,
    "start_time": "2023-09-06T21:40:34.842Z"
   },
   {
    "duration": 22,
    "start_time": "2023-09-06T21:40:42.166Z"
   },
   {
    "duration": 3,
    "start_time": "2023-09-06T21:40:45.460Z"
   },
   {
    "duration": 101,
    "start_time": "2023-09-06T21:41:49.537Z"
   },
   {
    "duration": 61,
    "start_time": "2023-09-06T21:42:05.296Z"
   },
   {
    "duration": 5,
    "start_time": "2023-09-06T21:42:20.488Z"
   },
   {
    "duration": 101,
    "start_time": "2023-09-06T21:43:46.433Z"
   },
   {
    "duration": 8,
    "start_time": "2023-09-06T21:43:48.944Z"
   },
   {
    "duration": 5,
    "start_time": "2023-09-06T21:44:34.799Z"
   },
   {
    "duration": 1219,
    "start_time": "2023-09-06T21:45:31.263Z"
   },
   {
    "duration": 31,
    "start_time": "2023-09-06T21:45:44.492Z"
   },
   {
    "duration": 5,
    "start_time": "2023-09-06T21:45:45.872Z"
   },
   {
    "duration": 6,
    "start_time": "2023-09-06T21:46:06.244Z"
   },
   {
    "duration": 4,
    "start_time": "2023-09-06T21:46:11.680Z"
   },
   {
    "duration": 174,
    "start_time": "2023-09-06T21:46:44.692Z"
   },
   {
    "duration": 4,
    "start_time": "2023-09-06T21:46:47.549Z"
   },
   {
    "duration": 1043,
    "start_time": "2023-09-06T21:48:47.648Z"
   },
   {
    "duration": 1251,
    "start_time": "2023-09-06T21:49:09.459Z"
   },
   {
    "duration": 27,
    "start_time": "2023-09-06T21:49:11.340Z"
   },
   {
    "duration": 27,
    "start_time": "2023-09-06T21:49:30.070Z"
   },
   {
    "duration": 31,
    "start_time": "2023-09-06T21:50:36.191Z"
   },
   {
    "duration": 38,
    "start_time": "2023-09-06T21:50:47.286Z"
   },
   {
    "duration": 23,
    "start_time": "2023-09-06T21:50:51.489Z"
   },
   {
    "duration": 5,
    "start_time": "2023-09-06T21:52:52.426Z"
   },
   {
    "duration": 11,
    "start_time": "2023-09-06T21:53:18.680Z"
   },
   {
    "duration": 5,
    "start_time": "2023-09-06T21:55:07.736Z"
   },
   {
    "duration": 7,
    "start_time": "2023-09-06T21:55:26.018Z"
   },
   {
    "duration": 5,
    "start_time": "2023-09-06T21:57:05.126Z"
   },
   {
    "duration": 5,
    "start_time": "2023-09-06T21:57:12.584Z"
   },
   {
    "duration": 5,
    "start_time": "2023-09-06T21:57:20.630Z"
   },
   {
    "duration": 4,
    "start_time": "2023-09-06T21:57:25.535Z"
   },
   {
    "duration": 71,
    "start_time": "2023-09-06T21:57:58.382Z"
   },
   {
    "duration": 10,
    "start_time": "2023-09-06T21:58:02.723Z"
   },
   {
    "duration": 4,
    "start_time": "2023-09-06T22:05:30.875Z"
   },
   {
    "duration": 10,
    "start_time": "2023-09-06T22:06:26.797Z"
   },
   {
    "duration": 14,
    "start_time": "2023-09-06T22:06:34.652Z"
   },
   {
    "duration": 17,
    "start_time": "2023-09-06T22:06:39.476Z"
   },
   {
    "duration": 9,
    "start_time": "2023-09-06T22:06:43.496Z"
   },
   {
    "duration": 64,
    "start_time": "2023-09-06T22:07:08.591Z"
   },
   {
    "duration": 10,
    "start_time": "2023-09-06T22:07:10.596Z"
   },
   {
    "duration": 8,
    "start_time": "2023-09-06T22:07:45.964Z"
   },
   {
    "duration": 420,
    "start_time": "2023-09-06T22:10:11.268Z"
   },
   {
    "duration": 315,
    "start_time": "2023-09-06T22:10:46.924Z"
   },
   {
    "duration": 778,
    "start_time": "2023-09-06T22:12:44.913Z"
   },
   {
    "duration": 325,
    "start_time": "2023-09-06T22:13:48.342Z"
   },
   {
    "duration": 363,
    "start_time": "2023-09-06T22:14:32.333Z"
   },
   {
    "duration": 379,
    "start_time": "2023-09-06T22:14:55.363Z"
   },
   {
    "duration": 414,
    "start_time": "2023-09-06T22:16:06.365Z"
   },
   {
    "duration": 5,
    "start_time": "2023-09-06T22:21:38.227Z"
   },
   {
    "duration": 6,
    "start_time": "2023-09-06T22:21:52.275Z"
   },
   {
    "duration": 4,
    "start_time": "2023-09-06T22:21:56.323Z"
   },
   {
    "duration": 5,
    "start_time": "2023-09-06T22:22:09.451Z"
   },
   {
    "duration": 10,
    "start_time": "2023-09-06T22:22:42.879Z"
   },
   {
    "duration": 4,
    "start_time": "2023-09-06T22:22:45.707Z"
   },
   {
    "duration": 4,
    "start_time": "2023-09-06T22:26:53.518Z"
   },
   {
    "duration": 1423,
    "start_time": "2023-09-06T22:27:24.146Z"
   },
   {
    "duration": 215,
    "start_time": "2023-09-06T22:27:25.572Z"
   },
   {
    "duration": 40,
    "start_time": "2023-09-06T22:27:25.789Z"
   },
   {
    "duration": 109,
    "start_time": "2023-09-06T22:27:25.832Z"
   },
   {
    "duration": 173,
    "start_time": "2023-09-06T22:27:25.943Z"
   },
   {
    "duration": 5,
    "start_time": "2023-09-06T22:27:26.120Z"
   },
   {
    "duration": 31,
    "start_time": "2023-09-06T22:27:26.127Z"
   },
   {
    "duration": 4,
    "start_time": "2023-09-06T22:27:26.160Z"
   },
   {
    "duration": 23,
    "start_time": "2023-09-06T22:27:26.166Z"
   },
   {
    "duration": 36,
    "start_time": "2023-09-06T22:27:26.192Z"
   },
   {
    "duration": 7,
    "start_time": "2023-09-06T22:27:26.230Z"
   },
   {
    "duration": 476,
    "start_time": "2023-09-06T22:27:26.239Z"
   },
   {
    "duration": 6,
    "start_time": "2023-09-06T22:27:26.717Z"
   },
   {
    "duration": 131,
    "start_time": "2023-09-06T22:27:26.725Z"
   },
   {
    "duration": 13,
    "start_time": "2023-09-06T22:27:56.385Z"
   },
   {
    "duration": 7,
    "start_time": "2023-09-06T22:28:22.702Z"
   },
   {
    "duration": 21,
    "start_time": "2023-09-06T22:28:54.081Z"
   },
   {
    "duration": 1655,
    "start_time": "2023-09-06T22:29:00.202Z"
   },
   {
    "duration": 230,
    "start_time": "2023-09-06T22:29:01.859Z"
   },
   {
    "duration": 38,
    "start_time": "2023-09-06T22:29:02.091Z"
   },
   {
    "duration": 108,
    "start_time": "2023-09-06T22:29:02.131Z"
   },
   {
    "duration": 206,
    "start_time": "2023-09-06T22:29:02.242Z"
   },
   {
    "duration": 5,
    "start_time": "2023-09-06T22:29:02.451Z"
   },
   {
    "duration": 61,
    "start_time": "2023-09-06T22:29:02.458Z"
   },
   {
    "duration": 7,
    "start_time": "2023-09-06T22:29:02.522Z"
   },
   {
    "duration": 29,
    "start_time": "2023-09-06T22:29:02.532Z"
   },
   {
    "duration": 12,
    "start_time": "2023-09-06T22:29:02.563Z"
   },
   {
    "duration": 12,
    "start_time": "2023-09-06T22:29:02.577Z"
   },
   {
    "duration": 486,
    "start_time": "2023-09-06T22:29:02.612Z"
   },
   {
    "duration": 35,
    "start_time": "2023-09-06T22:29:03.100Z"
   },
   {
    "duration": 139,
    "start_time": "2023-09-06T22:29:03.137Z"
   },
   {
    "duration": 5,
    "start_time": "2023-09-06T22:29:08.642Z"
   },
   {
    "duration": 13,
    "start_time": "2023-09-06T22:29:45.084Z"
   },
   {
    "duration": 1556,
    "start_time": "2023-09-06T22:29:51.186Z"
   },
   {
    "duration": 219,
    "start_time": "2023-09-06T22:29:52.744Z"
   },
   {
    "duration": 26,
    "start_time": "2023-09-06T22:29:52.964Z"
   },
   {
    "duration": 143,
    "start_time": "2023-09-06T22:29:52.992Z"
   },
   {
    "duration": 187,
    "start_time": "2023-09-06T22:29:53.138Z"
   },
   {
    "duration": 4,
    "start_time": "2023-09-06T22:29:53.329Z"
   },
   {
    "duration": 75,
    "start_time": "2023-09-06T22:29:53.334Z"
   },
   {
    "duration": 11,
    "start_time": "2023-09-06T22:29:53.412Z"
   },
   {
    "duration": 55,
    "start_time": "2023-09-06T22:29:53.425Z"
   },
   {
    "duration": 17,
    "start_time": "2023-09-06T22:29:53.482Z"
   },
   {
    "duration": 39,
    "start_time": "2023-09-06T22:29:53.501Z"
   },
   {
    "duration": 463,
    "start_time": "2023-09-06T22:29:53.542Z"
   },
   {
    "duration": 21,
    "start_time": "2023-09-06T22:29:54.012Z"
   },
   {
    "duration": 19,
    "start_time": "2023-09-06T22:29:54.036Z"
   },
   {
    "duration": 5,
    "start_time": "2023-09-06T22:30:38.986Z"
   },
   {
    "duration": 7,
    "start_time": "2023-09-06T22:30:45.265Z"
   },
   {
    "duration": 56,
    "start_time": "2023-09-06T22:31:14.189Z"
   },
   {
    "duration": 11,
    "start_time": "2023-09-06T22:32:37.530Z"
   },
   {
    "duration": 11,
    "start_time": "2023-09-06T22:34:07.981Z"
   },
   {
    "duration": 51,
    "start_time": "2023-09-06T22:34:42.380Z"
   },
   {
    "duration": 42,
    "start_time": "2023-09-06T22:34:49.746Z"
   },
   {
    "duration": 14,
    "start_time": "2023-09-06T22:36:47.672Z"
   },
   {
    "duration": 14,
    "start_time": "2023-09-06T22:37:18.399Z"
   },
   {
    "duration": 52,
    "start_time": "2023-09-07T21:06:56.148Z"
   },
   {
    "duration": 1388,
    "start_time": "2023-09-07T21:07:02.336Z"
   },
   {
    "duration": 756,
    "start_time": "2023-09-07T21:07:03.726Z"
   },
   {
    "duration": 20,
    "start_time": "2023-09-07T21:07:04.484Z"
   },
   {
    "duration": 73,
    "start_time": "2023-09-07T21:07:04.507Z"
   },
   {
    "duration": 134,
    "start_time": "2023-09-07T21:07:04.581Z"
   },
   {
    "duration": 2,
    "start_time": "2023-09-07T21:07:04.717Z"
   },
   {
    "duration": 31,
    "start_time": "2023-09-07T21:07:04.721Z"
   },
   {
    "duration": 4,
    "start_time": "2023-09-07T21:07:04.753Z"
   },
   {
    "duration": 46,
    "start_time": "2023-09-07T21:07:04.759Z"
   },
   {
    "duration": 6,
    "start_time": "2023-09-07T21:07:04.808Z"
   },
   {
    "duration": 29,
    "start_time": "2023-09-07T21:07:04.816Z"
   },
   {
    "duration": 377,
    "start_time": "2023-09-07T21:07:04.847Z"
   },
   {
    "duration": 19,
    "start_time": "2023-09-07T21:07:05.226Z"
   },
   {
    "duration": 15,
    "start_time": "2023-09-07T21:07:05.247Z"
   },
   {
    "duration": 31,
    "start_time": "2023-09-07T21:07:05.263Z"
   },
   {
    "duration": 26,
    "start_time": "2023-09-07T21:07:05.296Z"
   },
   {
    "duration": 133,
    "start_time": "2023-09-07T21:07:39.717Z"
   },
   {
    "duration": 103,
    "start_time": "2023-09-07T21:07:53.705Z"
   },
   {
    "duration": 29,
    "start_time": "2023-09-07T21:07:58.011Z"
   },
   {
    "duration": 27,
    "start_time": "2023-09-07T21:08:01.403Z"
   },
   {
    "duration": 23,
    "start_time": "2023-09-07T21:08:39.785Z"
   },
   {
    "duration": 29,
    "start_time": "2023-09-07T21:09:03.313Z"
   },
   {
    "duration": 29,
    "start_time": "2023-09-07T21:09:12.409Z"
   },
   {
    "duration": 28,
    "start_time": "2023-09-07T21:09:50.705Z"
   },
   {
    "duration": 58,
    "start_time": "2023-09-07T21:15:21.553Z"
   },
   {
    "duration": 56,
    "start_time": "2023-09-07T21:15:55.712Z"
   },
   {
    "duration": 87,
    "start_time": "2023-09-07T21:29:00.215Z"
   },
   {
    "duration": 8,
    "start_time": "2023-09-07T21:33:33.150Z"
   },
   {
    "duration": 13,
    "start_time": "2023-09-07T21:33:42.323Z"
   },
   {
    "duration": 54,
    "start_time": "2023-09-09T22:26:17.225Z"
   },
   {
    "duration": 1405,
    "start_time": "2023-09-09T22:26:22.525Z"
   },
   {
    "duration": 656,
    "start_time": "2023-09-09T22:26:23.934Z"
   },
   {
    "duration": 20,
    "start_time": "2023-09-09T22:26:24.591Z"
   },
   {
    "duration": 86,
    "start_time": "2023-09-09T22:26:24.612Z"
   },
   {
    "duration": 128,
    "start_time": "2023-09-09T22:26:24.699Z"
   },
   {
    "duration": 3,
    "start_time": "2023-09-09T22:26:24.829Z"
   },
   {
    "duration": 42,
    "start_time": "2023-09-09T22:26:24.834Z"
   },
   {
    "duration": 4,
    "start_time": "2023-09-09T22:26:24.880Z"
   },
   {
    "duration": 45,
    "start_time": "2023-09-09T22:26:24.887Z"
   },
   {
    "duration": 27,
    "start_time": "2023-09-09T22:26:24.934Z"
   },
   {
    "duration": 13,
    "start_time": "2023-09-09T22:26:24.969Z"
   },
   {
    "duration": 393,
    "start_time": "2023-09-09T22:26:24.983Z"
   },
   {
    "duration": 13,
    "start_time": "2023-09-09T22:26:25.377Z"
   },
   {
    "duration": 14,
    "start_time": "2023-09-09T22:26:25.391Z"
   },
   {
    "duration": 48,
    "start_time": "2023-09-09T22:26:25.406Z"
   },
   {
    "duration": 37,
    "start_time": "2023-09-09T22:26:25.456Z"
   },
   {
    "duration": 70,
    "start_time": "2023-09-09T22:26:25.495Z"
   },
   {
    "duration": 103,
    "start_time": "2023-09-09T22:26:25.569Z"
   },
   {
    "duration": 13,
    "start_time": "2023-09-09T22:27:20.504Z"
   },
   {
    "duration": 11,
    "start_time": "2023-09-09T22:27:36.208Z"
   },
   {
    "duration": 92,
    "start_time": "2023-09-09T22:31:26.048Z"
   },
   {
    "duration": 91,
    "start_time": "2023-09-09T22:31:58.365Z"
   },
   {
    "duration": 91,
    "start_time": "2023-09-09T22:32:44.360Z"
   },
   {
    "duration": 85,
    "start_time": "2023-09-09T22:32:55.628Z"
   },
   {
    "duration": 93,
    "start_time": "2023-09-09T22:33:00.092Z"
   },
   {
    "duration": 1267,
    "start_time": "2023-09-09T22:55:20.170Z"
   },
   {
    "duration": 1167,
    "start_time": "2023-09-09T22:55:37.667Z"
   },
   {
    "duration": 12,
    "start_time": "2023-09-09T22:55:49.901Z"
   },
   {
    "duration": 1342,
    "start_time": "2023-09-09T22:57:03.509Z"
   },
   {
    "duration": 9,
    "start_time": "2023-09-09T22:57:13.113Z"
   },
   {
    "duration": 313,
    "start_time": "2023-09-09T23:00:05.733Z"
   },
   {
    "duration": 131,
    "start_time": "2023-09-09T23:00:17.333Z"
   },
   {
    "duration": 94,
    "start_time": "2023-09-09T23:00:37.221Z"
   },
   {
    "duration": 4,
    "start_time": "2023-09-09T23:01:25.901Z"
   },
   {
    "duration": 13,
    "start_time": "2023-09-09T23:01:32.449Z"
   },
   {
    "duration": 6,
    "start_time": "2023-09-09T23:01:56.801Z"
   },
   {
    "duration": 11,
    "start_time": "2023-09-09T23:01:59.933Z"
   },
   {
    "duration": 80,
    "start_time": "2023-09-09T23:02:55.181Z"
   },
   {
    "duration": 6,
    "start_time": "2023-09-09T23:03:43.293Z"
   },
   {
    "duration": 11,
    "start_time": "2023-09-09T23:03:49.337Z"
   },
   {
    "duration": 7,
    "start_time": "2023-09-09T23:04:31.226Z"
   },
   {
    "duration": 9,
    "start_time": "2023-09-09T23:04:34.593Z"
   },
   {
    "duration": 13,
    "start_time": "2023-09-09T23:04:46.813Z"
   },
   {
    "duration": 12,
    "start_time": "2023-09-09T23:04:53.765Z"
   },
   {
    "duration": 12,
    "start_time": "2023-09-09T23:05:21.301Z"
   },
   {
    "duration": 13,
    "start_time": "2023-09-09T23:05:30.861Z"
   },
   {
    "duration": 12,
    "start_time": "2023-09-09T23:05:33.521Z"
   },
   {
    "duration": 6,
    "start_time": "2023-09-09T23:08:05.625Z"
   },
   {
    "duration": 4,
    "start_time": "2023-09-09T23:09:38.191Z"
   },
   {
    "duration": 4,
    "start_time": "2023-09-09T23:10:19.809Z"
   },
   {
    "duration": 4,
    "start_time": "2023-09-09T23:12:30.002Z"
   },
   {
    "duration": 9,
    "start_time": "2023-09-09T23:13:12.761Z"
   },
   {
    "duration": 3,
    "start_time": "2023-09-09T23:13:17.486Z"
   },
   {
    "duration": 5,
    "start_time": "2023-09-09T23:15:31.518Z"
   },
   {
    "duration": 9,
    "start_time": "2023-09-09T23:15:46.902Z"
   },
   {
    "duration": 6,
    "start_time": "2023-09-09T23:20:35.353Z"
   },
   {
    "duration": 6,
    "start_time": "2023-09-09T23:20:43.242Z"
   },
   {
    "duration": 5,
    "start_time": "2023-09-09T23:20:48.974Z"
   },
   {
    "duration": 4,
    "start_time": "2023-09-09T23:21:23.862Z"
   },
   {
    "duration": 37,
    "start_time": "2023-09-10T10:50:23.400Z"
   },
   {
    "duration": 32,
    "start_time": "2023-09-10T10:50:53.887Z"
   },
   {
    "duration": 30,
    "start_time": "2023-09-10T10:50:56.591Z"
   },
   {
    "duration": 5,
    "start_time": "2023-09-10T10:51:00.519Z"
   },
   {
    "duration": 15,
    "start_time": "2023-09-10T11:02:33.603Z"
   },
   {
    "duration": 15,
    "start_time": "2023-09-10T11:02:50.738Z"
   },
   {
    "duration": 62,
    "start_time": "2023-09-10T11:05:08.762Z"
   },
   {
    "duration": 56,
    "start_time": "2023-09-10T11:05:13.585Z"
   },
   {
    "duration": 42,
    "start_time": "2023-09-10T11:07:05.327Z"
   },
   {
    "duration": 32,
    "start_time": "2023-09-10T11:08:15.533Z"
   },
   {
    "duration": 41,
    "start_time": "2023-09-10T11:08:57.997Z"
   },
   {
    "duration": 46,
    "start_time": "2023-09-10T11:10:09.029Z"
   },
   {
    "duration": 43,
    "start_time": "2023-09-10T11:10:13.813Z"
   },
   {
    "duration": 33,
    "start_time": "2023-09-10T11:10:48.029Z"
   },
   {
    "duration": 62,
    "start_time": "2023-09-10T11:12:43.492Z"
   },
   {
    "duration": 66,
    "start_time": "2023-09-10T11:12:49.844Z"
   },
   {
    "duration": 11,
    "start_time": "2023-09-10T11:13:41.948Z"
   },
   {
    "duration": 61,
    "start_time": "2023-09-10T11:14:54.356Z"
   },
   {
    "duration": 63,
    "start_time": "2023-09-10T11:14:59.216Z"
   },
   {
    "duration": 60,
    "start_time": "2023-09-10T11:15:29.581Z"
   },
   {
    "duration": 63,
    "start_time": "2023-09-10T11:15:33.780Z"
   },
   {
    "duration": 64,
    "start_time": "2023-09-10T11:16:13.104Z"
   },
   {
    "duration": 74,
    "start_time": "2023-09-10T11:16:17.916Z"
   },
   {
    "duration": 60,
    "start_time": "2023-09-10T11:16:46.748Z"
   },
   {
    "duration": 13,
    "start_time": "2023-09-10T11:19:52.056Z"
   },
   {
    "duration": 82,
    "start_time": "2023-09-10T11:21:26.180Z"
   },
   {
    "duration": 59,
    "start_time": "2023-09-10T11:21:54.995Z"
   },
   {
    "duration": 64,
    "start_time": "2023-09-10T11:22:06.263Z"
   },
   {
    "duration": 59,
    "start_time": "2023-09-10T11:22:22.347Z"
   },
   {
    "duration": 59,
    "start_time": "2023-09-10T11:22:27.643Z"
   },
   {
    "duration": 62,
    "start_time": "2023-09-10T11:22:50.151Z"
   },
   {
    "duration": 63,
    "start_time": "2023-09-10T11:47:33.881Z"
   },
   {
    "duration": 62,
    "start_time": "2023-09-10T11:47:42.609Z"
   },
   {
    "duration": 35,
    "start_time": "2023-09-10T11:48:38.397Z"
   },
   {
    "duration": 34,
    "start_time": "2023-09-10T11:49:11.145Z"
   },
   {
    "duration": 34,
    "start_time": "2023-09-10T11:49:15.785Z"
   },
   {
    "duration": 32,
    "start_time": "2023-09-10T11:49:17.129Z"
   },
   {
    "duration": 32,
    "start_time": "2023-09-10T11:49:21.421Z"
   },
   {
    "duration": 1157,
    "start_time": "2023-09-10T11:49:31.161Z"
   },
   {
    "duration": 198,
    "start_time": "2023-09-10T11:49:32.320Z"
   },
   {
    "duration": 30,
    "start_time": "2023-09-10T11:49:32.520Z"
   },
   {
    "duration": 74,
    "start_time": "2023-09-10T11:49:32.552Z"
   },
   {
    "duration": 135,
    "start_time": "2023-09-10T11:49:32.627Z"
   },
   {
    "duration": 3,
    "start_time": "2023-09-10T11:49:32.764Z"
   },
   {
    "duration": 24,
    "start_time": "2023-09-10T11:49:32.768Z"
   },
   {
    "duration": 4,
    "start_time": "2023-09-10T11:49:32.793Z"
   },
   {
    "duration": 52,
    "start_time": "2023-09-10T11:49:32.798Z"
   },
   {
    "duration": 7,
    "start_time": "2023-09-10T11:49:32.852Z"
   },
   {
    "duration": 6,
    "start_time": "2023-09-10T11:49:32.861Z"
   },
   {
    "duration": 360,
    "start_time": "2023-09-10T11:49:32.868Z"
   },
   {
    "duration": 19,
    "start_time": "2023-09-10T11:49:33.230Z"
   },
   {
    "duration": 17,
    "start_time": "2023-09-10T11:49:33.251Z"
   },
   {
    "duration": 30,
    "start_time": "2023-09-10T11:49:33.269Z"
   },
   {
    "duration": 26,
    "start_time": "2023-09-10T11:49:33.300Z"
   },
   {
    "duration": 76,
    "start_time": "2023-09-10T11:49:33.327Z"
   },
   {
    "duration": 11,
    "start_time": "2023-09-10T11:49:33.404Z"
   },
   {
    "duration": 14,
    "start_time": "2023-09-10T11:49:33.417Z"
   },
   {
    "duration": 16,
    "start_time": "2023-09-10T11:49:33.433Z"
   },
   {
    "duration": 4,
    "start_time": "2023-09-10T11:49:33.451Z"
   },
   {
    "duration": 22,
    "start_time": "2023-09-10T11:49:33.456Z"
   },
   {
    "duration": 31,
    "start_time": "2023-09-10T11:49:33.479Z"
   },
   {
    "duration": 54,
    "start_time": "2023-09-10T11:49:33.511Z"
   },
   {
    "duration": 31,
    "start_time": "2023-09-10T11:49:50.641Z"
   },
   {
    "duration": 31,
    "start_time": "2023-09-10T11:50:53.893Z"
   },
   {
    "duration": 31,
    "start_time": "2023-09-10T11:50:56.885Z"
   },
   {
    "duration": 32,
    "start_time": "2023-09-10T11:52:22.305Z"
   },
   {
    "duration": 36,
    "start_time": "2023-09-10T11:52:25.819Z"
   },
   {
    "duration": 67,
    "start_time": "2023-09-10T11:57:16.892Z"
   },
   {
    "duration": 27,
    "start_time": "2023-09-10T11:59:14.868Z"
   },
   {
    "duration": 20,
    "start_time": "2023-09-10T11:59:18.693Z"
   },
   {
    "duration": 12,
    "start_time": "2023-09-10T20:01:34.415Z"
   },
   {
    "duration": 41,
    "start_time": "2023-09-10T20:02:43.242Z"
   },
   {
    "duration": 1394,
    "start_time": "2023-09-10T20:03:17.430Z"
   },
   {
    "duration": 522,
    "start_time": "2023-09-10T20:03:18.826Z"
   },
   {
    "duration": 21,
    "start_time": "2023-09-10T20:03:19.350Z"
   },
   {
    "duration": 81,
    "start_time": "2023-09-10T20:03:19.373Z"
   },
   {
    "duration": 132,
    "start_time": "2023-09-10T20:03:19.456Z"
   },
   {
    "duration": 3,
    "start_time": "2023-09-10T20:03:19.590Z"
   },
   {
    "duration": 48,
    "start_time": "2023-09-10T20:03:19.595Z"
   },
   {
    "duration": 11,
    "start_time": "2023-09-10T20:03:19.644Z"
   },
   {
    "duration": 49,
    "start_time": "2023-09-10T20:03:19.656Z"
   },
   {
    "duration": 8,
    "start_time": "2023-09-10T20:03:19.707Z"
   },
   {
    "duration": 6,
    "start_time": "2023-09-10T20:03:19.723Z"
   },
   {
    "duration": 369,
    "start_time": "2023-09-10T20:03:19.730Z"
   },
   {
    "duration": 11,
    "start_time": "2023-09-10T20:03:20.101Z"
   },
   {
    "duration": 34,
    "start_time": "2023-09-10T20:03:20.113Z"
   },
   {
    "duration": 99,
    "start_time": "2023-09-10T20:03:20.149Z"
   },
   {
    "duration": 62,
    "start_time": "2023-09-10T20:03:20.250Z"
   },
   {
    "duration": 139,
    "start_time": "2023-09-10T20:03:20.314Z"
   },
   {
    "duration": 12,
    "start_time": "2023-09-10T20:03:20.454Z"
   },
   {
    "duration": 50,
    "start_time": "2023-09-10T20:03:20.468Z"
   },
   {
    "duration": 68,
    "start_time": "2023-09-10T20:03:20.520Z"
   },
   {
    "duration": 60,
    "start_time": "2023-09-10T20:03:20.590Z"
   },
   {
    "duration": 85,
    "start_time": "2023-09-10T20:03:20.652Z"
   },
   {
    "duration": 191,
    "start_time": "2023-09-10T20:03:20.738Z"
   },
   {
    "duration": 17,
    "start_time": "2023-09-10T20:03:20.930Z"
   },
   {
    "duration": 6,
    "start_time": "2023-09-10T20:06:45.042Z"
   },
   {
    "duration": 6,
    "start_time": "2023-09-10T20:08:03.642Z"
   },
   {
    "duration": 98,
    "start_time": "2023-09-10T20:08:24.706Z"
   },
   {
    "duration": 8,
    "start_time": "2023-09-10T20:08:43.382Z"
   },
   {
    "duration": 36,
    "start_time": "2023-09-10T20:08:48.518Z"
   },
   {
    "duration": 16,
    "start_time": "2023-09-10T20:14:24.718Z"
   },
   {
    "duration": 6,
    "start_time": "2023-09-10T20:16:08.923Z"
   },
   {
    "duration": 10,
    "start_time": "2023-09-10T20:16:19.135Z"
   },
   {
    "duration": 92,
    "start_time": "2023-09-10T20:18:47.092Z"
   },
   {
    "duration": 83,
    "start_time": "2023-09-10T20:19:05.484Z"
   },
   {
    "duration": 1294,
    "start_time": "2023-09-10T20:20:23.029Z"
   },
   {
    "duration": 83,
    "start_time": "2023-09-10T20:20:39.336Z"
   },
   {
    "duration": 92,
    "start_time": "2023-09-10T20:21:02.488Z"
   },
   {
    "duration": 5,
    "start_time": "2023-09-10T20:21:45.151Z"
   },
   {
    "duration": 9,
    "start_time": "2023-09-10T20:21:56.789Z"
   },
   {
    "duration": 12,
    "start_time": "2023-09-10T20:22:05.296Z"
   },
   {
    "duration": 5,
    "start_time": "2023-09-10T20:22:23.537Z"
   },
   {
    "duration": 10,
    "start_time": "2023-09-10T20:22:25.933Z"
   },
   {
    "duration": 13,
    "start_time": "2023-09-10T20:28:45.538Z"
   },
   {
    "duration": 5,
    "start_time": "2023-09-10T20:28:57.606Z"
   },
   {
    "duration": 9,
    "start_time": "2023-09-10T20:29:00.494Z"
   },
   {
    "duration": 5,
    "start_time": "2023-09-10T20:29:28.759Z"
   },
   {
    "duration": 9,
    "start_time": "2023-09-10T20:32:49.386Z"
   },
   {
    "duration": 5,
    "start_time": "2023-09-10T20:33:26.831Z"
   },
   {
    "duration": 10,
    "start_time": "2023-09-10T20:33:28.695Z"
   },
   {
    "duration": 10,
    "start_time": "2023-09-10T20:33:31.963Z"
   },
   {
    "duration": 8,
    "start_time": "2023-09-10T20:36:03.699Z"
   },
   {
    "duration": 9,
    "start_time": "2023-09-10T20:36:22.767Z"
   },
   {
    "duration": 9,
    "start_time": "2023-09-10T20:36:52.746Z"
   },
   {
    "duration": 8,
    "start_time": "2023-09-10T20:37:17.680Z"
   },
   {
    "duration": 5,
    "start_time": "2023-09-10T20:37:20.923Z"
   },
   {
    "duration": 10,
    "start_time": "2023-09-10T20:37:22.123Z"
   },
   {
    "duration": 9,
    "start_time": "2023-09-10T20:37:24.711Z"
   },
   {
    "duration": 5,
    "start_time": "2023-09-10T20:37:46.063Z"
   },
   {
    "duration": 9,
    "start_time": "2023-09-10T20:37:47.859Z"
   },
   {
    "duration": 10,
    "start_time": "2023-09-10T20:37:49.763Z"
   },
   {
    "duration": 9,
    "start_time": "2023-09-10T20:37:54.139Z"
   },
   {
    "duration": 7,
    "start_time": "2023-09-10T20:38:08.635Z"
   },
   {
    "duration": 10,
    "start_time": "2023-09-10T20:38:10.367Z"
   },
   {
    "duration": 9,
    "start_time": "2023-09-10T20:38:19.511Z"
   },
   {
    "duration": 9,
    "start_time": "2023-09-10T20:38:24.760Z"
   },
   {
    "duration": 10,
    "start_time": "2023-09-10T20:38:29.316Z"
   },
   {
    "duration": 99,
    "start_time": "2023-09-10T20:38:52.971Z"
   },
   {
    "duration": 1245,
    "start_time": "2023-09-10T20:39:36.766Z"
   },
   {
    "duration": 968,
    "start_time": "2023-09-10T20:39:42.199Z"
   },
   {
    "duration": 85,
    "start_time": "2023-09-10T20:40:02.075Z"
   },
   {
    "duration": 5,
    "start_time": "2023-09-10T20:40:11.400Z"
   },
   {
    "duration": 11,
    "start_time": "2023-09-10T20:40:13.230Z"
   },
   {
    "duration": 9,
    "start_time": "2023-09-10T20:40:15.054Z"
   },
   {
    "duration": 9,
    "start_time": "2023-09-10T20:40:16.720Z"
   },
   {
    "duration": 1477,
    "start_time": "2023-09-10T20:41:24.404Z"
   },
   {
    "duration": 1429,
    "start_time": "2023-09-10T20:42:14.956Z"
   },
   {
    "duration": 1259,
    "start_time": "2023-09-10T20:42:57.919Z"
   },
   {
    "duration": 190,
    "start_time": "2023-09-10T20:42:59.180Z"
   },
   {
    "duration": 20,
    "start_time": "2023-09-10T20:42:59.371Z"
   },
   {
    "duration": 105,
    "start_time": "2023-09-10T20:42:59.393Z"
   },
   {
    "duration": 153,
    "start_time": "2023-09-10T20:42:59.501Z"
   },
   {
    "duration": 3,
    "start_time": "2023-09-10T20:42:59.656Z"
   },
   {
    "duration": 65,
    "start_time": "2023-09-10T20:42:59.661Z"
   },
   {
    "duration": 25,
    "start_time": "2023-09-10T20:42:59.728Z"
   },
   {
    "duration": 56,
    "start_time": "2023-09-10T20:42:59.755Z"
   },
   {
    "duration": 9,
    "start_time": "2023-09-10T20:42:59.813Z"
   },
   {
    "duration": 23,
    "start_time": "2023-09-10T20:42:59.823Z"
   },
   {
    "duration": 372,
    "start_time": "2023-09-10T20:42:59.848Z"
   },
   {
    "duration": 12,
    "start_time": "2023-09-10T20:43:00.223Z"
   },
   {
    "duration": 82,
    "start_time": "2023-09-10T20:43:00.237Z"
   },
   {
    "duration": 82,
    "start_time": "2023-09-10T20:43:00.321Z"
   },
   {
    "duration": 58,
    "start_time": "2023-09-10T20:43:00.405Z"
   },
   {
    "duration": 112,
    "start_time": "2023-09-10T20:43:00.464Z"
   },
   {
    "duration": 103,
    "start_time": "2023-09-10T20:43:00.577Z"
   },
   {
    "duration": 173,
    "start_time": "2023-09-10T20:43:00.682Z"
   },
   {
    "duration": 145,
    "start_time": "2023-09-10T20:43:00.857Z"
   },
   {
    "duration": 469,
    "start_time": "2023-09-10T20:43:01.005Z"
   },
   {
    "duration": 207,
    "start_time": "2023-09-10T20:43:01.476Z"
   },
   {
    "duration": 327,
    "start_time": "2023-09-10T20:43:01.685Z"
   },
   {
    "duration": 1448,
    "start_time": "2023-09-10T20:43:02.014Z"
   },
   {
    "duration": 0,
    "start_time": "2023-09-10T20:43:03.464Z"
   },
   {
    "duration": 0,
    "start_time": "2023-09-10T20:43:03.465Z"
   },
   {
    "duration": 0,
    "start_time": "2023-09-10T20:43:03.466Z"
   },
   {
    "duration": 0,
    "start_time": "2023-09-10T20:43:03.467Z"
   },
   {
    "duration": 85,
    "start_time": "2023-09-10T20:43:13.830Z"
   },
   {
    "duration": 1237,
    "start_time": "2023-09-10T20:43:38.941Z"
   },
   {
    "duration": 86,
    "start_time": "2023-09-10T20:43:47.382Z"
   },
   {
    "duration": 86,
    "start_time": "2023-09-10T20:44:01.865Z"
   },
   {
    "duration": 85,
    "start_time": "2023-09-10T20:44:16.726Z"
   },
   {
    "duration": 83,
    "start_time": "2023-09-10T20:44:21.665Z"
   },
   {
    "duration": 101,
    "start_time": "2023-09-10T20:44:35.933Z"
   },
   {
    "duration": 85,
    "start_time": "2023-09-10T20:44:44.745Z"
   },
   {
    "duration": 6,
    "start_time": "2023-09-10T20:44:54.130Z"
   },
   {
    "duration": 9,
    "start_time": "2023-09-10T20:44:55.734Z"
   },
   {
    "duration": 10,
    "start_time": "2023-09-10T20:44:59.976Z"
   },
   {
    "duration": 10,
    "start_time": "2023-09-10T20:45:01.833Z"
   },
   {
    "duration": 9,
    "start_time": "2023-09-10T20:45:25.330Z"
   },
   {
    "duration": 1156,
    "start_time": "2023-09-10T20:45:35.231Z"
   },
   {
    "duration": 1239,
    "start_time": "2023-09-10T20:46:24.935Z"
   },
   {
    "duration": 84,
    "start_time": "2023-09-10T20:46:46.783Z"
   },
   {
    "duration": 1223,
    "start_time": "2023-09-10T20:46:52.946Z"
   },
   {
    "duration": 952,
    "start_time": "2023-09-10T20:47:00.747Z"
   },
   {
    "duration": 87,
    "start_time": "2023-09-10T20:47:18.139Z"
   },
   {
    "duration": 85,
    "start_time": "2023-09-10T20:47:39.194Z"
   },
   {
    "duration": 957,
    "start_time": "2023-09-10T20:47:50.246Z"
   },
   {
    "duration": 1171,
    "start_time": "2023-09-10T20:47:56.063Z"
   },
   {
    "duration": 174,
    "start_time": "2023-09-10T20:47:57.236Z"
   },
   {
    "duration": 24,
    "start_time": "2023-09-10T20:47:57.412Z"
   },
   {
    "duration": 86,
    "start_time": "2023-09-10T20:47:57.438Z"
   },
   {
    "duration": 125,
    "start_time": "2023-09-10T20:47:57.526Z"
   },
   {
    "duration": 9,
    "start_time": "2023-09-10T20:47:57.653Z"
   },
   {
    "duration": 61,
    "start_time": "2023-09-10T20:47:57.664Z"
   },
   {
    "duration": 42,
    "start_time": "2023-09-10T20:47:57.726Z"
   },
   {
    "duration": 67,
    "start_time": "2023-09-10T20:47:57.769Z"
   },
   {
    "duration": 6,
    "start_time": "2023-09-10T20:47:57.838Z"
   },
   {
    "duration": 19,
    "start_time": "2023-09-10T20:47:57.846Z"
   },
   {
    "duration": 366,
    "start_time": "2023-09-10T20:47:57.866Z"
   },
   {
    "duration": 12,
    "start_time": "2023-09-10T20:47:58.233Z"
   },
   {
    "duration": 16,
    "start_time": "2023-09-10T20:47:58.247Z"
   },
   {
    "duration": 30,
    "start_time": "2023-09-10T20:47:58.265Z"
   },
   {
    "duration": 47,
    "start_time": "2023-09-10T20:47:58.297Z"
   },
   {
    "duration": 80,
    "start_time": "2023-09-10T20:47:58.345Z"
   },
   {
    "duration": 12,
    "start_time": "2023-09-10T20:47:58.426Z"
   },
   {
    "duration": 26,
    "start_time": "2023-09-10T20:47:58.439Z"
   },
   {
    "duration": 38,
    "start_time": "2023-09-10T20:47:58.467Z"
   },
   {
    "duration": 46,
    "start_time": "2023-09-10T20:47:58.507Z"
   },
   {
    "duration": 37,
    "start_time": "2023-09-10T20:47:58.554Z"
   },
   {
    "duration": 69,
    "start_time": "2023-09-10T20:47:58.592Z"
   },
   {
    "duration": 95,
    "start_time": "2023-09-10T20:47:58.663Z"
   },
   {
    "duration": 5,
    "start_time": "2023-09-10T20:47:58.759Z"
   },
   {
    "duration": 22,
    "start_time": "2023-09-10T20:47:58.766Z"
   },
   {
    "duration": 18,
    "start_time": "2023-09-10T20:47:58.790Z"
   },
   {
    "duration": 8,
    "start_time": "2023-09-10T20:47:58.810Z"
   },
   {
    "duration": 1068,
    "start_time": "2023-09-10T20:47:58.820Z"
   },
   {
    "duration": 1197,
    "start_time": "2023-09-10T20:48:23.142Z"
   },
   {
    "duration": 10,
    "start_time": "2023-09-10T20:48:31.218Z"
   },
   {
    "duration": 100,
    "start_time": "2023-09-10T20:48:50.306Z"
   },
   {
    "duration": 6,
    "start_time": "2023-09-10T20:48:52.718Z"
   },
   {
    "duration": 9,
    "start_time": "2023-09-10T20:48:54.578Z"
   },
   {
    "duration": 10,
    "start_time": "2023-09-10T20:48:56.537Z"
   },
   {
    "duration": 10,
    "start_time": "2023-09-10T20:48:58.214Z"
   },
   {
    "duration": 10,
    "start_time": "2023-09-10T20:49:39.201Z"
   },
   {
    "duration": 928,
    "start_time": "2023-09-10T20:49:50.850Z"
   },
   {
    "duration": 10,
    "start_time": "2023-09-10T20:50:27.685Z"
   },
   {
    "duration": 967,
    "start_time": "2023-09-10T20:50:36.608Z"
   },
   {
    "duration": 932,
    "start_time": "2023-09-10T20:53:32.285Z"
   },
   {
    "duration": 950,
    "start_time": "2023-09-10T20:54:45.619Z"
   },
   {
    "duration": 13,
    "start_time": "2023-09-10T21:02:54.166Z"
   },
   {
    "duration": 11,
    "start_time": "2023-09-10T21:03:23.630Z"
   },
   {
    "duration": 18,
    "start_time": "2023-09-10T21:03:45.570Z"
   },
   {
    "duration": 14,
    "start_time": "2023-09-10T21:03:53.022Z"
   },
   {
    "duration": 13,
    "start_time": "2023-09-10T21:04:01.090Z"
   },
   {
    "duration": 17,
    "start_time": "2023-09-10T21:04:02.981Z"
   },
   {
    "duration": 23,
    "start_time": "2023-09-10T21:04:18.094Z"
   },
   {
    "duration": 16,
    "start_time": "2023-09-10T21:04:22.390Z"
   },
   {
    "duration": 16,
    "start_time": "2023-09-10T21:04:27.385Z"
   },
   {
    "duration": 15,
    "start_time": "2023-09-10T21:04:38.373Z"
   },
   {
    "duration": 15,
    "start_time": "2023-09-10T21:04:45.650Z"
   },
   {
    "duration": 1301,
    "start_time": "2023-09-10T21:04:50.287Z"
   },
   {
    "duration": 180,
    "start_time": "2023-09-10T21:04:51.590Z"
   },
   {
    "duration": 21,
    "start_time": "2023-09-10T21:04:51.772Z"
   },
   {
    "duration": 124,
    "start_time": "2023-09-10T21:04:51.795Z"
   },
   {
    "duration": 132,
    "start_time": "2023-09-10T21:04:51.920Z"
   },
   {
    "duration": 4,
    "start_time": "2023-09-10T21:04:52.054Z"
   },
   {
    "duration": 96,
    "start_time": "2023-09-10T21:04:52.060Z"
   },
   {
    "duration": 35,
    "start_time": "2023-09-10T21:04:52.158Z"
   },
   {
    "duration": 66,
    "start_time": "2023-09-10T21:04:52.195Z"
   },
   {
    "duration": 16,
    "start_time": "2023-09-10T21:04:52.264Z"
   },
   {
    "duration": 31,
    "start_time": "2023-09-10T21:04:52.282Z"
   },
   {
    "duration": 399,
    "start_time": "2023-09-10T21:04:52.315Z"
   },
   {
    "duration": 13,
    "start_time": "2023-09-10T21:04:52.723Z"
   },
   {
    "duration": 49,
    "start_time": "2023-09-10T21:04:52.738Z"
   },
   {
    "duration": 67,
    "start_time": "2023-09-10T21:04:52.789Z"
   },
   {
    "duration": 53,
    "start_time": "2023-09-10T21:04:52.858Z"
   },
   {
    "duration": 90,
    "start_time": "2023-09-10T21:04:52.913Z"
   },
   {
    "duration": 54,
    "start_time": "2023-09-10T21:04:53.005Z"
   },
   {
    "duration": 64,
    "start_time": "2023-09-10T21:04:53.061Z"
   },
   {
    "duration": 88,
    "start_time": "2023-09-10T21:04:53.127Z"
   },
   {
    "duration": 73,
    "start_time": "2023-09-10T21:04:53.218Z"
   },
   {
    "duration": 29,
    "start_time": "2023-09-10T21:04:53.293Z"
   },
   {
    "duration": 99,
    "start_time": "2023-09-10T21:04:53.324Z"
   },
   {
    "duration": 107,
    "start_time": "2023-09-10T21:04:53.424Z"
   },
   {
    "duration": 5,
    "start_time": "2023-09-10T21:04:53.533Z"
   },
   {
    "duration": 41,
    "start_time": "2023-09-10T21:04:53.539Z"
   },
   {
    "duration": 22,
    "start_time": "2023-09-10T21:04:53.582Z"
   },
   {
    "duration": 9,
    "start_time": "2023-09-10T21:04:53.607Z"
   },
   {
    "duration": 72,
    "start_time": "2023-09-10T21:04:53.618Z"
   },
   {
    "duration": 1413,
    "start_time": "2023-09-10T21:05:13.157Z"
   },
   {
    "duration": 9,
    "start_time": "2023-09-10T21:24:12.981Z"
   },
   {
    "duration": 7,
    "start_time": "2023-09-10T21:24:18.389Z"
   },
   {
    "duration": 1287,
    "start_time": "2023-09-10T21:24:28.353Z"
   },
   {
    "duration": 190,
    "start_time": "2023-09-10T21:24:29.642Z"
   },
   {
    "duration": 22,
    "start_time": "2023-09-10T21:24:29.834Z"
   },
   {
    "duration": 95,
    "start_time": "2023-09-10T21:24:29.857Z"
   },
   {
    "duration": 147,
    "start_time": "2023-09-10T21:24:29.954Z"
   },
   {
    "duration": 3,
    "start_time": "2023-09-10T21:24:30.103Z"
   },
   {
    "duration": 72,
    "start_time": "2023-09-10T21:24:30.107Z"
   },
   {
    "duration": 14,
    "start_time": "2023-09-10T21:24:30.181Z"
   },
   {
    "duration": 85,
    "start_time": "2023-09-10T21:24:30.197Z"
   },
   {
    "duration": 8,
    "start_time": "2023-09-10T21:24:30.285Z"
   },
   {
    "duration": 47,
    "start_time": "2023-09-10T21:24:30.295Z"
   },
   {
    "duration": 424,
    "start_time": "2023-09-10T21:24:30.344Z"
   },
   {
    "duration": 18,
    "start_time": "2023-09-10T21:24:30.770Z"
   },
   {
    "duration": 67,
    "start_time": "2023-09-10T21:24:30.790Z"
   },
   {
    "duration": 59,
    "start_time": "2023-09-10T21:24:30.859Z"
   },
   {
    "duration": 30,
    "start_time": "2023-09-10T21:24:30.920Z"
   },
   {
    "duration": 97,
    "start_time": "2023-09-10T21:24:30.952Z"
   },
   {
    "duration": 13,
    "start_time": "2023-09-10T21:24:31.051Z"
   },
   {
    "duration": 38,
    "start_time": "2023-09-10T21:24:31.066Z"
   },
   {
    "duration": 23,
    "start_time": "2023-09-10T21:24:31.105Z"
   },
   {
    "duration": 24,
    "start_time": "2023-09-10T21:24:31.130Z"
   },
   {
    "duration": 37,
    "start_time": "2023-09-10T21:24:31.156Z"
   },
   {
    "duration": 83,
    "start_time": "2023-09-10T21:24:31.196Z"
   },
   {
    "duration": 109,
    "start_time": "2023-09-10T21:24:31.280Z"
   },
   {
    "duration": 185,
    "start_time": "2023-09-10T21:24:31.391Z"
   },
   {
    "duration": 144,
    "start_time": "2023-09-10T21:24:31.578Z"
   },
   {
    "duration": 126,
    "start_time": "2023-09-10T21:24:31.724Z"
   },
   {
    "duration": 27,
    "start_time": "2023-09-10T21:24:31.854Z"
   },
   {
    "duration": 34,
    "start_time": "2023-09-10T21:24:31.883Z"
   },
   {
    "duration": 9,
    "start_time": "2023-09-10T21:24:57.761Z"
   },
   {
    "duration": 3,
    "start_time": "2023-09-10T21:25:34.937Z"
   },
   {
    "duration": 8,
    "start_time": "2023-09-10T21:25:40.309Z"
   },
   {
    "duration": 1418,
    "start_time": "2023-09-10T21:28:09.532Z"
   },
   {
    "duration": 9,
    "start_time": "2023-09-10T21:28:43.721Z"
   },
   {
    "duration": 4,
    "start_time": "2023-09-10T21:29:13.925Z"
   },
   {
    "duration": 9,
    "start_time": "2023-09-10T21:30:10.201Z"
   },
   {
    "duration": 91,
    "start_time": "2023-09-10T21:30:46.845Z"
   },
   {
    "duration": 1201,
    "start_time": "2023-09-10T21:31:19.168Z"
   },
   {
    "duration": 183,
    "start_time": "2023-09-10T21:31:20.371Z"
   },
   {
    "duration": 22,
    "start_time": "2023-09-10T21:31:20.555Z"
   },
   {
    "duration": 92,
    "start_time": "2023-09-10T21:31:20.579Z"
   },
   {
    "duration": 137,
    "start_time": "2023-09-10T21:31:20.673Z"
   },
   {
    "duration": 3,
    "start_time": "2023-09-10T21:31:20.812Z"
   },
   {
    "duration": 30,
    "start_time": "2023-09-10T21:31:20.816Z"
   },
   {
    "duration": 5,
    "start_time": "2023-09-10T21:31:20.848Z"
   },
   {
    "duration": 78,
    "start_time": "2023-09-10T21:31:20.855Z"
   },
   {
    "duration": 7,
    "start_time": "2023-09-10T21:31:20.936Z"
   },
   {
    "duration": 12,
    "start_time": "2023-09-10T21:31:20.945Z"
   },
   {
    "duration": 412,
    "start_time": "2023-09-10T21:31:20.958Z"
   },
   {
    "duration": 13,
    "start_time": "2023-09-10T21:31:21.371Z"
   },
   {
    "duration": 16,
    "start_time": "2023-09-10T21:31:21.385Z"
   },
   {
    "duration": 49,
    "start_time": "2023-09-10T21:31:21.403Z"
   },
   {
    "duration": 30,
    "start_time": "2023-09-10T21:31:21.454Z"
   },
   {
    "duration": 85,
    "start_time": "2023-09-10T21:31:21.487Z"
   },
   {
    "duration": 13,
    "start_time": "2023-09-10T21:31:21.574Z"
   },
   {
    "duration": 12,
    "start_time": "2023-09-10T21:31:21.589Z"
   },
   {
    "duration": 23,
    "start_time": "2023-09-10T21:31:21.602Z"
   },
   {
    "duration": 7,
    "start_time": "2023-09-10T21:31:21.627Z"
   },
   {
    "duration": 17,
    "start_time": "2023-09-10T21:31:21.636Z"
   },
   {
    "duration": 101,
    "start_time": "2023-09-10T21:31:21.655Z"
   },
   {
    "duration": 102,
    "start_time": "2023-09-10T21:31:21.758Z"
   },
   {
    "duration": 5,
    "start_time": "2023-09-10T21:31:21.862Z"
   },
   {
    "duration": 31,
    "start_time": "2023-09-10T21:31:21.868Z"
   },
   {
    "duration": 18,
    "start_time": "2023-09-10T21:31:21.900Z"
   },
   {
    "duration": 8,
    "start_time": "2023-09-10T21:31:21.921Z"
   },
   {
    "duration": 11,
    "start_time": "2023-09-10T21:31:21.931Z"
   },
   {
    "duration": 12,
    "start_time": "2023-09-10T21:31:21.944Z"
   },
   {
    "duration": 1228,
    "start_time": "2023-09-10T21:58:55.318Z"
   },
   {
    "duration": 179,
    "start_time": "2023-09-10T21:58:56.548Z"
   },
   {
    "duration": 22,
    "start_time": "2023-09-10T21:58:56.729Z"
   },
   {
    "duration": 87,
    "start_time": "2023-09-10T21:58:56.753Z"
   },
   {
    "duration": 141,
    "start_time": "2023-09-10T21:58:56.842Z"
   },
   {
    "duration": 4,
    "start_time": "2023-09-10T21:58:56.984Z"
   },
   {
    "duration": 35,
    "start_time": "2023-09-10T21:58:56.989Z"
   },
   {
    "duration": 4,
    "start_time": "2023-09-10T21:58:57.025Z"
   },
   {
    "duration": 46,
    "start_time": "2023-09-10T21:58:57.030Z"
   },
   {
    "duration": 7,
    "start_time": "2023-09-10T21:58:57.079Z"
   },
   {
    "duration": 5,
    "start_time": "2023-09-10T21:58:57.088Z"
   },
   {
    "duration": 405,
    "start_time": "2023-09-10T21:58:57.095Z"
   },
   {
    "duration": 22,
    "start_time": "2023-09-10T21:58:57.502Z"
   },
   {
    "duration": 16,
    "start_time": "2023-09-10T21:58:57.526Z"
   },
   {
    "duration": 34,
    "start_time": "2023-09-10T21:58:57.543Z"
   },
   {
    "duration": 49,
    "start_time": "2023-09-10T21:58:57.579Z"
   },
   {
    "duration": 62,
    "start_time": "2023-09-10T21:58:57.629Z"
   },
   {
    "duration": 12,
    "start_time": "2023-09-10T21:58:57.692Z"
   },
   {
    "duration": 23,
    "start_time": "2023-09-10T21:58:57.706Z"
   },
   {
    "duration": 42,
    "start_time": "2023-09-10T21:58:57.731Z"
   },
   {
    "duration": 140,
    "start_time": "2023-09-10T21:58:57.774Z"
   },
   {
    "duration": 26,
    "start_time": "2023-09-10T21:58:57.915Z"
   },
   {
    "duration": 79,
    "start_time": "2023-09-10T21:58:57.942Z"
   },
   {
    "duration": 102,
    "start_time": "2023-09-10T21:58:58.023Z"
   },
   {
    "duration": 6,
    "start_time": "2023-09-10T21:58:58.126Z"
   },
   {
    "duration": 37,
    "start_time": "2023-09-10T21:58:58.133Z"
   },
   {
    "duration": 23,
    "start_time": "2023-09-10T21:58:58.171Z"
   },
   {
    "duration": 21,
    "start_time": "2023-09-10T21:58:58.196Z"
   },
   {
    "duration": 6,
    "start_time": "2023-09-10T21:58:58.219Z"
   },
   {
    "duration": 15,
    "start_time": "2023-09-10T21:58:58.227Z"
   },
   {
    "duration": 1374,
    "start_time": "2023-09-10T22:01:56.062Z"
   },
   {
    "duration": 196,
    "start_time": "2023-09-10T22:01:57.438Z"
   },
   {
    "duration": 26,
    "start_time": "2023-09-10T22:01:57.636Z"
   },
   {
    "duration": 113,
    "start_time": "2023-09-10T22:01:57.666Z"
   },
   {
    "duration": 155,
    "start_time": "2023-09-10T22:01:57.781Z"
   },
   {
    "duration": 7,
    "start_time": "2023-09-10T22:01:57.938Z"
   },
   {
    "duration": 70,
    "start_time": "2023-09-10T22:01:57.948Z"
   },
   {
    "duration": 5,
    "start_time": "2023-09-10T22:01:58.019Z"
   },
   {
    "duration": 75,
    "start_time": "2023-09-10T22:01:58.025Z"
   },
   {
    "duration": 7,
    "start_time": "2023-09-10T22:01:58.103Z"
   },
   {
    "duration": 32,
    "start_time": "2023-09-10T22:01:58.112Z"
   },
   {
    "duration": 468,
    "start_time": "2023-09-10T22:01:58.146Z"
   },
   {
    "duration": 13,
    "start_time": "2023-09-10T22:01:58.615Z"
   },
   {
    "duration": 46,
    "start_time": "2023-09-10T22:01:58.630Z"
   },
   {
    "duration": 68,
    "start_time": "2023-09-10T22:01:58.678Z"
   },
   {
    "duration": 42,
    "start_time": "2023-09-10T22:01:58.749Z"
   },
   {
    "duration": 106,
    "start_time": "2023-09-10T22:01:58.793Z"
   },
   {
    "duration": 12,
    "start_time": "2023-09-10T22:01:58.900Z"
   },
   {
    "duration": 26,
    "start_time": "2023-09-10T22:01:58.913Z"
   },
   {
    "duration": 23,
    "start_time": "2023-09-10T22:01:58.944Z"
   },
   {
    "duration": 33,
    "start_time": "2023-09-10T22:01:58.969Z"
   },
   {
    "duration": 42,
    "start_time": "2023-09-10T22:01:59.004Z"
   },
   {
    "duration": 93,
    "start_time": "2023-09-10T22:01:59.049Z"
   },
   {
    "duration": 132,
    "start_time": "2023-09-10T22:01:59.144Z"
   },
   {
    "duration": 6,
    "start_time": "2023-09-10T22:01:59.278Z"
   },
   {
    "duration": 39,
    "start_time": "2023-09-10T22:01:59.285Z"
   },
   {
    "duration": 30,
    "start_time": "2023-09-10T22:01:59.326Z"
   },
   {
    "duration": 28,
    "start_time": "2023-09-10T22:01:59.361Z"
   },
   {
    "duration": 35,
    "start_time": "2023-09-10T22:01:59.391Z"
   },
   {
    "duration": 61,
    "start_time": "2023-09-10T22:01:59.428Z"
   }
  ],
  "kernelspec": {
   "display_name": "Python 3 (ipykernel)",
   "language": "python",
   "name": "python3"
  },
  "language_info": {
   "codemirror_mode": {
    "name": "ipython",
    "version": 3
   },
   "file_extension": ".py",
   "mimetype": "text/x-python",
   "name": "python",
   "nbconvert_exporter": "python",
   "pygments_lexer": "ipython3",
   "version": "3.9.12"
  },
  "toc": {
   "base_numbering": 1,
   "nav_menu": {},
   "number_sections": true,
   "sideBar": true,
   "skip_h1_title": true,
   "title_cell": "Table of Contents",
   "title_sidebar": "Contents",
   "toc_cell": false,
   "toc_position": {},
   "toc_section_display": true,
   "toc_window_display": false
  }
 },
 "nbformat": 4,
 "nbformat_minor": 2
}
