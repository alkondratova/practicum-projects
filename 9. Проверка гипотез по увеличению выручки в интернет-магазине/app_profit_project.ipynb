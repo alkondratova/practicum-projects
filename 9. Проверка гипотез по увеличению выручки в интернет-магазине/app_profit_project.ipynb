{
 "cells": [
  {
   "cell_type": "markdown",
   "metadata": {},
   "source": [
    "# Анализ и оптимизация выручки интернет-магазина через A/B-тестирование гипотез"
   ]
  },
  {
   "cell_type": "markdown",
   "metadata": {},
   "source": [
    "**Описание проекта**. Данное исследование выполнено для интернет-магазина. На первом этапе в нём приоритизируются гипотезы для увеличения выручки, подготовленные вместе с отделом маркетинга, по фреймворкам ICE и RICE. На втором этапе проводится A/B-тестирование. "
   ]
  },
  {
   "cell_type": "markdown",
   "metadata": {},
   "source": [
    "## Импорт библиотек"
   ]
  },
  {
   "cell_type": "code",
   "execution_count": 1,
   "metadata": {},
   "outputs": [],
   "source": [
    "# импортируем все необходимые библиотеки\n",
    "import pandas as pd\n",
    "from scipy import stats as st\n",
    "import numpy as np\n",
    "from matplotlib import pyplot as plt\n",
    "import datetime as dt"
   ]
  },
  {
   "cell_type": "markdown",
   "metadata": {},
   "source": [
    "## Приоритизация гипотез"
   ]
  },
  {
   "cell_type": "code",
   "execution_count": 2,
   "metadata": {},
   "outputs": [],
   "source": [
    "# загрузим данные с гипотезами\n",
    "hypothesis = pd.read_csv('C:/Users/alkon/practicum_projects/app_profit_project/hypothesis.csv')"
   ]
  },
  {
   "cell_type": "code",
   "execution_count": 3,
   "metadata": {},
   "outputs": [
    {
     "data": {
      "text/html": [
       "<div>\n",
       "<style scoped>\n",
       "    .dataframe tbody tr th:only-of-type {\n",
       "        vertical-align: middle;\n",
       "    }\n",
       "\n",
       "    .dataframe tbody tr th {\n",
       "        vertical-align: top;\n",
       "    }\n",
       "\n",
       "    .dataframe thead th {\n",
       "        text-align: right;\n",
       "    }\n",
       "</style>\n",
       "<table border=\"1\" class=\"dataframe\">\n",
       "  <thead>\n",
       "    <tr style=\"text-align: right;\">\n",
       "      <th></th>\n",
       "      <th>Hypothesis</th>\n",
       "      <th>Reach</th>\n",
       "      <th>Impact</th>\n",
       "      <th>Confidence</th>\n",
       "      <th>Efforts</th>\n",
       "    </tr>\n",
       "  </thead>\n",
       "  <tbody>\n",
       "    <tr>\n",
       "      <th>0</th>\n",
       "      <td>Добавить два новых канала привлечения трафика, что позволит привлекать на 30% больше пользователей</td>\n",
       "      <td>3</td>\n",
       "      <td>10</td>\n",
       "      <td>8</td>\n",
       "      <td>6</td>\n",
       "    </tr>\n",
       "    <tr>\n",
       "      <th>1</th>\n",
       "      <td>Запустить собственную службу доставки, что сократит срок доставки заказов</td>\n",
       "      <td>2</td>\n",
       "      <td>5</td>\n",
       "      <td>4</td>\n",
       "      <td>10</td>\n",
       "    </tr>\n",
       "    <tr>\n",
       "      <th>2</th>\n",
       "      <td>Добавить блоки рекомендаций товаров на сайт интернет магазина, чтобы повысить конверсию и средний чек заказа</td>\n",
       "      <td>8</td>\n",
       "      <td>3</td>\n",
       "      <td>7</td>\n",
       "      <td>3</td>\n",
       "    </tr>\n",
       "    <tr>\n",
       "      <th>3</th>\n",
       "      <td>Изменить структура категорий, что увеличит конверсию, т.к. пользователи быстрее найдут нужный товар</td>\n",
       "      <td>8</td>\n",
       "      <td>3</td>\n",
       "      <td>3</td>\n",
       "      <td>8</td>\n",
       "    </tr>\n",
       "    <tr>\n",
       "      <th>4</th>\n",
       "      <td>Изменить цвет фона главной страницы, чтобы увеличить вовлеченность пользователей</td>\n",
       "      <td>3</td>\n",
       "      <td>1</td>\n",
       "      <td>1</td>\n",
       "      <td>1</td>\n",
       "    </tr>\n",
       "    <tr>\n",
       "      <th>5</th>\n",
       "      <td>Добавить страницу отзывов клиентов о магазине, что позволит увеличить количество заказов</td>\n",
       "      <td>3</td>\n",
       "      <td>2</td>\n",
       "      <td>2</td>\n",
       "      <td>3</td>\n",
       "    </tr>\n",
       "    <tr>\n",
       "      <th>6</th>\n",
       "      <td>Показать на главной странице баннеры с актуальными акциями и распродажами, чтобы увеличить конверсию</td>\n",
       "      <td>5</td>\n",
       "      <td>3</td>\n",
       "      <td>8</td>\n",
       "      <td>3</td>\n",
       "    </tr>\n",
       "    <tr>\n",
       "      <th>7</th>\n",
       "      <td>Добавить форму подписки на все основные страницы, чтобы собрать базу клиентов для email-рассылок</td>\n",
       "      <td>10</td>\n",
       "      <td>7</td>\n",
       "      <td>8</td>\n",
       "      <td>5</td>\n",
       "    </tr>\n",
       "    <tr>\n",
       "      <th>8</th>\n",
       "      <td>Запустить акцию, дающую скидку на товар в день рождения</td>\n",
       "      <td>1</td>\n",
       "      <td>9</td>\n",
       "      <td>9</td>\n",
       "      <td>5</td>\n",
       "    </tr>\n",
       "  </tbody>\n",
       "</table>\n",
       "</div>"
      ],
      "text/plain": [
       "                                                                                                     Hypothesis  \\\n",
       "0            Добавить два новых канала привлечения трафика, что позволит привлекать на 30% больше пользователей   \n",
       "1                                     Запустить собственную службу доставки, что сократит срок доставки заказов   \n",
       "2  Добавить блоки рекомендаций товаров на сайт интернет магазина, чтобы повысить конверсию и средний чек заказа   \n",
       "3           Изменить структура категорий, что увеличит конверсию, т.к. пользователи быстрее найдут нужный товар   \n",
       "4                              Изменить цвет фона главной страницы, чтобы увеличить вовлеченность пользователей   \n",
       "5                      Добавить страницу отзывов клиентов о магазине, что позволит увеличить количество заказов   \n",
       "6          Показать на главной странице баннеры с актуальными акциями и распродажами, чтобы увеличить конверсию   \n",
       "7              Добавить форму подписки на все основные страницы, чтобы собрать базу клиентов для email-рассылок   \n",
       "8                                                       Запустить акцию, дающую скидку на товар в день рождения   \n",
       "\n",
       "   Reach  Impact  Confidence  Efforts  \n",
       "0      3      10           8        6  \n",
       "1      2       5           4       10  \n",
       "2      8       3           7        3  \n",
       "3      8       3           3        8  \n",
       "4      3       1           1        1  \n",
       "5      3       2           2        3  \n",
       "6      5       3           8        3  \n",
       "7     10       7           8        5  \n",
       "8      1       9           9        5  "
      ]
     },
     "execution_count": 3,
     "metadata": {},
     "output_type": "execute_result"
    }
   ],
   "source": [
    "# зададим параметры отображения \n",
    "pd.set_option('display.max_columns', None)\n",
    "pd.set_option('display.max_colwidth', None)\n",
    "\n",
    "# познакомимся с датафреймом\n",
    "hypothesis"
   ]
  },
  {
   "cell_type": "code",
   "execution_count": 4,
   "metadata": {},
   "outputs": [],
   "source": [
    "# для удобства приведём названия столбцов к нижнему регистру \n",
    "hypothesis.columns = hypothesis.columns.str.lower()"
   ]
  },
  {
   "cell_type": "code",
   "execution_count": 5,
   "metadata": {
    "scrolled": true
   },
   "outputs": [
    {
     "name": "stdout",
     "output_type": "stream",
     "text": [
      "<class 'pandas.core.frame.DataFrame'>\n",
      "RangeIndex: 9 entries, 0 to 8\n",
      "Data columns (total 5 columns):\n",
      " #   Column      Non-Null Count  Dtype \n",
      "---  ------      --------------  ----- \n",
      " 0   hypothesis  9 non-null      object\n",
      " 1   reach       9 non-null      int64 \n",
      " 2   impact      9 non-null      int64 \n",
      " 3   confidence  9 non-null      int64 \n",
      " 4   efforts     9 non-null      int64 \n",
      "dtypes: int64(4), object(1)\n",
      "memory usage: 488.0+ bytes\n"
     ]
    }
   ],
   "source": [
    "# выведем информацию о датафрейме, в данном случае ограничимся info()\n",
    "hypothesis.info()"
   ]
  },
  {
   "cell_type": "code",
   "execution_count": 6,
   "metadata": {},
   "outputs": [],
   "source": [
    "# рассчитаем ICE для каждой гипотезы\n",
    "hypothesis['ice'] = (hypothesis['impact'] * hypothesis['confidence']) / hypothesis['efforts']\n",
    "\n",
    "# рассчитаем RICE для каждой гипотезы\n",
    "hypothesis['rice'] = (hypothesis['reach'] * hypothesis['impact'] * hypothesis['confidence']) / hypothesis['efforts']"
   ]
  },
  {
   "cell_type": "code",
   "execution_count": 7,
   "metadata": {},
   "outputs": [
    {
     "data": {
      "text/html": [
       "<div>\n",
       "<style scoped>\n",
       "    .dataframe tbody tr th:only-of-type {\n",
       "        vertical-align: middle;\n",
       "    }\n",
       "\n",
       "    .dataframe tbody tr th {\n",
       "        vertical-align: top;\n",
       "    }\n",
       "\n",
       "    .dataframe thead th {\n",
       "        text-align: right;\n",
       "    }\n",
       "</style>\n",
       "<table border=\"1\" class=\"dataframe\">\n",
       "  <thead>\n",
       "    <tr style=\"text-align: right;\">\n",
       "      <th></th>\n",
       "      <th>hypothesis</th>\n",
       "      <th>reach</th>\n",
       "      <th>impact</th>\n",
       "      <th>confidence</th>\n",
       "      <th>efforts</th>\n",
       "      <th>ice</th>\n",
       "      <th>rice</th>\n",
       "    </tr>\n",
       "  </thead>\n",
       "  <tbody>\n",
       "    <tr>\n",
       "      <th>0</th>\n",
       "      <td>Добавить два новых канала привлечения трафика, что позволит привлекать на 30% больше пользователей</td>\n",
       "      <td>3</td>\n",
       "      <td>10</td>\n",
       "      <td>8</td>\n",
       "      <td>6</td>\n",
       "      <td>13.333333</td>\n",
       "      <td>40.0</td>\n",
       "    </tr>\n",
       "    <tr>\n",
       "      <th>1</th>\n",
       "      <td>Запустить собственную службу доставки, что сократит срок доставки заказов</td>\n",
       "      <td>2</td>\n",
       "      <td>5</td>\n",
       "      <td>4</td>\n",
       "      <td>10</td>\n",
       "      <td>2.000000</td>\n",
       "      <td>4.0</td>\n",
       "    </tr>\n",
       "    <tr>\n",
       "      <th>2</th>\n",
       "      <td>Добавить блоки рекомендаций товаров на сайт интернет магазина, чтобы повысить конверсию и средний чек заказа</td>\n",
       "      <td>8</td>\n",
       "      <td>3</td>\n",
       "      <td>7</td>\n",
       "      <td>3</td>\n",
       "      <td>7.000000</td>\n",
       "      <td>56.0</td>\n",
       "    </tr>\n",
       "    <tr>\n",
       "      <th>3</th>\n",
       "      <td>Изменить структура категорий, что увеличит конверсию, т.к. пользователи быстрее найдут нужный товар</td>\n",
       "      <td>8</td>\n",
       "      <td>3</td>\n",
       "      <td>3</td>\n",
       "      <td>8</td>\n",
       "      <td>1.125000</td>\n",
       "      <td>9.0</td>\n",
       "    </tr>\n",
       "    <tr>\n",
       "      <th>4</th>\n",
       "      <td>Изменить цвет фона главной страницы, чтобы увеличить вовлеченность пользователей</td>\n",
       "      <td>3</td>\n",
       "      <td>1</td>\n",
       "      <td>1</td>\n",
       "      <td>1</td>\n",
       "      <td>1.000000</td>\n",
       "      <td>3.0</td>\n",
       "    </tr>\n",
       "    <tr>\n",
       "      <th>5</th>\n",
       "      <td>Добавить страницу отзывов клиентов о магазине, что позволит увеличить количество заказов</td>\n",
       "      <td>3</td>\n",
       "      <td>2</td>\n",
       "      <td>2</td>\n",
       "      <td>3</td>\n",
       "      <td>1.333333</td>\n",
       "      <td>4.0</td>\n",
       "    </tr>\n",
       "    <tr>\n",
       "      <th>6</th>\n",
       "      <td>Показать на главной странице баннеры с актуальными акциями и распродажами, чтобы увеличить конверсию</td>\n",
       "      <td>5</td>\n",
       "      <td>3</td>\n",
       "      <td>8</td>\n",
       "      <td>3</td>\n",
       "      <td>8.000000</td>\n",
       "      <td>40.0</td>\n",
       "    </tr>\n",
       "    <tr>\n",
       "      <th>7</th>\n",
       "      <td>Добавить форму подписки на все основные страницы, чтобы собрать базу клиентов для email-рассылок</td>\n",
       "      <td>10</td>\n",
       "      <td>7</td>\n",
       "      <td>8</td>\n",
       "      <td>5</td>\n",
       "      <td>11.200000</td>\n",
       "      <td>112.0</td>\n",
       "    </tr>\n",
       "    <tr>\n",
       "      <th>8</th>\n",
       "      <td>Запустить акцию, дающую скидку на товар в день рождения</td>\n",
       "      <td>1</td>\n",
       "      <td>9</td>\n",
       "      <td>9</td>\n",
       "      <td>5</td>\n",
       "      <td>16.200000</td>\n",
       "      <td>16.2</td>\n",
       "    </tr>\n",
       "  </tbody>\n",
       "</table>\n",
       "</div>"
      ],
      "text/plain": [
       "                                                                                                     hypothesis  \\\n",
       "0            Добавить два новых канала привлечения трафика, что позволит привлекать на 30% больше пользователей   \n",
       "1                                     Запустить собственную службу доставки, что сократит срок доставки заказов   \n",
       "2  Добавить блоки рекомендаций товаров на сайт интернет магазина, чтобы повысить конверсию и средний чек заказа   \n",
       "3           Изменить структура категорий, что увеличит конверсию, т.к. пользователи быстрее найдут нужный товар   \n",
       "4                              Изменить цвет фона главной страницы, чтобы увеличить вовлеченность пользователей   \n",
       "5                      Добавить страницу отзывов клиентов о магазине, что позволит увеличить количество заказов   \n",
       "6          Показать на главной странице баннеры с актуальными акциями и распродажами, чтобы увеличить конверсию   \n",
       "7              Добавить форму подписки на все основные страницы, чтобы собрать базу клиентов для email-рассылок   \n",
       "8                                                       Запустить акцию, дающую скидку на товар в день рождения   \n",
       "\n",
       "   reach  impact  confidence  efforts        ice   rice  \n",
       "0      3      10           8        6  13.333333   40.0  \n",
       "1      2       5           4       10   2.000000    4.0  \n",
       "2      8       3           7        3   7.000000   56.0  \n",
       "3      8       3           3        8   1.125000    9.0  \n",
       "4      3       1           1        1   1.000000    3.0  \n",
       "5      3       2           2        3   1.333333    4.0  \n",
       "6      5       3           8        3   8.000000   40.0  \n",
       "7     10       7           8        5  11.200000  112.0  \n",
       "8      1       9           9        5  16.200000   16.2  "
      ]
     },
     "execution_count": 7,
     "metadata": {},
     "output_type": "execute_result"
    }
   ],
   "source": [
    "# выведем общий результат\n",
    "hypothesis"
   ]
  },
  {
   "cell_type": "code",
   "execution_count": 8,
   "metadata": {},
   "outputs": [],
   "source": [
    "# округляем метрики ICE до двух знаков после запятой\n",
    "hypothesis['ice'] = hypothesis['ice'].round(2)\n",
    "# округляем метрики RICE до двух знаков после запятой\n",
    "hypothesis['rice'] = hypothesis['rice'].round(2)"
   ]
  },
  {
   "cell_type": "code",
   "execution_count": 9,
   "metadata": {},
   "outputs": [
    {
     "name": "stdout",
     "output_type": "stream",
     "text": [
      "Приоритизация гипотез с помощью ICE:\n"
     ]
    },
    {
     "data": {
      "text/html": [
       "<div>\n",
       "<style scoped>\n",
       "    .dataframe tbody tr th:only-of-type {\n",
       "        vertical-align: middle;\n",
       "    }\n",
       "\n",
       "    .dataframe tbody tr th {\n",
       "        vertical-align: top;\n",
       "    }\n",
       "\n",
       "    .dataframe thead th {\n",
       "        text-align: right;\n",
       "    }\n",
       "</style>\n",
       "<table border=\"1\" class=\"dataframe\">\n",
       "  <thead>\n",
       "    <tr style=\"text-align: right;\">\n",
       "      <th></th>\n",
       "      <th>hypothesis</th>\n",
       "      <th>ice</th>\n",
       "    </tr>\n",
       "  </thead>\n",
       "  <tbody>\n",
       "    <tr>\n",
       "      <th>8</th>\n",
       "      <td>Запустить акцию, дающую скидку на товар в день рождения</td>\n",
       "      <td>16.20</td>\n",
       "    </tr>\n",
       "    <tr>\n",
       "      <th>0</th>\n",
       "      <td>Добавить два новых канала привлечения трафика, что позволит привлекать на 30% больше пользователей</td>\n",
       "      <td>13.33</td>\n",
       "    </tr>\n",
       "    <tr>\n",
       "      <th>7</th>\n",
       "      <td>Добавить форму подписки на все основные страницы, чтобы собрать базу клиентов для email-рассылок</td>\n",
       "      <td>11.20</td>\n",
       "    </tr>\n",
       "    <tr>\n",
       "      <th>6</th>\n",
       "      <td>Показать на главной странице баннеры с актуальными акциями и распродажами, чтобы увеличить конверсию</td>\n",
       "      <td>8.00</td>\n",
       "    </tr>\n",
       "    <tr>\n",
       "      <th>2</th>\n",
       "      <td>Добавить блоки рекомендаций товаров на сайт интернет магазина, чтобы повысить конверсию и средний чек заказа</td>\n",
       "      <td>7.00</td>\n",
       "    </tr>\n",
       "    <tr>\n",
       "      <th>1</th>\n",
       "      <td>Запустить собственную службу доставки, что сократит срок доставки заказов</td>\n",
       "      <td>2.00</td>\n",
       "    </tr>\n",
       "    <tr>\n",
       "      <th>5</th>\n",
       "      <td>Добавить страницу отзывов клиентов о магазине, что позволит увеличить количество заказов</td>\n",
       "      <td>1.33</td>\n",
       "    </tr>\n",
       "    <tr>\n",
       "      <th>3</th>\n",
       "      <td>Изменить структура категорий, что увеличит конверсию, т.к. пользователи быстрее найдут нужный товар</td>\n",
       "      <td>1.12</td>\n",
       "    </tr>\n",
       "    <tr>\n",
       "      <th>4</th>\n",
       "      <td>Изменить цвет фона главной страницы, чтобы увеличить вовлеченность пользователей</td>\n",
       "      <td>1.00</td>\n",
       "    </tr>\n",
       "  </tbody>\n",
       "</table>\n",
       "</div>"
      ],
      "text/plain": [
       "                                                                                                     hypothesis  \\\n",
       "8                                                       Запустить акцию, дающую скидку на товар в день рождения   \n",
       "0            Добавить два новых канала привлечения трафика, что позволит привлекать на 30% больше пользователей   \n",
       "7              Добавить форму подписки на все основные страницы, чтобы собрать базу клиентов для email-рассылок   \n",
       "6          Показать на главной странице баннеры с актуальными акциями и распродажами, чтобы увеличить конверсию   \n",
       "2  Добавить блоки рекомендаций товаров на сайт интернет магазина, чтобы повысить конверсию и средний чек заказа   \n",
       "1                                     Запустить собственную службу доставки, что сократит срок доставки заказов   \n",
       "5                      Добавить страницу отзывов клиентов о магазине, что позволит увеличить количество заказов   \n",
       "3           Изменить структура категорий, что увеличит конверсию, т.к. пользователи быстрее найдут нужный товар   \n",
       "4                              Изменить цвет фона главной страницы, чтобы увеличить вовлеченность пользователей   \n",
       "\n",
       "     ice  \n",
       "8  16.20  \n",
       "0  13.33  \n",
       "7  11.20  \n",
       "6   8.00  \n",
       "2   7.00  \n",
       "1   2.00  \n",
       "5   1.33  \n",
       "3   1.12  \n",
       "4   1.00  "
      ]
     },
     "metadata": {},
     "output_type": "display_data"
    },
    {
     "name": "stdout",
     "output_type": "stream",
     "text": [
      "\n",
      "Приоритизация гипотез с помощью RICE:\n"
     ]
    },
    {
     "data": {
      "text/html": [
       "<div>\n",
       "<style scoped>\n",
       "    .dataframe tbody tr th:only-of-type {\n",
       "        vertical-align: middle;\n",
       "    }\n",
       "\n",
       "    .dataframe tbody tr th {\n",
       "        vertical-align: top;\n",
       "    }\n",
       "\n",
       "    .dataframe thead th {\n",
       "        text-align: right;\n",
       "    }\n",
       "</style>\n",
       "<table border=\"1\" class=\"dataframe\">\n",
       "  <thead>\n",
       "    <tr style=\"text-align: right;\">\n",
       "      <th></th>\n",
       "      <th>hypothesis</th>\n",
       "      <th>rice</th>\n",
       "    </tr>\n",
       "  </thead>\n",
       "  <tbody>\n",
       "    <tr>\n",
       "      <th>7</th>\n",
       "      <td>Добавить форму подписки на все основные страницы, чтобы собрать базу клиентов для email-рассылок</td>\n",
       "      <td>112.0</td>\n",
       "    </tr>\n",
       "    <tr>\n",
       "      <th>2</th>\n",
       "      <td>Добавить блоки рекомендаций товаров на сайт интернет магазина, чтобы повысить конверсию и средний чек заказа</td>\n",
       "      <td>56.0</td>\n",
       "    </tr>\n",
       "    <tr>\n",
       "      <th>0</th>\n",
       "      <td>Добавить два новых канала привлечения трафика, что позволит привлекать на 30% больше пользователей</td>\n",
       "      <td>40.0</td>\n",
       "    </tr>\n",
       "    <tr>\n",
       "      <th>6</th>\n",
       "      <td>Показать на главной странице баннеры с актуальными акциями и распродажами, чтобы увеличить конверсию</td>\n",
       "      <td>40.0</td>\n",
       "    </tr>\n",
       "    <tr>\n",
       "      <th>8</th>\n",
       "      <td>Запустить акцию, дающую скидку на товар в день рождения</td>\n",
       "      <td>16.2</td>\n",
       "    </tr>\n",
       "    <tr>\n",
       "      <th>3</th>\n",
       "      <td>Изменить структура категорий, что увеличит конверсию, т.к. пользователи быстрее найдут нужный товар</td>\n",
       "      <td>9.0</td>\n",
       "    </tr>\n",
       "    <tr>\n",
       "      <th>1</th>\n",
       "      <td>Запустить собственную службу доставки, что сократит срок доставки заказов</td>\n",
       "      <td>4.0</td>\n",
       "    </tr>\n",
       "    <tr>\n",
       "      <th>5</th>\n",
       "      <td>Добавить страницу отзывов клиентов о магазине, что позволит увеличить количество заказов</td>\n",
       "      <td>4.0</td>\n",
       "    </tr>\n",
       "    <tr>\n",
       "      <th>4</th>\n",
       "      <td>Изменить цвет фона главной страницы, чтобы увеличить вовлеченность пользователей</td>\n",
       "      <td>3.0</td>\n",
       "    </tr>\n",
       "  </tbody>\n",
       "</table>\n",
       "</div>"
      ],
      "text/plain": [
       "                                                                                                     hypothesis  \\\n",
       "7              Добавить форму подписки на все основные страницы, чтобы собрать базу клиентов для email-рассылок   \n",
       "2  Добавить блоки рекомендаций товаров на сайт интернет магазина, чтобы повысить конверсию и средний чек заказа   \n",
       "0            Добавить два новых канала привлечения трафика, что позволит привлекать на 30% больше пользователей   \n",
       "6          Показать на главной странице баннеры с актуальными акциями и распродажами, чтобы увеличить конверсию   \n",
       "8                                                       Запустить акцию, дающую скидку на товар в день рождения   \n",
       "3           Изменить структура категорий, что увеличит конверсию, т.к. пользователи быстрее найдут нужный товар   \n",
       "1                                     Запустить собственную службу доставки, что сократит срок доставки заказов   \n",
       "5                      Добавить страницу отзывов клиентов о магазине, что позволит увеличить количество заказов   \n",
       "4                              Изменить цвет фона главной страницы, чтобы увеличить вовлеченность пользователей   \n",
       "\n",
       "    rice  \n",
       "7  112.0  \n",
       "2   56.0  \n",
       "0   40.0  \n",
       "6   40.0  \n",
       "8   16.2  \n",
       "3    9.0  \n",
       "1    4.0  \n",
       "5    4.0  \n",
       "4    3.0  "
      ]
     },
     "metadata": {},
     "output_type": "display_data"
    }
   ],
   "source": [
    "print(\"Приоритизация гипотез с помощью ICE:\")\n",
    "display(hypothesis[['hypothesis','ice']].sort_values(by='ice', ascending=False))\n",
    "\n",
    "print(\"\\nПриоритизация гипотез с помощью RICE:\")\n",
    "display(hypothesis[['hypothesis','rice']].sort_values(by='rice', ascending=False))"
   ]
  },
  {
   "cell_type": "markdown",
   "metadata": {},
   "source": [
    "**Вывод.** Видим, что приоритизация гипотез по ICE и RICE — разная. Это обусловлено тем, что в RICE учитывается параметр *Reach* (охват). Если гипотеза затронет многих пользователей, то она может получить высокий приоритет, даже если у нее низкие оценки *Impact* и *Confidence*. "
   ]
  },
  {
   "cell_type": "markdown",
   "metadata": {},
   "source": [
    "Топ-3 гипотез по фреймворку ICE c высокими показателями *Impact* и *Confidence*: \n",
    "- Запустить акцию, дающую скидку на товар в день рождения (8)\n",
    "- Добавить два новых канала привлечения трафика, что позволит привлекать на 30% больше пользователей (0)\n",
    "- Добавить форму подписки на все основные страницы, чтобы собрать базу клиентов для email-рассылок (7)"
   ]
  },
  {
   "cell_type": "markdown",
   "metadata": {},
   "source": [
    "Топ-3 гипотез по фреймворку RICE с высоким показателем *Reach*: \n",
    "- Добавить форму подписки на все основные страницы, чтобы собрать базу клиентов для email-рассылок (7)\n",
    "- Добавить блоки рекомендаций товаров на сайт интернет магазина, чтобы повысить конверсию и средний чек заказа (2)\n",
    "- Добавить два новых канала привлечения трафика, что позволит привлекать на 30% больше пользователей (0)"
   ]
  },
  {
   "cell_type": "markdown",
   "metadata": {},
   "source": [
    "Гипотезы 0 и 7 вошли заняли лидирующие позиции в обоих фреймворках."
   ]
  },
  {
   "cell_type": "markdown",
   "metadata": {},
   "source": [
    "## Анализ A/B-теста"
   ]
  },
  {
   "cell_type": "code",
   "execution_count": 10,
   "metadata": {},
   "outputs": [],
   "source": [
    "# загрузим данные о заказах\n",
    "orders = pd.read_csv('C:/Users/alkon/practicum_projects/app_profit_project/orders.csv')\n",
    "\n",
    "# загрузим данные о посетителях\n",
    "visitors = pd.read_csv('C:/Users/alkon/practicum_projects/app_profit_project/visitors.csv')"
   ]
  },
  {
   "cell_type": "code",
   "execution_count": 11,
   "metadata": {},
   "outputs": [
    {
     "name": "stdout",
     "output_type": "stream",
     "text": [
      "Информация о пропусках и дубликатах в датафрейме 'orders':\n",
      "Количество пропусков в 'orders': 0\n",
      "Количество дубликатов в 'orders': 0\n",
      "\n",
      "Информация о пропусках и дубликатах в датафрейме 'visitors':\n",
      "Количество пропусков в 'visitors': 0\n",
      "Количество дубликатов в 'visitors': 0\n"
     ]
    }
   ],
   "source": [
    "# Вывод информации о пропусках и дубликатах для датафрейма orders\n",
    "print(\"Информация о пропусках и дубликатах в датафрейме 'orders':\")\n",
    "print(\"Количество пропусков в 'orders':\", orders.isna().sum().sum())\n",
    "print(\"Количество дубликатов в 'orders':\", orders.duplicated().sum())\n",
    "\n",
    "# Вывод информации о пропусках и дубликатах для датафрейма visitors\n",
    "print(\"\\nИнформация о пропусках и дубликатах в датафрейме 'visitors':\")\n",
    "print(\"Количество пропусков в 'visitors':\", visitors.isna().sum().sum())\n",
    "print(\"Количество дубликатов в 'visitors':\", visitors.duplicated().sum())"
   ]
  },
  {
   "cell_type": "code",
   "execution_count": 12,
   "metadata": {},
   "outputs": [],
   "source": [
    "# преобразуем столбцы с датами\n",
    "orders['date'] = orders['date'].map(lambda x: dt.datetime.strptime(x, '%Y-%m-%d'))\n",
    "visitors['date'] = visitors['date'].map(lambda x: dt.datetime.strptime(x, '%Y-%m-%d'))"
   ]
  },
  {
   "cell_type": "code",
   "execution_count": 13,
   "metadata": {
    "scrolled": true
   },
   "outputs": [
    {
     "data": {
      "text/plain": [
       "True"
      ]
     },
     "execution_count": 13,
     "metadata": {},
     "output_type": "execute_result"
    }
   ],
   "source": [
    "# проверим совпадают ли даты в обоих таблицах\n",
    "set(orders['date'].unique()) == set(visitors['date'].unique())"
   ]
  },
  {
   "cell_type": "markdown",
   "metadata": {},
   "source": [
    "Даты в таблицах совпадают."
   ]
  },
  {
   "cell_type": "code",
   "execution_count": 14,
   "metadata": {
    "scrolled": true
   },
   "outputs": [
    {
     "data": {
      "text/plain": [
       "True"
      ]
     },
     "execution_count": 14,
     "metadata": {},
     "output_type": "execute_result"
    }
   ],
   "source": [
    "# проверим совпадают ли группы в обоих таблицах\n",
    "set(orders['group'].unique()) == set(visitors['group'].unique())"
   ]
  },
  {
   "cell_type": "markdown",
   "metadata": {},
   "source": [
    "Группы в таблицах также совпадают."
   ]
  },
  {
   "cell_type": "code",
   "execution_count": 15,
   "metadata": {},
   "outputs": [
    {
     "name": "stdout",
     "output_type": "stream",
     "text": [
      "Количество уникальных групп в А/В тесте: 2\n",
      "Дата начала теста: 2019-08-01 00:00:00\n",
      "Дата окончания теста: 2019-08-31 00:00:00\n",
      "Количество уникальных пользователей в группе A: 503\n",
      "Количество уникальных пользователей в группе B: 586\n"
     ]
    }
   ],
   "source": [
    "# определяем количество уникальных групп\n",
    "unique_groups = orders['group'].unique()\n",
    "\n",
    "# определяем даты начала и окончания теста\n",
    "start_date = orders['date'].min()\n",
    "end_date = orders['date'].max()\n",
    "\n",
    "# определяем количество уникальных пользователей в каждой группе\n",
    "unique_users_group_A = orders[orders['group'] == 'A']['visitorId'].nunique()\n",
    "unique_users_group_B = orders[orders['group'] == 'B']['visitorId'].nunique()\n",
    "\n",
    "# выводим полученные результаты\n",
    "print(\"Количество уникальных групп в А/В тесте:\", len(unique_groups))\n",
    "print(\"Дата начала теста:\", start_date)\n",
    "print(\"Дата окончания теста:\", end_date)\n",
    "print(\"Количество уникальных пользователей в группе A:\", unique_users_group_A)\n",
    "print(\"Количество уникальных пользователей в группе B:\", unique_users_group_B)\n"
   ]
  },
  {
   "cell_type": "markdown",
   "metadata": {},
   "source": [
    "В тесте 2 группы, количество уникальных пользователей не сбалансировано, ниже посчитаем в процентном соотношении. Временные рамки теста: с 1 августа по 31 августа 2019 года. "
   ]
  },
  {
   "cell_type": "markdown",
   "metadata": {},
   "source": [
    "Проверим, есть ли пользователи, которые попали в две группы одновременно."
   ]
  },
  {
   "cell_type": "code",
   "execution_count": 16,
   "metadata": {},
   "outputs": [
    {
     "name": "stdout",
     "output_type": "stream",
     "text": [
      "Количество пользователей, попавших одновременно в две группы:\n",
      "58\n"
     ]
    }
   ],
   "source": [
    "# группируем данные по visitorId и считаем количество уникальных групп для каждого пользователя\n",
    "users_in_both_groups_orders = orders.groupby('visitorId')['group'].nunique()\n",
    "\n",
    "# выбираем пользователей, у которых количество уникальных групп больше 1\n",
    "users_in_both_groups_orders = users_in_both_groups_orders[users_in_both_groups_orders > 1]\n",
    "\n",
    "if not users_in_both_groups_orders.empty:\n",
    "    print(\"Количество пользователей, попавших одновременно в две группы:\")\n",
    "    print(users_in_both_groups_orders.count())\n",
    "else:\n",
    "    print(\"Нет пользователей, попавших в две группы одновременно в таблице 'orders'.\")"
   ]
  },
  {
   "cell_type": "code",
   "execution_count": 17,
   "metadata": {},
   "outputs": [],
   "source": [
    "# удалим пользователей, у которых задублированы группы\n",
    "orders = orders[~orders['visitorId'].isin(users_in_both_groups_orders.index)]"
   ]
  },
  {
   "cell_type": "code",
   "execution_count": 18,
   "metadata": {},
   "outputs": [
    {
     "name": "stdout",
     "output_type": "stream",
     "text": [
      "Разница между группами: 18.65%\n"
     ]
    }
   ],
   "source": [
    "# считаем количество уникальных пользователей в каждой группе\n",
    "unique_visitors_by_group = orders.groupby('group')['visitorId'].nunique()\n",
    "\n",
    "# считаем разницу\n",
    "percentage_difference = ((unique_visitors_by_group['B'] - unique_visitors_by_group['A'])\n",
    "                         / unique_visitors_by_group['A']) * 100\n",
    "\n",
    "print(\"Разница между группами: {:.2f}%\".format(percentage_difference))"
   ]
  },
  {
   "cell_type": "markdown",
   "metadata": {},
   "source": [
    "Дублирование пользователей в группах и разница размеров групп может свидетельствовать об ошибках в проведении теста, влияющих на точность его результата. "
   ]
  },
  {
   "cell_type": "markdown",
   "metadata": {},
   "source": [
    "Подготовим данные для анализа."
   ]
  },
  {
   "cell_type": "code",
   "execution_count": 19,
   "metadata": {
    "scrolled": false
   },
   "outputs": [
    {
     "data": {
      "text/html": [
       "<div>\n",
       "<style scoped>\n",
       "    .dataframe tbody tr th:only-of-type {\n",
       "        vertical-align: middle;\n",
       "    }\n",
       "\n",
       "    .dataframe tbody tr th {\n",
       "        vertical-align: top;\n",
       "    }\n",
       "\n",
       "    .dataframe thead th {\n",
       "        text-align: right;\n",
       "    }\n",
       "</style>\n",
       "<table border=\"1\" class=\"dataframe\">\n",
       "  <thead>\n",
       "    <tr style=\"text-align: right;\">\n",
       "      <th></th>\n",
       "      <th>date</th>\n",
       "      <th>ordersPerDateA</th>\n",
       "      <th>revenuePerDateA</th>\n",
       "      <th>ordersPerDateB</th>\n",
       "      <th>revenuePerDateB</th>\n",
       "      <th>ordersCummulativeA</th>\n",
       "      <th>revenueCummulativeA</th>\n",
       "      <th>ordersCummulativeB</th>\n",
       "      <th>revenueCummulativeB</th>\n",
       "      <th>visitorsPerDateA</th>\n",
       "      <th>visitorsPerDateB</th>\n",
       "      <th>visitorsCummulativeA</th>\n",
       "      <th>visitorsCummulativeB</th>\n",
       "    </tr>\n",
       "  </thead>\n",
       "  <tbody>\n",
       "    <tr>\n",
       "      <th>0</th>\n",
       "      <td>2019-08-01</td>\n",
       "      <td>23</td>\n",
       "      <td>142779</td>\n",
       "      <td>17</td>\n",
       "      <td>59758</td>\n",
       "      <td>23</td>\n",
       "      <td>142779</td>\n",
       "      <td>17</td>\n",
       "      <td>59758</td>\n",
       "      <td>719</td>\n",
       "      <td>713</td>\n",
       "      <td>719</td>\n",
       "      <td>713</td>\n",
       "    </tr>\n",
       "    <tr>\n",
       "      <th>1</th>\n",
       "      <td>2019-08-02</td>\n",
       "      <td>19</td>\n",
       "      <td>91602</td>\n",
       "      <td>23</td>\n",
       "      <td>162043</td>\n",
       "      <td>42</td>\n",
       "      <td>234381</td>\n",
       "      <td>40</td>\n",
       "      <td>221801</td>\n",
       "      <td>619</td>\n",
       "      <td>581</td>\n",
       "      <td>1338</td>\n",
       "      <td>1294</td>\n",
       "    </tr>\n",
       "    <tr>\n",
       "      <th>2</th>\n",
       "      <td>2019-08-03</td>\n",
       "      <td>24</td>\n",
       "      <td>112473</td>\n",
       "      <td>14</td>\n",
       "      <td>67049</td>\n",
       "      <td>66</td>\n",
       "      <td>346854</td>\n",
       "      <td>54</td>\n",
       "      <td>288850</td>\n",
       "      <td>507</td>\n",
       "      <td>509</td>\n",
       "      <td>1845</td>\n",
       "      <td>1803</td>\n",
       "    </tr>\n",
       "    <tr>\n",
       "      <th>3</th>\n",
       "      <td>2019-08-04</td>\n",
       "      <td>11</td>\n",
       "      <td>41176</td>\n",
       "      <td>14</td>\n",
       "      <td>96890</td>\n",
       "      <td>77</td>\n",
       "      <td>388030</td>\n",
       "      <td>68</td>\n",
       "      <td>385740</td>\n",
       "      <td>717</td>\n",
       "      <td>770</td>\n",
       "      <td>2562</td>\n",
       "      <td>2573</td>\n",
       "    </tr>\n",
       "    <tr>\n",
       "      <th>4</th>\n",
       "      <td>2019-08-05</td>\n",
       "      <td>22</td>\n",
       "      <td>86383</td>\n",
       "      <td>21</td>\n",
       "      <td>89908</td>\n",
       "      <td>99</td>\n",
       "      <td>474413</td>\n",
       "      <td>89</td>\n",
       "      <td>475648</td>\n",
       "      <td>756</td>\n",
       "      <td>707</td>\n",
       "      <td>3318</td>\n",
       "      <td>3280</td>\n",
       "    </tr>\n",
       "  </tbody>\n",
       "</table>\n",
       "</div>"
      ],
      "text/plain": [
       "        date  ordersPerDateA  revenuePerDateA  ordersPerDateB  \\\n",
       "0 2019-08-01              23           142779              17   \n",
       "1 2019-08-02              19            91602              23   \n",
       "2 2019-08-03              24           112473              14   \n",
       "3 2019-08-04              11            41176              14   \n",
       "4 2019-08-05              22            86383              21   \n",
       "\n",
       "   revenuePerDateB  ordersCummulativeA  revenueCummulativeA  \\\n",
       "0            59758                  23               142779   \n",
       "1           162043                  42               234381   \n",
       "2            67049                  66               346854   \n",
       "3            96890                  77               388030   \n",
       "4            89908                  99               474413   \n",
       "\n",
       "   ordersCummulativeB  revenueCummulativeB  visitorsPerDateA  \\\n",
       "0                  17                59758               719   \n",
       "1                  40               221801               619   \n",
       "2                  54               288850               507   \n",
       "3                  68               385740               717   \n",
       "4                  89               475648               756   \n",
       "\n",
       "   visitorsPerDateB  visitorsCummulativeA  visitorsCummulativeB  \n",
       "0               713                   719                   713  \n",
       "1               581                  1338                  1294  \n",
       "2               509                  1845                  1803  \n",
       "3               770                  2562                  2573  \n",
       "4               707                  3318                  3280  "
      ]
     },
     "execution_count": 19,
     "metadata": {},
     "output_type": "execute_result"
    }
   ],
   "source": [
    "# подготовка данных о посетителях группы A\n",
    "visitorsADaily = visitors[visitors['group'] == 'A'][['date', 'visitors']]\n",
    "visitorsADaily.columns = ['date', 'visitorsPerDateA']\n",
    "\n",
    "visitorsACumulative = visitorsADaily.apply(\n",
    "    lambda x: visitorsADaily[visitorsADaily['date'] <= x['date']].agg(\n",
    "        {'date': 'max', 'visitorsPerDateA': 'sum'}\n",
    "    ),\n",
    "    axis=1,\n",
    ")\n",
    "visitorsACumulative.columns = ['date', 'visitorsCummulativeA']\n",
    "\n",
    "# подготовка данных о посетителях группы B\n",
    "visitorsBDaily = visitors[visitors['group'] == 'B'][['date', 'visitors']]\n",
    "visitorsBDaily.columns = ['date', 'visitorsPerDateB']\n",
    "\n",
    "visitorsBCumulative = visitorsBDaily.apply(\n",
    "    lambda x: visitorsBDaily[visitorsBDaily['date'] <= x['date']].agg(\n",
    "        {'date': 'max', 'visitorsPerDateB': 'sum'}\n",
    "    ),\n",
    "    axis=1,\n",
    ")\n",
    "visitorsBCumulative.columns = ['date', 'visitorsCummulativeB']\n",
    "\n",
    "# подготовка данных о заказах группы A\n",
    "ordersADaily = (\n",
    "    orders[orders['group'] == 'A'][['date', 'transactionId', 'visitorId', 'revenue']]\n",
    "    .groupby('date', as_index=False)\n",
    "    .agg({'transactionId': pd.Series.nunique, 'revenue': 'sum'})\n",
    ")\n",
    "ordersADaily.columns = ['date', 'ordersPerDateA', 'revenuePerDateA']\n",
    "\n",
    "ordersACumulative = ordersADaily.apply(\n",
    "    lambda x: ordersADaily[ordersADaily['date'] <= x['date']].agg(\n",
    "        {'date': 'max', 'ordersPerDateA': 'sum', 'revenuePerDateA': 'sum'}\n",
    "    ),\n",
    "    axis=1,\n",
    ").sort_values(by=['date'])\n",
    "ordersACumulative.columns = [\n",
    "    'date',\n",
    "    'ordersCummulativeA',\n",
    "    'revenueCummulativeA',\n",
    "]\n",
    "\n",
    "# подготовка данных о заказах группы B\n",
    "ordersBDaily = (\n",
    "    orders[orders['group'] == 'B'][['date', 'transactionId', 'visitorId', 'revenue']]\n",
    "    .groupby('date', as_index=False)\n",
    "    .agg({'transactionId': pd.Series.nunique, 'revenue': 'sum'})\n",
    ")\n",
    "ordersBDaily.columns = ['date', 'ordersPerDateB', 'revenuePerDateB']\n",
    "\n",
    "ordersBCumulative = ordersBDaily.apply(\n",
    "    lambda x: ordersBDaily[ordersBDaily['date'] <= x['date']].agg(\n",
    "        {'date': 'max', 'ordersPerDateB': 'sum', 'revenuePerDateB': 'sum'}\n",
    "    ),\n",
    "    axis=1,\n",
    ").sort_values(by=['date'])\n",
    "ordersBCumulative.columns = [\n",
    "    'date',\n",
    "    'ordersCummulativeB',\n",
    "    'revenueCummulativeB',\n",
    "]\n",
    "\n",
    "# объединение данных\n",
    "data = (\n",
    "    ordersADaily.merge(\n",
    "        ordersBDaily, left_on='date', right_on='date', how='left'\n",
    "    )\n",
    "    .merge(ordersACumulative, left_on='date', right_on='date', how='left')\n",
    "    .merge(ordersBCumulative, left_on='date', right_on='date', how='left')\n",
    "    .merge(visitorsADaily, left_on='date', right_on='date', how='left')\n",
    "    .merge(visitorsBDaily, left_on='date', right_on='date', how='left')\n",
    "    .merge(visitorsACumulative, left_on='date', right_on='date', how='left')\n",
    "    .merge(visitorsBCumulative, left_on='date', right_on='date', how='left')\n",
    ")\n",
    "\n",
    "data.head()"
   ]
  },
  {
   "cell_type": "markdown",
   "metadata": {},
   "source": [
    "### Кумулятивная выручка"
   ]
  },
  {
   "cell_type": "code",
   "execution_count": 20,
   "metadata": {
    "scrolled": false
   },
   "outputs": [
    {
     "data": {
      "image/png": "[encoded data removed]",
      "text/plain": [
       "<Figure size 864x576 with 1 Axes>"
      ]
     },
     "metadata": {
      "needs_background": "light"
     },
     "output_type": "display_data"
    }
   ],
   "source": [
    "# построение графика кумулятивной выручки по группам\n",
    "plt.figure(figsize=(12, 8))  \n",
    "plt.plot(data['date'], data['revenueCummulativeA'], label='A') \n",
    "plt.plot(data['date'], data['revenueCummulativeB'], label='B') \n",
    "\n",
    "\n",
    "plt.title('Кумулятивная выручка по группам')  \n",
    "plt.ylabel('Кумулятивная выручка')\n",
    "plt.xlabel('Дата')\n",
    "plt.legend()\n",
    "\n",
    "plt.show()\n"
   ]
  },
  {
   "cell_type": "markdown",
   "metadata": {},
   "source": [
    "Видим, что кумулятивная выручка на старте у двух групп приблизительно равная, однако, начиная с 5 августа выручка группы B начинает расти, претерпевая резкий скачок вверх приблизительно 18 августа. Возможно, во второй половине августа у клиентов группы B наблюдался всплеск числа заказов или увеличение сумм заказов (дорогие покупки)."
   ]
  },
  {
   "cell_type": "markdown",
   "metadata": {},
   "source": [
    "### Средний чек "
   ]
  },
  {
   "cell_type": "code",
   "execution_count": 21,
   "metadata": {},
   "outputs": [
    {
     "data": {
      "image/png": "[encoded data removed]",
      "text/plain": [
       "<Figure size 864x576 with 1 Axes>"
      ]
     },
     "metadata": {
      "needs_background": "light"
     },
     "output_type": "display_data"
    }
   ],
   "source": [
    "# построение графика среднего чека по группам\n",
    "plt.figure(figsize=(12, 8))\n",
    "plt.plot(data['date'], data['revenueCummulativeA'] / data['ordersCummulativeA'], label='A')\n",
    "plt.plot(data['date'], data['revenueCummulativeB'] / data['ordersCummulativeB'], label='B')\n",
    "\n",
    "plt.title('Средний чек по группам')\n",
    "plt.ylabel('Средний чек')\n",
    "plt.xlabel('Дата')\n",
    "plt.legend()\n",
    "\n",
    "plt.show()\n"
   ]
  },
  {
   "cell_type": "markdown",
   "metadata": {},
   "source": [
    "Видим сильные скачки на графиках для обеих групп. Средний чек для группы A претерпевает спад до 6-7 августа, затем планомерно растет, достигая пика 13 августа, после чего стабилизируется. При этом мы видим, что в группе B средний чек в целом растет, колеблется до 17 августа, а затем мы видим резкий скачок 18 августа, что совпадает со скачком кумулятивной выручки. Это значит, что в этой группе присутствуют очень дорогие заказы — потенциально выбросы."
   ]
  },
  {
   "cell_type": "markdown",
   "metadata": {},
   "source": [
    "### Относительное изменение кумулятивного среднего чека"
   ]
  },
  {
   "cell_type": "code",
   "execution_count": 22,
   "metadata": {},
   "outputs": [
    {
     "data": {
      "image/png": "[encoded data removed]",
      "text/plain": [
       "<Figure size 864x576 with 1 Axes>"
      ]
     },
     "metadata": {
      "needs_background": "light"
     },
     "output_type": "display_data"
    }
   ],
   "source": [
    "# рассчитаем относительное изменение кумулятивного среднего чека группы B к группе A\n",
    "cumulative_revenue_A = data['revenueCummulativeA'] / data['ordersCummulativeA']\n",
    "cumulative_revenue_B = data['revenueCummulativeB'] / data['ordersCummulativeB']\n",
    "relative_difference = cumulative_revenue_B / cumulative_revenue_A - 1\n",
    "\n",
    "# построим график относительного изменения\n",
    "plt.figure(figsize=(12, 8))\n",
    "plt.plot(data['date'], relative_difference, label='Относительное изменение среднего чека B к A')\n",
    "\n",
    "plt.title('Относительное изменение кумулятивного среднего чека группы B к группе A')\n",
    "plt.ylabel('Относительное изменение среднего чека')\n",
    "plt.xlabel('Дата')\n",
    "plt.axhline(y=0, color='black', linestyle='--')\n",
    "\n",
    "plt.show()"
   ]
  },
  {
   "cell_type": "markdown",
   "metadata": {},
   "source": [
    "На графике различия есть несколько значительных «скачков», в которых группа B превысила показетели группы А, 7 и 18-19 августа: скорее всего они связаны с выбросами. Между пиковыми значениями 13 августа группа B показывает спад."
   ]
  },
  {
   "cell_type": "markdown",
   "metadata": {},
   "source": [
    "### Кумулятивное среднее количество заказов на посетителя"
   ]
  },
  {
   "cell_type": "code",
   "execution_count": 23,
   "metadata": {},
   "outputs": [
    {
     "data": {
      "image/png": "[encoded data removed]",
      "text/plain": [
       "<Figure size 864x648 with 1 Axes>"
      ]
     },
     "metadata": {
      "needs_background": "light"
     },
     "output_type": "display_data"
    }
   ],
   "source": [
    "# рассчитаем кумулятивное среднее количество заказов на посетителя для группы A и B\n",
    "data['cumulative_orders_per_visitor_A'] = data['ordersCummulativeA'] / data['visitorsCummulativeA']\n",
    "data['cumulative_orders_per_visitor_B'] = data['ordersCummulativeB'] / data['visitorsCummulativeB']\n",
    "\n",
    "# построим график кумулятивного среднего количества заказов на посетителя по группам\n",
    "plt.figure(figsize=(12, 9))\n",
    "plt.plot(data['date'], data['cumulative_orders_per_visitor_A'], label='A')\n",
    "plt.plot(data['date'], data['cumulative_orders_per_visitor_B'], label='B')\n",
    "\n",
    "plt.title('Кумулятивное среднее количество заказов на посетителя по группам')\n",
    "plt.ylabel('Кумулятивное среднее количество заказов на посетителя')\n",
    "plt.xlabel('Дата')\n",
    "plt.legend()\n",
    "\n",
    "plt.show()"
   ]
  },
  {
   "cell_type": "markdown",
   "metadata": {},
   "source": [
    "Видим резкие «скачки» среднего количества заказов на посетителя для обеих групп в начале периода до 3 августа. Группа B показывает спад в районе 5 августа, затем растет к ~11 августа, и при локальных колебаниях идет на небольшое снижение в общем. При этом до конца периода сильно превышает показатели группы А. Группа A, напротив, после резкого роста конверсии показывает такой же резкий спад, продолжающийся до 15 августа, затем с поправкой на колебания стабилизируется и остается низким. "
   ]
  },
  {
   "cell_type": "markdown",
   "metadata": {},
   "source": [
    "### Относительное изменение кумулятивного среднего количества заказов на посетителя"
   ]
  },
  {
   "cell_type": "code",
   "execution_count": 24,
   "metadata": {},
   "outputs": [
    {
     "data": {
      "image/png": "[encoded data removed]",
      "text/plain": [
       "<Figure size 864x648 with 1 Axes>"
      ]
     },
     "metadata": {
      "needs_background": "light"
     },
     "output_type": "display_data"
    }
   ],
   "source": [
    "# рассчитаем относительное изменение кумулятивной среднего количества заказов на посетителя\n",
    "data['relative_change_in_avg_orders_per_visitor'] = (data['cumulative_orders_per_visitor_B'] /\n",
    "                                                    data['cumulative_orders_per_visitor_A'] - 1)\n",
    "\n",
    "# построим график относительного изменения кумулятивного среднего количества заказов на посетителя\n",
    "plt.figure(figsize=(12, 9))\n",
    "plt.plot(data['date'], data['relative_change_in_avg_orders_per_visitor'], label='B/A')\n",
    "\n",
    "plt.axhline(y=0, color='black', linestyle='--')\n",
    "plt.title('Относительное изменение кумулятивного среднего количества заказов на посетителя B к A')\n",
    "plt.ylabel('Относительное изменение')\n",
    "plt.xlabel('Дата')\n",
    "plt.legend()\n",
    "\n",
    "plt.show()"
   ]
  },
  {
   "cell_type": "markdown",
   "metadata": {},
   "source": [
    "Группа B проигрывала группе А только на старте, однако показывает сильный рост, начиная с 2-3 августа и затем постоянно растет."
   ]
  },
  {
   "cell_type": "markdown",
   "metadata": {},
   "source": [
    "### Количество заказов по пользователям"
   ]
  },
  {
   "cell_type": "code",
   "execution_count": 25,
   "metadata": {},
   "outputs": [
    {
     "data": {
      "image/png": "[encoded data removed]",
      "text/plain": [
       "<Figure size 864x360 with 1 Axes>"
      ]
     },
     "metadata": {
      "needs_background": "light"
     },
     "output_type": "display_data"
    }
   ],
   "source": [
    "# создадим датафрейм с данными о количестве заказов для каждого пользователя\n",
    "orders_per_user = orders.groupby('visitorId')['transactionId'].nunique().reset_index()\n",
    "orders_per_user.columns = ['visitorId', 'ordersCount']\n",
    "\n",
    "# построим точечный график\n",
    "plt.figure(figsize=(12, 5))\n",
    "plt.scatter(orders_per_user['visitorId'], orders_per_user['ordersCount'], alpha=0.5)\n",
    "plt.title('Точечный график количества заказов по пользователям')\n",
    "plt.xlabel('Пользователь')\n",
    "plt.ylabel('Количество заказов')\n",
    "plt.show()\n"
   ]
  },
  {
   "cell_type": "markdown",
   "metadata": {},
   "source": [
    "Большинство пользователей совершили 1 заказ. Лишь маленькая часть пользователей совершили 2-3 и менее заказов. Ниже определим аномальных пользователей с помощью перцентилей."
   ]
  },
  {
   "cell_type": "markdown",
   "metadata": {},
   "source": [
    "### Граница аномальных пользователей"
   ]
  },
  {
   "cell_type": "code",
   "execution_count": 26,
   "metadata": {},
   "outputs": [
    {
     "name": "stdout",
     "output_type": "stream",
     "text": [
      "95-й перцентиль: 1.0\n",
      "99-й перцентиль: 2.0\n"
     ]
    }
   ],
   "source": [
    "# рассчитываем 95-й и 99-й перцентили количества заказов на пользователя\n",
    "orders_percentiles = np.percentile(orders_per_user['ordersCount'], [95, 99])\n",
    "print(\"95-й перцентиль:\", orders_percentiles[0])\n",
    "print(\"99-й перцентиль:\", orders_percentiles[1])"
   ]
  },
  {
   "cell_type": "markdown",
   "metadata": {},
   "source": [
    "Не более 5% пользователей совершили 1 заказ, и не более 1% — 2+ заказов. С учетом этих значений и графика выше установим границу аномальных пользователей на 95ом перцентиле."
   ]
  },
  {
   "cell_type": "code",
   "execution_count": 27,
   "metadata": {},
   "outputs": [],
   "source": [
    "# граница аномальных пользователей\n",
    "abnormal_orders = orders_percentiles[1]"
   ]
  },
  {
   "cell_type": "markdown",
   "metadata": {},
   "source": [
    "### Точечный график стоимости заказов"
   ]
  },
  {
   "cell_type": "code",
   "execution_count": 28,
   "metadata": {},
   "outputs": [
    {
     "data": {
      "image/png": "[encoded data removed]",
      "text/plain": [
       "<Figure size 864x504 with 1 Axes>"
      ]
     },
     "metadata": {
      "needs_background": "light"
     },
     "output_type": "display_data"
    }
   ],
   "source": [
    "# построим точечный график стоимостей заказов\n",
    "plt.figure(figsize=(12, 7))\n",
    "plt.scatter(range(len(orders['revenue'])), orders['revenue'], alpha=0.5)\n",
    "plt.title('Точечный график стоимостей заказов')\n",
    "plt.ylabel('Стоимость заказа')\n",
    "plt.xlabel('Заказы')\n",
    "plt.show()"
   ]
  },
  {
   "cell_type": "markdown",
   "metadata": {},
   "source": [
    "Даже при таком масштабе графика с учетом выброса в виде очень дорогого заказа в ~1.3 млн мы видим, что в целом стоимость заказов не превышает 100 тыс. Установим границу аномальных заказов с помощью перцентилей."
   ]
  },
  {
   "cell_type": "markdown",
   "metadata": {},
   "source": [
    "### Граница аномальных заказов"
   ]
  },
  {
   "cell_type": "code",
   "execution_count": 29,
   "metadata": {},
   "outputs": [
    {
     "name": "stdout",
     "output_type": "stream",
     "text": [
      "95-й перцентиль стоимости заказов: 26785.00\n",
      "99-й перцентиль стоимости заказов: 53904.00\n"
     ]
    }
   ],
   "source": [
    "# рассчитываем 95-й и 99-й перцентили стоимости заказов\n",
    "revenue_percentiles = np.percentile(orders['revenue'], [95, 99])\n",
    "print(\"95-й перцентиль стоимости заказов: {:.2f}\".format(revenue_percentiles[0]))\n",
    "print(\"99-й перцентиль стоимости заказов: {:.2f}\".format(revenue_percentiles[1]))"
   ]
  },
  {
   "cell_type": "markdown",
   "metadata": {},
   "source": [
    "Не более 5% заказов по стоимости превышают 27 тыс., и не более 1% — 54 тыс. Установим границу аномальных заказов на 95ом перцентиле."
   ]
  },
  {
   "cell_type": "code",
   "execution_count": 30,
   "metadata": {},
   "outputs": [],
   "source": [
    "# граница аномальных заказов\n",
    "abnormal_revenue = revenue_percentiles[0]"
   ]
  },
  {
   "cell_type": "markdown",
   "metadata": {},
   "source": [
    "### Статистическая значимость различий между группами по «сырым» данным"
   ]
  },
  {
   "cell_type": "markdown",
   "metadata": {},
   "source": [
    "#### Среднее количество заказов"
   ]
  },
  {
   "cell_type": "markdown",
   "metadata": {},
   "source": [
    "Сформулируем гипотезы.\n",
    "\n",
    "**Нулевая гипотеза (H₀):** Среднее количество заказов на посетителя в группе А и группе В одинаково по «сырым» данным.<br/>\n",
    "**Альтернативная гипотеза (H₁):** Среднее количество заказов на посетителя в группе А и группе В различается по «сырым» данным.\n",
    "\n",
    "Уровень статистической значимости (alpha) установим на 0.05."
   ]
  },
  {
   "cell_type": "markdown",
   "metadata": {},
   "source": [
    "Применим критерий Манна-Уитни, поскольку он подходит для данных с нестандартными распределениями: выше по графикам мы видели, что в показателях присутствуют выбросы. "
   ]
  },
  {
   "cell_type": "code",
   "execution_count": 31,
   "metadata": {},
   "outputs": [
    {
     "name": "stdout",
     "output_type": "stream",
     "text": [
      "p-значение: 0.011\n",
      "Относительное различие в среднем количестве заказов между группами: 16.0%\n",
      "Отвергаем нулевую гипотезу: есть статистически значимые различия между группами.\n"
     ]
    }
   ],
   "source": [
    "# получаем данные о количестве заказов на пользователя для группы A и B\n",
    "orders_by_users_a = orders[orders['group'] == 'A'].groupby('visitorId', as_index=False).agg({'transactionId': pd.Series.nunique})\n",
    "orders_by_users_b = orders[orders['group'] == 'B'].groupby('visitorId', as_index=False).agg({'transactionId': pd.Series.nunique})\n",
    "\n",
    "# формируем выборки для проведения теста Манна-Уитни\n",
    "# для этого добавляем нули для пользователей, не сделавших заказы\n",
    "raw_sample_a = pd.concat([orders_by_users_a['transactionId'], \n",
    "                          pd.Series(0, index=np.arange(visitors[visitors['group'] == 'A']['visitors'].sum() - len(orders_by_users_a['transactionId'])))], axis=0)\n",
    "raw_sample_b = pd.concat([orders_by_users_b['transactionId'], \n",
    "                          pd.Series(0, index=np.arange(visitors[visitors['group'] == 'B']['visitors'].sum() - len(orders_by_users_b['transactionId'])))], axis=0)\n",
    "\n",
    "# проводим статистический тест\n",
    "p_value = st.mannwhitneyu(raw_sample_a, raw_sample_b)[1]\n",
    "\n",
    "print(\"p-значение: {0:.3f}\".format(p_value))\n",
    "print(\"Относительное различие в среднем количестве заказов между группами: {0:.1f}%\".format((raw_sample_b.mean() / raw_sample_a.mean() - 1)*100))\n",
    "\n",
    "alpha = 0.05\n",
    "\n",
    "if p_value < alpha:\n",
    "    print(\"Отвергаем нулевую гипотезу: есть статистически значимые различия между группами.\")\n",
    "else:\n",
    "    print(\"Не получилось отвергнуть нулевую гипотезу: статистически значимых различий между группами нет.\")"
   ]
  },
  {
   "cell_type": "markdown",
   "metadata": {},
   "source": [
    "Относительное различие в среднем количестве заказов между группами составляет 16%, что указывает на то, что группа B показывает более высокое среднее количество заказов на пользователя по сравнению с группой A. "
   ]
  },
  {
   "cell_type": "markdown",
   "metadata": {},
   "source": [
    "#### Средний чек"
   ]
  },
  {
   "cell_type": "markdown",
   "metadata": {},
   "source": [
    "Сформулируем гипотезы.\n",
    "\n",
    "**Нулевая гипотеза (H₀):** Статистически значимых различий в среднем чеке заказа между группами A и B по «сырым» данным нет.<br/>\n",
    "**Альтернативная гипотеза (H₁):** Статистически значимое различие в среднем чеке заказа между группами A и B по по «сырым» данным есть.\n",
    "\n",
    "Уровень статистической значимости (alpha) установим на 0.05."
   ]
  },
  {
   "cell_type": "code",
   "execution_count": 32,
   "metadata": {},
   "outputs": [
    {
     "name": "stdout",
     "output_type": "stream",
     "text": [
      "p-значение: 0.829\n",
      "Относительное различие в среднем чеке между группами: 28.7%\n",
      "Не получилось отвергнуть нулевую гипотезу: статистически значимых различий в среднем чеке между группами нет.\n"
     ]
    }
   ],
   "source": [
    "# вычисляем статистическую значимость различий в среднем чеке между группами\n",
    "p_value = st.mannwhitneyu(orders[orders['group']=='A']['revenue'], orders[orders['group']=='B']['revenue'])[1]\n",
    "\n",
    "# вычисляем относительное различие в среднем чеке между группами\n",
    "relative_difference = (orders[orders['group']=='B']['revenue'].mean() / orders[orders['group']=='A']['revenue'].mean() - 1) * 100\n",
    "\n",
    "print('p-значение: {0:.3f}'.format(p_value))\n",
    "print('Относительное различие в среднем чеке между группами: {0:.1f}%'.format(relative_difference))\n",
    "\n",
    "if p_value < alpha:\n",
    "    print('Отвергаем нулевую гипотезу: есть статистически значимые различия в среднем чеке между группами.')\n",
    "else:\n",
    "    print('Не получилось отвергнуть нулевую гипотезу: статистически значимых различий в среднем чеке между группами нет.')"
   ]
  },
  {
   "cell_type": "markdown",
   "metadata": {},
   "source": [
    "Группа B показывает более высокий результат, однако он не подтверждается статистически. Посмотрим на результаты теста по очищенным данным."
   ]
  },
  {
   "cell_type": "markdown",
   "metadata": {},
   "source": [
    "### Статистическая значимость различий между группами по «очищенным» данным"
   ]
  },
  {
   "cell_type": "markdown",
   "metadata": {},
   "source": [
    "#### Среднее количество заказов на посетителя"
   ]
  },
  {
   "cell_type": "markdown",
   "metadata": {},
   "source": [
    "Получим список аномальных пользователей по границам, определенным выше, и удалим этих пользователей из анализа."
   ]
  },
  {
   "cell_type": "code",
   "execution_count": 33,
   "metadata": {},
   "outputs": [
    {
     "name": "stdout",
     "output_type": "stream",
     "text": [
      "Количество аномальных пользователей: 58\n"
     ]
    }
   ],
   "source": [
    "# получим аномальных пользователей\n",
    "abnormal_users = pd.concat([orders[orders['revenue'] > abnormal_revenue]['visitorId'], orders_per_user[orders_per_user['ordersCount'] > abnormal_orders]['visitorId']], axis=0).drop_duplicates()\n",
    "print(\"Количество аномальных пользователей:\", len(abnormal_users))\n",
    "\n",
    "# получаем «очищенные» от аномальных пользоватаелей данные\n",
    "clean_orders = orders[np.logical_not(orders['visitorId'].isin(abnormal_users))]"
   ]
  },
  {
   "cell_type": "code",
   "execution_count": 34,
   "metadata": {},
   "outputs": [
    {
     "name": "stdout",
     "output_type": "stream",
     "text": [
      "Относительные потери уникальных пользователей после фильтрации: 5.96%\n"
     ]
    }
   ],
   "source": [
    "# найдем количество уникальных пользователей до фильтрации\n",
    "unique_users_before = orders['visitorId'].nunique()\n",
    "\n",
    "# найдем количество уникальных пользователей после фильтрации\n",
    "unique_users_after = clean_orders['visitorId'].nunique()\n",
    "\n",
    "# рассчитаем относительные потери\n",
    "relative_losses = (unique_users_before - unique_users_after) / unique_users_before\n",
    "\n",
    "print('Относительные потери уникальных пользователей после фильтрации: {:.2%}'.format(relative_losses))"
   ]
  },
  {
   "cell_type": "markdown",
   "metadata": {},
   "source": [
    "Мы получили допустимый для данного теста уровень потерь в ~6%: было важно устранить аномалии и посмотреть на результаты теста."
   ]
  },
  {
   "cell_type": "markdown",
   "metadata": {},
   "source": [
    "**Нулевая гипотеза (H₀):** Статистически значимых различий в среднем количестве заказов на посетителя между группами A и B по «очищенным» данным нет. <br/>\n",
    "**Альтернативная гипотеза (H₁):** Статистически значимое различие в среднем количестве заказов на посетителя между группами A и B по «очищенным» данным есть."
   ]
  },
  {
   "cell_type": "code",
   "execution_count": 35,
   "metadata": {},
   "outputs": [
    {
     "name": "stdout",
     "output_type": "stream",
     "text": [
      "p-значение для «очищенных» данных: 0.012\n",
      "Отвергаем нулевую гипотезу: есть статистически значимые различия между группами по «очищенным» данным.\n",
      "Относительное различие в конверсии между группами по «очищенным» данным: 18.17%\n"
     ]
    }
   ],
   "source": [
    "# Получаем агрегированные данные по количеству заказов на пользователя для группы A и B по \"очищенным\" данным\n",
    "orders_by_users_a_clean = clean_orders[clean_orders['group'] == 'A'].groupby('visitorId', as_index=False).agg({'transactionId': pd.Series.nunique})\n",
    "orders_by_users_b_clean = clean_orders[clean_orders['group'] == 'B'].groupby('visitorId', as_index=False).agg({'transactionId': pd.Series.nunique})\n",
    "\n",
    "# Формируем выборки для проведения теста Манна-Уитни\n",
    "sample_a_clean = pd.concat([orders_by_users_a_clean['transactionId'], \n",
    "                                pd.Series(0, index=np.arange(visitors[visitors['group'] == 'A']['visitors'].sum() - len(orders_by_users_a_clean['transactionId'])))], axis=0)\n",
    "sample_b_clean = pd.concat([orders_by_users_b_clean['transactionId'], \n",
    "                                pd.Series(0, index=np.arange(visitors[visitors['group'] == 'B']['visitors'].sum() - len(orders_by_users_b_clean['transactionId'])))], axis=0)\n",
    "\n",
    "# Проводим статистический тест Манна-Уитни\n",
    "p_value_clean = st.mannwhitneyu(sample_a_clean, sample_b_clean)[1]\n",
    "\n",
    "# Уровень статистической значимости\n",
    "alpha = 0.05\n",
    "\n",
    "# Выводим результаты и считаем относительное различие\n",
    "print('p-значение для «очищенных» данных: {0:.3f}'.format(p_value_clean))\n",
    "if p_value_clean < alpha:\n",
    "    print('Отвергаем нулевую гипотезу: есть статистически значимые различия между группами по «очищенным» данным.')\n",
    "else:\n",
    "    print('Не получилось отвергнуть нулевую гипотезу: статистически значимых различий между группами по «очищенным» данным нет.')\n",
    "\n",
    "# Рассчитываем относительное различие в конверсии\n",
    "relative_difference_clean = (sample_b_clean.mean() / sample_a_clean.mean() - 1) * 100\n",
    "print('Относительное различие в конверсии между группами по «очищенным» данным: {0:.2f}%'.format(relative_difference_clean))"
   ]
  },
  {
   "cell_type": "markdown",
   "metadata": {},
   "source": [
    "Группа B лидирует и по очищенным данным."
   ]
  },
  {
   "cell_type": "markdown",
   "metadata": {},
   "source": [
    "#### Средний чек"
   ]
  },
  {
   "cell_type": "markdown",
   "metadata": {},
   "source": [
    "**Нулевая гипотеза (H₀):** Статистически значимых различий в среднем чеке заказа между группами A и B по «очищенным» данным нет.<br/>\n",
    "**Альтернативная гипотеза (H₁):** Статистически значимое различие в среднем чеке заказа между группами A и B по «очищенным» данным есть."
   ]
  },
  {
   "cell_type": "code",
   "execution_count": 36,
   "metadata": {},
   "outputs": [
    {
     "name": "stdout",
     "output_type": "stream",
     "text": [
      "p-значение для среднего чека по «очищенным» данным: 0.646\n",
      "Не получилось отвергнуть нулевую гипотезу: статистически значимых различий в среднем чеке между группами по «очищенным» данным нет.\n",
      "Относительное различие в среднем чеке между группами по «очищенным» данным: -4.85%\n"
     ]
    }
   ],
   "source": [
    "# формируем выборки для теста Манна-Уитни\n",
    "sample_a_clean = clean_orders[clean_orders['group'] == 'A']['revenue']\n",
    "sample_b_clean = clean_orders[clean_orders['group'] == 'B']['revenue']\n",
    "\n",
    "# проводим статистический тест\n",
    "p_value_clean_revenue = st.mannwhitneyu(sample_a_clean, sample_b_clean)[1]\n",
    "\n",
    "alpha = 0.05\n",
    "\n",
    "print('p-значение для среднего чека по «очищенным» данным: {0:.3f}'.format(p_value_clean_revenue))\n",
    "if p_value_clean_revenue < alpha:\n",
    "    print('Отвергаем нулевую гипотезу: есть статистически значимые различия в среднем чеке между группами по «очищенным» данным.')\n",
    "else:\n",
    "    print('Не получилось отвергнуть нулевую гипотезу: статистически значимых различий в среднем чеке между группами по «очищенным» данным нет.')\n",
    "    \n",
    "# считаем относительное различие\n",
    "relative_difference_clean_revenue = ((sample_b_clean.mean() / sample_a_clean.mean()) - 1) * 100\n",
    "print('Относительное различие в среднем чеке между группами по «очищенным» данным: {0:.2f}%'.format(relative_difference_clean_revenue))"
   ]
  },
  {
   "cell_type": "markdown",
   "metadata": {},
   "source": [
    "Мы видим, что по очищенным данным баланс смещается в сторону группы А, но относительное различие при этом сильно сокращается."
   ]
  },
  {
   "cell_type": "markdown",
   "metadata": {},
   "source": [
    "## Выводы"
   ]
  },
  {
   "cell_type": "markdown",
   "metadata": {},
   "source": [
    "По результатам A/B-теста можно сделать следующие выводы: \n",
    "\n",
    "- По всем кумулятивным метрикам группа B показывает в целом лучшие результаты, чем группа A. Однако на графиках заметны колебания.\n",
    "- По сырым данным обнаружено статистически значимое различие между группами в количестве заказов. Группа А показывает более низкое среднее количество заказов на пользователя по сравнению с группой B. Тест по очищенным данным приблизительно повторяет результаты теста по сырым. \n",
    "- Относительное различие в среднем чеке между группами по сырым данным — 28.7% в пользу группы B, однако это различие не было подкреплено статистически. При этом по очищенным данным разница сильно сокращается — до -4.85%. \n",
    "\n",
    "С учетом графиков по кумулятивным показателям, статистически подкрепленного различия между группами в количестве заказов в пользу группы B и отсутствия статистического различия в среднем чеке можно **остановить тест и зафиксировать победу группы B**. "
   ]
  }
 ],
 "metadata": {
  "ExecuteTimeLog": [
   {
    "duration": 1502,
    "start_time": "2023-09-02T20:48:02.350Z"
   },
   {
    "duration": 171,
    "start_time": "2023-09-02T20:51:38.998Z"
   },
   {
    "duration": 42,
    "start_time": "2023-09-02T20:51:50.944Z"
   },
   {
    "duration": 4,
    "start_time": "2023-09-02T20:52:41.081Z"
   },
   {
    "duration": 15,
    "start_time": "2023-09-02T20:53:22.189Z"
   },
   {
    "duration": 8,
    "start_time": "2023-09-02T20:55:34.761Z"
   },
   {
    "duration": 8,
    "start_time": "2023-09-02T20:55:47.864Z"
   },
   {
    "duration": 27,
    "start_time": "2023-09-02T20:57:28.503Z"
   },
   {
    "duration": 28,
    "start_time": "2023-09-02T20:57:43.637Z"
   },
   {
    "duration": 35,
    "start_time": "2023-09-02T20:59:17.755Z"
   },
   {
    "duration": 35,
    "start_time": "2023-09-02T20:59:47.349Z"
   },
   {
    "duration": 36,
    "start_time": "2023-09-02T20:59:57.835Z"
   },
   {
    "duration": 18,
    "start_time": "2023-09-02T21:00:14.454Z"
   },
   {
    "duration": 8,
    "start_time": "2023-09-02T21:01:34.463Z"
   },
   {
    "duration": 1148,
    "start_time": "2023-09-02T21:01:57.026Z"
   },
   {
    "duration": 92,
    "start_time": "2023-09-02T21:01:58.176Z"
   },
   {
    "duration": 4,
    "start_time": "2023-09-02T21:01:58.270Z"
   },
   {
    "duration": 14,
    "start_time": "2023-09-02T21:01:58.275Z"
   },
   {
    "duration": 31,
    "start_time": "2023-09-02T21:01:58.291Z"
   },
   {
    "duration": 15,
    "start_time": "2023-09-02T21:01:58.330Z"
   },
   {
    "duration": 23,
    "start_time": "2023-09-02T21:01:58.350Z"
   },
   {
    "duration": 44,
    "start_time": "2023-09-02T21:01:58.375Z"
   },
   {
    "duration": 7,
    "start_time": "2023-09-02T21:02:53.463Z"
   },
   {
    "duration": 8,
    "start_time": "2023-09-02T21:03:08.393Z"
   },
   {
    "duration": 16,
    "start_time": "2023-09-02T21:03:11.162Z"
   },
   {
    "duration": 83,
    "start_time": "2023-09-02T21:04:04.829Z"
   },
   {
    "duration": 19,
    "start_time": "2023-09-02T21:04:08.671Z"
   },
   {
    "duration": 1232,
    "start_time": "2023-09-02T21:04:34.257Z"
   },
   {
    "duration": 96,
    "start_time": "2023-09-02T21:04:35.491Z"
   },
   {
    "duration": 36,
    "start_time": "2023-09-02T21:04:35.588Z"
   },
   {
    "duration": 35,
    "start_time": "2023-09-02T21:04:35.627Z"
   },
   {
    "duration": 33,
    "start_time": "2023-09-02T21:04:35.665Z"
   },
   {
    "duration": 29,
    "start_time": "2023-09-02T21:04:35.700Z"
   },
   {
    "duration": 30,
    "start_time": "2023-09-02T21:04:35.731Z"
   },
   {
    "duration": 173,
    "start_time": "2023-09-02T21:11:41.384Z"
   },
   {
    "duration": 22,
    "start_time": "2023-09-02T21:12:22.927Z"
   },
   {
    "duration": 19,
    "start_time": "2023-09-02T21:13:03.105Z"
   },
   {
    "duration": 37,
    "start_time": "2023-09-02T21:13:52.520Z"
   },
   {
    "duration": 26,
    "start_time": "2023-09-02T21:14:11.047Z"
   },
   {
    "duration": 28,
    "start_time": "2023-09-02T21:14:18.735Z"
   },
   {
    "duration": 3,
    "start_time": "2023-09-02T21:14:51.071Z"
   },
   {
    "duration": 7,
    "start_time": "2023-09-02T21:15:47.736Z"
   },
   {
    "duration": 8,
    "start_time": "2023-09-02T21:16:35.549Z"
   },
   {
    "duration": 6,
    "start_time": "2023-09-02T21:17:21.387Z"
   },
   {
    "duration": 1195,
    "start_time": "2023-09-02T21:17:29.533Z"
   },
   {
    "duration": 109,
    "start_time": "2023-09-02T21:17:30.732Z"
   },
   {
    "duration": 3,
    "start_time": "2023-09-02T21:17:30.844Z"
   },
   {
    "duration": 37,
    "start_time": "2023-09-02T21:17:30.849Z"
   },
   {
    "duration": 51,
    "start_time": "2023-09-02T21:17:30.889Z"
   },
   {
    "duration": 29,
    "start_time": "2023-09-02T21:17:30.942Z"
   },
   {
    "duration": 66,
    "start_time": "2023-09-02T21:17:30.973Z"
   },
   {
    "duration": 96,
    "start_time": "2023-09-02T21:17:31.041Z"
   },
   {
    "duration": 2,
    "start_time": "2023-09-02T21:17:31.140Z"
   },
   {
    "duration": 58,
    "start_time": "2023-09-02T21:17:31.144Z"
   },
   {
    "duration": 10,
    "start_time": "2023-09-02T21:20:02.309Z"
   },
   {
    "duration": 6,
    "start_time": "2023-09-02T21:20:09.373Z"
   },
   {
    "duration": 6,
    "start_time": "2023-09-02T21:20:33.534Z"
   },
   {
    "duration": 91,
    "start_time": "2023-09-02T21:21:31.502Z"
   },
   {
    "duration": 15,
    "start_time": "2023-09-02T21:21:34.629Z"
   },
   {
    "duration": 7,
    "start_time": "2023-09-02T21:34:55.712Z"
   },
   {
    "duration": 24,
    "start_time": "2023-09-02T21:35:07.583Z"
   },
   {
    "duration": 22,
    "start_time": "2023-09-02T21:35:51.007Z"
   },
   {
    "duration": 4,
    "start_time": "2023-09-02T21:36:53.351Z"
   },
   {
    "duration": 147,
    "start_time": "2023-09-02T21:37:19.374Z"
   },
   {
    "duration": 6,
    "start_time": "2023-09-02T21:37:30.242Z"
   },
   {
    "duration": 7,
    "start_time": "2023-09-02T21:37:35.100Z"
   },
   {
    "duration": 18,
    "start_time": "2023-09-02T21:37:50.656Z"
   },
   {
    "duration": 5,
    "start_time": "2023-09-02T21:38:20.937Z"
   },
   {
    "duration": 33,
    "start_time": "2023-09-02T21:38:23.507Z"
   },
   {
    "duration": 18,
    "start_time": "2023-09-02T21:39:39.163Z"
   },
   {
    "duration": 6,
    "start_time": "2023-09-02T21:40:03.762Z"
   },
   {
    "duration": 13,
    "start_time": "2023-09-02T21:40:39.535Z"
   },
   {
    "duration": 11,
    "start_time": "2023-09-02T21:40:43.882Z"
   },
   {
    "duration": 9,
    "start_time": "2023-09-02T21:40:57.191Z"
   },
   {
    "duration": 20,
    "start_time": "2023-09-02T21:41:12.458Z"
   },
   {
    "duration": 87,
    "start_time": "2023-09-02T21:42:17.799Z"
   },
   {
    "duration": 7,
    "start_time": "2023-09-02T21:44:00.852Z"
   },
   {
    "duration": 7,
    "start_time": "2023-09-02T21:44:19.240Z"
   },
   {
    "duration": 13,
    "start_time": "2023-09-02T21:45:51.236Z"
   },
   {
    "duration": 10,
    "start_time": "2023-09-02T21:47:02.891Z"
   },
   {
    "duration": 7,
    "start_time": "2023-09-02T21:47:46.946Z"
   },
   {
    "duration": 6,
    "start_time": "2023-09-02T21:48:36.247Z"
   },
   {
    "duration": 11,
    "start_time": "2023-09-02T21:49:25.885Z"
   },
   {
    "duration": 19,
    "start_time": "2023-09-02T21:50:49.436Z"
   },
   {
    "duration": 9,
    "start_time": "2023-09-02T21:51:15.180Z"
   },
   {
    "duration": 9,
    "start_time": "2023-09-02T21:51:37.376Z"
   },
   {
    "duration": 8,
    "start_time": "2023-09-02T21:52:16.080Z"
   },
   {
    "duration": 6,
    "start_time": "2023-09-02T21:53:06.895Z"
   },
   {
    "duration": 8,
    "start_time": "2023-09-02T21:53:26.903Z"
   },
   {
    "duration": 385,
    "start_time": "2023-09-02T22:07:23.692Z"
   },
   {
    "duration": 1200,
    "start_time": "2023-09-02T22:08:04.572Z"
   },
   {
    "duration": 96,
    "start_time": "2023-09-02T22:08:05.774Z"
   },
   {
    "duration": 18,
    "start_time": "2023-09-02T22:08:05.872Z"
   },
   {
    "duration": 16,
    "start_time": "2023-09-02T22:08:05.892Z"
   },
   {
    "duration": 13,
    "start_time": "2023-09-02T22:08:05.916Z"
   },
   {
    "duration": 35,
    "start_time": "2023-09-02T22:08:05.931Z"
   },
   {
    "duration": 22,
    "start_time": "2023-09-02T22:08:05.968Z"
   },
   {
    "duration": 68,
    "start_time": "2023-09-02T22:08:05.992Z"
   },
   {
    "duration": 3,
    "start_time": "2023-09-02T22:08:06.062Z"
   },
   {
    "duration": 33,
    "start_time": "2023-09-02T22:08:06.067Z"
   },
   {
    "duration": 21,
    "start_time": "2023-09-02T22:08:06.103Z"
   },
   {
    "duration": 9,
    "start_time": "2023-09-02T22:08:06.126Z"
   },
   {
    "duration": 22,
    "start_time": "2023-09-02T22:08:06.137Z"
   },
   {
    "duration": 6,
    "start_time": "2023-09-02T22:08:06.163Z"
   },
   {
    "duration": 19,
    "start_time": "2023-09-02T22:08:06.170Z"
   },
   {
    "duration": 104,
    "start_time": "2023-09-02T22:08:06.191Z"
   },
   {
    "duration": 272,
    "start_time": "2023-09-02T22:08:43.521Z"
   },
   {
    "duration": 257,
    "start_time": "2023-09-02T22:08:54.552Z"
   },
   {
    "duration": 386,
    "start_time": "2023-09-02T22:09:18.946Z"
   },
   {
    "duration": 259,
    "start_time": "2023-09-02T22:09:40.607Z"
   },
   {
    "duration": 295,
    "start_time": "2023-09-02T22:09:48.954Z"
   },
   {
    "duration": 143,
    "start_time": "2023-09-02T22:13:41.402Z"
   },
   {
    "duration": 1306,
    "start_time": "2023-09-02T22:15:59.079Z"
   },
   {
    "duration": 1430,
    "start_time": "2023-09-02T22:16:54.752Z"
   },
   {
    "duration": 429,
    "start_time": "2023-09-02T22:17:03.290Z"
   },
   {
    "duration": 1740,
    "start_time": "2023-09-02T22:17:10.453Z"
   },
   {
    "duration": 1349,
    "start_time": "2023-09-02T22:17:18.654Z"
   },
   {
    "duration": 152,
    "start_time": "2023-09-02T22:17:20.005Z"
   },
   {
    "duration": 4,
    "start_time": "2023-09-02T22:17:20.160Z"
   },
   {
    "duration": 19,
    "start_time": "2023-09-02T22:17:20.167Z"
   },
   {
    "duration": 8,
    "start_time": "2023-09-02T22:17:20.189Z"
   },
   {
    "duration": 26,
    "start_time": "2023-09-02T22:17:20.199Z"
   },
   {
    "duration": 31,
    "start_time": "2023-09-02T22:17:20.232Z"
   },
   {
    "duration": 84,
    "start_time": "2023-09-02T22:17:20.265Z"
   },
   {
    "duration": 4,
    "start_time": "2023-09-02T22:17:20.355Z"
   },
   {
    "duration": 66,
    "start_time": "2023-09-02T22:17:20.362Z"
   },
   {
    "duration": 85,
    "start_time": "2023-09-02T22:17:20.434Z"
   },
   {
    "duration": 16,
    "start_time": "2023-09-02T22:17:20.522Z"
   },
   {
    "duration": 16,
    "start_time": "2023-09-02T22:17:20.541Z"
   },
   {
    "duration": 11,
    "start_time": "2023-09-02T22:17:20.567Z"
   },
   {
    "duration": 10,
    "start_time": "2023-09-02T22:17:20.582Z"
   },
   {
    "duration": 406,
    "start_time": "2023-09-02T22:17:20.595Z"
   },
   {
    "duration": 2371,
    "start_time": "2023-09-02T22:17:21.012Z"
   },
   {
    "duration": 0,
    "start_time": "2023-09-02T22:17:23.385Z"
   },
   {
    "duration": 504,
    "start_time": "2023-09-02T22:18:43.294Z"
   },
   {
    "duration": 294,
    "start_time": "2023-09-02T22:20:36.010Z"
   },
   {
    "duration": 314,
    "start_time": "2023-09-02T22:20:42.968Z"
   },
   {
    "duration": 294,
    "start_time": "2023-09-02T22:20:50.257Z"
   },
   {
    "duration": 269,
    "start_time": "2023-09-02T22:22:05.466Z"
   },
   {
    "duration": 268,
    "start_time": "2023-09-02T22:22:15.730Z"
   },
   {
    "duration": 25,
    "start_time": "2023-09-02T22:27:29.401Z"
   },
   {
    "duration": 1492,
    "start_time": "2023-09-02T22:28:31.948Z"
   },
   {
    "duration": 262,
    "start_time": "2023-09-02T22:28:52.100Z"
   },
   {
    "duration": 313,
    "start_time": "2023-09-02T22:29:28.968Z"
   },
   {
    "duration": 288,
    "start_time": "2023-09-02T22:31:44.835Z"
   },
   {
    "duration": 6,
    "start_time": "2023-09-02T22:32:47.909Z"
   },
   {
    "duration": 51,
    "start_time": "2023-09-03T20:59:23.354Z"
   },
   {
    "duration": 1298,
    "start_time": "2023-09-03T20:59:39.702Z"
   },
   {
    "duration": 125,
    "start_time": "2023-09-03T20:59:41.002Z"
   },
   {
    "duration": 4,
    "start_time": "2023-09-03T20:59:41.129Z"
   },
   {
    "duration": 27,
    "start_time": "2023-09-03T20:59:41.135Z"
   },
   {
    "duration": 20,
    "start_time": "2023-09-03T20:59:41.164Z"
   },
   {
    "duration": 34,
    "start_time": "2023-09-03T20:59:41.186Z"
   },
   {
    "duration": 46,
    "start_time": "2023-09-03T20:59:41.222Z"
   },
   {
    "duration": 130,
    "start_time": "2023-09-03T20:59:41.269Z"
   },
   {
    "duration": 2,
    "start_time": "2023-09-03T20:59:41.402Z"
   },
   {
    "duration": 77,
    "start_time": "2023-09-03T20:59:41.407Z"
   },
   {
    "duration": 54,
    "start_time": "2023-09-03T20:59:41.486Z"
   },
   {
    "duration": 39,
    "start_time": "2023-09-03T20:59:41.542Z"
   },
   {
    "duration": 12,
    "start_time": "2023-09-03T20:59:41.583Z"
   },
   {
    "duration": 34,
    "start_time": "2023-09-03T20:59:41.597Z"
   },
   {
    "duration": 30,
    "start_time": "2023-09-03T20:59:41.633Z"
   },
   {
    "duration": 265,
    "start_time": "2023-09-03T20:59:41.665Z"
   },
   {
    "duration": 313,
    "start_time": "2023-09-03T20:59:41.931Z"
   },
   {
    "duration": 232,
    "start_time": "2023-09-03T20:59:42.246Z"
   },
   {
    "duration": 377,
    "start_time": "2023-09-03T20:59:42.480Z"
   },
   {
    "duration": 277,
    "start_time": "2023-09-03T20:59:42.860Z"
   },
   {
    "duration": 332,
    "start_time": "2023-09-03T20:59:43.139Z"
   },
   {
    "duration": 184,
    "start_time": "2023-09-03T21:00:46.798Z"
   },
   {
    "duration": 5,
    "start_time": "2023-09-03T21:03:21.313Z"
   },
   {
    "duration": 168,
    "start_time": "2023-09-03T21:04:32.974Z"
   },
   {
    "duration": 5,
    "start_time": "2023-09-03T21:06:30.957Z"
   },
   {
    "duration": 2,
    "start_time": "2023-09-03T21:09:04.485Z"
   },
   {
    "duration": 2,
    "start_time": "2023-09-03T21:09:43.181Z"
   },
   {
    "duration": 3,
    "start_time": "2023-09-03T21:18:33.348Z"
   },
   {
    "duration": 3,
    "start_time": "2023-09-03T21:21:01.713Z"
   },
   {
    "duration": 156,
    "start_time": "2023-09-03T21:36:19.504Z"
   },
   {
    "duration": 10,
    "start_time": "2023-09-03T21:38:16.042Z"
   },
   {
    "duration": 15,
    "start_time": "2023-09-03T21:40:05.923Z"
   },
   {
    "duration": 12,
    "start_time": "2023-09-03T21:40:57.382Z"
   },
   {
    "duration": 177,
    "start_time": "2023-09-03T21:41:43.185Z"
   },
   {
    "duration": 124,
    "start_time": "2023-09-03T21:49:19.825Z"
   },
   {
    "duration": 4,
    "start_time": "2023-09-03T21:49:27.670Z"
   },
   {
    "duration": 1431,
    "start_time": "2023-09-03T21:49:40.529Z"
   },
   {
    "duration": 110,
    "start_time": "2023-09-03T21:49:41.963Z"
   },
   {
    "duration": 13,
    "start_time": "2023-09-03T21:49:42.075Z"
   },
   {
    "duration": 32,
    "start_time": "2023-09-03T21:49:42.092Z"
   },
   {
    "duration": 13,
    "start_time": "2023-09-03T21:49:42.126Z"
   },
   {
    "duration": 32,
    "start_time": "2023-09-03T21:49:42.141Z"
   },
   {
    "duration": 51,
    "start_time": "2023-09-03T21:49:42.175Z"
   },
   {
    "duration": 60,
    "start_time": "2023-09-03T21:49:42.230Z"
   },
   {
    "duration": 2,
    "start_time": "2023-09-03T21:49:42.293Z"
   },
   {
    "duration": 30,
    "start_time": "2023-09-03T21:49:42.297Z"
   },
   {
    "duration": 20,
    "start_time": "2023-09-03T21:49:42.329Z"
   },
   {
    "duration": 8,
    "start_time": "2023-09-03T21:49:42.351Z"
   },
   {
    "duration": 28,
    "start_time": "2023-09-03T21:49:42.361Z"
   },
   {
    "duration": 17,
    "start_time": "2023-09-03T21:49:42.391Z"
   },
   {
    "duration": 27,
    "start_time": "2023-09-03T21:49:42.411Z"
   },
   {
    "duration": 306,
    "start_time": "2023-09-03T21:49:42.440Z"
   },
   {
    "duration": 407,
    "start_time": "2023-09-03T21:49:42.748Z"
   },
   {
    "duration": 301,
    "start_time": "2023-09-03T21:49:43.158Z"
   },
   {
    "duration": 397,
    "start_time": "2023-09-03T21:49:43.461Z"
   },
   {
    "duration": 304,
    "start_time": "2023-09-03T21:49:43.861Z"
   },
   {
    "duration": 407,
    "start_time": "2023-09-03T21:49:44.167Z"
   },
   {
    "duration": 247,
    "start_time": "2023-09-03T21:49:44.576Z"
   },
   {
    "duration": 6,
    "start_time": "2023-09-03T21:49:44.828Z"
   },
   {
    "duration": 14,
    "start_time": "2023-09-03T21:49:44.836Z"
   },
   {
    "duration": 257,
    "start_time": "2023-09-03T21:49:44.855Z"
   },
   {
    "duration": 15,
    "start_time": "2023-09-03T21:49:45.114Z"
   },
   {
    "duration": 27,
    "start_time": "2023-09-03T21:49:45.131Z"
   },
   {
    "duration": 287,
    "start_time": "2023-09-03T21:49:45.163Z"
   },
   {
    "duration": 21,
    "start_time": "2023-09-03T21:49:45.453Z"
   },
   {
    "duration": 158,
    "start_time": "2023-09-03T21:49:45.477Z"
   },
   {
    "duration": 13,
    "start_time": "2023-09-03T21:52:12.353Z"
   },
   {
    "duration": 2699,
    "start_time": "2023-09-03T21:52:30.261Z"
   },
   {
    "duration": 3,
    "start_time": "2023-09-03T21:52:47.141Z"
   },
   {
    "duration": 177,
    "start_time": "2023-09-03T21:56:19.289Z"
   },
   {
    "duration": 146,
    "start_time": "2023-09-03T21:56:46.364Z"
   },
   {
    "duration": 143,
    "start_time": "2023-09-03T21:56:56.088Z"
   },
   {
    "duration": 154,
    "start_time": "2023-09-03T22:00:36.220Z"
   },
   {
    "duration": 4,
    "start_time": "2023-09-03T22:03:54.417Z"
   },
   {
    "duration": 3,
    "start_time": "2023-09-03T22:03:57.816Z"
   },
   {
    "duration": 9,
    "start_time": "2023-09-03T22:04:13.255Z"
   },
   {
    "duration": 5,
    "start_time": "2023-09-03T22:04:15.296Z"
   },
   {
    "duration": 5,
    "start_time": "2023-09-03T22:04:16.299Z"
   },
   {
    "duration": 5,
    "start_time": "2023-09-03T22:05:20.879Z"
   },
   {
    "duration": 37,
    "start_time": "2023-09-03T22:05:21.968Z"
   },
   {
    "duration": 1137,
    "start_time": "2023-09-03T22:05:32.259Z"
   },
   {
    "duration": 95,
    "start_time": "2023-09-03T22:05:33.398Z"
   },
   {
    "duration": 2,
    "start_time": "2023-09-03T22:05:33.495Z"
   },
   {
    "duration": 50,
    "start_time": "2023-09-03T22:05:33.500Z"
   },
   {
    "duration": 61,
    "start_time": "2023-09-03T22:05:33.551Z"
   },
   {
    "duration": 31,
    "start_time": "2023-09-03T22:05:33.615Z"
   },
   {
    "duration": 275,
    "start_time": "2023-09-03T22:05:33.648Z"
   },
   {
    "duration": 248,
    "start_time": "2023-09-03T22:05:33.924Z"
   },
   {
    "duration": 93,
    "start_time": "2023-09-03T22:05:34.174Z"
   },
   {
    "duration": 25,
    "start_time": "2023-09-03T22:05:34.270Z"
   },
   {
    "duration": 27,
    "start_time": "2023-09-03T22:05:34.297Z"
   },
   {
    "duration": 21,
    "start_time": "2023-09-03T22:05:34.326Z"
   },
   {
    "duration": 15,
    "start_time": "2023-09-03T22:05:34.349Z"
   },
   {
    "duration": 25,
    "start_time": "2023-09-03T22:05:34.365Z"
   },
   {
    "duration": 32,
    "start_time": "2023-09-03T22:05:34.392Z"
   },
   {
    "duration": 322,
    "start_time": "2023-09-03T22:05:34.426Z"
   },
   {
    "duration": 349,
    "start_time": "2023-09-03T22:05:34.750Z"
   },
   {
    "duration": 255,
    "start_time": "2023-09-03T22:05:35.102Z"
   },
   {
    "duration": 301,
    "start_time": "2023-09-03T22:05:35.359Z"
   },
   {
    "duration": 270,
    "start_time": "2023-09-03T22:05:35.662Z"
   },
   {
    "duration": 356,
    "start_time": "2023-09-03T22:05:35.934Z"
   },
   {
    "duration": 186,
    "start_time": "2023-09-03T22:05:36.292Z"
   },
   {
    "duration": 7,
    "start_time": "2023-09-03T22:05:36.479Z"
   },
   {
    "duration": 57,
    "start_time": "2023-09-03T22:05:36.487Z"
   },
   {
    "duration": 205,
    "start_time": "2023-09-03T22:05:36.546Z"
   },
   {
    "duration": 5,
    "start_time": "2023-09-03T22:05:36.753Z"
   },
   {
    "duration": 15,
    "start_time": "2023-09-03T22:05:36.760Z"
   },
   {
    "duration": 179,
    "start_time": "2023-09-03T22:05:36.778Z"
   },
   {
    "duration": 11,
    "start_time": "2023-09-03T22:05:36.959Z"
   },
   {
    "duration": 118,
    "start_time": "2023-09-03T22:05:36.971Z"
   },
   {
    "duration": 0,
    "start_time": "2023-09-03T22:05:37.091Z"
   },
   {
    "duration": 132,
    "start_time": "2023-09-03T22:06:02.353Z"
   },
   {
    "duration": 11,
    "start_time": "2023-09-03T22:06:07.939Z"
   },
   {
    "duration": 154,
    "start_time": "2023-09-03T22:06:11.740Z"
   },
   {
    "duration": 13,
    "start_time": "2023-09-03T22:08:18.743Z"
   },
   {
    "duration": 14,
    "start_time": "2023-09-03T22:08:23.514Z"
   },
   {
    "duration": 8,
    "start_time": "2023-09-03T22:08:26.251Z"
   },
   {
    "duration": 12,
    "start_time": "2023-09-03T22:09:14.725Z"
   },
   {
    "duration": 9,
    "start_time": "2023-09-03T22:09:22.117Z"
   },
   {
    "duration": 244,
    "start_time": "2023-09-03T22:09:24.539Z"
   },
   {
    "duration": 1055,
    "start_time": "2023-09-03T22:09:35.135Z"
   },
   {
    "duration": 101,
    "start_time": "2023-09-03T22:09:36.192Z"
   },
   {
    "duration": 3,
    "start_time": "2023-09-03T22:09:36.295Z"
   },
   {
    "duration": 28,
    "start_time": "2023-09-03T22:09:36.300Z"
   },
   {
    "duration": 9,
    "start_time": "2023-09-03T22:09:36.330Z"
   },
   {
    "duration": 45,
    "start_time": "2023-09-03T22:09:36.340Z"
   },
   {
    "duration": 27,
    "start_time": "2023-09-03T22:09:36.387Z"
   },
   {
    "duration": 56,
    "start_time": "2023-09-03T22:09:36.417Z"
   },
   {
    "duration": 2,
    "start_time": "2023-09-03T22:09:36.475Z"
   },
   {
    "duration": 43,
    "start_time": "2023-09-03T22:09:36.479Z"
   },
   {
    "duration": 5,
    "start_time": "2023-09-03T22:09:36.525Z"
   },
   {
    "duration": 25,
    "start_time": "2023-09-03T22:09:36.532Z"
   },
   {
    "duration": 18,
    "start_time": "2023-09-03T22:09:36.559Z"
   },
   {
    "duration": 9,
    "start_time": "2023-09-03T22:09:36.579Z"
   },
   {
    "duration": 7,
    "start_time": "2023-09-03T22:09:36.590Z"
   },
   {
    "duration": 258,
    "start_time": "2023-09-03T22:09:36.599Z"
   },
   {
    "duration": 330,
    "start_time": "2023-09-03T22:09:36.859Z"
   },
   {
    "duration": 250,
    "start_time": "2023-09-03T22:09:37.191Z"
   },
   {
    "duration": 323,
    "start_time": "2023-09-03T22:09:37.443Z"
   },
   {
    "duration": 353,
    "start_time": "2023-09-03T22:09:37.768Z"
   },
   {
    "duration": 362,
    "start_time": "2023-09-03T22:09:38.124Z"
   },
   {
    "duration": 254,
    "start_time": "2023-09-03T22:09:38.488Z"
   },
   {
    "duration": 8,
    "start_time": "2023-09-03T22:09:38.744Z"
   },
   {
    "duration": 65,
    "start_time": "2023-09-03T22:09:38.754Z"
   },
   {
    "duration": 224,
    "start_time": "2023-09-03T22:09:38.821Z"
   },
   {
    "duration": 5,
    "start_time": "2023-09-03T22:09:39.047Z"
   },
   {
    "duration": 6,
    "start_time": "2023-09-03T22:09:39.053Z"
   },
   {
    "duration": 207,
    "start_time": "2023-09-03T22:09:39.062Z"
   },
   {
    "duration": 12,
    "start_time": "2023-09-03T22:09:39.270Z"
   },
   {
    "duration": 28,
    "start_time": "2023-09-03T22:09:39.284Z"
   },
   {
    "duration": 212,
    "start_time": "2023-09-03T22:09:39.314Z"
   },
   {
    "duration": 122,
    "start_time": "2023-09-03T22:11:14.776Z"
   },
   {
    "duration": 168,
    "start_time": "2023-09-03T22:11:51.000Z"
   },
   {
    "duration": 204,
    "start_time": "2023-09-03T22:14:42.987Z"
   },
   {
    "duration": 161,
    "start_time": "2023-09-03T22:15:48.347Z"
   },
   {
    "duration": 155,
    "start_time": "2023-09-03T22:16:35.202Z"
   },
   {
    "duration": 14,
    "start_time": "2023-09-03T22:18:36.999Z"
   },
   {
    "duration": 218,
    "start_time": "2023-09-03T22:19:35.643Z"
   },
   {
    "duration": 88,
    "start_time": "2023-09-03T22:19:58.476Z"
   },
   {
    "duration": 10,
    "start_time": "2023-09-03T22:20:28.995Z"
   },
   {
    "duration": 176,
    "start_time": "2023-09-04T20:37:32.646Z"
   },
   {
    "duration": 180,
    "start_time": "2023-09-04T20:37:38.211Z"
   },
   {
    "duration": 1324,
    "start_time": "2023-09-04T20:37:40.616Z"
   },
   {
    "duration": 269,
    "start_time": "2023-09-04T20:37:44.895Z"
   },
   {
    "duration": 186,
    "start_time": "2023-09-04T20:38:02.440Z"
   },
   {
    "duration": 155,
    "start_time": "2023-09-04T20:38:06.030Z"
   },
   {
    "duration": 1508,
    "start_time": "2023-09-04T20:47:12.128Z"
   },
   {
    "duration": 90,
    "start_time": "2023-09-04T20:47:13.638Z"
   },
   {
    "duration": 3,
    "start_time": "2023-09-04T20:47:13.733Z"
   },
   {
    "duration": 15,
    "start_time": "2023-09-04T20:47:13.738Z"
   },
   {
    "duration": 15,
    "start_time": "2023-09-04T20:47:13.756Z"
   },
   {
    "duration": 11,
    "start_time": "2023-09-04T20:47:13.772Z"
   },
   {
    "duration": 44,
    "start_time": "2023-09-04T20:47:13.785Z"
   },
   {
    "duration": 50,
    "start_time": "2023-09-04T20:47:13.831Z"
   },
   {
    "duration": 3,
    "start_time": "2023-09-04T20:47:13.882Z"
   },
   {
    "duration": 46,
    "start_time": "2023-09-04T20:47:13.887Z"
   },
   {
    "duration": 6,
    "start_time": "2023-09-04T20:47:13.934Z"
   },
   {
    "duration": 11,
    "start_time": "2023-09-04T20:47:13.941Z"
   },
   {
    "duration": 9,
    "start_time": "2023-09-04T20:47:13.954Z"
   },
   {
    "duration": 4,
    "start_time": "2023-09-04T20:47:13.965Z"
   },
   {
    "duration": 9,
    "start_time": "2023-09-04T20:47:13.971Z"
   },
   {
    "duration": 272,
    "start_time": "2023-09-04T20:47:13.982Z"
   },
   {
    "duration": 393,
    "start_time": "2023-09-04T20:47:14.256Z"
   },
   {
    "duration": 334,
    "start_time": "2023-09-04T20:47:14.651Z"
   },
   {
    "duration": 377,
    "start_time": "2023-09-04T20:47:14.987Z"
   },
   {
    "duration": 285,
    "start_time": "2023-09-04T20:47:15.366Z"
   },
   {
    "duration": 366,
    "start_time": "2023-09-04T20:47:15.652Z"
   },
   {
    "duration": 199,
    "start_time": "2023-09-04T20:47:16.021Z"
   },
   {
    "duration": 6,
    "start_time": "2023-09-04T20:47:16.224Z"
   },
   {
    "duration": 14,
    "start_time": "2023-09-04T20:47:16.233Z"
   },
   {
    "duration": 188,
    "start_time": "2023-09-04T20:47:16.249Z"
   },
   {
    "duration": 5,
    "start_time": "2023-09-04T20:47:16.439Z"
   },
   {
    "duration": 9,
    "start_time": "2023-09-04T20:47:16.446Z"
   },
   {
    "duration": 196,
    "start_time": "2023-09-04T20:47:16.456Z"
   },
   {
    "duration": 11,
    "start_time": "2023-09-04T20:47:16.654Z"
   },
   {
    "duration": 9,
    "start_time": "2023-09-04T20:47:16.667Z"
   },
   {
    "duration": 231,
    "start_time": "2023-09-04T20:47:16.702Z"
   },
   {
    "duration": 10,
    "start_time": "2023-09-04T20:47:16.934Z"
   },
   {
    "duration": 171,
    "start_time": "2023-09-04T20:49:14.119Z"
   },
   {
    "duration": 172,
    "start_time": "2023-09-04T20:49:22.000Z"
   },
   {
    "duration": 1167,
    "start_time": "2023-09-04T20:49:38.257Z"
   },
   {
    "duration": 86,
    "start_time": "2023-09-04T20:49:39.426Z"
   },
   {
    "duration": 3,
    "start_time": "2023-09-04T20:49:39.514Z"
   },
   {
    "duration": 19,
    "start_time": "2023-09-04T20:49:39.519Z"
   },
   {
    "duration": 21,
    "start_time": "2023-09-04T20:49:39.540Z"
   },
   {
    "duration": 13,
    "start_time": "2023-09-04T20:49:39.563Z"
   },
   {
    "duration": 42,
    "start_time": "2023-09-04T20:49:39.578Z"
   },
   {
    "duration": 56,
    "start_time": "2023-09-04T20:49:39.622Z"
   },
   {
    "duration": 2,
    "start_time": "2023-09-04T20:49:39.680Z"
   },
   {
    "duration": 23,
    "start_time": "2023-09-04T20:49:39.684Z"
   },
   {
    "duration": 9,
    "start_time": "2023-09-04T20:49:39.709Z"
   },
   {
    "duration": 8,
    "start_time": "2023-09-04T20:49:39.719Z"
   },
   {
    "duration": 9,
    "start_time": "2023-09-04T20:49:39.728Z"
   },
   {
    "duration": 11,
    "start_time": "2023-09-04T20:49:39.740Z"
   },
   {
    "duration": 7,
    "start_time": "2023-09-04T20:49:39.753Z"
   },
   {
    "duration": 256,
    "start_time": "2023-09-04T20:49:39.761Z"
   },
   {
    "duration": 305,
    "start_time": "2023-09-04T20:49:40.018Z"
   },
   {
    "duration": 238,
    "start_time": "2023-09-04T20:49:40.325Z"
   },
   {
    "duration": 352,
    "start_time": "2023-09-04T20:49:40.565Z"
   },
   {
    "duration": 254,
    "start_time": "2023-09-04T20:49:40.919Z"
   },
   {
    "duration": 385,
    "start_time": "2023-09-04T20:49:41.175Z"
   },
   {
    "duration": 168,
    "start_time": "2023-09-04T20:49:41.562Z"
   },
   {
    "duration": 938,
    "start_time": "2023-09-04T20:49:41.731Z"
   },
   {
    "duration": 0,
    "start_time": "2023-09-04T20:49:42.671Z"
   },
   {
    "duration": 0,
    "start_time": "2023-09-04T20:49:42.672Z"
   },
   {
    "duration": 0,
    "start_time": "2023-09-04T20:49:42.674Z"
   },
   {
    "duration": 0,
    "start_time": "2023-09-04T20:49:42.675Z"
   },
   {
    "duration": 0,
    "start_time": "2023-09-04T20:49:42.676Z"
   },
   {
    "duration": 0,
    "start_time": "2023-09-04T20:49:42.677Z"
   },
   {
    "duration": 0,
    "start_time": "2023-09-04T20:49:42.678Z"
   },
   {
    "duration": 0,
    "start_time": "2023-09-04T20:49:42.679Z"
   },
   {
    "duration": 0,
    "start_time": "2023-09-04T20:49:42.680Z"
   },
   {
    "duration": 175,
    "start_time": "2023-09-04T20:50:08.123Z"
   },
   {
    "duration": 163,
    "start_time": "2023-09-04T20:50:12.827Z"
   },
   {
    "duration": 6,
    "start_time": "2023-09-04T20:50:32.687Z"
   },
   {
    "duration": 3,
    "start_time": "2023-09-04T20:52:06.255Z"
   },
   {
    "duration": 153,
    "start_time": "2023-09-04T20:52:10.265Z"
   },
   {
    "duration": 261,
    "start_time": "2023-09-04T20:52:25.936Z"
   },
   {
    "duration": 157,
    "start_time": "2023-09-04T20:52:30.160Z"
   },
   {
    "duration": 196,
    "start_time": "2023-09-04T20:54:20.284Z"
   },
   {
    "duration": 4,
    "start_time": "2023-09-04T20:54:57.850Z"
   },
   {
    "duration": 3,
    "start_time": "2023-09-04T22:09:35.496Z"
   },
   {
    "duration": 185,
    "start_time": "2023-09-04T22:21:32.735Z"
   },
   {
    "duration": 167,
    "start_time": "2023-09-04T22:25:10.762Z"
   },
   {
    "duration": 171,
    "start_time": "2023-09-04T22:27:15.318Z"
   },
   {
    "duration": 175,
    "start_time": "2023-09-04T22:27:22.874Z"
   },
   {
    "duration": 188,
    "start_time": "2023-09-04T22:29:24.737Z"
   },
   {
    "duration": 172,
    "start_time": "2023-09-04T22:30:04.334Z"
   },
   {
    "duration": 159,
    "start_time": "2023-09-04T22:30:09.057Z"
   },
   {
    "duration": 221,
    "start_time": "2023-09-04T22:30:12.350Z"
   },
   {
    "duration": 7,
    "start_time": "2023-09-04T22:30:50.154Z"
   },
   {
    "duration": 170,
    "start_time": "2023-09-04T22:30:56.825Z"
   },
   {
    "duration": 185,
    "start_time": "2023-09-04T22:31:07.497Z"
   },
   {
    "duration": 210,
    "start_time": "2023-09-04T22:31:15.545Z"
   },
   {
    "duration": 278,
    "start_time": "2023-09-04T22:31:38.942Z"
   },
   {
    "duration": 183,
    "start_time": "2023-09-04T22:31:42.546Z"
   },
   {
    "duration": 146,
    "start_time": "2023-09-04T22:32:01.512Z"
   },
   {
    "duration": 181,
    "start_time": "2023-09-04T22:32:11.745Z"
   },
   {
    "duration": 85,
    "start_time": "2023-09-04T22:32:29.897Z"
   },
   {
    "duration": 63,
    "start_time": "2023-09-04T22:32:33.713Z"
   },
   {
    "duration": 172,
    "start_time": "2023-09-04T22:32:48.680Z"
   },
   {
    "duration": 156,
    "start_time": "2023-09-04T22:33:19.477Z"
   },
   {
    "duration": 246,
    "start_time": "2023-09-04T22:33:24.585Z"
   },
   {
    "duration": 16,
    "start_time": "2023-09-04T22:33:54.212Z"
   },
   {
    "duration": 15,
    "start_time": "2023-09-04T22:33:58.549Z"
   },
   {
    "duration": 170,
    "start_time": "2023-09-04T22:34:10.416Z"
   },
   {
    "duration": 175,
    "start_time": "2023-09-04T22:34:26.811Z"
   },
   {
    "duration": 157,
    "start_time": "2023-09-04T22:34:33.185Z"
   },
   {
    "duration": 182,
    "start_time": "2023-09-04T22:35:02.789Z"
   },
   {
    "duration": 161,
    "start_time": "2023-09-04T22:36:30.761Z"
   },
   {
    "duration": 157,
    "start_time": "2023-09-04T22:36:35.325Z"
   },
   {
    "duration": 9,
    "start_time": "2023-09-04T22:37:44.857Z"
   },
   {
    "duration": 181,
    "start_time": "2023-09-04T22:37:47.377Z"
   },
   {
    "duration": 170,
    "start_time": "2023-09-04T22:38:25.469Z"
   },
   {
    "duration": 166,
    "start_time": "2023-09-04T22:39:02.772Z"
   },
   {
    "duration": 11,
    "start_time": "2023-09-04T22:56:51.761Z"
   },
   {
    "duration": 11,
    "start_time": "2023-09-04T23:30:20.243Z"
   },
   {
    "duration": 12,
    "start_time": "2023-09-04T23:30:39.014Z"
   },
   {
    "duration": 159,
    "start_time": "2023-09-04T23:36:16.675Z"
   },
   {
    "duration": 182,
    "start_time": "2023-09-04T23:37:19.082Z"
   },
   {
    "duration": 20,
    "start_time": "2023-09-04T23:39:37.907Z"
   },
   {
    "duration": 1131,
    "start_time": "2023-09-04T23:46:16.115Z"
   },
   {
    "duration": 102,
    "start_time": "2023-09-04T23:46:17.249Z"
   },
   {
    "duration": 3,
    "start_time": "2023-09-04T23:46:17.353Z"
   },
   {
    "duration": 19,
    "start_time": "2023-09-04T23:46:17.358Z"
   },
   {
    "duration": 12,
    "start_time": "2023-09-04T23:46:17.379Z"
   },
   {
    "duration": 14,
    "start_time": "2023-09-04T23:46:17.392Z"
   },
   {
    "duration": 24,
    "start_time": "2023-09-04T23:46:17.410Z"
   },
   {
    "duration": 51,
    "start_time": "2023-09-04T23:46:17.436Z"
   },
   {
    "duration": 2,
    "start_time": "2023-09-04T23:46:17.489Z"
   },
   {
    "duration": 35,
    "start_time": "2023-09-04T23:46:17.493Z"
   },
   {
    "duration": 12,
    "start_time": "2023-09-04T23:46:17.530Z"
   },
   {
    "duration": 10,
    "start_time": "2023-09-04T23:46:17.544Z"
   },
   {
    "duration": 12,
    "start_time": "2023-09-04T23:46:17.555Z"
   },
   {
    "duration": 7,
    "start_time": "2023-09-04T23:46:17.570Z"
   },
   {
    "duration": 6,
    "start_time": "2023-09-04T23:46:17.578Z"
   },
   {
    "duration": 267,
    "start_time": "2023-09-04T23:46:17.586Z"
   },
   {
    "duration": 336,
    "start_time": "2023-09-04T23:46:17.855Z"
   },
   {
    "duration": 256,
    "start_time": "2023-09-04T23:46:18.193Z"
   },
   {
    "duration": 325,
    "start_time": "2023-09-04T23:46:18.450Z"
   },
   {
    "duration": 271,
    "start_time": "2023-09-04T23:46:18.777Z"
   },
   {
    "duration": 335,
    "start_time": "2023-09-04T23:46:19.049Z"
   },
   {
    "duration": 211,
    "start_time": "2023-09-04T23:46:19.385Z"
   },
   {
    "duration": 9,
    "start_time": "2023-09-04T23:46:19.609Z"
   },
   {
    "duration": 5,
    "start_time": "2023-09-04T23:46:19.620Z"
   },
   {
    "duration": 209,
    "start_time": "2023-09-04T23:46:19.627Z"
   },
   {
    "duration": 5,
    "start_time": "2023-09-04T23:46:19.837Z"
   },
   {
    "duration": 11,
    "start_time": "2023-09-04T23:46:19.844Z"
   },
   {
    "duration": 196,
    "start_time": "2023-09-04T23:46:19.857Z"
   },
   {
    "duration": 11,
    "start_time": "2023-09-04T23:46:20.055Z"
   },
   {
    "duration": 49,
    "start_time": "2023-09-04T23:46:20.068Z"
   },
   {
    "duration": 162,
    "start_time": "2023-09-04T23:46:20.119Z"
   },
   {
    "duration": 10,
    "start_time": "2023-09-04T23:46:20.282Z"
   },
   {
    "duration": 77,
    "start_time": "2023-09-05T19:25:16.482Z"
   },
   {
    "duration": 1481,
    "start_time": "2023-09-05T19:25:24.166Z"
   },
   {
    "duration": 140,
    "start_time": "2023-09-05T19:25:25.650Z"
   },
   {
    "duration": 32,
    "start_time": "2023-09-05T19:25:25.792Z"
   },
   {
    "duration": 9,
    "start_time": "2023-09-05T19:25:25.827Z"
   },
   {
    "duration": 21,
    "start_time": "2023-09-05T19:25:25.841Z"
   },
   {
    "duration": 13,
    "start_time": "2023-09-05T19:25:25.865Z"
   },
   {
    "duration": 17,
    "start_time": "2023-09-05T19:25:25.880Z"
   },
   {
    "duration": 20,
    "start_time": "2023-09-05T19:25:25.899Z"
   },
   {
    "duration": 43,
    "start_time": "2023-09-05T19:25:25.921Z"
   },
   {
    "duration": 237,
    "start_time": "2023-09-05T19:25:25.968Z"
   },
   {
    "duration": 14,
    "start_time": "2023-09-05T19:25:26.207Z"
   },
   {
    "duration": 28,
    "start_time": "2023-09-05T19:25:26.225Z"
   },
   {
    "duration": 6,
    "start_time": "2023-09-05T19:25:26.255Z"
   },
   {
    "duration": 26,
    "start_time": "2023-09-05T19:25:26.263Z"
   },
   {
    "duration": 10,
    "start_time": "2023-09-05T19:25:26.291Z"
   },
   {
    "duration": 15,
    "start_time": "2023-09-05T19:25:26.304Z"
   },
   {
    "duration": 10,
    "start_time": "2023-09-05T19:25:26.322Z"
   },
   {
    "duration": 284,
    "start_time": "2023-09-05T19:25:26.335Z"
   },
   {
    "duration": 413,
    "start_time": "2023-09-05T19:25:26.626Z"
   },
   {
    "duration": 260,
    "start_time": "2023-09-05T19:25:27.045Z"
   },
   {
    "duration": 439,
    "start_time": "2023-09-05T19:25:27.321Z"
   },
   {
    "duration": 364,
    "start_time": "2023-09-05T19:25:27.762Z"
   },
   {
    "duration": 365,
    "start_time": "2023-09-05T19:25:28.128Z"
   },
   {
    "duration": 235,
    "start_time": "2023-09-05T19:25:28.495Z"
   },
   {
    "duration": 6,
    "start_time": "2023-09-05T19:25:28.732Z"
   },
   {
    "duration": 3,
    "start_time": "2023-09-05T19:25:28.740Z"
   },
   {
    "duration": 213,
    "start_time": "2023-09-05T19:25:28.745Z"
   },
   {
    "duration": 6,
    "start_time": "2023-09-05T19:25:28.961Z"
   },
   {
    "duration": 7,
    "start_time": "2023-09-05T19:25:28.969Z"
   },
   {
    "duration": 203,
    "start_time": "2023-09-05T19:25:28.978Z"
   },
   {
    "duration": 36,
    "start_time": "2023-09-05T19:25:29.184Z"
   },
   {
    "duration": 15,
    "start_time": "2023-09-05T19:25:29.222Z"
   },
   {
    "duration": 211,
    "start_time": "2023-09-05T19:25:29.241Z"
   },
   {
    "duration": 11,
    "start_time": "2023-09-05T19:25:29.454Z"
   },
   {
    "duration": 97,
    "start_time": "2023-09-05T19:33:50.256Z"
   },
   {
    "duration": 19,
    "start_time": "2023-09-05T19:37:01.267Z"
   },
   {
    "duration": 15,
    "start_time": "2023-09-05T19:39:02.045Z"
   },
   {
    "duration": 125,
    "start_time": "2023-09-05T19:45:55.866Z"
   },
   {
    "duration": 9,
    "start_time": "2023-09-05T19:53:42.033Z"
   },
   {
    "duration": 7,
    "start_time": "2023-09-05T19:57:07.746Z"
   },
   {
    "duration": 7,
    "start_time": "2023-09-05T19:57:13.161Z"
   },
   {
    "duration": 22,
    "start_time": "2023-09-05T19:57:19.729Z"
   },
   {
    "duration": 1198,
    "start_time": "2023-09-05T20:01:00.778Z"
   },
   {
    "duration": 101,
    "start_time": "2023-09-05T20:01:01.979Z"
   },
   {
    "duration": 22,
    "start_time": "2023-09-05T20:01:02.082Z"
   },
   {
    "duration": 30,
    "start_time": "2023-09-05T20:01:02.113Z"
   },
   {
    "duration": 25,
    "start_time": "2023-09-05T20:01:02.144Z"
   },
   {
    "duration": 34,
    "start_time": "2023-09-05T20:01:02.171Z"
   },
   {
    "duration": 51,
    "start_time": "2023-09-05T20:01:02.207Z"
   },
   {
    "duration": 6,
    "start_time": "2023-09-05T20:01:02.263Z"
   },
   {
    "duration": 34,
    "start_time": "2023-09-05T20:01:02.271Z"
   },
   {
    "duration": 76,
    "start_time": "2023-09-05T20:01:02.308Z"
   },
   {
    "duration": 6,
    "start_time": "2023-09-05T20:01:02.386Z"
   },
   {
    "duration": 46,
    "start_time": "2023-09-05T20:01:02.396Z"
   },
   {
    "duration": 39,
    "start_time": "2023-09-05T20:01:02.444Z"
   },
   {
    "duration": 6,
    "start_time": "2023-09-05T20:01:02.486Z"
   },
   {
    "duration": 6,
    "start_time": "2023-09-05T20:01:02.495Z"
   },
   {
    "duration": 20,
    "start_time": "2023-09-05T20:01:02.504Z"
   },
   {
    "duration": 11,
    "start_time": "2023-09-05T20:01:02.527Z"
   },
   {
    "duration": 7,
    "start_time": "2023-09-05T20:01:02.546Z"
   },
   {
    "duration": 10,
    "start_time": "2023-09-05T20:01:02.561Z"
   },
   {
    "duration": 326,
    "start_time": "2023-09-05T20:01:02.577Z"
   },
   {
    "duration": 471,
    "start_time": "2023-09-05T20:01:02.906Z"
   },
   {
    "duration": 307,
    "start_time": "2023-09-05T20:01:03.380Z"
   },
   {
    "duration": 417,
    "start_time": "2023-09-05T20:01:03.689Z"
   },
   {
    "duration": 329,
    "start_time": "2023-09-05T20:01:04.112Z"
   },
   {
    "duration": 351,
    "start_time": "2023-09-05T20:01:04.449Z"
   },
   {
    "duration": 208,
    "start_time": "2023-09-05T20:01:04.808Z"
   },
   {
    "duration": 5,
    "start_time": "2023-09-05T20:01:05.019Z"
   },
   {
    "duration": 4,
    "start_time": "2023-09-05T20:01:05.028Z"
   },
   {
    "duration": 236,
    "start_time": "2023-09-05T20:01:05.033Z"
   },
   {
    "duration": 7,
    "start_time": "2023-09-05T20:01:05.271Z"
   },
   {
    "duration": 5,
    "start_time": "2023-09-05T20:01:05.280Z"
   },
   {
    "duration": 247,
    "start_time": "2023-09-05T20:01:05.287Z"
   },
   {
    "duration": 17,
    "start_time": "2023-09-05T20:01:05.541Z"
   },
   {
    "duration": 13,
    "start_time": "2023-09-05T20:01:05.560Z"
   },
   {
    "duration": 8,
    "start_time": "2023-09-05T20:01:05.575Z"
   },
   {
    "duration": 208,
    "start_time": "2023-09-05T20:01:05.585Z"
   },
   {
    "duration": 20,
    "start_time": "2023-09-05T20:01:05.795Z"
   }
  ],
  "kernelspec": {
   "display_name": "Python 3 (ipykernel)",
   "language": "python",
   "name": "python3"
  },
  "language_info": {
   "codemirror_mode": {
    "name": "ipython",
    "version": 3
   },
   "file_extension": ".py",
   "mimetype": "text/x-python",
   "name": "python",
   "nbconvert_exporter": "python",
   "pygments_lexer": "ipython3",
   "version": "3.9.12"
  },
  "toc": {
   "base_numbering": 1,
   "nav_menu": {},
   "number_sections": true,
   "sideBar": true,
   "skip_h1_title": true,
   "title_cell": "Table of Contents",
   "title_sidebar": "Contents",
   "toc_cell": false,
   "toc_position": {},
   "toc_section_display": true,
   "toc_window_display": false
  }
 },
 "nbformat": 4,
 "nbformat_minor": 2
}
