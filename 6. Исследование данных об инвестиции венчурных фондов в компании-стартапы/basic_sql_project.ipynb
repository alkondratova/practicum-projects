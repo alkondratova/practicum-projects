{
 "cells": [
  {
   "cell_type": "markdown",
   "id": "3591085f",
   "metadata": {},
   "source": [
    "# Исследование данных об инвестиции венчурных фондов в компании-стартапы"
   ]
  },
  {
   "cell_type": "markdown",
   "id": "4de7c563",
   "metadata": {},
   "source": [
    "### Описание проекта"
   ]
  },
  {
   "cell_type": "markdown",
   "id": "804a483d",
   "metadata": {},
   "source": [
    "Проект выполнен на основе базы данных, которая хранит информацию о венчурных фондах и инвестициях в компании-стартапы. Эта база данных основана на датасете Startup Investments, опубликованном на популярной платформе для соревнований по исследованию данных Kaggle. "
   ]
  },
  {
   "cell_type": "markdown",
   "id": "0562cd31",
   "metadata": {},
   "source": [
    "**Задача**: произвести различные выгрузки данных венчурных фондов с помощью SQL."
   ]
  },
  {
   "cell_type": "markdown",
   "id": "b5d48075",
   "metadata": {},
   "source": [
    "#### Описание данных"
   ]
  },
  {
   "cell_type": "markdown",
   "id": "80bef7c1",
   "metadata": {},
   "source": [
    "- `acquisition` — cодержит информацию о покупках одних компаний другими.\n",
    "- `company` — cодержит информацию о компаниях-стартапах.\n",
    "- `education` — хранит информацию об уровне образования сотрудников компаний.\n",
    "- `fund` — хранит информацию о венчурных фондах. \n",
    "- `funding_round` — содержит информацию о раундах инвестиций. \n",
    "- `investment` — содержит информацию об инвестициях венчурных фондов в компании-стартапы.\n",
    "- `people` — содержит информацию о сотрудниках компаний-стартапов."
   ]
  },
  {
   "cell_type": "markdown",
   "id": "701569c3",
   "metadata": {},
   "source": [
    "### Написание запросов"
   ]
  },
  {
   "cell_type": "markdown",
   "id": "c73a4c0b",
   "metadata": {},
   "source": [
    "1. Все записи из таблицы `company по компаниям`, которые закрылись."
   ]
  },
  {
   "cell_type": "code",
   "execution_count": null,
   "id": "ec8404be",
   "metadata": {},
   "outputs": [],
   "source": [
    "SELECT COUNT(*) AS closed_companies_count\n",
    "FROM company\n",
    "WHERE status = 'closed';"
   ]
  },
  {
   "cell_type": "markdown",
   "id": "afd1fef0",
   "metadata": {},
   "source": [
    "2. Количество привлечённых средств для новостных компаний США из таблицы `company` с сортировкой значений по убыванию поля `funding_total`."
   ]
  },
  {
   "cell_type": "code",
   "execution_count": null,
   "id": "1f815cdd",
   "metadata": {},
   "outputs": [],
   "source": [
    "SELECT funding_total\n",
    "FROM company\n",
    "WHERE category_code = 'news' AND country_code = 'USA'\n",
    "ORDER BY funding_total DESC;"
   ]
  },
  {
   "cell_type": "markdown",
   "id": "4188a927",
   "metadata": {},
   "source": [
    "3. Общая сумма сделок по покупке одних компаний другими в долларах. Сделки, которые осуществлялись только за наличные с 2011 по 2013 год включительно."
   ]
  },
  {
   "cell_type": "code",
   "execution_count": null,
   "id": "e7002f43",
   "metadata": {},
   "outputs": [],
   "source": [
    "SELECT SUM(price_amount) AS total_deal_amount\n",
    "FROM acquisition\n",
    "WHERE term_code = 'cash' AND acquired_at >= '2011-01-01' AND acquired_at <= '2013-12-31';"
   ]
  },
  {
   "cell_type": "markdown",
   "id": "fc2caf50",
   "metadata": {},
   "source": [
    "4. Имя, фамилия и название аккаунтов людей в поле `network_username`, у которых названия аккаунтов начинаются на 'Silver'."
   ]
  },
  {
   "cell_type": "code",
   "execution_count": null,
   "id": "9be9d020",
   "metadata": {},
   "outputs": [],
   "source": [
    "SELECT first_name, last_name, twitter_username\n",
    "FROM people\n",
    "WHERE twitter_username LIKE 'Silver%';"
   ]
  },
  {
   "cell_type": "markdown",
   "id": "fa658934",
   "metadata": {},
   "source": [
    "5. Информация о людях, у которых названия аккаунтов в поле `network_username` содержат подстроку 'money', а фамилия начинается на 'K'."
   ]
  },
  {
   "cell_type": "code",
   "execution_count": null,
   "id": "71174310",
   "metadata": {},
   "outputs": [],
   "source": [
    "SELECT *\n",
    "FROM people\n",
    "WHERE twitter_username LIKE '%money%' AND last_name LIKE 'K%';"
   ]
  },
  {
   "cell_type": "markdown",
   "id": "503dabaa",
   "metadata": {},
   "source": [
    "6. Общая сумма привлечённых инвестиций для каждой страны, которые получили компании, зарегистрированные в этой стране с сортировкой по убыванию этой суммы. "
   ]
  },
  {
   "cell_type": "code",
   "execution_count": null,
   "id": "557357fd",
   "metadata": {},
   "outputs": [],
   "source": [
    "SELECT country_code, SUM(funding_total) AS total_investment\n",
    "FROM company\n",
    "GROUP BY country_code\n",
    "ORDER BY total_investment DESC;"
   ]
  },
  {
   "cell_type": "markdown",
   "id": "5f08cb88",
   "metadata": {},
   "source": [
    "7. Составление таблицы, в которую входит дата проведения раунда, а также минимальное и максимальное значения суммы инвестиций, привлечённых в эту дату. Оставлены только те записи, в которых минимальное значение суммы инвестиций не равно нулю и не равно максимальному значению."
   ]
  },
  {
   "cell_type": "code",
   "execution_count": null,
   "id": "fe72cd5d",
   "metadata": {},
   "outputs": [],
   "source": [
    "SELECT funded_at, MIN(raised_amount) AS min_investment, MAX(raised_amount) AS max_investment\n",
    "FROM funding_round\n",
    "GROUP BY funded_at\n",
    "HAVING MIN(raised_amount) <> 0 AND MIN(raised_amount) <> MAX(raised_amount);"
   ]
  },
  {
   "cell_type": "markdown",
   "id": "bdf11418",
   "metadata": {},
   "source": [
    "8. Создание поля с категориями:\n",
    "- Для фондов, которые инвестируют в 100 и более компаний, назначена категория `high_activity`.\n",
    "- Для фондов, которые инвестируют в 20 и более компаний до 100 — `middle_activity`.\n",
    "- Если количество инвестируемых компаний фонда не достигает 20 — `low_activity`.\n",
    "\n",
    "\n",
    "Отображены все поля таблицы `fund` и новое поле с категориями."
   ]
  },
  {
   "cell_type": "code",
   "execution_count": null,
   "id": "b7c883ad",
   "metadata": {},
   "outputs": [],
   "source": [
    "SELECT *,\n",
    "       CASE\n",
    "           WHEN invested_companies >= 100 THEN 'high_activity'\n",
    "           WHEN invested_companies >= 20 AND invested_companies < 100 THEN 'middle_activity'\n",
    "           ELSE 'low_activity'\n",
    "       END AS category\n",
    "FROM fund;"
   ]
  },
  {
   "cell_type": "markdown",
   "id": "7e7fa622",
   "metadata": {},
   "source": [
    "9. Расчет округлённого до ближайшего целого числа среднего количества инвестиционных раундов, в которых фонд принимал участие, для каждой категории. Выведены категория и среднее число инвестиционных раундов с сортировкой по возрастанию."
   ]
  },
  {
   "cell_type": "code",
   "execution_count": null,
   "id": "bb695b69",
   "metadata": {},
   "outputs": [],
   "source": [
    "SELECT category, ROUND(AVG(investment_rounds)) AS average_rounds\n",
    "FROM (\n",
    "    SELECT *,\n",
    "           CASE\n",
    "               WHEN invested_companies>=100 THEN 'high_activity'\n",
    "           WHEN invested_companies>=20 THEN 'middle_activity'\n",
    "           ELSE 'low_activity'\n",
    "           END AS category\n",
    "    FROM fund\n",
    ") AS subquery\n",
    "GROUP BY category\n",
    "ORDER BY average_rounds ASC;"
   ]
  },
  {
   "cell_type": "markdown",
   "id": "4f8e0ef4",
   "metadata": {},
   "source": [
    "10. Анализ стран, в которых находятся фонды, чаще всего инвестирующие в стартапы. Для каждой страны рассчитано минимальное, максимальное и среднее число компаний, в которые инвестировали фонды этой страны, основанные с 2010 по 2012 год включительно. Исключены страны с фондами, у которых минимальное число компаний, получивших инвестиции, равно нулю. Выгружены десять самых активных стран-инвесторов с сортировкой по среднему количеству компаний по убыванию и с сортировкой по коду страны в лексикографическом порядке."
   ]
  },
  {
   "cell_type": "code",
   "execution_count": null,
   "id": "afdb2065",
   "metadata": {},
   "outputs": [],
   "source": [
    "SELECT\n",
    "  country_code,\n",
    "  MIN(invested_companies) AS min_companies,\n",
    "  MAX(invested_companies) AS max_companies,\n",
    "  AVG(invested_companies) AS avg_companies\n",
    "FROM\n",
    "  fund\n",
    "WHERE\n",
    "  EXTRACT(YEAR FROM founded_at) BETWEEN 2010 AND 2012\n",
    "GROUP BY\n",
    "  country_code\n",
    "HAVING\n",
    "  MIN(invested_companies) > 0\n",
    "ORDER BY\n",
    "  avg_companies DESC, country_code ASC\n",
    "LIMIT 10;"
   ]
  },
  {
   "cell_type": "markdown",
   "id": "43fca8da",
   "metadata": {},
   "source": [
    "11. Имена и фамилии всех сотрудников стартапов с информацией об учебном заведении, которое окончил сотрудник."
   ]
  },
  {
   "cell_type": "code",
   "execution_count": null,
   "id": "0115341c",
   "metadata": {},
   "outputs": [],
   "source": [
    "SELECT\n",
    "  p.first_name,\n",
    "  p.last_name,\n",
    "  e.instituition AS educational_institution\n",
    "FROM\n",
    "  people AS p\n",
    "LEFT JOIN\n",
    "  education AS e ON p.id = e.person_id;"
   ]
  },
  {
   "cell_type": "markdown",
   "id": "d59aa9c3",
   "metadata": {},
   "source": [
    "12. Количество учебных заведений, которые окончили сотрудники компаний. Выведен топ-5 компаний по количеству университетов."
   ]
  },
  {
   "cell_type": "code",
   "execution_count": null,
   "id": "82125e5f",
   "metadata": {},
   "outputs": [],
   "source": [
    "SELECT\n",
    "  c.name AS company_name,\n",
    "  COUNT(DISTINCT e.instituition) AS num_universities\n",
    "FROM\n",
    "  company AS c\n",
    "JOIN\n",
    "  people AS p ON c.id = p.company_id\n",
    "JOIN\n",
    "  education AS e ON p.id = e.person_id\n",
    "GROUP BY\n",
    "  c.name\n",
    "ORDER BY\n",
    "  num_universities DESC\n",
    "LIMIT 5;"
   ]
  },
  {
   "cell_type": "markdown",
   "id": "c97fffea",
   "metadata": {},
   "source": [
    "13. Список с уникальными названиями закрытых компаний, для которых первый раунд финансирования оказался последним."
   ]
  },
  {
   "cell_type": "code",
   "execution_count": null,
   "id": "3ae1eeba",
   "metadata": {},
   "outputs": [],
   "source": [
    "SELECT DISTINCT name\n",
    "FROM company\n",
    "WHERE status = 'closed'\n",
    "      AND id IN (SELECT company_id\n",
    "                 FROM funding_round\n",
    "                 WHERE is_first_round = 1\n",
    "                 AND is_last_round = 1)"
   ]
  },
  {
   "cell_type": "markdown",
   "id": "4840ed00",
   "metadata": {},
   "source": [
    "14. Список уникальных номеров сотрудников, которые работают в компаниях, отобранных на предыдущем шаге."
   ]
  },
  {
   "cell_type": "code",
   "execution_count": null,
   "id": "df99ef2e",
   "metadata": {},
   "outputs": [],
   "source": [
    "SELECT DISTINCT p.id\n",
    "FROM people AS p\n",
    "JOIN company AS c ON p.company_id = c.id\n",
    "WHERE c.id IN (\n",
    "  SELECT company_id\n",
    "  FROM funding_round\n",
    "  WHERE is_first_round = 1\n",
    "    AND is_last_round = 1\n",
    "    AND company_id IN (\n",
    "      SELECT id\n",
    "      FROM company\n",
    "      WHERE status = 'closed'\n",
    "    )\n",
    ");"
   ]
  },
  {
   "cell_type": "markdown",
   "id": "f58e8f41",
   "metadata": {},
   "source": [
    "15. Составление таблицы с уникальными парами с номерами сотрудников из предыдущей задачи и учебным заведением, которое окончил сотрудник."
   ]
  },
  {
   "cell_type": "code",
   "execution_count": null,
   "id": "675786ad",
   "metadata": {},
   "outputs": [],
   "source": [
    "SELECT DISTINCT p.id AS person_id, e.instituition\n",
    "FROM people AS p\n",
    "JOIN company AS c ON p.company_id = c.id\n",
    "JOIN education AS e ON p.id = e.person_id\n",
    "WHERE c.id IN (\n",
    "  SELECT company_id\n",
    "  FROM funding_round\n",
    "  WHERE is_first_round = 1\n",
    "    AND is_last_round = 1\n",
    "    AND company_id IN (\n",
    "      SELECT id\n",
    "      FROM company\n",
    "      WHERE status = 'closed'\n",
    "    )\n",
    ");"
   ]
  },
  {
   "cell_type": "markdown",
   "id": "748c5d00",
   "metadata": {},
   "source": [
    "16. Количество учебных заведений для каждого сотрудника из предыдущего шага. При подсчёте учитывается, что некоторые сотрудники могли окончить одно и то же заведение дважды."
   ]
  },
  {
   "cell_type": "code",
   "execution_count": null,
   "id": "9ce8b4a9",
   "metadata": {},
   "outputs": [],
   "source": [
    "SELECT p.id AS person_id, COUNT(e.instituition) AS num_institutions\n",
    "FROM people AS p \n",
    "JOIN company AS c ON p.company_id = c.id\n",
    "JOIN education AS e ON p.id = e.person_id\n",
    "WHERE c.id IN (\n",
    "    SELECT company_id\n",
    "    FROM funding_round\n",
    "    WHERE is_first_round = 1\n",
    "        AND is_last_round = 1\n",
    "        AND company_id IN (\n",
    "            SELECT id\n",
    "            FROM company \n",
    "            WHERE status = 'closed'\n",
    "            )\n",
    ")\n",
    "GROUP BY p.id;"
   ]
  },
  {
   "cell_type": "markdown",
   "id": "02856a4c",
   "metadata": {},
   "source": [
    "17. Дополнение предыдущего запроса: среднее число учебных заведений (всех, не только уникальных), которые окончили сотрудники разных компаний."
   ]
  },
  {
   "cell_type": "code",
   "execution_count": null,
   "id": "4e416847",
   "metadata": {},
   "outputs": [],
   "source": [
    "SELECT AVG(num_institutions) AS average_institutions\n",
    "FROM (SELECT p.id AS person_id, COUNT(e.instituition) AS num_institutions\n",
    "FROM people AS p \n",
    "JOIN company AS c ON p.company_id = c.id\n",
    "JOIN education AS e ON p.id = e.person_id\n",
    "WHERE c.id IN (\n",
    "    SELECT company_id\n",
    "    FROM funding_round\n",
    "    WHERE is_first_round = 1\n",
    "        AND is_last_round = 1\n",
    "        AND company_id IN (\n",
    "            SELECT id\n",
    "            FROM company \n",
    "            WHERE status = 'closed'\n",
    "            )\n",
    ")\n",
    "GROUP BY p.id) AS subquery;"
   ]
  },
  {
   "cell_type": "markdown",
   "id": "d2496f1e",
   "metadata": {},
   "source": [
    "18. Среднее число учебных заведений (всех, не только уникальных), которые окончили сотрудники Socialnet."
   ]
  },
  {
   "cell_type": "code",
   "execution_count": null,
   "id": "08e00a35",
   "metadata": {},
   "outputs": [],
   "source": [
    "SELECT AVG(num_institutions) AS average_num_institutions\n",
    "FROM (\n",
    "    SELECT p.id AS person_id, COUNT(e.instituition) AS num_institutions\n",
    "    FROM people AS p\n",
    "    JOIN company AS c ON p.company_id = c.id\n",
    "    JOIN education AS e ON p.id = e.person_id\n",
    "    WHERE c.name = 'Socialnet'\n",
    "    GROUP BY p.id\n",
    ") AS subquery;"
   ]
  },
  {
   "cell_type": "markdown",
   "id": "16e384a9",
   "metadata": {},
   "source": [
    "19. Составление таблицы из полей:\n",
    "- `name_of_fund` — название фонда;\n",
    "- `name_of_company` — название компании;\n",
    "- `amount` — сумма инвестиций, которую привлекла компания в раунде.\n",
    "В таблицу вошли данные о компаниях, в истории которых было больше шести важных этапов, а раунды финансирования проходили с 2012 по 2013 год включительно."
   ]
  },
  {
   "cell_type": "code",
   "execution_count": null,
   "id": "325767c9",
   "metadata": {},
   "outputs": [],
   "source": [
    "SELECT DISTINCT f.name AS name_of_fund,\n",
    "c.name AS name_of_company,\n",
    "fr.raised_amount AS amount \n",
    "FROM company AS c \n",
    "LEFT OUTER JOIN investment AS i ON c.id = i.company_id\n",
    "RIGHT OUTER JOIN fund AS f ON i.fund_id = f.id \n",
    "LEFT OUTER JOIN funding_round AS fr ON i.funding_round_id = fr.id\n",
    "WHERE c.milestones > 6 \n",
    "AND EXTRACT(YEAR FROM CAST(funded_at AS date)) BETWEEN '2012' AND '2013'; "
   ]
  },
  {
   "cell_type": "markdown",
   "id": "72071f50",
   "metadata": {},
   "source": [
    "20. Выгрузка таблицы со следующими полями:\n",
    "- название компании-покупателя;\n",
    "- сумма сделки;\n",
    "- название компании, которую купили;\n",
    "- сумма инвестиций, вложенных в купленную компанию;\n",
    "- доля, которая отображает, во сколько раз сумма покупки превысила сумму вложенных в компанию инвестиций, округлённая до ближайшего целого числа.\n",
    "\n",
    "Не учитываются те сделки, в которых сумма покупки равна нулю. Сортировка по сумме сделки от большей к меньшей, а затем по названию купленной компании в лексикографическом порядке. Выведены 10 записей."
   ]
  },
  {
   "cell_type": "code",
   "execution_count": null,
   "id": "aba5c8b7",
   "metadata": {},
   "outputs": [],
   "source": [
    "SELECT acq_comp.name AS acquiring_company,\n",
    "       acq.price_amount,\n",
    "       acquired_comp.name AS acquired_company,\n",
    "       acquired_comp.funding_total,\n",
    "       ROUND(acq.price_amount / acquired_comp.funding_total) AS ratio\n",
    "FROM acquisition AS acq\n",
    "JOIN company AS acq_comp ON acq.acquiring_company_id = acq_comp.id\n",
    "JOIN company AS acquired_comp ON acq.acquired_company_id = acquired_comp.id\n",
    "WHERE acq.price_amount > 0\n",
    "  AND acquired_comp.funding_total > 0\n",
    "ORDER BY acq.price_amount DESC, acquired_comp.name\n",
    "LIMIT 10;"
   ]
  },
  {
   "cell_type": "markdown",
   "id": "7e3162c2",
   "metadata": {},
   "source": [
    "21. Выгрузка таблицы с названиями компаний из категории 'social', получившие финансирование с 2010 по 2013 год включительно и номером месяца, в котором проходил раунд финансирования."
   ]
  },
  {
   "cell_type": "code",
   "execution_count": null,
   "id": "cd8e5696",
   "metadata": {},
   "outputs": [],
   "source": [
    "SELECT c.name AS company_name,\n",
    "       EXTRACT(MONTH FROM fr.funded_at) AS funding_month\n",
    "FROM company AS c\n",
    "JOIN funding_round AS fr ON c.id = fr.company_id\n",
    "WHERE c.category_code = 'social'\n",
    "  AND fr.funded_at >= '2010-01-01' AND fr.funded_at <= '2013-12-31'\n",
    "  AND fr.raised_amount != 0\n",
    "ORDER BY c.name, fr.funded_at;"
   ]
  },
  {
   "cell_type": "markdown",
   "id": "ff45281d",
   "metadata": {},
   "source": [
    "22. Данные по месяцам с 2010 по 2013 год, когда проходили инвестиционные раунды, сгруппированные по номеру месяца, включающие поля: \n",
    "- номер месяца, в котором проходили раунды;\n",
    "- количество уникальных названий фондов из США, которые инвестировали в этом месяце;\n",
    "- количество компаний, купленных за этот месяц;\n",
    "- общая сумма сделок по покупкам в этом месяце."
   ]
  },
  {
   "cell_type": "code",
   "execution_count": null,
   "id": "c40afe79",
   "metadata": {},
   "outputs": [],
   "source": [
    "WITH\n",
    "p1 AS (\n",
    "    SELECT *\n",
    "    FROM funding_round\n",
    "    WHERE EXTRACT(YEAR FROM funded_at) BETWEEN '2010' AND '2013'\n",
    "    ),\n",
    " \n",
    "   \n",
    "p2 AS (\n",
    "    SELECT EXTRACT(MONTH FROM funded_at) AS month_round,\n",
    "           COUNT(DISTINCT fund_id) AS count_fund\n",
    "    FROM investment INNER JOIN p1 ON investment.funding_round_id = p1.id\n",
    "    WHERE fund_id IN\n",
    "        (SELECT id AS fund_id\n",
    "        FROM fund\n",
    "        WHERE country_code = 'USA')\n",
    "    GROUP BY month_round\n",
    "),\n",
    " \n",
    "p3 AS (\n",
    "    SELECT EXTRACT(MONTH FROM acquired_at) AS month_acquired,\n",
    "           COUNT(acquired_company_id) AS count_company,\n",
    "           SUM(price_amount) AS total\n",
    "    FROM acquisition\n",
    "    WHERE EXTRACT(YEAR FROM acquired_at) BETWEEN '2010' AND '2013'\n",
    "    GROUP BY month_acquired\n",
    "    )\n",
    " \n",
    "SELECT month_round,\n",
    "       count_fund,\n",
    "       count_company,\n",
    "       total\n",
    "FROM p2 INNER JOIN p3 ON p2.month_round = p3.month_acquired "
   ]
  },
  {
   "cell_type": "markdown",
   "id": "0de3ff1c",
   "metadata": {},
   "source": [
    "23. Средняя сумму инвестиций для стран, в которых есть стартапы, зарегистрированные в 2011, 2012 и 2013 годах с сортировкой по среднему значению инвестиций за 2011 год от большего к меньшему."
   ]
  },
  {
   "cell_type": "code",
   "execution_count": null,
   "id": "5d266e09",
   "metadata": {},
   "outputs": [],
   "source": [
    "WITH\n",
    "inv_2011 AS\n",
    "(SELECT country_code,\n",
    "       AVG(funding_total) AS average_2011\n",
    "FROM company\n",
    "WHERE EXTRACT(YEAR FROM CAST(founded_at AS date)) = 2011\n",
    "GROUP BY country_code),\n",
    "         \n",
    "inv_2012 AS\n",
    "(SELECT country_code,\n",
    "       AVG(funding_total) AS average_2012\n",
    "FROM company\n",
    "WHERE EXTRACT(YEAR FROM CAST(founded_at AS date)) = 2012\n",
    "GROUP BY country_code),\n",
    "         \n",
    "inv_2013 AS (\n",
    "SELECT country_code,\n",
    "       AVG(funding_total) AS average_2013\n",
    "FROM company\n",
    "WHERE EXTRACT(YEAR FROM CAST(founded_at AS date)) = 2013\n",
    "GROUP BY country_code)\n",
    " \n",
    "SELECT inv_2011.country_code,\n",
    "       average_2011,\n",
    "       average_2012,\n",
    "       average_2013\n",
    "FROM inv_2011\n",
    "INNER JOIN inv_2012 ON inv_2011.country_code = inv_2012.country_code\n",
    "INNER JOIN inv_2013 ON inv_2012.country_code = inv_2013.country_code\n",
    "ORDER BY average_2011 DESC;"
   ]
  }
 ],
 "metadata": {
  "kernelspec": {
   "display_name": "Python 3 (ipykernel)",
   "language": "python",
   "name": "python3"
  },
  "language_info": {
   "codemirror_mode": {
    "name": "ipython",
    "version": 3
   },
   "file_extension": ".py",
   "mimetype": "text/x-python",
   "name": "python",
   "nbconvert_exporter": "python",
   "pygments_lexer": "ipython3",
   "version": "3.9.12"
  }
 },
 "nbformat": 4,
 "nbformat_minor": 5
}
